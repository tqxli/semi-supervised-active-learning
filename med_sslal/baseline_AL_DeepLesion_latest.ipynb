{
  "nbformat": 4,
  "nbformat_minor": 0,
  "metadata": {
    "accelerator": "GPU",
    "colab": {
      "name": "baseline-AL-DeepLesion-latest.ipynb",
      "provenance": [],
      "collapsed_sections": [
        "5t5Su468dlIe",
        "wp0LGBsz3Y8x",
        "1yfYtcx7czQP",
        "kHmbEufKa7s7",
        "Z23Tq2rG12r1",
        "f-QhBiva19YF"
      ],
      "toc_visible": true
    },
    "kernelspec": {
      "display_name": "Python 3",
      "name": "python3"
    },
    "language_info": {
      "name": "python"
    }
  },
  "cells": [
    {
      "cell_type": "markdown",
      "metadata": {
        "id": "6f7rg2Mq2Qxe"
      },
      "source": [
        "## Active learning-driven object detection in a semi-supervised setting"
      ]
    },
    {
      "cell_type": "markdown",
      "metadata": {
        "id": "zktAe-OofbJL"
      },
      "source": [
        "### Set up environment"
      ]
    },
    {
      "cell_type": "code",
      "metadata": {
        "id": "btJrfVIICu0Y",
        "colab": {
          "base_uri": "https://localhost:8080/"
        },
        "outputId": "a722b88d-b622-4bd7-cd06-9e27038951d6"
      },
      "source": [
        "# Need to upgrade Albumentations version in Colab\n",
        "!pip install -q --upgrade albumentations\n",
        "!pip install git+https://github.com/PytorchLightning/lightning-bolts.git@master --upgrade -q\n",
        "\n",
        "import albumentations as A\n",
        "import datetime\n",
        "import os\n",
        "import time\n",
        "import random\n",
        "import sys\n",
        "import numpy as np\n",
        "import pickle\n",
        "import math\n",
        "import pandas as pd\n",
        "import cv2\n",
        "from skimage import io\n",
        "import re\n",
        "import argparse\n",
        "import matplotlib.pyplot as plt\n",
        "from matplotlib.collections import PatchCollection\n",
        "from matplotlib.patches import Rectangle\n",
        "\n",
        "from functools import partial\n",
        "from tqdm import tqdm\n",
        "tqdm = partial(tqdm, position=0, leave=True)\n",
        "\n",
        "import torch\n",
        "import torch.utils.data\n",
        "from torch import nn\n",
        "import torchvision\n",
        "import torchvision.models.detection\n",
        "import torch.optim as optim\n",
        "from torch.utils.data import DataLoader\n",
        "from torch.utils.data.sampler import SubsetRandomSampler"
      ],
      "execution_count": null,
      "outputs": [
        {
          "output_type": "stream",
          "text": [
            "\u001b[K     |████████████████████████████████| 98 kB 4.5 MB/s \n",
            "\u001b[K     |████████████████████████████████| 37.1 MB 1.2 MB/s \n",
            "\u001b[K     |████████████████████████████████| 234 kB 8.0 MB/s \n",
            "\u001b[K     |████████████████████████████████| 915 kB 63.4 MB/s \n",
            "\u001b[K     |████████████████████████████████| 118 kB 70.3 MB/s \n",
            "\u001b[K     |████████████████████████████████| 829 kB 55.5 MB/s \n",
            "\u001b[K     |████████████████████████████████| 10.6 MB 55.7 MB/s \n",
            "\u001b[K     |████████████████████████████████| 636 kB 64.3 MB/s \n",
            "\u001b[K     |████████████████████████████████| 1.3 MB 41.2 MB/s \n",
            "\u001b[K     |████████████████████████████████| 142 kB 71.6 MB/s \n",
            "\u001b[K     |████████████████████████████████| 294 kB 62.4 MB/s \n",
            "\u001b[?25h  Building wheel for lightning-bolts (setup.py) ... \u001b[?25l\u001b[?25hdone\n",
            "  Building wheel for future (setup.py) ... \u001b[?25l\u001b[?25hdone\n",
            "\u001b[31mERROR: pip's dependency resolver does not currently take into account all the packages that are installed. This behaviour is the source of the following dependency conflicts.\n",
            "tensorflow 2.5.0 requires tensorboard~=2.5, but you have tensorboard 2.4.1 which is incompatible.\u001b[0m\n"
          ],
          "name": "stdout"
        }
      ]
    },
    {
      "cell_type": "markdown",
      "metadata": {
        "id": "3VJCjWuSg8MK"
      },
      "source": [
        "### Random seed"
      ]
    },
    {
      "cell_type": "code",
      "metadata": {
        "id": "XO-IQwrLg7l7"
      },
      "source": [
        "def setup_seed(seed):\n",
        "     os.environ['PYTHONHASHSEED'] = str(seed)\n",
        "     torch.manual_seed(seed)\n",
        "     torch.cuda.manual_seed(seed)\n",
        "     torch.cuda.manual_seed_all(seed)\n",
        "     np.random.seed(seed)\n",
        "     random.seed(seed)\n",
        "     \n",
        "     torch.backends.cudnn.deterministic = True\n",
        "     torch.backends.cudnn.benchmark = False\n",
        "     torch.backends.cudnn.enabled = False   \n",
        "\n",
        "SEED = 202108\n",
        "setup_seed(SEED) "
      ],
      "execution_count": null,
      "outputs": []
    },
    {
      "cell_type": "markdown",
      "metadata": {
        "id": "_GNSFkW03Rkv"
      },
      "source": [
        "## Dataset"
      ]
    },
    {
      "cell_type": "markdown",
      "metadata": {
        "id": "CVETykgYtciH"
      },
      "source": [
        "### DeepLesion"
      ]
    },
    {
      "cell_type": "code",
      "metadata": {
        "id": "zAoxfZF-2FhY"
      },
      "source": [
        "\"\"\"\n",
        "The images are stored in unsigned 16 bit. \n",
        "One shouldsubtract 32768 from the pixel intensity to obtain the original Hounsfield unit (HU) values.\n",
        "\"\"\"\n",
        "#read_hu = lambda x: io.imread(x).astype(np.float32) - 32768\n",
        "read_hu = lambda x: cv2.imread(x).astype(np.float32) - 32768\n",
        "\n",
        "class DeepLesionDataset(torch.utils.data.Dataset):\n",
        "    def __init__ (self, root_dir, csv_path, transforms=None, dataset_type=\"train\", lesion_type=\"all_types\"):\n",
        "        self.root_dir = root_dir\n",
        "        self.csv_path = csv_path\n",
        "\n",
        "        dataset_type_dict = {\"train\": 1, \"val\": 2, \"test\": 3, \"non-specified\": 0}\n",
        "        lesion_type_dict = {\"bone\": 1, \"abdomen\": 2, \"mediastinum\": 3, \"liver\": 4, \"lung\": 5, \"kidney\": 6, \"soft_tissue\": 7, \"pelvis\": 8, \"all_types\": 0}\n",
        "\n",
        "        self.df = pd.read_csv(csv_path)\n",
        "        self.dataset_type = dataset_type_dict[dataset_type]\n",
        "        if self.dataset_type != 0:\n",
        "            self.df = self.df[self.df['Train_Val_Test'] == self.dataset_type]\n",
        "\n",
        "        self.lesion_type = lesion_type_dict[lesion_type]\n",
        "        if self.lesion_type != 0:\n",
        "            self.df = self.df[self.df['Coarse_lesion_type'] == self.lesion_type]\n",
        "        \n",
        "        self.df['img_path'] = self.df.apply(lambda c_row: os.path.join(root_dir, \n",
        "                                                                  '{Patient_index:06d}_{Study_index:02d}_{Series_ID:02d}'.format(**c_row),\n",
        "                                                                  '{Key_slice_index:03d}.png'.format(**c_row)), 1)\n",
        "        self.df = self.df.reset_index()\n",
        "        self.transforms = transforms\n",
        "\n",
        "    def __len__(self):\n",
        "        return len(self.df)\n",
        "\n",
        "    def get_num_classes(self):\n",
        "        return len(self.df['Coarse_lesion_type'].unique())\n",
        "\n",
        "    def __getitem__(self, idx):\n",
        "        # Read image path from the csv annotation file\n",
        "        img_path = self.df.iloc[idx]['img_path']    \n",
        "        img = read_hu(img_path)\n",
        "        img = cv2.cvtColor(img, cv2.COLOR_BGR2RGB)\n",
        "        \n",
        "        # Scale to [0, 1] and normalize\n",
        "        mean, std = img.mean(), img.std()\n",
        "        img = (img - mean) / std\n",
        "        img = np.clip(img, -1.0, 1.0)\n",
        "        img = (img + 1.0) / 2.0\n",
        "\n",
        "        # Read bounding box coordinates (1-3 bboxes per image)\n",
        "        # [x1, y1, x2, y2]\n",
        "        boxes = []\n",
        "        new_df = self.df[self.df['File_name']==self.df.iloc[idx]['File_name']]\n",
        "        num_objs = len(new_df.index)\n",
        "        for i in range(num_objs):\n",
        "            coordinates_str = (re.split(',', new_df.iloc[i]['Bounding_boxes']))\n",
        "            coordinates = [float(x) for x in coordinates_str]\n",
        "            boxes.append(coordinates)\n",
        "        boxes = np.asarray(boxes)\n",
        "\n",
        "        labels = np.ones((num_objs, ), dtype=np.int64)\n",
        "\n",
        "        if self.transforms is not None:\n",
        "            transformed = self.transforms(image=img, bboxes=boxes, class_labels=labels)\n",
        "            img, boxes = transformed['image'], transformed['bboxes']\n",
        "\n",
        "        # Convert everything into torch.Tensors\n",
        "        img = np.transpose(img, (2, 0, 1))\n",
        "        img = torch.as_tensor(img)\n",
        "        boxes = torch.as_tensor(boxes, dtype=torch.float32)\n",
        "\n",
        "        image_id = torch.tensor([idx])\n",
        "\n",
        "        if len(boxes) == 0:\n",
        "            boxes = torch.zeros((0, 4), dtype=torch.float32)\n",
        "            labels = torch.zeros((1, 1), dtype=torch.int64)\n",
        "            area = torch.tensor([0], dtype=torch.float32)\n",
        "            iscrowd = torch.zeros((0,), dtype=torch.int64)\n",
        "        else: \n",
        "            labels = torch.tensor(labels)\n",
        "            area = (boxes[:, 3] - boxes[:, 1]) * (boxes[:, 2] - boxes[:, 0])\n",
        "            iscrowd = torch.zeros((num_objs,), dtype=torch.int64)\n",
        "\n",
        "        # Targets\n",
        "        target = {}\n",
        "        target[\"boxes\"] = boxes\n",
        "        target[\"labels\"] = labels\n",
        "        target[\"image_id\"] = image_id\n",
        "        target[\"area\"] = area\n",
        "        target[\"iscrowd\"] = iscrowd\n",
        "\n",
        "        return img, target"
      ],
      "execution_count": null,
      "outputs": []
    },
    {
      "cell_type": "markdown",
      "metadata": {
        "id": "lqW0xEK8tjNL"
      },
      "source": [
        "### Specify data augmentations"
      ]
    },
    {
      "cell_type": "code",
      "metadata": {
        "id": "SmRAYrz-1RF3"
      },
      "source": [
        "transforms = A.Compose([\n",
        "    A.ShiftScaleRotate(p=0.5),\n",
        "    A.Transpose(p=0.5),\n",
        "    A.RandomRotate90(p=0.5),\n",
        "    A.HorizontalFlip(p=0.5),\n",
        "    A.VerticalFlip(p=0.5),\n",
        "  ], bbox_params=A.BboxParams(format='pascal_voc', label_fields=['class_labels'])\n",
        ")"
      ],
      "execution_count": null,
      "outputs": []
    },
    {
      "cell_type": "markdown",
      "metadata": {
        "id": "_kYatXWXto35"
      },
      "source": [
        "### Train/Val/Test split"
      ]
    },
    {
      "cell_type": "code",
      "metadata": {
        "id": "NhEB00DaDR0c"
      },
      "source": [
        "dataset_root = \"/content/drive/MyDrive/data/DeepLesion/Images_png\"\n",
        "annotation_path = \"/content/drive/MyDrive/data/DeepLesion/annotations/DL_info.csv\""
      ],
      "execution_count": null,
      "outputs": []
    },
    {
      "cell_type": "code",
      "metadata": {
        "colab": {
          "base_uri": "https://localhost:8080/"
        },
        "id": "cDEmgfR_TP7y",
        "outputId": "e7d7dbf8-a247-4085-8270-3a11dc42c693"
      },
      "source": [
        "dataset = DeepLesionDataset(root_dir = dataset_root, transforms=transforms, csv_path=annotation_path, dataset_type=\"non-specified\", lesion_type='lung')\n",
        "val_dataset = DeepLesionDataset(root_dir = dataset_root, transforms=None, csv_path=annotation_path, dataset_type=\"non-specified\", lesion_type='lung')\n",
        "test_dataset = DeepLesionDataset(root_dir = dataset_root, transforms=None, csv_path=annotation_path, dataset_type=\"non-specified\", lesion_type=\"lung\")\n",
        "\n",
        "num_train = int(0.8 * len(dataset))\n",
        "num_val = int((len(dataset) - num_train) / 2)\n",
        "\n",
        "indices = torch.randperm(len(dataset)).tolist()\n",
        "\n",
        "train_dataset = torch.utils.data.Subset(dataset, indices[:num_train])\n",
        "val_dataset = torch.utils.data.Subset(val_dataset, indices[num_train:num_train+num_val])\n",
        "test_dataset = torch.utils.data.Subset(test_dataset, indices[num_train+num_val:])\n",
        "\n",
        "print(\"Train: \", len(train_dataset))\n",
        "print(\"Val: \", len(val_dataset))\n",
        "print(\"Test: \", len(test_dataset))"
      ],
      "execution_count": null,
      "outputs": [
        {
          "output_type": "stream",
          "text": [
            "Train:  1915\n",
            "Val:  239\n",
            "Test:  240\n"
          ],
          "name": "stdout"
        }
      ]
    },
    {
      "cell_type": "markdown",
      "metadata": {
        "id": "na1XAZEOt_Ya"
      },
      "source": [
        "### Data visualization"
      ]
    },
    {
      "cell_type": "code",
      "metadata": {
        "id": "9X5WfZQHgJ6b",
        "colab": {
          "base_uri": "https://localhost:8080/",
          "height": 323
        },
        "outputId": "2cb9a1b7-2e05-48ae-8d01-bad4c1d1cc04"
      },
      "source": [
        "sample_img = test_dataset[-1]\n",
        "fig, ax = plt.subplots(1, 1, figsize=(5, 5))\n",
        "ax.imshow(sample_img[0].numpy().transpose((1, 2, 0)), cmap = 'gray')\n",
        "if len(sample_img[1]['boxes'].numpy()) != 0:\n",
        "    x1, y1, x2, y2 = sample_img[1]['boxes'].numpy()[0]\n",
        "    bbox = [Rectangle((x1, y1), np.abs(x2-x1), np.abs(y2-y1))]\n",
        "    ax.add_collection(PatchCollection(bbox, facecolor = 'none', edgecolor='g'))"
      ],
      "execution_count": null,
      "outputs": [
        {
          "output_type": "display_data",
          "data": {
            "image/png": "[encoded data removed]",
            "text/plain": [
              "<Figure size 360x360 with 1 Axes>"
            ]
          },
          "metadata": {
            "tags": [],
            "needs_background": "light"
          }
        }
      ]
    },
    {
      "cell_type": "markdown",
      "metadata": {
        "id": "Wlk6fb3xzaI2"
      },
      "source": [
        "## Util functions"
      ]
    },
    {
      "cell_type": "markdown",
      "metadata": {
        "id": "fqg5P3U45rqI"
      },
      "source": [
        "### COCO detection"
      ]
    },
    {
      "cell_type": "code",
      "metadata": {
        "colab": {
          "base_uri": "https://localhost:8080/"
        },
        "id": "hK-Ewp7bqEMU",
        "outputId": "8d285044-fe2d-4839-e775-233fbefa4785"
      },
      "source": [
        "%%shell\n",
        "pip install -q cython\n",
        "# Install pycocotools, the version by default in Colab has a bug fixed in https://github.com/cocodataset/cocoapi/pull/354\n",
        "pip install -q -U 'git+https://github.com/cocodataset/cocoapi.git#subdirectory=PythonAPI'"
      ],
      "execution_count": null,
      "outputs": [
        {
          "output_type": "stream",
          "text": [
            "  Building wheel for pycocotools (setup.py) ... \u001b[?25l\u001b[?25hdone\n"
          ],
          "name": "stdout"
        },
        {
          "output_type": "execute_result",
          "data": {
            "text/plain": [
              ""
            ]
          },
          "metadata": {
            "tags": []
          },
          "execution_count": 8
        }
      ]
    },
    {
      "cell_type": "code",
      "metadata": {
        "colab": {
          "base_uri": "https://localhost:8080/"
        },
        "id": "BkrKe3m8p2bV",
        "outputId": "b4c70aa1-2af7-4dc4-ad52-45ea4f674edd"
      },
      "source": [
        "%%shell\n",
        "# Download TorchVision repo to use some files from references/detection\n",
        "git clone -q https://github.com/pytorch/vision.git\n",
        "cd vision\n",
        "git checkout v0.3.0\n",
        "\n",
        "cp references/detection/utils.py ../\n",
        "cp references/detection/transforms.py ../\n",
        "cp references/detection/coco_eval.py ../\n",
        "cp references/detection/engine.py ../\n",
        "cp references/detection/coco_utils.py ../"
      ],
      "execution_count": null,
      "outputs": [
        {
          "output_type": "stream",
          "text": [
            "Note: checking out 'v0.3.0'.\n",
            "\n",
            "You are in 'detached HEAD' state. You can look around, make experimental\n",
            "changes and commit them, and you can discard any commits you make in this\n",
            "state without impacting any branches by performing another checkout.\n",
            "\n",
            "If you want to create a new branch to retain commits you create, you may\n",
            "do so (now or later) by using -b with the checkout command again. Example:\n",
            "\n",
            "  git checkout -b <new-branch-name>\n",
            "\n",
            "HEAD is now at be376084 version check against PyTorch's CUDA version\n"
          ],
          "name": "stdout"
        },
        {
          "output_type": "execute_result",
          "data": {
            "text/plain": [
              ""
            ]
          },
          "metadata": {
            "tags": []
          },
          "execution_count": 9
        }
      ]
    },
    {
      "cell_type": "markdown",
      "metadata": {
        "id": "8JOXdoKjF4rM"
      },
      "source": [
        "### Data sampler"
      ]
    },
    {
      "cell_type": "code",
      "metadata": {
        "id": "A4Y7NmwLF6o4"
      },
      "source": [
        "class SubsetSequentialSampler(torch.utils.data.Sampler):\n",
        "    r\"\"\"Samples elements sequentially from a given list of indices, without replacement.\n",
        "\n",
        "    Arguments:\n",
        "        indices (sequence): a sequence of indices\n",
        "    \"\"\"\n",
        "\n",
        "    def __init__(self, indices):\n",
        "        self.indices = indices\n",
        "\n",
        "    def __iter__(self):\n",
        "        return (self.indices[i] for i in range(len(self.indices)))\n",
        "    \n",
        "    def __len__(self):\n",
        "        return len(self.indices)"
      ],
      "execution_count": null,
      "outputs": []
    },
    {
      "cell_type": "markdown",
      "metadata": {
        "id": "5t5Su468dlIe"
      },
      "source": [
        "### Logging, configurations"
      ]
    },
    {
      "cell_type": "code",
      "metadata": {
        "id": "VJNeX870dlWM"
      },
      "source": [
        "import logging\n",
        "\n",
        "def get_logger(filename, verbosity=1, name=None):\n",
        "    level_dict = {0: logging.DEBUG, 1: logging.INFO, 2: logging.WARNING}\n",
        "    formatter = logging.Formatter(\n",
        "        \"[%(asctime)s][%(filename)s][line:%(lineno)d][%(levelname)s] %(message)s\"\n",
        "    )\n",
        "    logger = logging.getLogger(name)\n",
        "    logger.setLevel(level_dict[verbosity])\n",
        "\n",
        "    if (logger.hasHandlers()):\n",
        "        logger.handlers.clear()\n",
        "\n",
        "    fh = logging.FileHandler(filename, \"w\")\n",
        "    fh.setFormatter(formatter)\n",
        "    logger.addHandler(fh)\n",
        "\n",
        "    sh = logging.StreamHandler()\n",
        "    sh.setFormatter(formatter)\n",
        "    logger.addHandler(sh)\n",
        "\n",
        "    return logger\n",
        "class dotdict(dict):\n",
        "    \"\"\"dot.notation access to dictionary attributes\"\"\"\n",
        "    __getattr__ = dict.get\n",
        "    __setattr__ = dict.__setitem__\n",
        "    __delattr__ = dict.__delitem__"
      ],
      "execution_count": null,
      "outputs": []
    },
    {
      "cell_type": "markdown",
      "metadata": {
        "id": "bzB2KUHWz2mv"
      },
      "source": [
        "## AL sample query strategies"
      ]
    },
    {
      "cell_type": "markdown",
      "metadata": {
        "id": "wp0LGBsz3Y8x"
      },
      "source": [
        "### Uncertainty measure"
      ]
    },
    {
      "cell_type": "code",
      "metadata": {
        "id": "3LTUMHk95ITp"
      },
      "source": [
        "def calcu_iou(A, B):\n",
        "    \"\"\" \n",
        "    calculate iou(s) between a reference box A and a predicted bounding box B\n",
        "    \"\"\"\n",
        "    width = min(A[2], B[2]) - max(A[0], B[0]) + 1\n",
        "    height = min(A[3], B[3]) - max(A[1], B[1]) + 1\n",
        "    if width <= 0 or height <= 0:\n",
        "        return 0\n",
        "        \n",
        "    Aarea = (A[2] - A[0] + 1) * (A[3] - A[1] + 1)\n",
        "    Barea = (B[2] - B[0] + 1) * (B[3] - B[1] + 1)\n",
        "    iner_area = width * height\n",
        "    \n",
        "    iou = iner_area / (Aarea + Barea - iner_area)\n",
        "\n",
        "    return iou\n",
        "\n",
        "def GaussianNoise(image, std=1):\n",
        "    x = image + (torch.randn(image.size()) * std / 255.0).to(device)\n",
        "    return x"
      ],
      "execution_count": null,
      "outputs": []
    },
    {
      "cell_type": "code",
      "metadata": {
        "id": "tMpa5ElO3hNR"
      },
      "source": [
        "def get_uncertainty(task_model, dataloader, device, mode=\"LT/C\", augs=None, base_point=1.3):\n",
        "    task_model.eval()\n",
        "    uncertainties = []\n",
        "    with torch.no_grad():\n",
        "        for images, labels in tqdm(dataloader):\n",
        "            images = list(img.to(device) for img in images)\n",
        "            torch.cuda.synchronize()\n",
        "\n",
        "            if mode == \"LT/C\": \n",
        "                \"\"\" Localization Tightness (LT):\n",
        "                    overlap between a predicted bbox and its intermediate proposal.\n",
        "                \"\"\"\n",
        "                for image in images: \n",
        "                    _, output = task_model([image])\n",
        "                    uncertainty = 1.0\n",
        "                    for box, prop, prob_max in zip(output[0]['boxes'], output[0]['props'], output[0]['prob_max']):\n",
        "                        iou = calcu_iou(box, prop)\n",
        "                        u = torch.abs(iou + prob_max - 1)\n",
        "                        uncertainty = min(uncertainty, u.item())\n",
        "                    uncertainties.append(uncertainty)\n",
        "\n",
        "            elif mode == \"LS/C\":\n",
        "                \"\"\" Localization Stability (LS):\n",
        "                    region stability w.r.t. different amount of Gaussian noises.\n",
        "                \"\"\"\n",
        "                for image in images: \n",
        "                    _, output = task_model([image])\n",
        "                    ref_boxes, prob_max, ref_labels = output[0]['boxes'], output[0]['prob_max'], output[0]['labels']\n",
        "                    \n",
        "                    if len(ref_boxes)== 0:\n",
        "                        uncertainties.append(0.0)\n",
        "                        continue\n",
        "                    if len(ref_boxes) > 30:\n",
        "                        inds = torch.topk(prob_max, 30)[1]\n",
        "                        ref_boxes, prob_max, ref_labels = ref_boxes[inds], prob_max[inds], ref_labels[inds]\n",
        "\n",
        "                    pred_stability = [0.0] * len(ref_boxes)\n",
        "                    U = torch.max(1 - prob_max).item()\n",
        "\n",
        "                    aug_images = [GaussianNoise(image, i * 8).to(device) for i in range(1, 7)]\n",
        "                    aug_outputs = [task_model([aug_image])[0] for aug_image in aug_images]\n",
        "\n",
        "                    for output in aug_outputs:\n",
        "                        boxes = output['boxes']\n",
        "                        if len(boxes) == 0:\n",
        "                            continue\n",
        "\n",
        "                        for i, ab in enumerate(ref_boxes):\n",
        "                            width = torch.min(ab[2], boxes[:, 2]) - torch.max(ab[0], boxes[:, 0])\n",
        "                            height = torch.min(ab[3], boxes[:, 3]) - torch.max(ab[1], boxes[:, 1])\n",
        "                            Aarea = (ab[2] - ab[0]) * (ab[3] - ab[1])\n",
        "                            Barea = (boxes[:, 2] - boxes[:, 0]) * (boxes[:, 3] - boxes[:, 1])\n",
        "                            iner_area = width * height\n",
        "                            iou = iner_area / (Aarea + Barea - iner_area)\n",
        "                            iou[width < 0] = 0.0\n",
        "                            iou[height < 0] = 0.0\n",
        "                            pred_stability[i] += torch.max(iou).item()\n",
        "                            \n",
        "                    pred_stability = np.array(pred_stability) / len(aug_images)\n",
        "                    prob_max = prob_max.cpu().numpy()\n",
        "                    pred_stability = np.sum(prob_max * pred_stability) / np.sum(prob_max)\n",
        "                    uncertainties.append(pred_stability - U)\n",
        "            \n",
        "            elif mode == \"CALD\":\n",
        "                \"\"\" Consistency-based localization & classification uncertainty.\n",
        "                \"\"\"\n",
        "                for image in images: \n",
        "                    _, output = task_model([F.to_tensor(image)])\n",
        "                    ref_boxes, prob_max, ref_scores_cls, ref_labels, ref_scores = output[0]['boxes'], output[0][\n",
        "                    'prob_max'], output[0]['scores_cls'], output[0]['labels'], output[0]['scores']\n",
        "\n",
        "                    if output[0]['boxes'].shape[0] == 0:\n",
        "                        uncertainties.append(0.0)\n",
        "                        break\n",
        "                    if len(ref_scores) > 40:\n",
        "                        inds = np.round(np.linspace(0, len(ref_scores) - 1, 50)).astype(int)\n",
        "                        ref_boxes, prob_max, ref_scores_cls, ref_labels, ref_scores = ref_boxes[inds], prob_max[\n",
        "                            inds], ref_scores_cls[inds], ref_labels[inds], ref_scores[inds]\n",
        "                    \n",
        "                    aug_images, aug_boxes = apply_augmentations_for_cald(image, ref_boxes, ref_labels, augs)\n",
        "                    aug_outputs = [task_model([aug_image])[0] for aug_image in aug_images]\n",
        "\n",
        "                    aug_consistency = []\n",
        "                    for aug_output, aug_box in zip(aug_outputs, aug_boxes):\n",
        "                        consistency_img = 1.0\n",
        "                        boxes, scores_cls, pm, labels, scores = aug_output['boxes'], aug_output['scores_cls'], aug_output['prob_max'], \\\n",
        "                                                            aug_output['labels'], aug_output['scores']\n",
        "\n",
        "                        if len(boxes) == 0:\n",
        "                            aug_consistency.append(0.0)\n",
        "                            continue\n",
        "\n",
        "                        for ab, ref_score_cls, ref_pm, ref_score in zip(aug_box, ref_scores_cls, prob_max, ref_scores):\n",
        "                            iou = calcu_iou(ab, boxes)\n",
        "\n",
        "                            p = ref_score_cls.cpu().numpy()\n",
        "                            q = scores_cls[torch.argmax(iou)].cpu().numpy()\n",
        "                            m = (p + q) / 2\n",
        "                            js = max(0.5 * entropy(p, m) + 0.5 * entropy(q, m), 0)\n",
        "\n",
        "                            consistency_img = min(consistency_img, torch.abs(\n",
        "                                torch.max(iou) + 0.5 * (1 - js) * (ref_pm + pm[torch.argmax(iou)]) - base_point).item())\n",
        "                    aug_consistency.append(np.mean(consistency_img))\n",
        "                uncertainties.append(np.mean(aug_consistency))\n",
        "\n",
        "    return uncertainties"
      ],
      "execution_count": null,
      "outputs": []
    },
    {
      "cell_type": "markdown",
      "metadata": {
        "id": "1yfYtcx7czQP"
      },
      "source": [
        "### Representativeness measure"
      ]
    },
    {
      "cell_type": "code",
      "metadata": {
        "id": "pN6cKQtcc2it"
      },
      "source": [
        "def cosine_similarity(query, pool, criterion='average'):\n",
        "    similarities = [F.cosine_similarity(query, key).cpu().numpy() for key in pool]\n",
        "\n",
        "    if criterion == 'average':\n",
        "        return (sum(similarities) / len(similarities))[0]\n",
        "    elif criterion == 'medium':\n",
        "        return np.medium(similarities)\n",
        "    else:\n",
        "        return max(similarities)\n",
        "\n",
        "def get_pool_features(task_model, dataloader, device, mode='unlabeled'):\n",
        "    \"\"\"\n",
        "    Output: List[Tensor(1, 256)]\n",
        "    \"\"\"\n",
        "    pool = []\n",
        "    imgs = []\n",
        "    detections = []\n",
        "    m = nn.AdaptiveAvgPool2d(1)\n",
        "    idx = 0\n",
        "    with torch.no_grad():\n",
        "        for images, _ in tqdm(dataloader):\n",
        "            images = list(image.to(device) for image in images)\n",
        "            torch.cuda.synchronize()\n",
        "\n",
        "            for image in images: \n",
        "                features, output = task_model([image])  \n",
        "                imgs.append(image.detach().cpu())\n",
        "                if mode == 'unlabeled':\n",
        "                    above_thres = output[0]['scores'].detach().cpu().numpy() >= 0.5\n",
        "                    if np.count_nonzero(above_thres) > 0:\n",
        "                        # only select one per image\n",
        "                        boxes = output[0]['boxes'].detach().cpu().numpy()[above_thres][0]\n",
        "                        labels = output[0]['labels'].detach().cpu()[above_thres][0]\n",
        "                        area = (boxes[3] - boxes[1]) * (boxes[2] - boxes[0])\n",
        "                        boxes = torch.as_tensor([boxes], dtype=torch.float32)\n",
        "                        labels = torch.tensor([labels], dtype=torch.int64)\n",
        "                        area = torch.tensor([area])\n",
        "                    else:\n",
        "                        boxes = np.zeros((0, 4), dtype=np.float32)\n",
        "                        boxes = torch.as_tensor(boxes, dtype=torch.float32)\n",
        "                        labels = torch.tensor([0])\n",
        "                        area = torch.tensor([0])\n",
        "\n",
        "                    image_id = torch.tensor([idx])\n",
        "                    iscrowd = torch.zeros((1,), dtype=torch.int64)\n",
        "\n",
        "                    target = {}\n",
        "                    target[\"boxes\"] = boxes\n",
        "                    target[\"labels\"] = labels\n",
        "                    target[\"image_id\"] = image_id\n",
        "                    target[\"area\"] = area\n",
        "                    target[\"iscrowd\"] = iscrowd\n",
        "                        \n",
        "                    detections.append(target)\n",
        "\n",
        "                idx = idx + 1\n",
        "\n",
        "                # Adaptive pooling last layer feature map\n",
        "                out = m(features['pool'])\n",
        "                out = out.view(out.size(0), -1) # shape [1, 256]\n",
        "                pool.append(out)\n",
        "    \n",
        "    return pool, imgs, detections\n",
        "\n",
        "def get_sample_representativeness(task_model, labeled_dataloader, unlabeled_dataloader, device):\n",
        "    task_model.eval()\n",
        "    # Obtain features for both labeled and unlabeled pool\n",
        "    unlabeled_pool, imgs, detections = get_pool_features(task_model, unlabeled_dataloader, device, mode='unlabeled')\n",
        "    if len(labeled_dataloader) != 0:\n",
        "        labeled_pool, _, _ = get_pool_features(task_model, labeled_dataloader, device, mode='labeled')\n",
        "\n",
        "    # Get representativeness of every sample in the unlabeled pool\n",
        "    reps = []\n",
        "    for q in unlabeled_pool:\n",
        "        if len(labeled_dataloader) != 0:\n",
        "            training_score = cosine_similarity(q, labeled_pool)\n",
        "        else:\n",
        "            training_score = 0\n",
        "        unlabeled_score = cosine_similarity(q, unlabeled_pool)\n",
        "                    \n",
        "        rep = unlabeled_score - training_score\n",
        "        reps.append(rep)\n",
        "\n",
        "    return reps, imgs, detections"
      ],
      "execution_count": null,
      "outputs": []
    },
    {
      "cell_type": "code",
      "metadata": {
        "id": "HcrOK4vi-vI8"
      },
      "source": [
        "def dot_product(query, pool):\n",
        "    dot_products = [torch.dot(query, key).cpu().numpy() for key in pool]\n",
        "\n",
        "    return (sum(dot_products) / len(dot_products))[0]"
      ],
      "execution_count": null,
      "outputs": []
    },
    {
      "cell_type": "markdown",
      "metadata": {
        "id": "kHmbEufKa7s7"
      },
      "source": [
        "### Combination"
      ]
    },
    {
      "cell_type": "code",
      "metadata": {
        "id": "LmBKt6AFa7G8"
      },
      "source": [
        "def apply_query_criteria(task_model, dataloader, device, mode='unlabeled'):\n",
        "    uncertainties = []\n",
        "\n",
        "    pool = []\n",
        "    imgs = []\n",
        "    detections = []\n",
        "    pseudo_flags = []\n",
        "\n",
        "    m = nn.AdaptiveAvgPool2d(1)\n",
        "    idx = 0\n",
        "    if mode == 'unlabeled': \n",
        "        with torch.no_grad():\n",
        "            for images, _ in tqdm(dataloader):\n",
        "                images = list(image.to(device) for image in images)\n",
        "                torch.cuda.synchronize()\n",
        "\n",
        "                for image in images: \n",
        "                    features, output = task_model([image]) \n",
        "                    # first compute localization uncertainty\n",
        "                    uncertainty = 1.0\n",
        "                    for box, prop, prob_max in zip(output[0]['boxes'], output[0]['props'], output[0]['prob_max']):\n",
        "                        iou = calcu_iou(box, prop)\n",
        "                        u = torch.abs(iou + prob_max - 1)\n",
        "                        uncertainty = min(uncertainty, u.item())\n",
        "                    uncertainties.append(uncertainty)\n",
        "\n",
        "                    # then extract pseudolabels and get pool features\n",
        "                    imgs.append(image.detach().cpu())\n",
        "                    if mode == 'unlabeled':\n",
        "                        above_thres = output[0]['scores'].detach().cpu().numpy() >= 0.8\n",
        "                        if np.count_nonzero(above_thres) > 0:\n",
        "                            # only select one per image\n",
        "                            boxes = output[0]['boxes'].detach().cpu().numpy()[above_thres][0]\n",
        "                            labels = output[0]['labels'].detach().cpu()[above_thres][0]\n",
        "                            area = (boxes[3] - boxes[1]) * (boxes[2] - boxes[0])\n",
        "                            boxes = torch.as_tensor([boxes], dtype=torch.float32)\n",
        "                            labels = torch.tensor([labels], dtype=torch.int64)\n",
        "                            area = torch.tensor([area])\n",
        "                            pseudo_flags.append(True)\n",
        "                        else:\n",
        "                            boxes = np.zeros((0, 4), dtype=np.float32)\n",
        "                            boxes = torch.as_tensor(boxes, dtype=torch.float32)\n",
        "                            labels = torch.tensor([0])\n",
        "                            area = torch.tensor([0])\n",
        "                            pseudo_flags.append(False)\n",
        "\n",
        "\n",
        "                        image_id = torch.tensor([idx])\n",
        "                        iscrowd = torch.zeros((1,), dtype=torch.int64)\n",
        "\n",
        "                        target = {}\n",
        "                        target[\"boxes\"] = boxes\n",
        "                        target[\"labels\"] = labels\n",
        "                        target[\"image_id\"] = image_id\n",
        "                        target[\"area\"] = area\n",
        "                        target[\"iscrowd\"] = iscrowd\n",
        "                            \n",
        "                        detections.append(target)\n",
        "\n",
        "                    idx = idx + 1\n",
        "\n",
        "                    # Adaptive pooling last layer feature map\n",
        "                    out = m(features['pool'])\n",
        "                    out = out.view(out.size(0), -1) # shape [1, 256]\n",
        "                    pool.append(out.detach().cpu().numpy()[0])\n",
        "    else: \n",
        "        with torch.no_grad():\n",
        "            for images, _ in tqdm(dataloader):\n",
        "                images = list(image.to(device) for image in images)\n",
        "                torch.cuda.synchronize()\n",
        "\n",
        "                for image in images: \n",
        "                    features, output = task_model([image])\n",
        "                    # only need pool features\n",
        "                    # Adaptive pooling last layer feature map\n",
        "                    out = m(features['pool'])\n",
        "                    out = out.view(out.size(0), -1) # shape [1, 256]\n",
        "                    pool.append(out.detach().cpu().numpy())\n",
        "    return uncertainties, pool, imgs, detections, pseudo_flags\n",
        "\n",
        "def get_query(task_model, unlabeled_dataloader, device):\n",
        "    task_model.eval()\n",
        "\n",
        "    uncertainties, unlabeled_pool, imgs, detections, pseudo_flags = apply_query_criteria(task_model, unlabeled_dataloader, device, mode='unlabeled')\n",
        "\n",
        "    return uncertainties, unlabeled_pool, imgs, detections, pseudo_flags"
      ],
      "execution_count": null,
      "outputs": []
    },
    {
      "cell_type": "markdown",
      "metadata": {
        "id": "LHurUEbnNz9Z"
      },
      "source": [
        "## Semi-supervised Learning"
      ]
    },
    {
      "cell_type": "code",
      "metadata": {
        "id": "VNCs_IEGIXfP"
      },
      "source": [
        "class PseudoDataset(torch.utils.data.Dataset):\n",
        "    def __init__(self, pseudo_flags, imgs, targets, transforms=None):\n",
        "        self.images = [img for img, flag in zip(imgs, pseudo_flags) if flag == True]\n",
        "        self.targets = [target for target, flag in zip(targets, pseudo_flags) if flag == True]\n",
        "        self.transforms = transforms\n",
        "\n",
        "    def __getitem__(self, idx):\n",
        "        img = self.images[idx]\n",
        "        target = self.targets[idx]\n",
        "\n",
        "        boxes = target['boxes']\n",
        "\n",
        "        if self.transforms is not None:\n",
        "            transformed = self.transforms(image=img, bboxes=boxes, class_labels=target['labels'])\n",
        "            img, boxes = transformed['image'], transformed['bboxes']\n",
        "        \n",
        "        target['boxes'] = boxes\n",
        "\n",
        "        return img, target\n",
        "\n",
        "    def __len__(self):\n",
        "        return len(self.images)"
      ],
      "execution_count": null,
      "outputs": []
    },
    {
      "cell_type": "markdown",
      "metadata": {
        "id": "aB-dZXr13oQ6"
      },
      "source": [
        "## Model (Faster R-CNN)"
      ]
    },
    {
      "cell_type": "markdown",
      "metadata": {
        "id": "Z23Tq2rG12r1"
      },
      "source": [
        "### Modules"
      ]
    },
    {
      "cell_type": "code",
      "metadata": {
        "id": "RUBuxkaZ6j3j"
      },
      "source": [
        "from torchvision.models.detection.faster_rcnn import TwoMLPHead, FastRCNNPredictor, FasterRCNN\n",
        "from torchvision.models.detection.generalized_rcnn import *\n",
        "from torchvision.models.detection.backbone_utils import *\n",
        "from torchvision.models.detection.rpn import AnchorGenerator, permute_and_flatten\n",
        "from torchvision.models.detection.rpn import RPNHead as RPNHead\n",
        "from torchvision.models.detection.rpn import RegionProposalNetwork as RegionProposalNetwork\n",
        "from torchvision.models.detection.roi_heads import RoIHeads as _RoIHeads\n",
        "from torchvision.models.detection.roi_heads import fastrcnn_loss\n",
        "from torchvision.ops.feature_pyramid_network import FeaturePyramidNetwork, LastLevelMaxPool\n",
        "from torchvision.ops import misc as misc_nn_ops\n",
        "from torchvision.ops import MultiScaleRoIAlign\n",
        "from torchvision.models._utils import IntermediateLayerGetter\n",
        "from torchvision.models import *\n",
        "from torchvision.models.detection.transform import GeneralizedRCNNTransform\n",
        "import torch.nn.functional as F\n",
        "from torchvision.ops import roi_align\n",
        "from torchvision.models.detection import _utils as det_utils\n",
        "from torch.jit.annotations import Optional, List, Dict, Tuple\n",
        "from torchvision.ops import boxes as box_ops\n",
        "from torchvision.models.utils import load_state_dict_from_url\n",
        "\n",
        "model_urls = {\n",
        "    'fasterrcnn_resnet50_fpn_coco':\n",
        "        'https://download.pytorch.org/models/fasterrcnn_resnet50_fpn_coco-258fb6c6.pth',\n",
        "}\n",
        "\n",
        "class RoIHeads(_RoIHeads):\n",
        "    def postprocess_detections(self, class_logits, box_regression, proposals, image_shapes):\n",
        "        device = class_logits.device\n",
        "        num_classes = class_logits.shape[-1]\n",
        "\n",
        "        boxes_per_image = [len(boxes_in_image) for boxes_in_image in proposals]\n",
        "        pred_boxes = self.box_coder.decode(box_regression, proposals)\n",
        "\n",
        "        pred_scores = F.softmax(class_logits, -1)\n",
        "        # split boxes and scores per image\n",
        "        pred_boxes = pred_boxes.split(boxes_per_image, 0)\n",
        "        pred_scores = pred_scores.split(boxes_per_image, 0)\n",
        "        all_boxes = []\n",
        "        all_scores = []\n",
        "        all_labels = []\n",
        "        all_props = []\n",
        "        all_prob_max = []\n",
        "        all_scores_cls = []\n",
        "\n",
        "        for boxes, scores, props, image_shape in zip(pred_boxes, pred_scores, proposals, image_shapes):\n",
        "            boxes = box_ops.clip_boxes_to_image(boxes, image_shape)\n",
        "\n",
        "            # create labels for each prediction\n",
        "            labels = torch.arange(num_classes, device=device)\n",
        "            labels = labels.view(1, -1).expand_as(scores)\n",
        "            scores_cls = scores.unsqueeze(1).expand(scores.shape[0], scores.shape[1] - 1, scores.shape[1])\n",
        "            scores_cls = scores_cls.reshape(-1, scores.shape[1])\n",
        "            # remove predictions with the background label\n",
        "            boxes = boxes[:, 1:]\n",
        "            scores = scores[:, 1:]\n",
        "            labels = labels[:, 1:]\n",
        "            props = props.unsqueeze(1).expand(props.shape[0], boxes.shape[1], props.shape[1])\n",
        "            # batch everything, by making every class prediction be a separate instance\n",
        "            prob_max = torch.max(scores, 1)[0]\n",
        "            prob_max = prob_max.unsqueeze(1).expand(prob_max.shape[0], scores.shape[1])\n",
        "            boxes = boxes.reshape(-1, 4)\n",
        "            scores = scores.flatten()\n",
        "            prob_max = prob_max.flatten()\n",
        "            labels = labels.flatten()\n",
        "            props = props.reshape(-1, 4)\n",
        "            # remove low scoring boxes\n",
        "            inds = torch.nonzero(scores > self.score_thresh).squeeze(1)\n",
        "            boxes, scores, labels, props, prob_max, scores_cls = boxes[inds], scores[inds], labels[inds], props[inds], \\\n",
        "                                                                 prob_max[inds], scores_cls[inds]\n",
        "            # non-maximum suppression, independently done per class\n",
        "            keep = box_ops.batched_nms(boxes, scores, labels, self.nms_thresh)\n",
        "            # keep only top k scoring predictions\n",
        "            keep = keep[:self.detections_per_img]\n",
        "            boxes, scores, labels, props, prob_max, scores_cls = \\\n",
        "                boxes[keep], scores[keep], labels[keep], props[keep], prob_max[keep], scores_cls[keep]\n",
        "            all_boxes.append(boxes)\n",
        "            all_scores.append(scores)\n",
        "            all_labels.append(labels)\n",
        "            all_props.append(props)\n",
        "            all_prob_max.append(prob_max)\n",
        "            all_scores_cls.append(scores_cls)\n",
        "        return all_boxes, all_scores, all_labels, all_props, all_prob_max, all_scores_cls\n",
        "\n",
        "    def forward(self, features, proposals, image_shapes, targets=None):\n",
        "        # type: (Dict[str, Tensor], List[Tensor], List[Tuple[int, int]], Optional[List[Dict[str, Tensor]]])\n",
        "        \"\"\"\n",
        "        Arguments:\n",
        "            features (List[Tensor])\n",
        "            proposals (List[Tensor[N, 4]])\n",
        "            image_shapes (List[Tuple[H, W]])\n",
        "            targets (List[Dict])\n",
        "        \"\"\"\n",
        "        if targets is not None:\n",
        "            for t in targets:\n",
        "                floating_point_types = (torch.float, torch.double, torch.half)\n",
        "                assert t[\"boxes\"].dtype in floating_point_types, 'target boxes must of float type'\n",
        "                assert t[\"labels\"].dtype == torch.int64, 'target labels must of int64 type'\n",
        "                if self.has_keypoint():\n",
        "                    assert t[\"keypoints\"].dtype == torch.float32, 'target keypoints must of float type'\n",
        "        if self.training:\n",
        "            proposals, matched_idxs, labels, regression_targets = self.select_training_samples(proposals, targets)\n",
        "        else:\n",
        "            labels = None\n",
        "            regression_targets = None\n",
        "            matched_idxs = None\n",
        "        box_features = self.box_roi_pool(features, proposals, image_shapes)\n",
        "        box_features = self.box_head(box_features)\n",
        "        class_logits, box_regression = self.box_predictor(box_features)\n",
        "        result = torch.jit.annotate(List[Dict[str, torch.Tensor]], [])\n",
        "        losses = {}\n",
        "        if self.training:\n",
        "            assert labels is not None and regression_targets is not None\n",
        "            loss_classifier, loss_box_reg = fastrcnn_loss(\n",
        "                class_logits, box_regression, labels, regression_targets)\n",
        "            losses = {\n",
        "                \"loss_classifier\": loss_classifier,\n",
        "                \"loss_box_reg\": loss_box_reg\n",
        "            }\n",
        "        else:\n",
        "            boxes, scores, labels, props, prob_max, scores_cls = self.postprocess_detections(class_logits,\n",
        "                                                                                             box_regression,\n",
        "                                                                                             proposals, image_shapes)\n",
        "            num_images = len(boxes)\n",
        "            for i in range(num_images):\n",
        "                result.append(\n",
        "                    {\n",
        "                        \"boxes\": boxes[i],\n",
        "                        \"labels\": labels[i],\n",
        "                        \"scores\": scores[i],\n",
        "                        \"props\": props[i],\n",
        "                        \"prob_max\": prob_max[i],\n",
        "                        \"scores_cls\": scores_cls[i],\n",
        "                    }\n",
        "                )\n",
        "\n",
        "        return result, losses\n",
        "\n",
        "\n",
        "class FRCNN_Feature(FasterRCNN):\n",
        "    def __init__(self, backbone, num_classes=None,\n",
        "                 # transform parameters\n",
        "                 min_size=800, max_size=1333,\n",
        "                 image_mean=None, image_std=None,\n",
        "                 # RPN parameters\n",
        "                 rpn_anchor_generator=None, rpn_head=None,\n",
        "                 rpn_pre_nms_top_n_train=2000, rpn_pre_nms_top_n_test=1000,\n",
        "                 rpn_post_nms_top_n_train=2000, rpn_post_nms_top_n_test=1000,\n",
        "                 rpn_nms_thresh=0.7,\n",
        "                 rpn_fg_iou_thresh=0.7, rpn_bg_iou_thresh=0.3,\n",
        "                 rpn_batch_size_per_image=256, rpn_positive_fraction=0.5,\n",
        "                 # Box parameters\n",
        "                 box_roi_pool=None, box_head=None, box_predictor=None,\n",
        "                 box_score_thresh=0.05, box_nms_thresh=0.5, box_detections_per_img=100,\n",
        "                 box_fg_iou_thresh=0.5, box_bg_iou_thresh=0.5,\n",
        "                 box_batch_size_per_image=512, box_positive_fraction=0.25,\n",
        "                 bbox_reg_weights=None):\n",
        "\n",
        "        if not hasattr(backbone, \"out_channels\"):\n",
        "            raise ValueError(\n",
        "                \"backbone should contain an attribute out_channels \"\n",
        "                \"specifying the number of output channels (assumed to be the \"\n",
        "                \"same for all the levels)\")\n",
        "\n",
        "        assert isinstance(rpn_anchor_generator, (AnchorGenerator, type(None)))\n",
        "        assert isinstance(box_roi_pool, (MultiScaleRoIAlign, type(None)))\n",
        "\n",
        "        if num_classes is not None:\n",
        "            if box_predictor is not None:\n",
        "                raise ValueError(\"num_classes should be None when box_predictor is specified\")\n",
        "        else:\n",
        "            if box_predictor is None:\n",
        "                raise ValueError(\"num_classes should not be None when box_predictor \"\n",
        "                                 \"is not specified\")\n",
        "\n",
        "        out_channels = backbone.out_channels\n",
        "\n",
        "        if rpn_anchor_generator is None:\n",
        "            anchor_sizes = ((32,), (64,), (128,), (256,), (512,))\n",
        "            #anchor_sizes = ((16,), (32,), (64,), (128,), (256,))\n",
        "            aspect_ratios = ((0.5, 1.0, 2.0),) * len(anchor_sizes)\n",
        "            rpn_anchor_generator = AnchorGenerator(\n",
        "                anchor_sizes, aspect_ratios\n",
        "            )\n",
        "        if rpn_head is None:\n",
        "            rpn_head = RPNHead(\n",
        "                out_channels, rpn_anchor_generator.num_anchors_per_location()[0]\n",
        "            )\n",
        "\n",
        "        rpn_pre_nms_top_n = dict(training=rpn_pre_nms_top_n_train, testing=rpn_pre_nms_top_n_test)\n",
        "        rpn_post_nms_top_n = dict(training=rpn_post_nms_top_n_train, testing=rpn_post_nms_top_n_test)\n",
        "\n",
        "        rpn = RegionProposalNetwork(\n",
        "            rpn_anchor_generator, rpn_head,\n",
        "            rpn_fg_iou_thresh, rpn_bg_iou_thresh,\n",
        "            rpn_batch_size_per_image, rpn_positive_fraction,\n",
        "            rpn_pre_nms_top_n, rpn_post_nms_top_n, rpn_nms_thresh)\n",
        "\n",
        "        if box_roi_pool is None:\n",
        "            box_roi_pool = MultiScaleRoIAlign(\n",
        "                featmap_names=['0', '1', '2', '3'],\n",
        "                output_size=7,\n",
        "                sampling_ratio=2)\n",
        "\n",
        "        if box_head is None:\n",
        "            resolution = box_roi_pool.output_size[0]\n",
        "            representation_size = 1024\n",
        "            box_head = TwoMLPHead(\n",
        "                out_channels * resolution ** 2,\n",
        "                representation_size)\n",
        "\n",
        "        if box_predictor is None:\n",
        "            representation_size = 1024\n",
        "            box_predictor = FastRCNNPredictor(\n",
        "                representation_size,\n",
        "                num_classes)\n",
        "        roi_heads = RoIHeads(  # Box\n",
        "            box_roi_pool, box_head, box_predictor,\n",
        "            box_fg_iou_thresh, box_bg_iou_thresh,\n",
        "            box_batch_size_per_image, box_positive_fraction,\n",
        "            bbox_reg_weights,\n",
        "            box_score_thresh, box_nms_thresh, box_detections_per_img)\n",
        "\n",
        "        if image_mean is None:\n",
        "            image_mean = [0.485, 0.456, 0.406]\n",
        "        if image_std is None:\n",
        "            image_std = [0.229, 0.224, 0.225]\n",
        "        transform = GeneralizedRCNNTransform(min_size, max_size, image_mean, image_std)\n",
        "        super(FasterRCNN, self).__init__(backbone, rpn, roi_heads, transform)\n",
        "\n",
        "    def forward(self, images, targets=None):\n",
        "        \"\"\"\n",
        "        Arguments:\n",
        "            images (list[Tensor]): images to be processed\n",
        "            targets (list[Dict[Tensor]]): ground-truth boxes present in the image (optional)\n",
        "        Returns:\n",
        "            result (list[BoxList] or dict[Tensor]): the output from the model.\n",
        "                During training, it returns a dict[Tensor] which contains the losses.\n",
        "                During testing, it returns list[BoxList] contains additional fields\n",
        "                like `scores`, `labels` and `mask` (for Mask R-CNN models).\n",
        "        \"\"\"\n",
        "        if self.training and targets is None:\n",
        "            raise ValueError(\"In training mode, targets should be passed\")\n",
        "        original_image_sizes = torch.jit.annotate(List[Tuple[int, int]], [])\n",
        "        for img in images:\n",
        "            val = img.shape[-2:]\n",
        "            assert len(val) == 2\n",
        "            original_image_sizes.append((val[0], val[1]))\n",
        "\n",
        "        images, targets = self.transform(images, targets)\n",
        "        \n",
        "        features = self.backbone(images.tensors) # features out of the backbone\n",
        "        if isinstance(features, torch.Tensor):\n",
        "            features = OrderedDict([('0', features)])\n",
        "\n",
        "        proposals, proposal_losses = self.rpn(images, features, targets)\n",
        "        detections, detector_losses = self.roi_heads(features, proposals, images.image_sizes, targets)\n",
        "        detections = self.transform.postprocess(detections, images.image_sizes, original_image_sizes)\n",
        "\n",
        "        losses = {}\n",
        "        losses.update(detector_losses)\n",
        "        losses.update(proposal_losses)\n",
        "\n",
        "        if torch.jit.is_scripting():\n",
        "            if not self._has_warned:\n",
        "                warnings.warn(\"RCNN always returns a (Losses, Detections) tuple in scripting\")\n",
        "                self._has_warned = True\n",
        "            return (losses, detections)\n",
        "        else:\n",
        "            return features, self.eager_outputs(losses, detections)\n",
        "\n",
        "\n",
        "class GeneralizedRCNNTransform(GeneralizedRCNNTransform):\n",
        "    def postprocess(self, result, image_shapes, original_image_sizes):\n",
        "        if self.training:\n",
        "            return result\n",
        "        for i, (pred, im_s, o_im_s) in enumerate(zip(result, image_shapes, original_image_sizes)):\n",
        "            boxes = pred[\"boxes\"]\n",
        "            boxes = resize_boxes(boxes, im_s, o_im_s)\n",
        "            result[i][\"boxes\"] = boxes\n",
        "            props = pred[\"props\"]\n",
        "            props = resize_boxes(props, im_s, o_im_s)\n",
        "            result[i][\"props\"] = props\n",
        "        return result\n",
        "\n",
        "\n",
        "def resize_boxes(boxes, original_size, new_size):\n",
        "    ratios = tuple(float(s) / float(s_orig) for s, s_orig in zip(new_size, original_size))\n",
        "    ratio_height, ratio_width = ratios\n",
        "    xmin, ymin, xmax, ymax = boxes.unbind(1)\n",
        "    xmin = xmin * ratio_width\n",
        "    xmax = xmax * ratio_width\n",
        "    ymin = ymin * ratio_height\n",
        "    ymax = ymax * ratio_height\n",
        "    return torch.stack((xmin, ymin, xmax, ymax), dim=1)"
      ],
      "execution_count": null,
      "outputs": []
    },
    {
      "cell_type": "markdown",
      "metadata": {
        "id": "f-QhBiva19YF"
      },
      "source": [
        "### Different backbones"
      ]
    },
    {
      "cell_type": "code",
      "metadata": {
        "id": "cjzJcuHu1y_1"
      },
      "source": [
        "def fasterrcnn_resnet50_fpn_feature(pretrained=False, progress=True, num_classes=91, pretrained_backbone=True, trainable_layers=3,**kwargs):\n",
        "    if pretrained: # no need to download the backbone if pretrained is set\n",
        "        pretrained_backbone = False\n",
        "    backbone = resnet_fpn_backbone('resnet50', pretrained_backbone)\n",
        "    model = FRCNN_Feature(backbone, num_classes, **kwargs)\n",
        "    if pretrained:\n",
        "        state_dict = load_state_dict_from_url(model_urls['fasterrcnn_resnet50_fpn_coco'],\n",
        "                                              progress=progress, strict=False)\n",
        "        model.load_state_dict(state_dict)\n",
        "    return model"
      ],
      "execution_count": null,
      "outputs": []
    },
    {
      "cell_type": "markdown",
      "metadata": {
        "id": "IEj3Bhau-Ls5"
      },
      "source": [
        "## Training prep"
      ]
    },
    {
      "cell_type": "markdown",
      "metadata": {
        "id": "-KeJHZpj-Q7c"
      },
      "source": [
        "### CUDA check"
      ]
    },
    {
      "cell_type": "code",
      "metadata": {
        "colab": {
          "base_uri": "https://localhost:8080/"
        },
        "id": "LcyMMI1c-eWD",
        "outputId": "df3bade3-6c80-44cd-9b20-b8806e18587b"
      },
      "source": [
        "# setting device on GPU if available, else CPU\n",
        "device = torch.device('cuda' if torch.cuda.is_available() else 'cpu')\n",
        "print('Using device:', device)\n",
        "\n",
        "#Additional Info when using cuda\n",
        "if device.type == 'cuda':\n",
        "    print(torch.cuda.get_device_name(0))\n",
        "    print('Memory Usage:')\n",
        "    print('Allocated:', round(torch.cuda.memory_allocated(0)/1024**3,1), 'GB')\n",
        "    print('Cached:   ', round(torch.cuda.memory_reserved(0)/1024**3,1), 'GB')"
      ],
      "execution_count": null,
      "outputs": [
        {
          "output_type": "stream",
          "text": [
            "Using device: cuda\n",
            "Tesla P100-PCIE-16GB\n",
            "Memory Usage:\n",
            "Allocated: 0.0 GB\n",
            "Cached:    0.0 GB\n"
          ],
          "name": "stdout"
        }
      ]
    },
    {
      "cell_type": "markdown",
      "metadata": {
        "id": "AC4Ldd7aFDaX"
      },
      "source": [
        "### Training hyperparameters"
      ]
    },
    {
      "cell_type": "code",
      "metadata": {
        "id": "vfO6QVJ8j_Dv"
      },
      "source": [
        "args = {\n",
        "    'num_cycles': 1,\n",
        "    'start_cycle': 1,\n",
        "    'num_epochs': 60,\n",
        "    'init_num': int(0.2 * num_train),\n",
        "    'budget_num': int(0.5 * num_train) - int(0.2 * num_train),\n",
        "    'pseudolabel_num': 200,\n",
        "    'ssl_start_cycle': 100,\n",
        "    \n",
        "    'num_workers': 2,\n",
        "    'batch_size': 4,\n",
        "    'lr': 3e-4,\n",
        "\n",
        "    'momentum': 0.9,\n",
        "    'weight_decay': 1e-8,\n",
        "    'lr_gamma': 0.1,\n",
        "\n",
        "    'step_size': 20,\n",
        "    'gamma': 0.1,\n",
        "\n",
        "    'print_freq': 100\n",
        "}\n",
        "\n",
        "configs = dotdict(args)"
      ],
      "execution_count": null,
      "outputs": []
    },
    {
      "cell_type": "code",
      "metadata": {
        "colab": {
          "base_uri": "https://localhost:8080/"
        },
        "id": "bllI-S4-b9Hm",
        "outputId": "79e9f023-d297-4b62-e4c5-de5bb3ac4cea"
      },
      "source": [
        "configs.init_num"
      ],
      "execution_count": null,
      "outputs": [
        {
          "output_type": "execute_result",
          "data": {
            "text/plain": [
              "383"
            ]
          },
          "metadata": {
            "tags": []
          },
          "execution_count": 22
        }
      ]
    },
    {
      "cell_type": "markdown",
      "metadata": {
        "id": "0R2NGKkuF-tn"
      },
      "source": [
        "### Unlabeled-labeled split"
      ]
    },
    {
      "cell_type": "code",
      "metadata": {
        "id": "2KTDC2JkOR8j"
      },
      "source": [
        "def seed_worker(worker_id):\n",
        "  worker_seed = torch.initial_seed() % 2**32\n",
        "  np.random.seed(worker_seed)\n",
        "  random.seed(worker_seed)"
      ],
      "execution_count": null,
      "outputs": []
    },
    {
      "cell_type": "code",
      "metadata": {
        "id": "DNLTsVqtF64v"
      },
      "source": [
        "from utils import *\n",
        "\n",
        "indices = list(range(len(train_dataset)))\n",
        "labeled_set = indices[:configs.init_num]\n",
        "unlabeled_set = indices[configs.init_num:]\n",
        "\n",
        "# Train\n",
        "train_sampler = SubsetRandomSampler(labeled_set)\n",
        "# Val\n",
        "data_loader_val = DataLoader(val_dataset, batch_size=1, shuffle=False, num_workers=configs.num_workers, collate_fn=collate_fn)\n",
        "# Test\n",
        "data_loader_test = DataLoader(test_dataset, batch_size=1, shuffle=False, num_workers=configs.num_workers, collate_fn=collate_fn)"
      ],
      "execution_count": null,
      "outputs": []
    },
    {
      "cell_type": "markdown",
      "metadata": {
        "id": "KVporTTU-aXy"
      },
      "source": [
        "### Create task model"
      ]
    },
    {
      "cell_type": "code",
      "metadata": {
        "id": "BaSxyVYp9grm",
        "colab": {
          "base_uri": "https://localhost:8080/"
        },
        "outputId": "112aa0cc-e6cf-483c-d58b-8b59bf93d844"
      },
      "source": [
        "model_name = 'fasterrcnn_resnet50_fpn'\n",
        "task_model = fasterrcnn_resnet50_fpn_feature(num_classes=2, pretrained_backbone=False) # including background (0)\n",
        "\n",
        "task_model.to(device)"
      ],
      "execution_count": null,
      "outputs": [
        {
          "output_type": "execute_result",
          "data": {
            "text/plain": [
              "FRCNN_Feature(\n",
              "  (transform): GeneralizedRCNNTransform(\n",
              "      Normalize(mean=[0.485, 0.456, 0.406], std=[0.229, 0.224, 0.225])\n",
              "      Resize(min_size=(800,), max_size=1333, mode='bilinear')\n",
              "  )\n",
              "  (backbone): BackboneWithFPN(\n",
              "    (body): IntermediateLayerGetter(\n",
              "      (conv1): Conv2d(3, 64, kernel_size=(7, 7), stride=(2, 2), padding=(3, 3), bias=False)\n",
              "      (bn1): FrozenBatchNorm2d(64, eps=1e-05)\n",
              "      (relu): ReLU(inplace=True)\n",
              "      (maxpool): MaxPool2d(kernel_size=3, stride=2, padding=1, dilation=1, ceil_mode=False)\n",
              "      (layer1): Sequential(\n",
              "        (0): Bottleneck(\n",
              "          (conv1): Conv2d(64, 64, kernel_size=(1, 1), stride=(1, 1), bias=False)\n",
              "          (bn1): FrozenBatchNorm2d(64, eps=1e-05)\n",
              "          (conv2): Conv2d(64, 64, kernel_size=(3, 3), stride=(1, 1), padding=(1, 1), bias=False)\n",
              "          (bn2): FrozenBatchNorm2d(64, eps=1e-05)\n",
              "          (conv3): Conv2d(64, 256, kernel_size=(1, 1), stride=(1, 1), bias=False)\n",
              "          (bn3): FrozenBatchNorm2d(256, eps=1e-05)\n",
              "          (relu): ReLU(inplace=True)\n",
              "          (downsample): Sequential(\n",
              "            (0): Conv2d(64, 256, kernel_size=(1, 1), stride=(1, 1), bias=False)\n",
              "            (1): FrozenBatchNorm2d(256, eps=1e-05)\n",
              "          )\n",
              "        )\n",
              "        (1): Bottleneck(\n",
              "          (conv1): Conv2d(256, 64, kernel_size=(1, 1), stride=(1, 1), bias=False)\n",
              "          (bn1): FrozenBatchNorm2d(64, eps=1e-05)\n",
              "          (conv2): Conv2d(64, 64, kernel_size=(3, 3), stride=(1, 1), padding=(1, 1), bias=False)\n",
              "          (bn2): FrozenBatchNorm2d(64, eps=1e-05)\n",
              "          (conv3): Conv2d(64, 256, kernel_size=(1, 1), stride=(1, 1), bias=False)\n",
              "          (bn3): FrozenBatchNorm2d(256, eps=1e-05)\n",
              "          (relu): ReLU(inplace=True)\n",
              "        )\n",
              "        (2): Bottleneck(\n",
              "          (conv1): Conv2d(256, 64, kernel_size=(1, 1), stride=(1, 1), bias=False)\n",
              "          (bn1): FrozenBatchNorm2d(64, eps=1e-05)\n",
              "          (conv2): Conv2d(64, 64, kernel_size=(3, 3), stride=(1, 1), padding=(1, 1), bias=False)\n",
              "          (bn2): FrozenBatchNorm2d(64, eps=1e-05)\n",
              "          (conv3): Conv2d(64, 256, kernel_size=(1, 1), stride=(1, 1), bias=False)\n",
              "          (bn3): FrozenBatchNorm2d(256, eps=1e-05)\n",
              "          (relu): ReLU(inplace=True)\n",
              "        )\n",
              "      )\n",
              "      (layer2): Sequential(\n",
              "        (0): Bottleneck(\n",
              "          (conv1): Conv2d(256, 128, kernel_size=(1, 1), stride=(1, 1), bias=False)\n",
              "          (bn1): FrozenBatchNorm2d(128, eps=1e-05)\n",
              "          (conv2): Conv2d(128, 128, kernel_size=(3, 3), stride=(2, 2), padding=(1, 1), bias=False)\n",
              "          (bn2): FrozenBatchNorm2d(128, eps=1e-05)\n",
              "          (conv3): Conv2d(128, 512, kernel_size=(1, 1), stride=(1, 1), bias=False)\n",
              "          (bn3): FrozenBatchNorm2d(512, eps=1e-05)\n",
              "          (relu): ReLU(inplace=True)\n",
              "          (downsample): Sequential(\n",
              "            (0): Conv2d(256, 512, kernel_size=(1, 1), stride=(2, 2), bias=False)\n",
              "            (1): FrozenBatchNorm2d(512, eps=1e-05)\n",
              "          )\n",
              "        )\n",
              "        (1): Bottleneck(\n",
              "          (conv1): Conv2d(512, 128, kernel_size=(1, 1), stride=(1, 1), bias=False)\n",
              "          (bn1): FrozenBatchNorm2d(128, eps=1e-05)\n",
              "          (conv2): Conv2d(128, 128, kernel_size=(3, 3), stride=(1, 1), padding=(1, 1), bias=False)\n",
              "          (bn2): FrozenBatchNorm2d(128, eps=1e-05)\n",
              "          (conv3): Conv2d(128, 512, kernel_size=(1, 1), stride=(1, 1), bias=False)\n",
              "          (bn3): FrozenBatchNorm2d(512, eps=1e-05)\n",
              "          (relu): ReLU(inplace=True)\n",
              "        )\n",
              "        (2): Bottleneck(\n",
              "          (conv1): Conv2d(512, 128, kernel_size=(1, 1), stride=(1, 1), bias=False)\n",
              "          (bn1): FrozenBatchNorm2d(128, eps=1e-05)\n",
              "          (conv2): Conv2d(128, 128, kernel_size=(3, 3), stride=(1, 1), padding=(1, 1), bias=False)\n",
              "          (bn2): FrozenBatchNorm2d(128, eps=1e-05)\n",
              "          (conv3): Conv2d(128, 512, kernel_size=(1, 1), stride=(1, 1), bias=False)\n",
              "          (bn3): FrozenBatchNorm2d(512, eps=1e-05)\n",
              "          (relu): ReLU(inplace=True)\n",
              "        )\n",
              "        (3): Bottleneck(\n",
              "          (conv1): Conv2d(512, 128, kernel_size=(1, 1), stride=(1, 1), bias=False)\n",
              "          (bn1): FrozenBatchNorm2d(128, eps=1e-05)\n",
              "          (conv2): Conv2d(128, 128, kernel_size=(3, 3), stride=(1, 1), padding=(1, 1), bias=False)\n",
              "          (bn2): FrozenBatchNorm2d(128, eps=1e-05)\n",
              "          (conv3): Conv2d(128, 512, kernel_size=(1, 1), stride=(1, 1), bias=False)\n",
              "          (bn3): FrozenBatchNorm2d(512, eps=1e-05)\n",
              "          (relu): ReLU(inplace=True)\n",
              "        )\n",
              "      )\n",
              "      (layer3): Sequential(\n",
              "        (0): Bottleneck(\n",
              "          (conv1): Conv2d(512, 256, kernel_size=(1, 1), stride=(1, 1), bias=False)\n",
              "          (bn1): FrozenBatchNorm2d(256, eps=1e-05)\n",
              "          (conv2): Conv2d(256, 256, kernel_size=(3, 3), stride=(2, 2), padding=(1, 1), bias=False)\n",
              "          (bn2): FrozenBatchNorm2d(256, eps=1e-05)\n",
              "          (conv3): Conv2d(256, 1024, kernel_size=(1, 1), stride=(1, 1), bias=False)\n",
              "          (bn3): FrozenBatchNorm2d(1024, eps=1e-05)\n",
              "          (relu): ReLU(inplace=True)\n",
              "          (downsample): Sequential(\n",
              "            (0): Conv2d(512, 1024, kernel_size=(1, 1), stride=(2, 2), bias=False)\n",
              "            (1): FrozenBatchNorm2d(1024, eps=1e-05)\n",
              "          )\n",
              "        )\n",
              "        (1): Bottleneck(\n",
              "          (conv1): Conv2d(1024, 256, kernel_size=(1, 1), stride=(1, 1), bias=False)\n",
              "          (bn1): FrozenBatchNorm2d(256, eps=1e-05)\n",
              "          (conv2): Conv2d(256, 256, kernel_size=(3, 3), stride=(1, 1), padding=(1, 1), bias=False)\n",
              "          (bn2): FrozenBatchNorm2d(256, eps=1e-05)\n",
              "          (conv3): Conv2d(256, 1024, kernel_size=(1, 1), stride=(1, 1), bias=False)\n",
              "          (bn3): FrozenBatchNorm2d(1024, eps=1e-05)\n",
              "          (relu): ReLU(inplace=True)\n",
              "        )\n",
              "        (2): Bottleneck(\n",
              "          (conv1): Conv2d(1024, 256, kernel_size=(1, 1), stride=(1, 1), bias=False)\n",
              "          (bn1): FrozenBatchNorm2d(256, eps=1e-05)\n",
              "          (conv2): Conv2d(256, 256, kernel_size=(3, 3), stride=(1, 1), padding=(1, 1), bias=False)\n",
              "          (bn2): FrozenBatchNorm2d(256, eps=1e-05)\n",
              "          (conv3): Conv2d(256, 1024, kernel_size=(1, 1), stride=(1, 1), bias=False)\n",
              "          (bn3): FrozenBatchNorm2d(1024, eps=1e-05)\n",
              "          (relu): ReLU(inplace=True)\n",
              "        )\n",
              "        (3): Bottleneck(\n",
              "          (conv1): Conv2d(1024, 256, kernel_size=(1, 1), stride=(1, 1), bias=False)\n",
              "          (bn1): FrozenBatchNorm2d(256, eps=1e-05)\n",
              "          (conv2): Conv2d(256, 256, kernel_size=(3, 3), stride=(1, 1), padding=(1, 1), bias=False)\n",
              "          (bn2): FrozenBatchNorm2d(256, eps=1e-05)\n",
              "          (conv3): Conv2d(256, 1024, kernel_size=(1, 1), stride=(1, 1), bias=False)\n",
              "          (bn3): FrozenBatchNorm2d(1024, eps=1e-05)\n",
              "          (relu): ReLU(inplace=True)\n",
              "        )\n",
              "        (4): Bottleneck(\n",
              "          (conv1): Conv2d(1024, 256, kernel_size=(1, 1), stride=(1, 1), bias=False)\n",
              "          (bn1): FrozenBatchNorm2d(256, eps=1e-05)\n",
              "          (conv2): Conv2d(256, 256, kernel_size=(3, 3), stride=(1, 1), padding=(1, 1), bias=False)\n",
              "          (bn2): FrozenBatchNorm2d(256, eps=1e-05)\n",
              "          (conv3): Conv2d(256, 1024, kernel_size=(1, 1), stride=(1, 1), bias=False)\n",
              "          (bn3): FrozenBatchNorm2d(1024, eps=1e-05)\n",
              "          (relu): ReLU(inplace=True)\n",
              "        )\n",
              "        (5): Bottleneck(\n",
              "          (conv1): Conv2d(1024, 256, kernel_size=(1, 1), stride=(1, 1), bias=False)\n",
              "          (bn1): FrozenBatchNorm2d(256, eps=1e-05)\n",
              "          (conv2): Conv2d(256, 256, kernel_size=(3, 3), stride=(1, 1), padding=(1, 1), bias=False)\n",
              "          (bn2): FrozenBatchNorm2d(256, eps=1e-05)\n",
              "          (conv3): Conv2d(256, 1024, kernel_size=(1, 1), stride=(1, 1), bias=False)\n",
              "          (bn3): FrozenBatchNorm2d(1024, eps=1e-05)\n",
              "          (relu): ReLU(inplace=True)\n",
              "        )\n",
              "      )\n",
              "      (layer4): Sequential(\n",
              "        (0): Bottleneck(\n",
              "          (conv1): Conv2d(1024, 512, kernel_size=(1, 1), stride=(1, 1), bias=False)\n",
              "          (bn1): FrozenBatchNorm2d(512, eps=1e-05)\n",
              "          (conv2): Conv2d(512, 512, kernel_size=(3, 3), stride=(2, 2), padding=(1, 1), bias=False)\n",
              "          (bn2): FrozenBatchNorm2d(512, eps=1e-05)\n",
              "          (conv3): Conv2d(512, 2048, kernel_size=(1, 1), stride=(1, 1), bias=False)\n",
              "          (bn3): FrozenBatchNorm2d(2048, eps=1e-05)\n",
              "          (relu): ReLU(inplace=True)\n",
              "          (downsample): Sequential(\n",
              "            (0): Conv2d(1024, 2048, kernel_size=(1, 1), stride=(2, 2), bias=False)\n",
              "            (1): FrozenBatchNorm2d(2048, eps=1e-05)\n",
              "          )\n",
              "        )\n",
              "        (1): Bottleneck(\n",
              "          (conv1): Conv2d(2048, 512, kernel_size=(1, 1), stride=(1, 1), bias=False)\n",
              "          (bn1): FrozenBatchNorm2d(512, eps=1e-05)\n",
              "          (conv2): Conv2d(512, 512, kernel_size=(3, 3), stride=(1, 1), padding=(1, 1), bias=False)\n",
              "          (bn2): FrozenBatchNorm2d(512, eps=1e-05)\n",
              "          (conv3): Conv2d(512, 2048, kernel_size=(1, 1), stride=(1, 1), bias=False)\n",
              "          (bn3): FrozenBatchNorm2d(2048, eps=1e-05)\n",
              "          (relu): ReLU(inplace=True)\n",
              "        )\n",
              "        (2): Bottleneck(\n",
              "          (conv1): Conv2d(2048, 512, kernel_size=(1, 1), stride=(1, 1), bias=False)\n",
              "          (bn1): FrozenBatchNorm2d(512, eps=1e-05)\n",
              "          (conv2): Conv2d(512, 512, kernel_size=(3, 3), stride=(1, 1), padding=(1, 1), bias=False)\n",
              "          (bn2): FrozenBatchNorm2d(512, eps=1e-05)\n",
              "          (conv3): Conv2d(512, 2048, kernel_size=(1, 1), stride=(1, 1), bias=False)\n",
              "          (bn3): FrozenBatchNorm2d(2048, eps=1e-05)\n",
              "          (relu): ReLU(inplace=True)\n",
              "        )\n",
              "      )\n",
              "    )\n",
              "    (fpn): FeaturePyramidNetwork(\n",
              "      (inner_blocks): ModuleList(\n",
              "        (0): Conv2d(256, 256, kernel_size=(1, 1), stride=(1, 1))\n",
              "        (1): Conv2d(512, 256, kernel_size=(1, 1), stride=(1, 1))\n",
              "        (2): Conv2d(1024, 256, kernel_size=(1, 1), stride=(1, 1))\n",
              "        (3): Conv2d(2048, 256, kernel_size=(1, 1), stride=(1, 1))\n",
              "      )\n",
              "      (layer_blocks): ModuleList(\n",
              "        (0): Conv2d(256, 256, kernel_size=(3, 3), stride=(1, 1), padding=(1, 1))\n",
              "        (1): Conv2d(256, 256, kernel_size=(3, 3), stride=(1, 1), padding=(1, 1))\n",
              "        (2): Conv2d(256, 256, kernel_size=(3, 3), stride=(1, 1), padding=(1, 1))\n",
              "        (3): Conv2d(256, 256, kernel_size=(3, 3), stride=(1, 1), padding=(1, 1))\n",
              "      )\n",
              "      (extra_blocks): LastLevelMaxPool()\n",
              "    )\n",
              "  )\n",
              "  (rpn): RegionProposalNetwork(\n",
              "    (anchor_generator): AnchorGenerator()\n",
              "    (head): RPNHead(\n",
              "      (conv): Conv2d(256, 256, kernel_size=(3, 3), stride=(1, 1), padding=(1, 1))\n",
              "      (cls_logits): Conv2d(256, 3, kernel_size=(1, 1), stride=(1, 1))\n",
              "      (bbox_pred): Conv2d(256, 12, kernel_size=(1, 1), stride=(1, 1))\n",
              "    )\n",
              "  )\n",
              "  (roi_heads): RoIHeads(\n",
              "    (box_roi_pool): MultiScaleRoIAlign(featmap_names=['0', '1', '2', '3'], output_size=(7, 7), sampling_ratio=2)\n",
              "    (box_head): TwoMLPHead(\n",
              "      (fc6): Linear(in_features=12544, out_features=1024, bias=True)\n",
              "      (fc7): Linear(in_features=1024, out_features=1024, bias=True)\n",
              "    )\n",
              "    (box_predictor): FastRCNNPredictor(\n",
              "      (cls_score): Linear(in_features=1024, out_features=2, bias=True)\n",
              "      (bbox_pred): Linear(in_features=1024, out_features=8, bias=True)\n",
              "    )\n",
              "  )\n",
              ")"
            ]
          },
          "metadata": {
            "tags": []
          },
          "execution_count": 25
        }
      ]
    },
    {
      "cell_type": "markdown",
      "metadata": {
        "id": "x17VtJNZHpE3"
      },
      "source": [
        "### Training utils"
      ]
    },
    {
      "cell_type": "code",
      "metadata": {
        "id": "kxFzaA4f-zh7"
      },
      "source": [
        "def train_one_epoch(task_model, task_optimizer, data_loader, device, cycle, epoch, print_freq):\n",
        "    task_model.train()\n",
        "    metric_logger = MetricLogger(delimiter=\"  \")\n",
        "    metric_logger.add_meter('task_lr', SmoothedValue(window_size=1, fmt='{value:.6f}'))\n",
        "    header = 'Cycle:[{}] Epoch: [{}]'.format(cycle, epoch)\n",
        "\n",
        "    task_lr_scheduler = None\n",
        "\n",
        "    if epoch == 0:\n",
        "        warmup_factor = 1. / 1000\n",
        "        warmup_iters = min(1000, len(data_loader) - 1)\n",
        "\n",
        "        task_lr_scheduler = warmup_lr_scheduler(task_optimizer, warmup_iters, warmup_factor)\n",
        "\n",
        "    for images, targets in metric_logger.log_every(data_loader, print_freq, header):\n",
        "        images = list(image.to(device) for image in images)\n",
        "        targets = [{k: v.to(device) for k, v in t.items()} for t in targets]\n",
        "\n",
        "        _, task_loss_dict = task_model(images, targets)\n",
        "        \n",
        "        task_losses = sum(loss for loss in task_loss_dict.values())\n",
        "        # reduce losses over all GPUs for logging purposes\n",
        "        task_loss_dict_reduced = reduce_dict(task_loss_dict)\n",
        "        task_losses_reduced = sum(loss for loss in task_loss_dict_reduced.values())\n",
        "        task_loss_value = task_losses_reduced.item()\n",
        "        \n",
        "        if not math.isfinite(task_loss_value):\n",
        "            print(\"Loss is {}, stopping training\".format(task_loss_value))\n",
        "            print(task_loss_dict_reduced)\n",
        "            sys.exit(1)\n",
        "\n",
        "        task_optimizer.zero_grad()\n",
        "        task_losses.backward()\n",
        "        task_optimizer.step()\n",
        "\n",
        "        if task_lr_scheduler is not None:\n",
        "            task_lr_scheduler.step()\n",
        "\n",
        "        metric_logger.update(task_loss=task_losses_reduced)\n",
        "        metric_logger.update(task_lr=task_optimizer.param_groups[0][\"lr\"])\n",
        "    return metric_logger\n",
        "\n",
        "from coco_utils import get_coco_api_from_dataset\n",
        "from coco_eval import CocoEvaluator\n",
        "\n",
        "def _get_iou_types(model):\n",
        "    model_without_ddp = model\n",
        "    if isinstance(model, torch.nn.parallel.DistributedDataParallel):\n",
        "        model_without_ddp = model.module\n",
        "    iou_types = [\"bbox\"]\n",
        "    if isinstance(model_without_ddp, torchvision.models.detection.MaskRCNN):\n",
        "        iou_types.append(\"segm\")\n",
        "    if isinstance(model_without_ddp, torchvision.models.detection.KeypointRCNN):\n",
        "        iou_types.append(\"keypoints\")\n",
        "    return iou_types\n",
        "\n",
        "@torch.no_grad()\n",
        "def evaluate(model, data_loader, device):\n",
        "    n_threads = torch.get_num_threads()\n",
        "    # FIXME remove this and make paste_masks_in_image run on the GPU\n",
        "    torch.set_num_threads(1)\n",
        "    cpu_device = torch.device(\"cpu\")\n",
        "    model.eval()\n",
        "    metric_logger = MetricLogger(delimiter=\"  \")\n",
        "    header = 'Test:'\n",
        "\n",
        "    coco = get_coco_api_from_dataset(data_loader.dataset)\n",
        "    iou_types = _get_iou_types(model)\n",
        "    coco_evaluator = CocoEvaluator(coco, iou_types)\n",
        "\n",
        "    for image, targets in metric_logger.log_every(data_loader, 100, header):\n",
        "        image = list(img.to(device) for img in image)\n",
        "        targets = [{k: v.to(device) for k, v in t.items()} for t in targets]\n",
        "\n",
        "        torch.cuda.synchronize()\n",
        "        model_time = time.time()\n",
        "        _, outputs = model(image)\n",
        "\n",
        "        outputs = [{k: v.to(cpu_device) for k, v in t.items()} for t in outputs]\n",
        "        model_time = time.time() - model_time\n",
        "\n",
        "        res = {target[\"image_id\"].item(): output for target, output in zip(targets, outputs)}\n",
        "        evaluator_time = time.time()\n",
        "        coco_evaluator.update(res)\n",
        "        evaluator_time = time.time() - evaluator_time\n",
        "        metric_logger.update(model_time=model_time, evaluator_time=evaluator_time)\n",
        "\n",
        "    # gather the stats from all processes\n",
        "    metric_logger.synchronize_between_processes()\n",
        "    print(\"Averaged stats:\", metric_logger)\n",
        "    coco_evaluator.synchronize_between_processes()\n",
        "\n",
        "    # accumulate predictions from all images\n",
        "    coco_evaluator.accumulate()\n",
        "    coco_evaluator.summarize()\n",
        "    torch.set_num_threads(n_threads)\n",
        "    return coco_evaluator"
      ],
      "execution_count": null,
      "outputs": []
    },
    {
      "cell_type": "markdown",
      "metadata": {
        "id": "syvducZuIelw"
      },
      "source": [
        "## Train the initial model"
      ]
    },
    {
      "cell_type": "markdown",
      "metadata": {
        "id": "SoXIFfvElxSK"
      },
      "source": [
        "#### Test: different base models"
      ]
    },
    {
      "cell_type": "code",
      "metadata": {
        "colab": {
          "base_uri": "https://localhost:8080/"
        },
        "id": "RBqpiL4hlwhe",
        "outputId": "c80de918-f6f6-46aa-bb62-4324558d6ea6"
      },
      "source": [
        "# Get logger\n",
        "exp_name = 'frcnn_baseline_50%' + str(SEED)\n",
        "logfile_name = datetime.datetime.now().strftime(\"%m_%d_%H_%M_%Y\") + '_' + exp_name\n",
        "logger = get_logger('drive/MyDrive/exp_results/faster-rcnn-DeepLesion-alssl-pretrained/' + logfile_name + '.log')\n",
        "\n",
        "logger.info('Training configurations: \\n%s' %(args))\n",
        "logger.info(\"Current labeled pool size: %d\" %(len(labeled_set)))\n",
        "\n",
        "# Prepare for training\n",
        "train_batch_sampler = torch.utils.data.BatchSampler(train_sampler, configs.batch_size, drop_last=True)\n",
        "\n",
        "g_seed = torch.Generator()\n",
        "g_seed.manual_seed(SEED)\n",
        "train_data_loader = DataLoader(train_dataset, batch_sampler=train_batch_sampler, \n",
        "                               worker_init_fn=seed_worker, generator=g_seed,\n",
        "                               num_workers=configs.num_workers, collate_fn=collate_fn)\n",
        "\n",
        "params = [p for p in task_model.parameters() if p.requires_grad]\n",
        "task_optimizer = torch.optim.Adam(params, lr=configs.lr, weight_decay=configs.weight_decay, amsgrad=True)\n",
        "task_lr_scheduler = torch.optim.lr_scheduler.CosineAnnealingLR(task_optimizer, T_max=configs.num_epochs)\n",
        "\n",
        "logger.info(\"Start training\")\n",
        "start_time = time.time()\n",
        "\n",
        "best_map = 0\n",
        "plateau_num = 0\n",
        "for epoch in range(configs.num_epochs):\n",
        "  train_one_epoch(task_model, task_optimizer, train_data_loader, device, 0, epoch, configs.print_freq)\n",
        "  task_lr_scheduler.step()\n",
        "\n",
        "  # Evaluate performance\n",
        "  evaluator = evaluate(task_model, data_loader_val, device=device)\n",
        "  # Save the best model\n",
        "  eval_stats = evaluator.coco_eval['bbox'].stats\n",
        "  # Use the COCO mAP as the main criterion\n",
        "  if eval_stats[0] > best_map:\n",
        "      best_map = eval_stats[0]\n",
        "      plateau_num = 0\n",
        "      # Save checkpoint\n",
        "      logger.info('Saving best checkpoints for mAP %f' %(best_map))\n",
        "      save_on_master({'model': task_model.state_dict()}, \n",
        "                      'drive/MyDrive/exp_results/faster-rcnn-DeepLesion-alssl-pretrained/'+exp_name+'_best.pth')\n",
        "  else:\n",
        "      logger.info('No improvement observed.')\n",
        "      plateau_num += 1\n",
        "      if plateau_num == 10:\n",
        "          logger.info('Training stops at epoch %d due to plateau in performance.' %(epoch+1))\n",
        "          break\n",
        "\n",
        "logger.info('COCO Performance on the test set')\n",
        "evaluator = evaluate(task_model, data_loader_test, device=device)\n",
        "logger.info(str(evaluator.coco_eval['bbox'].stats))\n",
        "\n",
        "# Update sampler for training\n",
        "total_time = time.time() - start_time\n",
        "total_time_str = str(datetime.timedelta(seconds=int(total_time)))\n",
        "logger.info('Training time {}'.format(total_time_str))"
      ],
      "execution_count": null,
      "outputs": [
        {
          "output_type": "stream",
          "text": [
            "[2021-08-05 19:37:21,779][<ipython-input-26-eec21089c3ff>][line:6][INFO] Training configurations: \n",
            "{'num_cycles': 1, 'start_cycle': 1, 'num_epochs': 60, 'init_num': 957, 'budget_num': 191, 'pseudolabel_num': 200, 'ssl_start_cycle': 100, 'num_workers': 2, 'batch_size': 4, 'lr': 0.0003, 'momentum': 0.9, 'weight_decay': 1e-08, 'lr_gamma': 0.1, 'step_size': 20, 'gamma': 0.1, 'print_freq': 100}\n",
            "[2021-08-05 19:37:21,781][<ipython-input-26-eec21089c3ff>][line:7][INFO] Current labeled pool size: 957\n",
            "[2021-08-05 19:37:21,786][<ipython-input-26-eec21089c3ff>][line:22][INFO] Start training\n",
            "/usr/local/lib/python3.7/dist-packages/torch/nn/functional.py:718: UserWarning: Named tensors and all their associated APIs are an experimental feature and subject to change. Please do not use them for anything important until they are released as stable. (Triggered internally at  /pytorch/c10/core/TensorImpl.h:1156.)\n",
            "  return torch.max_pool2d(input, kernel_size, stride, padding, dilation, ceil_mode)\n"
          ],
          "name": "stderr"
        },
        {
          "output_type": "stream",
          "text": [
            "Cycle:[0] Epoch: [0]  [  0/239]  eta: 0:31:50  task_lr: 0.000002  task_loss: 4.2761 (4.2761)  time: 7.9928  data: 6.8705  max mem: 4219\n",
            "Cycle:[0] Epoch: [0]  [100/239]  eta: 0:05:42  task_lr: 0.000127  task_loss: 0.1305 (0.2902)  time: 2.4159  data: 1.5098  max mem: 4958\n",
            "Cycle:[0] Epoch: [0]  [200/239]  eta: 0:01:31  task_lr: 0.000253  task_loss: 0.1345 (0.2168)  time: 1.8110  data: 0.9061  max mem: 4965\n",
            "Cycle:[0] Epoch: [0]  [238/239]  eta: 0:00:02  task_lr: 0.000300  task_loss: 0.1183 (0.2039)  time: 1.9513  data: 1.0464  max mem: 4965\n",
            "Cycle:[0] Epoch: [0] Total time: 0:09:03 (2.2735 s / it)\n",
            "creating index...\n",
            "index created!\n",
            "Test:  [  0/239]  eta: 0:00:49  model_time: 0.0972 (0.0972)  evaluator_time: 0.0018 (0.0018)  time: 0.2089  data: 0.1059  max mem: 4965\n",
            "Test:  [100/239]  eta: 0:00:12  model_time: 0.0827 (0.0829)  evaluator_time: 0.0006 (0.0008)  time: 0.0912  data: 0.0044  max mem: 4965\n",
            "Test:  [200/239]  eta: 0:00:03  model_time: 0.0826 (0.0828)  evaluator_time: 0.0006 (0.0008)  time: 0.0914  data: 0.0046  max mem: 4965\n"
          ],
          "name": "stdout"
        },
        {
          "output_type": "stream",
          "text": [
            "[2021-08-05 20:03:45,280][<ipython-input-26-eec21089c3ff>][line:44][INFO] No improvement observed.\n"
          ],
          "name": "stderr"
        },
        {
          "output_type": "stream",
          "text": [
            "Test:  [238/239]  eta: 0:00:00  model_time: 0.0828 (0.0829)  evaluator_time: 0.0006 (0.0008)  time: 0.0903  data: 0.0043  max mem: 4965\n",
            "Test: Total time: 0:00:21 (0.0915 s / it)\n",
            "Averaged stats: model_time: 0.0828 (0.0829)  evaluator_time: 0.0006 (0.0008)\n",
            "Accumulating evaluation results...\n",
            "DONE (t=0.02s).\n",
            "IoU metric: bbox\n",
            " Average Precision  (AP) @[ IoU=0.50:0.95 | area=   all | maxDets=100 ] = 0.000\n",
            " Average Precision  (AP) @[ IoU=0.50      | area=   all | maxDets=100 ] = 0.000\n",
            " Average Precision  (AP) @[ IoU=0.75      | area=   all | maxDets=100 ] = 0.000\n",
            " Average Precision  (AP) @[ IoU=0.50:0.95 | area= small | maxDets=100 ] = 0.000\n",
            " Average Precision  (AP) @[ IoU=0.50:0.95 | area=medium | maxDets=100 ] = 0.000\n",
            " Average Precision  (AP) @[ IoU=0.50:0.95 | area= large | maxDets=100 ] = 0.000\n",
            " Average Recall     (AR) @[ IoU=0.50:0.95 | area=   all | maxDets=  1 ] = 0.000\n",
            " Average Recall     (AR) @[ IoU=0.50:0.95 | area=   all | maxDets= 10 ] = 0.000\n",
            " Average Recall     (AR) @[ IoU=0.50:0.95 | area=   all | maxDets=100 ] = 0.000\n",
            " Average Recall     (AR) @[ IoU=0.50:0.95 | area= small | maxDets=100 ] = 0.000\n",
            " Average Recall     (AR) @[ IoU=0.50:0.95 | area=medium | maxDets=100 ] = 0.000\n",
            " Average Recall     (AR) @[ IoU=0.50:0.95 | area= large | maxDets=100 ] = 0.000\n",
            "Cycle:[0] Epoch: [1]  [  0/239]  eta: 0:04:47  task_lr: 0.000300  task_loss: 0.1501 (0.1501)  time: 1.2044  data: 0.2961  max mem: 4965\n",
            "Cycle:[0] Epoch: [1]  [100/239]  eta: 0:02:08  task_lr: 0.000300  task_loss: 0.1489 (0.1505)  time: 0.9182  data: 0.0151  max mem: 4965\n",
            "Cycle:[0] Epoch: [1]  [200/239]  eta: 0:00:35  task_lr: 0.000300  task_loss: 0.1251 (0.1463)  time: 0.9202  data: 0.0155  max mem: 4965\n",
            "Cycle:[0] Epoch: [1]  [238/239]  eta: 0:00:00  task_lr: 0.000300  task_loss: 0.1431 (0.1458)  time: 0.9170  data: 0.0141  max mem: 4965\n",
            "Cycle:[0] Epoch: [1] Total time: 0:03:39 (0.9198 s / it)\n",
            "creating index...\n",
            "index created!\n",
            "Test:  [  0/239]  eta: 0:00:55  model_time: 0.0940 (0.0940)  evaluator_time: 0.0052 (0.0052)  time: 0.2308  data: 0.1295  max mem: 4965\n",
            "Test:  [100/239]  eta: 0:00:13  model_time: 0.0836 (0.0837)  evaluator_time: 0.0042 (0.0041)  time: 0.0943  data: 0.0042  max mem: 4965\n",
            "Test:  [200/239]  eta: 0:00:03  model_time: 0.0824 (0.0833)  evaluator_time: 0.0040 (0.0041)  time: 0.0935  data: 0.0040  max mem: 4965\n"
          ],
          "name": "stdout"
        },
        {
          "output_type": "stream",
          "text": [
            "[2021-08-05 20:08:23,962][<ipython-input-26-eec21089c3ff>][line:40][INFO] Saving best checkpoints for mAP 0.055788\n"
          ],
          "name": "stderr"
        },
        {
          "output_type": "stream",
          "text": [
            "Test:  [238/239]  eta: 0:00:00  model_time: 0.0826 (0.0832)  evaluator_time: 0.0033 (0.0040)  time: 0.0922  data: 0.0039  max mem: 4965\n",
            "Test: Total time: 0:00:22 (0.0941 s / it)\n",
            "Averaged stats: model_time: 0.0826 (0.0832)  evaluator_time: 0.0033 (0.0040)\n",
            "Accumulating evaluation results...\n",
            "DONE (t=0.12s).\n",
            "IoU metric: bbox\n",
            " Average Precision  (AP) @[ IoU=0.50:0.95 | area=   all | maxDets=100 ] = 0.056\n",
            " Average Precision  (AP) @[ IoU=0.50      | area=   all | maxDets=100 ] = 0.181\n",
            " Average Precision  (AP) @[ IoU=0.75      | area=   all | maxDets=100 ] = 0.020\n",
            " Average Precision  (AP) @[ IoU=0.50:0.95 | area= small | maxDets=100 ] = 0.064\n",
            " Average Precision  (AP) @[ IoU=0.50:0.95 | area=medium | maxDets=100 ] = 0.041\n",
            " Average Precision  (AP) @[ IoU=0.50:0.95 | area= large | maxDets=100 ] = 0.000\n",
            " Average Recall     (AR) @[ IoU=0.50:0.95 | area=   all | maxDets=  1 ] = 0.115\n",
            " Average Recall     (AR) @[ IoU=0.50:0.95 | area=   all | maxDets= 10 ] = 0.188\n",
            " Average Recall     (AR) @[ IoU=0.50:0.95 | area=   all | maxDets=100 ] = 0.233\n",
            " Average Recall     (AR) @[ IoU=0.50:0.95 | area= small | maxDets=100 ] = 0.230\n",
            " Average Recall     (AR) @[ IoU=0.50:0.95 | area=medium | maxDets=100 ] = 0.254\n",
            " Average Recall     (AR) @[ IoU=0.50:0.95 | area= large | maxDets=100 ] = 0.000\n",
            "Cycle:[0] Epoch: [2]  [  0/239]  eta: 0:04:57  task_lr: 0.000299  task_loss: 0.1586 (0.1586)  time: 1.2434  data: 0.3221  max mem: 4965\n",
            "Cycle:[0] Epoch: [2]  [100/239]  eta: 0:02:08  task_lr: 0.000299  task_loss: 0.1403 (0.1413)  time: 0.9196  data: 0.0157  max mem: 4965\n",
            "Cycle:[0] Epoch: [2]  [200/239]  eta: 0:00:35  task_lr: 0.000299  task_loss: 0.1339 (0.1448)  time: 0.9181  data: 0.0149  max mem: 4965\n",
            "Cycle:[0] Epoch: [2]  [238/239]  eta: 0:00:00  task_lr: 0.000299  task_loss: 0.1433 (0.1440)  time: 0.9174  data: 0.0143  max mem: 4965\n",
            "Cycle:[0] Epoch: [2] Total time: 0:03:39 (0.9203 s / it)\n",
            "creating index...\n",
            "index created!\n",
            "Test:  [  0/239]  eta: 0:00:54  model_time: 0.0949 (0.0949)  evaluator_time: 0.0039 (0.0039)  time: 0.2277  data: 0.1269  max mem: 4965\n",
            "Test:  [100/239]  eta: 0:00:12  model_time: 0.0830 (0.0833)  evaluator_time: 0.0024 (0.0023)  time: 0.0910  data: 0.0041  max mem: 4965\n",
            "Test:  [200/239]  eta: 0:00:03  model_time: 0.0828 (0.0832)  evaluator_time: 0.0022 (0.0023)  time: 0.0924  data: 0.0048  max mem: 4965\n"
          ],
          "name": "stdout"
        },
        {
          "output_type": "stream",
          "text": [
            "[2021-08-05 20:13:01,358][<ipython-input-26-eec21089c3ff>][line:40][INFO] Saving best checkpoints for mAP 0.129824\n"
          ],
          "name": "stderr"
        },
        {
          "output_type": "stream",
          "text": [
            "Test:  [238/239]  eta: 0:00:00  model_time: 0.0831 (0.0833)  evaluator_time: 0.0020 (0.0023)  time: 0.0917  data: 0.0042  max mem: 4965\n",
            "Test: Total time: 0:00:21 (0.0920 s / it)\n",
            "Averaged stats: model_time: 0.0831 (0.0833)  evaluator_time: 0.0020 (0.0023)\n",
            "Accumulating evaluation results...\n",
            "DONE (t=0.06s).\n",
            "IoU metric: bbox\n",
            " Average Precision  (AP) @[ IoU=0.50:0.95 | area=   all | maxDets=100 ] = 0.130\n",
            " Average Precision  (AP) @[ IoU=0.50      | area=   all | maxDets=100 ] = 0.280\n",
            " Average Precision  (AP) @[ IoU=0.75      | area=   all | maxDets=100 ] = 0.082\n",
            " Average Precision  (AP) @[ IoU=0.50:0.95 | area= small | maxDets=100 ] = 0.133\n",
            " Average Precision  (AP) @[ IoU=0.50:0.95 | area=medium | maxDets=100 ] = 0.142\n",
            " Average Precision  (AP) @[ IoU=0.50:0.95 | area= large | maxDets=100 ] = 0.000\n",
            " Average Recall     (AR) @[ IoU=0.50:0.95 | area=   all | maxDets=  1 ] = 0.191\n",
            " Average Recall     (AR) @[ IoU=0.50:0.95 | area=   all | maxDets= 10 ] = 0.282\n",
            " Average Recall     (AR) @[ IoU=0.50:0.95 | area=   all | maxDets=100 ] = 0.289\n",
            " Average Recall     (AR) @[ IoU=0.50:0.95 | area= small | maxDets=100 ] = 0.292\n",
            " Average Recall     (AR) @[ IoU=0.50:0.95 | area=medium | maxDets=100 ] = 0.295\n",
            " Average Recall     (AR) @[ IoU=0.50:0.95 | area= large | maxDets=100 ] = 0.000\n",
            "Cycle:[0] Epoch: [3]  [  0/239]  eta: 0:04:57  task_lr: 0.000298  task_loss: 0.1105 (0.1105)  time: 1.2453  data: 0.3006  max mem: 4965\n",
            "Cycle:[0] Epoch: [3]  [100/239]  eta: 0:02:08  task_lr: 0.000298  task_loss: 0.1521 (0.1400)  time: 0.9181  data: 0.0144  max mem: 4965\n",
            "Cycle:[0] Epoch: [3]  [200/239]  eta: 0:00:35  task_lr: 0.000298  task_loss: 0.1419 (0.1430)  time: 0.9177  data: 0.0150  max mem: 4965\n",
            "Cycle:[0] Epoch: [3]  [238/239]  eta: 0:00:00  task_lr: 0.000298  task_loss: 0.1477 (0.1453)  time: 0.9171  data: 0.0146  max mem: 4965\n",
            "Cycle:[0] Epoch: [3] Total time: 0:03:39 (0.9200 s / it)\n",
            "creating index...\n",
            "index created!\n",
            "Test:  [  0/239]  eta: 0:00:54  model_time: 0.0947 (0.0947)  evaluator_time: 0.0042 (0.0042)  time: 0.2266  data: 0.1249  max mem: 4965\n",
            "Test:  [100/239]  eta: 0:00:12  model_time: 0.0833 (0.0836)  evaluator_time: 0.0027 (0.0027)  time: 0.0918  data: 0.0040  max mem: 4965\n",
            "Test:  [200/239]  eta: 0:00:03  model_time: 0.0826 (0.0833)  evaluator_time: 0.0025 (0.0026)  time: 0.0916  data: 0.0040  max mem: 4965\n"
          ],
          "name": "stdout"
        },
        {
          "output_type": "stream",
          "text": [
            "[2021-08-05 20:17:40,383][<ipython-input-26-eec21089c3ff>][line:44][INFO] No improvement observed.\n"
          ],
          "name": "stderr"
        },
        {
          "output_type": "stream",
          "text": [
            "Test:  [238/239]  eta: 0:00:00  model_time: 0.0826 (0.0832)  evaluator_time: 0.0023 (0.0026)  time: 0.0912  data: 0.0040  max mem: 4965\n",
            "Test: Total time: 0:00:22 (0.0923 s / it)\n",
            "Averaged stats: model_time: 0.0826 (0.0832)  evaluator_time: 0.0023 (0.0026)\n",
            "Accumulating evaluation results...\n",
            "DONE (t=0.08s).\n",
            "IoU metric: bbox\n",
            " Average Precision  (AP) @[ IoU=0.50:0.95 | area=   all | maxDets=100 ] = 0.111\n",
            " Average Precision  (AP) @[ IoU=0.50      | area=   all | maxDets=100 ] = 0.290\n",
            " Average Precision  (AP) @[ IoU=0.75      | area=   all | maxDets=100 ] = 0.057\n",
            " Average Precision  (AP) @[ IoU=0.50:0.95 | area= small | maxDets=100 ] = 0.116\n",
            " Average Precision  (AP) @[ IoU=0.50:0.95 | area=medium | maxDets=100 ] = 0.119\n",
            " Average Precision  (AP) @[ IoU=0.50:0.95 | area= large | maxDets=100 ] = 0.000\n",
            " Average Recall     (AR) @[ IoU=0.50:0.95 | area=   all | maxDets=  1 ] = 0.179\n",
            " Average Recall     (AR) @[ IoU=0.50:0.95 | area=   all | maxDets= 10 ] = 0.264\n",
            " Average Recall     (AR) @[ IoU=0.50:0.95 | area=   all | maxDets=100 ] = 0.287\n",
            " Average Recall     (AR) @[ IoU=0.50:0.95 | area= small | maxDets=100 ] = 0.289\n",
            " Average Recall     (AR) @[ IoU=0.50:0.95 | area=medium | maxDets=100 ] = 0.295\n",
            " Average Recall     (AR) @[ IoU=0.50:0.95 | area= large | maxDets=100 ] = 0.000\n",
            "Cycle:[0] Epoch: [4]  [  0/239]  eta: 0:04:52  task_lr: 0.000297  task_loss: 0.1090 (0.1090)  time: 1.2218  data: 0.2988  max mem: 4965\n",
            "Cycle:[0] Epoch: [4]  [100/239]  eta: 0:02:08  task_lr: 0.000297  task_loss: 0.1369 (0.1472)  time: 0.9244  data: 0.0162  max mem: 4965\n",
            "Cycle:[0] Epoch: [4]  [200/239]  eta: 0:00:36  task_lr: 0.000297  task_loss: 0.1451 (0.1486)  time: 0.9253  data: 0.0162  max mem: 4965\n",
            "Cycle:[0] Epoch: [4]  [238/239]  eta: 0:00:00  task_lr: 0.000297  task_loss: 0.1422 (0.1501)  time: 0.9222  data: 0.0151  max mem: 4965\n",
            "Cycle:[0] Epoch: [4] Total time: 0:03:40 (0.9242 s / it)\n",
            "creating index...\n",
            "index created!\n",
            "Test:  [  0/239]  eta: 0:00:54  model_time: 0.1014 (0.1014)  evaluator_time: 0.0043 (0.0043)  time: 0.2272  data: 0.1191  max mem: 4965\n",
            "Test:  [100/239]  eta: 0:00:13  model_time: 0.0836 (0.0840)  evaluator_time: 0.0027 (0.0027)  time: 0.0924  data: 0.0044  max mem: 4965\n",
            "Test:  [200/239]  eta: 0:00:03  model_time: 0.0836 (0.0839)  evaluator_time: 0.0028 (0.0027)  time: 0.0924  data: 0.0041  max mem: 4965\n"
          ],
          "name": "stdout"
        },
        {
          "output_type": "stream",
          "text": [
            "[2021-08-05 20:22:21,734][<ipython-input-26-eec21089c3ff>][line:40][INFO] Saving best checkpoints for mAP 0.136091\n"
          ],
          "name": "stderr"
        },
        {
          "output_type": "stream",
          "text": [
            "Test:  [238/239]  eta: 0:00:00  model_time: 0.0835 (0.0838)  evaluator_time: 0.0025 (0.0027)  time: 0.0917  data: 0.0041  max mem: 4965\n",
            "Test: Total time: 0:00:22 (0.0930 s / it)\n",
            "Averaged stats: model_time: 0.0835 (0.0838)  evaluator_time: 0.0025 (0.0027)\n",
            "Accumulating evaluation results...\n",
            "DONE (t=0.08s).\n",
            "IoU metric: bbox\n",
            " Average Precision  (AP) @[ IoU=0.50:0.95 | area=   all | maxDets=100 ] = 0.136\n",
            " Average Precision  (AP) @[ IoU=0.50      | area=   all | maxDets=100 ] = 0.369\n",
            " Average Precision  (AP) @[ IoU=0.75      | area=   all | maxDets=100 ] = 0.054\n",
            " Average Precision  (AP) @[ IoU=0.50:0.95 | area= small | maxDets=100 ] = 0.136\n",
            " Average Precision  (AP) @[ IoU=0.50:0.95 | area=medium | maxDets=100 ] = 0.155\n",
            " Average Precision  (AP) @[ IoU=0.50:0.95 | area= large | maxDets=100 ] = 0.000\n",
            " Average Recall     (AR) @[ IoU=0.50:0.95 | area=   all | maxDets=  1 ] = 0.202\n",
            " Average Recall     (AR) @[ IoU=0.50:0.95 | area=   all | maxDets= 10 ] = 0.296\n",
            " Average Recall     (AR) @[ IoU=0.50:0.95 | area=   all | maxDets=100 ] = 0.326\n",
            " Average Recall     (AR) @[ IoU=0.50:0.95 | area= small | maxDets=100 ] = 0.338\n",
            " Average Recall     (AR) @[ IoU=0.50:0.95 | area=medium | maxDets=100 ] = 0.310\n",
            " Average Recall     (AR) @[ IoU=0.50:0.95 | area= large | maxDets=100 ] = 0.000\n",
            "Cycle:[0] Epoch: [5]  [  0/239]  eta: 0:05:00  task_lr: 0.000295  task_loss: 0.1239 (0.1239)  time: 1.2569  data: 0.3368  max mem: 4965\n",
            "Cycle:[0] Epoch: [5]  [100/239]  eta: 0:02:08  task_lr: 0.000295  task_loss: 0.1755 (0.1531)  time: 0.9241  data: 0.0159  max mem: 4965\n",
            "Cycle:[0] Epoch: [5]  [200/239]  eta: 0:00:36  task_lr: 0.000295  task_loss: 0.1366 (0.1516)  time: 0.9238  data: 0.0162  max mem: 4965\n",
            "Cycle:[0] Epoch: [5]  [238/239]  eta: 0:00:00  task_lr: 0.000295  task_loss: 0.1402 (0.1523)  time: 0.9214  data: 0.0153  max mem: 4965\n",
            "Cycle:[0] Epoch: [5] Total time: 0:03:40 (0.9245 s / it)\n",
            "creating index...\n",
            "index created!\n",
            "Test:  [  0/239]  eta: 0:00:55  model_time: 0.0943 (0.0943)  evaluator_time: 0.0042 (0.0042)  time: 0.2334  data: 0.1328  max mem: 4965\n",
            "Test:  [100/239]  eta: 0:00:12  model_time: 0.0835 (0.0839)  evaluator_time: 0.0022 (0.0022)  time: 0.0919  data: 0.0044  max mem: 4965\n",
            "Test:  [200/239]  eta: 0:00:03  model_time: 0.0831 (0.0837)  evaluator_time: 0.0020 (0.0022)  time: 0.0907  data: 0.0039  max mem: 4965\n"
          ],
          "name": "stdout"
        },
        {
          "output_type": "stream",
          "text": [
            "[2021-08-05 20:27:02,375][<ipython-input-26-eec21089c3ff>][line:40][INFO] Saving best checkpoints for mAP 0.166587\n"
          ],
          "name": "stderr"
        },
        {
          "output_type": "stream",
          "text": [
            "Test:  [238/239]  eta: 0:00:00  model_time: 0.0832 (0.0836)  evaluator_time: 0.0020 (0.0022)  time: 0.0909  data: 0.0040  max mem: 4965\n",
            "Test: Total time: 0:00:22 (0.0924 s / it)\n",
            "Averaged stats: model_time: 0.0832 (0.0836)  evaluator_time: 0.0020 (0.0022)\n",
            "Accumulating evaluation results...\n",
            "DONE (t=0.05s).\n",
            "IoU metric: bbox\n",
            " Average Precision  (AP) @[ IoU=0.50:0.95 | area=   all | maxDets=100 ] = 0.167\n",
            " Average Precision  (AP) @[ IoU=0.50      | area=   all | maxDets=100 ] = 0.323\n",
            " Average Precision  (AP) @[ IoU=0.75      | area=   all | maxDets=100 ] = 0.145\n",
            " Average Precision  (AP) @[ IoU=0.50:0.95 | area= small | maxDets=100 ] = 0.169\n",
            " Average Precision  (AP) @[ IoU=0.50:0.95 | area=medium | maxDets=100 ] = 0.188\n",
            " Average Precision  (AP) @[ IoU=0.50:0.95 | area= large | maxDets=100 ] = 0.000\n",
            " Average Recall     (AR) @[ IoU=0.50:0.95 | area=   all | maxDets=  1 ] = 0.236\n",
            " Average Recall     (AR) @[ IoU=0.50:0.95 | area=   all | maxDets= 10 ] = 0.338\n",
            " Average Recall     (AR) @[ IoU=0.50:0.95 | area=   all | maxDets=100 ] = 0.341\n",
            " Average Recall     (AR) @[ IoU=0.50:0.95 | area= small | maxDets=100 ] = 0.362\n",
            " Average Recall     (AR) @[ IoU=0.50:0.95 | area=medium | maxDets=100 ] = 0.297\n",
            " Average Recall     (AR) @[ IoU=0.50:0.95 | area= large | maxDets=100 ] = 0.000\n",
            "Cycle:[0] Epoch: [6]  [  0/239]  eta: 0:05:05  task_lr: 0.000293  task_loss: 0.1060 (0.1060)  time: 1.2762  data: 0.3515  max mem: 4965\n",
            "Cycle:[0] Epoch: [6]  [100/239]  eta: 0:02:08  task_lr: 0.000293  task_loss: 0.1365 (0.1573)  time: 0.9220  data: 0.0151  max mem: 4966\n",
            "Cycle:[0] Epoch: [6]  [200/239]  eta: 0:00:36  task_lr: 0.000293  task_loss: 0.1455 (0.1595)  time: 0.9251  data: 0.0162  max mem: 4966\n",
            "Cycle:[0] Epoch: [6]  [238/239]  eta: 0:00:00  task_lr: 0.000293  task_loss: 0.1627 (0.1602)  time: 0.9215  data: 0.0151  max mem: 4966\n",
            "Cycle:[0] Epoch: [6] Total time: 0:03:41 (0.9248 s / it)\n",
            "creating index...\n",
            "index created!\n",
            "Test:  [  0/239]  eta: 0:00:55  model_time: 0.0978 (0.0978)  evaluator_time: 0.0041 (0.0041)  time: 0.2319  data: 0.1280  max mem: 4966\n",
            "Test:  [100/239]  eta: 0:00:12  model_time: 0.0835 (0.0837)  evaluator_time: 0.0023 (0.0024)  time: 0.0916  data: 0.0041  max mem: 4966\n",
            "Test:  [200/239]  eta: 0:00:03  model_time: 0.0833 (0.0836)  evaluator_time: 0.0025 (0.0024)  time: 0.0915  data: 0.0041  max mem: 4966\n"
          ],
          "name": "stdout"
        },
        {
          "output_type": "stream",
          "text": [
            "[2021-08-05 20:31:43,365][<ipython-input-26-eec21089c3ff>][line:40][INFO] Saving best checkpoints for mAP 0.210208\n"
          ],
          "name": "stderr"
        },
        {
          "output_type": "stream",
          "text": [
            "Test:  [238/239]  eta: 0:00:00  model_time: 0.0832 (0.0836)  evaluator_time: 0.0022 (0.0024)  time: 0.0913  data: 0.0043  max mem: 4966\n",
            "Test: Total time: 0:00:22 (0.0924 s / it)\n",
            "Averaged stats: model_time: 0.0832 (0.0836)  evaluator_time: 0.0022 (0.0024)\n",
            "Accumulating evaluation results...\n",
            "DONE (t=0.06s).\n",
            "IoU metric: bbox\n",
            " Average Precision  (AP) @[ IoU=0.50:0.95 | area=   all | maxDets=100 ] = 0.210\n",
            " Average Precision  (AP) @[ IoU=0.50      | area=   all | maxDets=100 ] = 0.368\n",
            " Average Precision  (AP) @[ IoU=0.75      | area=   all | maxDets=100 ] = 0.210\n",
            " Average Precision  (AP) @[ IoU=0.50:0.95 | area= small | maxDets=100 ] = 0.207\n",
            " Average Precision  (AP) @[ IoU=0.50:0.95 | area=medium | maxDets=100 ] = 0.246\n",
            " Average Precision  (AP) @[ IoU=0.50:0.95 | area= large | maxDets=100 ] = 0.000\n",
            " Average Recall     (AR) @[ IoU=0.50:0.95 | area=   all | maxDets=  1 ] = 0.296\n",
            " Average Recall     (AR) @[ IoU=0.50:0.95 | area=   all | maxDets= 10 ] = 0.408\n",
            " Average Recall     (AR) @[ IoU=0.50:0.95 | area=   all | maxDets=100 ] = 0.419\n",
            " Average Recall     (AR) @[ IoU=0.50:0.95 | area= small | maxDets=100 ] = 0.433\n",
            " Average Recall     (AR) @[ IoU=0.50:0.95 | area=medium | maxDets=100 ] = 0.397\n",
            " Average Recall     (AR) @[ IoU=0.50:0.95 | area= large | maxDets=100 ] = 0.000\n",
            "Cycle:[0] Epoch: [7]  [  0/239]  eta: 0:05:00  task_lr: 0.000290  task_loss: 0.2046 (0.2046)  time: 1.2569  data: 0.3390  max mem: 4966\n",
            "Cycle:[0] Epoch: [7]  [100/239]  eta: 0:02:08  task_lr: 0.000290  task_loss: 0.1453 (0.1567)  time: 0.9226  data: 0.0159  max mem: 4966\n",
            "Cycle:[0] Epoch: [7]  [200/239]  eta: 0:00:36  task_lr: 0.000290  task_loss: 0.1409 (0.1567)  time: 0.9207  data: 0.0152  max mem: 4966\n",
            "Cycle:[0] Epoch: [7]  [238/239]  eta: 0:00:00  task_lr: 0.000290  task_loss: 0.1335 (0.1556)  time: 0.9197  data: 0.0148  max mem: 4966\n",
            "Cycle:[0] Epoch: [7] Total time: 0:03:40 (0.9235 s / it)\n",
            "creating index...\n",
            "index created!\n",
            "Test:  [  0/239]  eta: 0:00:55  model_time: 0.1010 (0.1010)  evaluator_time: 0.0043 (0.0043)  time: 0.2330  data: 0.1256  max mem: 4966\n",
            "Test:  [100/239]  eta: 0:00:12  model_time: 0.0833 (0.0838)  evaluator_time: 0.0026 (0.0027)  time: 0.0916  data: 0.0040  max mem: 4966\n",
            "Test:  [200/239]  eta: 0:00:03  model_time: 0.0827 (0.0836)  evaluator_time: 0.0024 (0.0027)  time: 0.0911  data: 0.0041  max mem: 4966\n"
          ],
          "name": "stdout"
        },
        {
          "output_type": "stream",
          "text": [
            "[2021-08-05 20:36:22,743][<ipython-input-26-eec21089c3ff>][line:44][INFO] No improvement observed.\n"
          ],
          "name": "stderr"
        },
        {
          "output_type": "stream",
          "text": [
            "Test:  [238/239]  eta: 0:00:00  model_time: 0.0831 (0.0835)  evaluator_time: 0.0023 (0.0027)  time: 0.0912  data: 0.0040  max mem: 4966\n",
            "Test: Total time: 0:00:22 (0.0925 s / it)\n",
            "Averaged stats: model_time: 0.0831 (0.0835)  evaluator_time: 0.0023 (0.0027)\n",
            "Accumulating evaluation results...\n",
            "DONE (t=0.08s).\n",
            "IoU metric: bbox\n",
            " Average Precision  (AP) @[ IoU=0.50:0.95 | area=   all | maxDets=100 ] = 0.171\n",
            " Average Precision  (AP) @[ IoU=0.50      | area=   all | maxDets=100 ] = 0.362\n",
            " Average Precision  (AP) @[ IoU=0.75      | area=   all | maxDets=100 ] = 0.116\n",
            " Average Precision  (AP) @[ IoU=0.50:0.95 | area= small | maxDets=100 ] = 0.178\n",
            " Average Precision  (AP) @[ IoU=0.50:0.95 | area=medium | maxDets=100 ] = 0.182\n",
            " Average Precision  (AP) @[ IoU=0.50:0.95 | area= large | maxDets=100 ] = 0.000\n",
            " Average Recall     (AR) @[ IoU=0.50:0.95 | area=   all | maxDets=  1 ] = 0.248\n",
            " Average Recall     (AR) @[ IoU=0.50:0.95 | area=   all | maxDets= 10 ] = 0.352\n",
            " Average Recall     (AR) @[ IoU=0.50:0.95 | area=   all | maxDets=100 ] = 0.383\n",
            " Average Recall     (AR) @[ IoU=0.50:0.95 | area= small | maxDets=100 ] = 0.385\n",
            " Average Recall     (AR) @[ IoU=0.50:0.95 | area=medium | maxDets=100 ] = 0.395\n",
            " Average Recall     (AR) @[ IoU=0.50:0.95 | area= large | maxDets=100 ] = 0.000\n",
            "Cycle:[0] Epoch: [8]  [  0/239]  eta: 0:04:47  task_lr: 0.000287  task_loss: 0.1833 (0.1833)  time: 1.2022  data: 0.2814  max mem: 4966\n",
            "Cycle:[0] Epoch: [8]  [100/239]  eta: 0:02:08  task_lr: 0.000287  task_loss: 0.1468 (0.1577)  time: 0.9240  data: 0.0168  max mem: 4966\n",
            "Cycle:[0] Epoch: [8]  [200/239]  eta: 0:00:35  task_lr: 0.000287  task_loss: 0.1636 (0.1592)  time: 0.9199  data: 0.0154  max mem: 4966\n",
            "Cycle:[0] Epoch: [8]  [238/239]  eta: 0:00:00  task_lr: 0.000287  task_loss: 0.1541 (0.1607)  time: 0.9204  data: 0.0149  max mem: 4966\n",
            "Cycle:[0] Epoch: [8] Total time: 0:03:40 (0.9220 s / it)\n",
            "creating index...\n",
            "index created!\n",
            "Test:  [  0/239]  eta: 0:00:56  model_time: 0.0939 (0.0939)  evaluator_time: 0.0049 (0.0049)  time: 0.2373  data: 0.1351  max mem: 4966\n",
            "Test:  [100/239]  eta: 0:00:12  model_time: 0.0832 (0.0832)  evaluator_time: 0.0031 (0.0030)  time: 0.0920  data: 0.0040  max mem: 4966\n",
            "Test:  [200/239]  eta: 0:00:03  model_time: 0.0834 (0.0834)  evaluator_time: 0.0032 (0.0031)  time: 0.0923  data: 0.0042  max mem: 4966\n"
          ],
          "name": "stdout"
        },
        {
          "output_type": "stream",
          "text": [
            "[2021-08-05 20:41:00,988][<ipython-input-26-eec21089c3ff>][line:44][INFO] No improvement observed.\n"
          ],
          "name": "stderr"
        },
        {
          "output_type": "stream",
          "text": [
            "Test:  [238/239]  eta: 0:00:00  model_time: 0.0832 (0.0834)  evaluator_time: 0.0029 (0.0030)  time: 0.0918  data: 0.0040  max mem: 4966\n",
            "Test: Total time: 0:00:22 (0.0928 s / it)\n",
            "Averaged stats: model_time: 0.0832 (0.0834)  evaluator_time: 0.0029 (0.0030)\n",
            "Accumulating evaluation results...\n",
            "DONE (t=0.09s).\n",
            "IoU metric: bbox\n",
            " Average Precision  (AP) @[ IoU=0.50:0.95 | area=   all | maxDets=100 ] = 0.181\n",
            " Average Precision  (AP) @[ IoU=0.50      | area=   all | maxDets=100 ] = 0.356\n",
            " Average Precision  (AP) @[ IoU=0.75      | area=   all | maxDets=100 ] = 0.171\n",
            " Average Precision  (AP) @[ IoU=0.50:0.95 | area= small | maxDets=100 ] = 0.192\n",
            " Average Precision  (AP) @[ IoU=0.50:0.95 | area=medium | maxDets=100 ] = 0.178\n",
            " Average Precision  (AP) @[ IoU=0.50:0.95 | area= large | maxDets=100 ] = 0.000\n",
            " Average Recall     (AR) @[ IoU=0.50:0.95 | area=   all | maxDets=  1 ] = 0.251\n",
            " Average Recall     (AR) @[ IoU=0.50:0.95 | area=   all | maxDets= 10 ] = 0.387\n",
            " Average Recall     (AR) @[ IoU=0.50:0.95 | area=   all | maxDets=100 ] = 0.436\n",
            " Average Recall     (AR) @[ IoU=0.50:0.95 | area= small | maxDets=100 ] = 0.449\n",
            " Average Recall     (AR) @[ IoU=0.50:0.95 | area=medium | maxDets=100 ] = 0.416\n",
            " Average Recall     (AR) @[ IoU=0.50:0.95 | area= large | maxDets=100 ] = 0.000\n",
            "Cycle:[0] Epoch: [9]  [  0/239]  eta: 0:04:57  task_lr: 0.000284  task_loss: 0.1294 (0.1294)  time: 1.2450  data: 0.3218  max mem: 4966\n",
            "Cycle:[0] Epoch: [9]  [100/239]  eta: 0:02:08  task_lr: 0.000284  task_loss: 0.1624 (0.1624)  time: 0.9217  data: 0.0147  max mem: 4966\n",
            "Cycle:[0] Epoch: [9]  [200/239]  eta: 0:00:36  task_lr: 0.000284  task_loss: 0.1636 (0.1644)  time: 0.9256  data: 0.0171  max mem: 4966\n",
            "Cycle:[0] Epoch: [9]  [238/239]  eta: 0:00:00  task_lr: 0.000284  task_loss: 0.1647 (0.1645)  time: 0.9198  data: 0.0149  max mem: 4966\n",
            "Cycle:[0] Epoch: [9] Total time: 0:03:40 (0.9238 s / it)\n",
            "creating index...\n",
            "index created!\n",
            "Test:  [  0/239]  eta: 0:00:48  model_time: 0.0952 (0.0952)  evaluator_time: 0.0036 (0.0036)  time: 0.2049  data: 0.1038  max mem: 4966\n",
            "Test:  [100/239]  eta: 0:00:12  model_time: 0.0832 (0.0836)  evaluator_time: 0.0020 (0.0019)  time: 0.0914  data: 0.0040  max mem: 4966\n",
            "Test:  [200/239]  eta: 0:00:03  model_time: 0.0829 (0.0835)  evaluator_time: 0.0018 (0.0019)  time: 0.0906  data: 0.0041  max mem: 4966\n"
          ],
          "name": "stdout"
        },
        {
          "output_type": "stream",
          "text": [
            "[2021-08-05 20:45:40,512][<ipython-input-26-eec21089c3ff>][line:44][INFO] No improvement observed.\n"
          ],
          "name": "stderr"
        },
        {
          "output_type": "stream",
          "text": [
            "Test:  [238/239]  eta: 0:00:00  model_time: 0.0829 (0.0834)  evaluator_time: 0.0018 (0.0019)  time: 0.0905  data: 0.0040  max mem: 4966\n",
            "Test: Total time: 0:00:21 (0.0915 s / it)\n",
            "Averaged stats: model_time: 0.0829 (0.0834)  evaluator_time: 0.0018 (0.0019)\n",
            "Accumulating evaluation results...\n",
            "DONE (t=0.04s).\n",
            "IoU metric: bbox\n",
            " Average Precision  (AP) @[ IoU=0.50:0.95 | area=   all | maxDets=100 ] = 0.192\n",
            " Average Precision  (AP) @[ IoU=0.50      | area=   all | maxDets=100 ] = 0.375\n",
            " Average Precision  (AP) @[ IoU=0.75      | area=   all | maxDets=100 ] = 0.179\n",
            " Average Precision  (AP) @[ IoU=0.50:0.95 | area= small | maxDets=100 ] = 0.197\n",
            " Average Precision  (AP) @[ IoU=0.50:0.95 | area=medium | maxDets=100 ] = 0.213\n",
            " Average Precision  (AP) @[ IoU=0.50:0.95 | area= large | maxDets=100 ] = 0.000\n",
            " Average Recall     (AR) @[ IoU=0.50:0.95 | area=   all | maxDets=  1 ] = 0.273\n",
            " Average Recall     (AR) @[ IoU=0.50:0.95 | area=   all | maxDets= 10 ] = 0.381\n",
            " Average Recall     (AR) @[ IoU=0.50:0.95 | area=   all | maxDets=100 ] = 0.383\n",
            " Average Recall     (AR) @[ IoU=0.50:0.95 | area= small | maxDets=100 ] = 0.385\n",
            " Average Recall     (AR) @[ IoU=0.50:0.95 | area=medium | maxDets=100 ] = 0.397\n",
            " Average Recall     (AR) @[ IoU=0.50:0.95 | area= large | maxDets=100 ] = 0.000\n",
            "Cycle:[0] Epoch: [10]  [  0/239]  eta: 0:04:42  task_lr: 0.000280  task_loss: 0.1552 (0.1552)  time: 1.1835  data: 0.2652  max mem: 4966\n",
            "Cycle:[0] Epoch: [10]  [100/239]  eta: 0:02:08  task_lr: 0.000280  task_loss: 0.1415 (0.1618)  time: 0.9234  data: 0.0159  max mem: 4967\n",
            "Cycle:[0] Epoch: [10]  [200/239]  eta: 0:00:36  task_lr: 0.000280  task_loss: 0.1803 (0.1586)  time: 0.9229  data: 0.0151  max mem: 4967\n",
            "Cycle:[0] Epoch: [10]  [238/239]  eta: 0:00:00  task_lr: 0.000280  task_loss: 0.1690 (0.1606)  time: 0.9200  data: 0.0140  max mem: 4967\n",
            "Cycle:[0] Epoch: [10] Total time: 0:03:40 (0.9231 s / it)\n",
            "creating index...\n",
            "index created!\n",
            "Test:  [  0/239]  eta: 0:00:50  model_time: 0.0946 (0.0946)  evaluator_time: 0.0042 (0.0042)  time: 0.2127  data: 0.1117  max mem: 4967\n",
            "Test:  [100/239]  eta: 0:00:12  model_time: 0.0829 (0.0834)  evaluator_time: 0.0021 (0.0022)  time: 0.0909  data: 0.0041  max mem: 4967\n",
            "Test:  [200/239]  eta: 0:00:03  model_time: 0.0829 (0.0833)  evaluator_time: 0.0020 (0.0022)  time: 0.0908  data: 0.0040  max mem: 4967\n"
          ],
          "name": "stdout"
        },
        {
          "output_type": "stream",
          "text": [
            "[2021-08-05 20:50:19,418][<ipython-input-26-eec21089c3ff>][line:40][INFO] Saving best checkpoints for mAP 0.218400\n"
          ],
          "name": "stderr"
        },
        {
          "output_type": "stream",
          "text": [
            "Test:  [238/239]  eta: 0:00:00  model_time: 0.0829 (0.0833)  evaluator_time: 0.0021 (0.0022)  time: 0.0905  data: 0.0039  max mem: 4967\n",
            "Test: Total time: 0:00:21 (0.0917 s / it)\n",
            "Averaged stats: model_time: 0.0829 (0.0833)  evaluator_time: 0.0021 (0.0022)\n",
            "Accumulating evaluation results...\n",
            "DONE (t=0.05s).\n",
            "IoU metric: bbox\n",
            " Average Precision  (AP) @[ IoU=0.50:0.95 | area=   all | maxDets=100 ] = 0.218\n",
            " Average Precision  (AP) @[ IoU=0.50      | area=   all | maxDets=100 ] = 0.400\n",
            " Average Precision  (AP) @[ IoU=0.75      | area=   all | maxDets=100 ] = 0.222\n",
            " Average Precision  (AP) @[ IoU=0.50:0.95 | area= small | maxDets=100 ] = 0.228\n",
            " Average Precision  (AP) @[ IoU=0.50:0.95 | area=medium | maxDets=100 ] = 0.233\n",
            " Average Precision  (AP) @[ IoU=0.50:0.95 | area= large | maxDets=100 ] = 0.000\n",
            " Average Recall     (AR) @[ IoU=0.50:0.95 | area=   all | maxDets=  1 ] = 0.300\n",
            " Average Recall     (AR) @[ IoU=0.50:0.95 | area=   all | maxDets= 10 ] = 0.381\n",
            " Average Recall     (AR) @[ IoU=0.50:0.95 | area=   all | maxDets=100 ] = 0.390\n",
            " Average Recall     (AR) @[ IoU=0.50:0.95 | area= small | maxDets=100 ] = 0.414\n",
            " Average Recall     (AR) @[ IoU=0.50:0.95 | area=medium | maxDets=100 ] = 0.341\n",
            " Average Recall     (AR) @[ IoU=0.50:0.95 | area= large | maxDets=100 ] = 0.000\n",
            "Cycle:[0] Epoch: [11]  [  0/239]  eta: 0:04:55  task_lr: 0.000276  task_loss: 0.1196 (0.1196)  time: 1.2345  data: 0.3159  max mem: 4967\n",
            "Cycle:[0] Epoch: [11]  [100/239]  eta: 0:02:08  task_lr: 0.000276  task_loss: 0.1428 (0.1512)  time: 0.9202  data: 0.0138  max mem: 4967\n",
            "Cycle:[0] Epoch: [11]  [200/239]  eta: 0:00:36  task_lr: 0.000276  task_loss: 0.1540 (0.1560)  time: 0.9200  data: 0.0150  max mem: 4967\n",
            "Cycle:[0] Epoch: [11]  [238/239]  eta: 0:00:00  task_lr: 0.000276  task_loss: 0.1655 (0.1567)  time: 0.9221  data: 0.0150  max mem: 4967\n",
            "Cycle:[0] Epoch: [11] Total time: 0:03:40 (0.9234 s / it)\n",
            "creating index...\n",
            "index created!\n",
            "Test:  [  0/239]  eta: 0:00:52  model_time: 0.0949 (0.0949)  evaluator_time: 0.0051 (0.0051)  time: 0.2176  data: 0.1156  max mem: 4967\n",
            "Test:  [100/239]  eta: 0:00:13  model_time: 0.0837 (0.0838)  evaluator_time: 0.0033 (0.0031)  time: 0.0927  data: 0.0043  max mem: 4967\n",
            "Test:  [200/239]  eta: 0:00:03  model_time: 0.0835 (0.0836)  evaluator_time: 0.0032 (0.0031)  time: 0.0924  data: 0.0042  max mem: 4967\n"
          ],
          "name": "stdout"
        },
        {
          "output_type": "stream",
          "text": [
            "[2021-08-05 20:54:58,538][<ipython-input-26-eec21089c3ff>][line:44][INFO] No improvement observed.\n"
          ],
          "name": "stderr"
        },
        {
          "output_type": "stream",
          "text": [
            "Test:  [238/239]  eta: 0:00:00  model_time: 0.0832 (0.0836)  evaluator_time: 0.0027 (0.0031)  time: 0.0919  data: 0.0040  max mem: 4967\n",
            "Test: Total time: 0:00:22 (0.0931 s / it)\n",
            "Averaged stats: model_time: 0.0832 (0.0836)  evaluator_time: 0.0027 (0.0031)\n",
            "Accumulating evaluation results...\n",
            "DONE (t=0.08s).\n",
            "IoU metric: bbox\n",
            " Average Precision  (AP) @[ IoU=0.50:0.95 | area=   all | maxDets=100 ] = 0.203\n",
            " Average Precision  (AP) @[ IoU=0.50      | area=   all | maxDets=100 ] = 0.388\n",
            " Average Precision  (AP) @[ IoU=0.75      | area=   all | maxDets=100 ] = 0.176\n",
            " Average Precision  (AP) @[ IoU=0.50:0.95 | area= small | maxDets=100 ] = 0.219\n",
            " Average Precision  (AP) @[ IoU=0.50:0.95 | area=medium | maxDets=100 ] = 0.185\n",
            " Average Precision  (AP) @[ IoU=0.50:0.95 | area= large | maxDets=100 ] = 0.000\n",
            " Average Recall     (AR) @[ IoU=0.50:0.95 | area=   all | maxDets=  1 ] = 0.280\n",
            " Average Recall     (AR) @[ IoU=0.50:0.95 | area=   all | maxDets= 10 ] = 0.409\n",
            " Average Recall     (AR) @[ IoU=0.50:0.95 | area=   all | maxDets=100 ] = 0.445\n",
            " Average Recall     (AR) @[ IoU=0.50:0.95 | area= small | maxDets=100 ] = 0.467\n",
            " Average Recall     (AR) @[ IoU=0.50:0.95 | area=medium | maxDets=100 ] = 0.400\n",
            " Average Recall     (AR) @[ IoU=0.50:0.95 | area= large | maxDets=100 ] = 0.000\n",
            "Cycle:[0] Epoch: [12]  [  0/239]  eta: 0:04:48  task_lr: 0.000271  task_loss: 0.1014 (0.1014)  time: 1.2083  data: 0.2827  max mem: 4967\n",
            "Cycle:[0] Epoch: [12]  [100/239]  eta: 0:02:08  task_lr: 0.000271  task_loss: 0.1558 (0.1647)  time: 0.9197  data: 0.0144  max mem: 4967\n",
            "Cycle:[0] Epoch: [12]  [200/239]  eta: 0:00:35  task_lr: 0.000271  task_loss: 0.1708 (0.1628)  time: 0.9220  data: 0.0155  max mem: 4967\n",
            "Cycle:[0] Epoch: [12]  [238/239]  eta: 0:00:00  task_lr: 0.000271  task_loss: 0.1878 (0.1650)  time: 0.9223  data: 0.0152  max mem: 4967\n",
            "Cycle:[0] Epoch: [12] Total time: 0:03:40 (0.9226 s / it)\n",
            "creating index...\n",
            "index created!\n",
            "Test:  [  0/239]  eta: 0:00:53  model_time: 0.0955 (0.0955)  evaluator_time: 0.0059 (0.0059)  time: 0.2228  data: 0.1193  max mem: 4967\n",
            "Test:  [100/239]  eta: 0:00:12  model_time: 0.0832 (0.0835)  evaluator_time: 0.0022 (0.0023)  time: 0.0934  data: 0.0044  max mem: 4967\n",
            "Test:  [200/239]  eta: 0:00:03  model_time: 0.0834 (0.0834)  evaluator_time: 0.0023 (0.0023)  time: 0.0940  data: 0.0048  max mem: 4967\n"
          ],
          "name": "stdout"
        },
        {
          "output_type": "stream",
          "text": [
            "[2021-08-05 20:59:37,608][<ipython-input-26-eec21089c3ff>][line:44][INFO] No improvement observed.\n"
          ],
          "name": "stderr"
        },
        {
          "output_type": "stream",
          "text": [
            "Test:  [238/239]  eta: 0:00:00  model_time: 0.0832 (0.0834)  evaluator_time: 0.0023 (0.0023)  time: 0.0929  data: 0.0045  max mem: 4967\n",
            "Test: Total time: 0:00:22 (0.0933 s / it)\n",
            "Averaged stats: model_time: 0.0832 (0.0834)  evaluator_time: 0.0023 (0.0023)\n",
            "Accumulating evaluation results...\n",
            "DONE (t=0.06s).\n",
            "IoU metric: bbox\n",
            " Average Precision  (AP) @[ IoU=0.50:0.95 | area=   all | maxDets=100 ] = 0.191\n",
            " Average Precision  (AP) @[ IoU=0.50      | area=   all | maxDets=100 ] = 0.363\n",
            " Average Precision  (AP) @[ IoU=0.75      | area=   all | maxDets=100 ] = 0.184\n",
            " Average Precision  (AP) @[ IoU=0.50:0.95 | area= small | maxDets=100 ] = 0.202\n",
            " Average Precision  (AP) @[ IoU=0.50:0.95 | area=medium | maxDets=100 ] = 0.198\n",
            " Average Precision  (AP) @[ IoU=0.50:0.95 | area= large | maxDets=100 ] = 0.000\n",
            " Average Recall     (AR) @[ IoU=0.50:0.95 | area=   all | maxDets=  1 ] = 0.285\n",
            " Average Recall     (AR) @[ IoU=0.50:0.95 | area=   all | maxDets= 10 ] = 0.423\n",
            " Average Recall     (AR) @[ IoU=0.50:0.95 | area=   all | maxDets=100 ] = 0.431\n",
            " Average Recall     (AR) @[ IoU=0.50:0.95 | area= small | maxDets=100 ] = 0.448\n",
            " Average Recall     (AR) @[ IoU=0.50:0.95 | area=medium | maxDets=100 ] = 0.403\n",
            " Average Recall     (AR) @[ IoU=0.50:0.95 | area= large | maxDets=100 ] = 0.000\n",
            "Cycle:[0] Epoch: [13]  [  0/239]  eta: 0:05:01  task_lr: 0.000267  task_loss: 0.1577 (0.1577)  time: 1.2636  data: 0.3419  max mem: 4967\n",
            "Cycle:[0] Epoch: [13]  [100/239]  eta: 0:02:08  task_lr: 0.000267  task_loss: 0.1469 (0.1504)  time: 0.9202  data: 0.0152  max mem: 4967\n",
            "Cycle:[0] Epoch: [13]  [200/239]  eta: 0:00:35  task_lr: 0.000267  task_loss: 0.1384 (0.1556)  time: 0.9196  data: 0.0153  max mem: 4967\n",
            "Cycle:[0] Epoch: [13]  [238/239]  eta: 0:00:00  task_lr: 0.000267  task_loss: 0.1436 (0.1555)  time: 0.9204  data: 0.0152  max mem: 4967\n",
            "Cycle:[0] Epoch: [13] Total time: 0:03:40 (0.9217 s / it)\n",
            "creating index...\n",
            "index created!\n",
            "Test:  [  0/239]  eta: 0:00:54  model_time: 0.0948 (0.0948)  evaluator_time: 0.0042 (0.0042)  time: 0.2270  data: 0.1257  max mem: 4967\n",
            "Test:  [100/239]  eta: 0:00:12  model_time: 0.0828 (0.0834)  evaluator_time: 0.0019 (0.0021)  time: 0.0902  data: 0.0039  max mem: 4967\n",
            "Test:  [200/239]  eta: 0:00:03  model_time: 0.0831 (0.0833)  evaluator_time: 0.0019 (0.0020)  time: 0.0914  data: 0.0045  max mem: 4967\n"
          ],
          "name": "stdout"
        },
        {
          "output_type": "stream",
          "text": [
            "[2021-08-05 21:04:16,487][<ipython-input-26-eec21089c3ff>][line:40][INFO] Saving best checkpoints for mAP 0.224667\n"
          ],
          "name": "stderr"
        },
        {
          "output_type": "stream",
          "text": [
            "Test:  [238/239]  eta: 0:00:00  model_time: 0.0829 (0.0833)  evaluator_time: 0.0020 (0.0020)  time: 0.0913  data: 0.0042  max mem: 4967\n",
            "Test: Total time: 0:00:21 (0.0918 s / it)\n",
            "Averaged stats: model_time: 0.0829 (0.0833)  evaluator_time: 0.0020 (0.0020)\n",
            "Accumulating evaluation results...\n",
            "DONE (t=0.05s).\n",
            "IoU metric: bbox\n",
            " Average Precision  (AP) @[ IoU=0.50:0.95 | area=   all | maxDets=100 ] = 0.225\n",
            " Average Precision  (AP) @[ IoU=0.50      | area=   all | maxDets=100 ] = 0.432\n",
            " Average Precision  (AP) @[ IoU=0.75      | area=   all | maxDets=100 ] = 0.225\n",
            " Average Precision  (AP) @[ IoU=0.50:0.95 | area= small | maxDets=100 ] = 0.238\n",
            " Average Precision  (AP) @[ IoU=0.50:0.95 | area=medium | maxDets=100 ] = 0.205\n",
            " Average Precision  (AP) @[ IoU=0.50:0.95 | area= large | maxDets=100 ] = 0.000\n",
            " Average Recall     (AR) @[ IoU=0.50:0.95 | area=   all | maxDets=  1 ] = 0.297\n",
            " Average Recall     (AR) @[ IoU=0.50:0.95 | area=   all | maxDets= 10 ] = 0.405\n",
            " Average Recall     (AR) @[ IoU=0.50:0.95 | area=   all | maxDets=100 ] = 0.406\n",
            " Average Recall     (AR) @[ IoU=0.50:0.95 | area= small | maxDets=100 ] = 0.416\n",
            " Average Recall     (AR) @[ IoU=0.50:0.95 | area=medium | maxDets=100 ] = 0.397\n",
            " Average Recall     (AR) @[ IoU=0.50:0.95 | area= large | maxDets=100 ] = 0.000\n",
            "Cycle:[0] Epoch: [14]  [  0/239]  eta: 0:04:52  task_lr: 0.000261  task_loss: 0.0766 (0.0766)  time: 1.2252  data: 0.2922  max mem: 4967\n",
            "Cycle:[0] Epoch: [14]  [100/239]  eta: 0:02:08  task_lr: 0.000261  task_loss: 0.1490 (0.1623)  time: 0.9209  data: 0.0154  max mem: 4967\n",
            "Cycle:[0] Epoch: [14]  [200/239]  eta: 0:00:35  task_lr: 0.000261  task_loss: 0.1405 (0.1544)  time: 0.9193  data: 0.0149  max mem: 4967\n",
            "Cycle:[0] Epoch: [14]  [238/239]  eta: 0:00:00  task_lr: 0.000261  task_loss: 0.1685 (0.1556)  time: 0.9206  data: 0.0151  max mem: 4967\n",
            "Cycle:[0] Epoch: [14] Total time: 0:03:40 (0.9217 s / it)\n",
            "creating index...\n",
            "index created!\n",
            "Test:  [  0/239]  eta: 0:00:54  model_time: 0.0929 (0.0929)  evaluator_time: 0.0047 (0.0047)  time: 0.2280  data: 0.1282  max mem: 4967\n",
            "Test:  [100/239]  eta: 0:00:12  model_time: 0.0830 (0.0833)  evaluator_time: 0.0024 (0.0024)  time: 0.0910  data: 0.0039  max mem: 4967\n",
            "Test:  [200/239]  eta: 0:00:03  model_time: 0.0830 (0.0832)  evaluator_time: 0.0023 (0.0024)  time: 0.0909  data: 0.0040  max mem: 4967\n"
          ],
          "name": "stdout"
        },
        {
          "output_type": "stream",
          "text": [
            "[2021-08-05 21:08:55,461][<ipython-input-26-eec21089c3ff>][line:44][INFO] No improvement observed.\n"
          ],
          "name": "stderr"
        },
        {
          "output_type": "stream",
          "text": [
            "Test:  [238/239]  eta: 0:00:00  model_time: 0.0832 (0.0832)  evaluator_time: 0.0024 (0.0024)  time: 0.0913  data: 0.0041  max mem: 4967\n",
            "Test: Total time: 0:00:21 (0.0918 s / it)\n",
            "Averaged stats: model_time: 0.0832 (0.0832)  evaluator_time: 0.0024 (0.0024)\n",
            "Accumulating evaluation results...\n",
            "DONE (t=0.07s).\n",
            "IoU metric: bbox\n",
            " Average Precision  (AP) @[ IoU=0.50:0.95 | area=   all | maxDets=100 ] = 0.218\n",
            " Average Precision  (AP) @[ IoU=0.50      | area=   all | maxDets=100 ] = 0.402\n",
            " Average Precision  (AP) @[ IoU=0.75      | area=   all | maxDets=100 ] = 0.213\n",
            " Average Precision  (AP) @[ IoU=0.50:0.95 | area= small | maxDets=100 ] = 0.234\n",
            " Average Precision  (AP) @[ IoU=0.50:0.95 | area=medium | maxDets=100 ] = 0.191\n",
            " Average Precision  (AP) @[ IoU=0.50:0.95 | area= large | maxDets=100 ] = 0.000\n",
            " Average Recall     (AR) @[ IoU=0.50:0.95 | area=   all | maxDets=  1 ] = 0.283\n",
            " Average Recall     (AR) @[ IoU=0.50:0.95 | area=   all | maxDets= 10 ] = 0.414\n",
            " Average Recall     (AR) @[ IoU=0.50:0.95 | area=   all | maxDets=100 ] = 0.424\n",
            " Average Recall     (AR) @[ IoU=0.50:0.95 | area= small | maxDets=100 ] = 0.433\n",
            " Average Recall     (AR) @[ IoU=0.50:0.95 | area=medium | maxDets=100 ] = 0.420\n",
            " Average Recall     (AR) @[ IoU=0.50:0.95 | area= large | maxDets=100 ] = 0.000\n",
            "Cycle:[0] Epoch: [15]  [  0/239]  eta: 0:04:59  task_lr: 0.000256  task_loss: 0.1804 (0.1804)  time: 1.2513  data: 0.3248  max mem: 4967\n",
            "Cycle:[0] Epoch: [15]  [100/239]  eta: 0:02:08  task_lr: 0.000256  task_loss: 0.1456 (0.1542)  time: 0.9207  data: 0.0153  max mem: 4967\n",
            "Cycle:[0] Epoch: [15]  [200/239]  eta: 0:00:36  task_lr: 0.000256  task_loss: 0.1648 (0.1571)  time: 0.9234  data: 0.0160  max mem: 4967\n",
            "Cycle:[0] Epoch: [15]  [238/239]  eta: 0:00:00  task_lr: 0.000256  task_loss: 0.1440 (0.1593)  time: 0.9196  data: 0.0144  max mem: 4967\n",
            "Cycle:[0] Epoch: [15] Total time: 0:03:40 (0.9230 s / it)\n",
            "creating index...\n",
            "index created!\n",
            "Test:  [  0/239]  eta: 0:00:53  model_time: 0.0935 (0.0935)  evaluator_time: 0.0045 (0.0045)  time: 0.2257  data: 0.1257  max mem: 4967\n",
            "Test:  [100/239]  eta: 0:00:13  model_time: 0.0831 (0.0836)  evaluator_time: 0.0022 (0.0023)  time: 0.0928  data: 0.0044  max mem: 4967\n",
            "Test:  [200/239]  eta: 0:00:03  model_time: 0.0831 (0.0835)  evaluator_time: 0.0023 (0.0023)  time: 0.0932  data: 0.0045  max mem: 4967\n"
          ],
          "name": "stdout"
        },
        {
          "output_type": "stream",
          "text": [
            "[2021-08-05 21:13:35,036][<ipython-input-26-eec21089c3ff>][line:40][INFO] Saving best checkpoints for mAP 0.233092\n"
          ],
          "name": "stderr"
        },
        {
          "output_type": "stream",
          "text": [
            "Test:  [238/239]  eta: 0:00:00  model_time: 0.0828 (0.0834)  evaluator_time: 0.0021 (0.0023)  time: 0.0916  data: 0.0042  max mem: 4967\n",
            "Test: Total time: 0:00:22 (0.0933 s / it)\n",
            "Averaged stats: model_time: 0.0828 (0.0834)  evaluator_time: 0.0021 (0.0023)\n",
            "Accumulating evaluation results...\n",
            "DONE (t=0.06s).\n",
            "IoU metric: bbox\n",
            " Average Precision  (AP) @[ IoU=0.50:0.95 | area=   all | maxDets=100 ] = 0.233\n",
            " Average Precision  (AP) @[ IoU=0.50      | area=   all | maxDets=100 ] = 0.440\n",
            " Average Precision  (AP) @[ IoU=0.75      | area=   all | maxDets=100 ] = 0.206\n",
            " Average Precision  (AP) @[ IoU=0.50:0.95 | area= small | maxDets=100 ] = 0.252\n",
            " Average Precision  (AP) @[ IoU=0.50:0.95 | area=medium | maxDets=100 ] = 0.221\n",
            " Average Precision  (AP) @[ IoU=0.50:0.95 | area= large | maxDets=100 ] = 0.000\n",
            " Average Recall     (AR) @[ IoU=0.50:0.95 | area=   all | maxDets=  1 ] = 0.306\n",
            " Average Recall     (AR) @[ IoU=0.50:0.95 | area=   all | maxDets= 10 ] = 0.428\n",
            " Average Recall     (AR) @[ IoU=0.50:0.95 | area=   all | maxDets=100 ] = 0.436\n",
            " Average Recall     (AR) @[ IoU=0.50:0.95 | area= small | maxDets=100 ] = 0.436\n",
            " Average Recall     (AR) @[ IoU=0.50:0.95 | area=medium | maxDets=100 ] = 0.456\n",
            " Average Recall     (AR) @[ IoU=0.50:0.95 | area= large | maxDets=100 ] = 0.000\n",
            "Cycle:[0] Epoch: [16]  [  0/239]  eta: 0:05:23  task_lr: 0.000250  task_loss: 0.1132 (0.1132)  time: 1.3527  data: 0.4336  max mem: 4967\n",
            "Cycle:[0] Epoch: [16]  [100/239]  eta: 0:02:08  task_lr: 0.000250  task_loss: 0.1391 (0.1632)  time: 0.9204  data: 0.0146  max mem: 4967\n",
            "Cycle:[0] Epoch: [16]  [200/239]  eta: 0:00:36  task_lr: 0.000250  task_loss: 0.1552 (0.1605)  time: 0.9204  data: 0.0144  max mem: 4967\n",
            "Cycle:[0] Epoch: [16]  [238/239]  eta: 0:00:00  task_lr: 0.000250  task_loss: 0.1623 (0.1610)  time: 0.9194  data: 0.0142  max mem: 4967\n",
            "Cycle:[0] Epoch: [16] Total time: 0:03:40 (0.9239 s / it)\n",
            "creating index...\n",
            "index created!\n",
            "Test:  [  0/239]  eta: 0:00:51  model_time: 0.0946 (0.0946)  evaluator_time: 0.0049 (0.0049)  time: 0.2155  data: 0.1141  max mem: 4967\n",
            "Test:  [100/239]  eta: 0:00:12  model_time: 0.0834 (0.0837)  evaluator_time: 0.0024 (0.0024)  time: 0.0919  data: 0.0042  max mem: 4967\n",
            "Test:  [200/239]  eta: 0:00:03  model_time: 0.0832 (0.0836)  evaluator_time: 0.0022 (0.0024)  time: 0.0919  data: 0.0046  max mem: 4967\n"
          ],
          "name": "stdout"
        },
        {
          "output_type": "stream",
          "text": [
            "[2021-08-05 21:18:14,435][<ipython-input-26-eec21089c3ff>][line:40][INFO] Saving best checkpoints for mAP 0.236131\n"
          ],
          "name": "stderr"
        },
        {
          "output_type": "stream",
          "text": [
            "Test:  [238/239]  eta: 0:00:00  model_time: 0.0830 (0.0835)  evaluator_time: 0.0020 (0.0023)  time: 0.0917  data: 0.0044  max mem: 4967\n",
            "Test: Total time: 0:00:22 (0.0926 s / it)\n",
            "Averaged stats: model_time: 0.0830 (0.0835)  evaluator_time: 0.0020 (0.0023)\n",
            "Accumulating evaluation results...\n",
            "DONE (t=0.05s).\n",
            "IoU metric: bbox\n",
            " Average Precision  (AP) @[ IoU=0.50:0.95 | area=   all | maxDets=100 ] = 0.236\n",
            " Average Precision  (AP) @[ IoU=0.50      | area=   all | maxDets=100 ] = 0.435\n",
            " Average Precision  (AP) @[ IoU=0.75      | area=   all | maxDets=100 ] = 0.241\n",
            " Average Precision  (AP) @[ IoU=0.50:0.95 | area= small | maxDets=100 ] = 0.246\n",
            " Average Precision  (AP) @[ IoU=0.50:0.95 | area=medium | maxDets=100 ] = 0.238\n",
            " Average Precision  (AP) @[ IoU=0.50:0.95 | area= large | maxDets=100 ] = 0.000\n",
            " Average Recall     (AR) @[ IoU=0.50:0.95 | area=   all | maxDets=  1 ] = 0.307\n",
            " Average Recall     (AR) @[ IoU=0.50:0.95 | area=   all | maxDets= 10 ] = 0.432\n",
            " Average Recall     (AR) @[ IoU=0.50:0.95 | area=   all | maxDets=100 ] = 0.443\n",
            " Average Recall     (AR) @[ IoU=0.50:0.95 | area= small | maxDets=100 ] = 0.442\n",
            " Average Recall     (AR) @[ IoU=0.50:0.95 | area=medium | maxDets=100 ] = 0.467\n",
            " Average Recall     (AR) @[ IoU=0.50:0.95 | area= large | maxDets=100 ] = 0.000\n",
            "Cycle:[0] Epoch: [17]  [  0/239]  eta: 0:04:58  task_lr: 0.000244  task_loss: 0.1346 (0.1346)  time: 1.2502  data: 0.3316  max mem: 4967\n",
            "Cycle:[0] Epoch: [17]  [100/239]  eta: 0:02:08  task_lr: 0.000244  task_loss: 0.1523 (0.1575)  time: 0.9190  data: 0.0151  max mem: 4967\n",
            "Cycle:[0] Epoch: [17]  [200/239]  eta: 0:00:35  task_lr: 0.000244  task_loss: 0.1534 (0.1565)  time: 0.9195  data: 0.0152  max mem: 4967\n",
            "Cycle:[0] Epoch: [17]  [238/239]  eta: 0:00:00  task_lr: 0.000244  task_loss: 0.1388 (0.1545)  time: 0.9225  data: 0.0159  max mem: 4967\n",
            "Cycle:[0] Epoch: [17] Total time: 0:03:40 (0.9223 s / it)\n",
            "creating index...\n",
            "index created!\n",
            "Test:  [  0/239]  eta: 0:00:52  model_time: 0.0975 (0.0975)  evaluator_time: 0.0049 (0.0049)  time: 0.2205  data: 0.1155  max mem: 4967\n",
            "Test:  [100/239]  eta: 0:00:12  model_time: 0.0834 (0.0834)  evaluator_time: 0.0031 (0.0028)  time: 0.0924  data: 0.0044  max mem: 4967\n",
            "Test:  [200/239]  eta: 0:00:03  model_time: 0.0834 (0.0835)  evaluator_time: 0.0029 (0.0029)  time: 0.0932  data: 0.0046  max mem: 4967\n"
          ],
          "name": "stdout"
        },
        {
          "output_type": "stream",
          "text": [
            "[2021-08-05 21:22:53,578][<ipython-input-26-eec21089c3ff>][line:44][INFO] No improvement observed.\n"
          ],
          "name": "stderr"
        },
        {
          "output_type": "stream",
          "text": [
            "Test:  [238/239]  eta: 0:00:00  model_time: 0.0833 (0.0835)  evaluator_time: 0.0027 (0.0029)  time: 0.0944  data: 0.0052  max mem: 4967\n",
            "Test: Total time: 0:00:22 (0.0936 s / it)\n",
            "Averaged stats: model_time: 0.0833 (0.0835)  evaluator_time: 0.0027 (0.0029)\n",
            "Accumulating evaluation results...\n",
            "DONE (t=0.08s).\n",
            "IoU metric: bbox\n",
            " Average Precision  (AP) @[ IoU=0.50:0.95 | area=   all | maxDets=100 ] = 0.220\n",
            " Average Precision  (AP) @[ IoU=0.50      | area=   all | maxDets=100 ] = 0.433\n",
            " Average Precision  (AP) @[ IoU=0.75      | area=   all | maxDets=100 ] = 0.199\n",
            " Average Precision  (AP) @[ IoU=0.50:0.95 | area= small | maxDets=100 ] = 0.242\n",
            " Average Precision  (AP) @[ IoU=0.50:0.95 | area=medium | maxDets=100 ] = 0.193\n",
            " Average Precision  (AP) @[ IoU=0.50:0.95 | area= large | maxDets=100 ] = 0.001\n",
            " Average Recall     (AR) @[ IoU=0.50:0.95 | area=   all | maxDets=  1 ] = 0.298\n",
            " Average Recall     (AR) @[ IoU=0.50:0.95 | area=   all | maxDets= 10 ] = 0.418\n",
            " Average Recall     (AR) @[ IoU=0.50:0.95 | area=   all | maxDets=100 ] = 0.455\n",
            " Average Recall     (AR) @[ IoU=0.50:0.95 | area= small | maxDets=100 ] = 0.457\n",
            " Average Recall     (AR) @[ IoU=0.50:0.95 | area=medium | maxDets=100 ] = 0.467\n",
            " Average Recall     (AR) @[ IoU=0.50:0.95 | area= large | maxDets=100 ] = 0.033\n",
            "Cycle:[0] Epoch: [18]  [  0/239]  eta: 0:04:52  task_lr: 0.000238  task_loss: 0.1279 (0.1279)  time: 1.2255  data: 0.2949  max mem: 4967\n",
            "Cycle:[0] Epoch: [18]  [100/239]  eta: 0:02:08  task_lr: 0.000238  task_loss: 0.1678 (0.1528)  time: 0.9193  data: 0.0156  max mem: 4967\n",
            "Cycle:[0] Epoch: [18]  [200/239]  eta: 0:00:35  task_lr: 0.000238  task_loss: 0.1513 (0.1564)  time: 0.9200  data: 0.0153  max mem: 4967\n",
            "Cycle:[0] Epoch: [18]  [238/239]  eta: 0:00:00  task_lr: 0.000238  task_loss: 0.1448 (0.1557)  time: 0.9180  data: 0.0143  max mem: 4967\n",
            "Cycle:[0] Epoch: [18] Total time: 0:03:40 (0.9220 s / it)\n",
            "creating index...\n",
            "index created!\n",
            "Test:  [  0/239]  eta: 0:00:55  model_time: 0.0943 (0.0943)  evaluator_time: 0.0045 (0.0045)  time: 0.2325  data: 0.1302  max mem: 4967\n",
            "Test:  [100/239]  eta: 0:00:12  model_time: 0.0829 (0.0833)  evaluator_time: 0.0023 (0.0023)  time: 0.0907  data: 0.0038  max mem: 4967\n",
            "Test:  [200/239]  eta: 0:00:03  model_time: 0.0829 (0.0833)  evaluator_time: 0.0022 (0.0023)  time: 0.0909  data: 0.0041  max mem: 4967\n"
          ],
          "name": "stdout"
        },
        {
          "output_type": "stream",
          "text": [
            "[2021-08-05 21:27:32,375][<ipython-input-26-eec21089c3ff>][line:44][INFO] No improvement observed.\n"
          ],
          "name": "stderr"
        },
        {
          "output_type": "stream",
          "text": [
            "Test:  [238/239]  eta: 0:00:00  model_time: 0.0829 (0.0832)  evaluator_time: 0.0021 (0.0023)  time: 0.0910  data: 0.0044  max mem: 4967\n",
            "Test: Total time: 0:00:21 (0.0917 s / it)\n",
            "Averaged stats: model_time: 0.0829 (0.0832)  evaluator_time: 0.0021 (0.0023)\n",
            "Accumulating evaluation results...\n",
            "DONE (t=0.06s).\n",
            "IoU metric: bbox\n",
            " Average Precision  (AP) @[ IoU=0.50:0.95 | area=   all | maxDets=100 ] = 0.209\n",
            " Average Precision  (AP) @[ IoU=0.50      | area=   all | maxDets=100 ] = 0.426\n",
            " Average Precision  (AP) @[ IoU=0.75      | area=   all | maxDets=100 ] = 0.199\n",
            " Average Precision  (AP) @[ IoU=0.50:0.95 | area= small | maxDets=100 ] = 0.227\n",
            " Average Precision  (AP) @[ IoU=0.50:0.95 | area=medium | maxDets=100 ] = 0.186\n",
            " Average Precision  (AP) @[ IoU=0.50:0.95 | area= large | maxDets=100 ] = 0.000\n",
            " Average Recall     (AR) @[ IoU=0.50:0.95 | area=   all | maxDets=  1 ] = 0.292\n",
            " Average Recall     (AR) @[ IoU=0.50:0.95 | area=   all | maxDets= 10 ] = 0.413\n",
            " Average Recall     (AR) @[ IoU=0.50:0.95 | area=   all | maxDets=100 ] = 0.422\n",
            " Average Recall     (AR) @[ IoU=0.50:0.95 | area= small | maxDets=100 ] = 0.427\n",
            " Average Recall     (AR) @[ IoU=0.50:0.95 | area=medium | maxDets=100 ] = 0.428\n",
            " Average Recall     (AR) @[ IoU=0.50:0.95 | area= large | maxDets=100 ] = 0.000\n",
            "Cycle:[0] Epoch: [19]  [  0/239]  eta: 0:04:48  task_lr: 0.000232  task_loss: 0.2187 (0.2187)  time: 1.2059  data: 0.2846  max mem: 4967\n",
            "Cycle:[0] Epoch: [19]  [100/239]  eta: 0:02:08  task_lr: 0.000232  task_loss: 0.1396 (0.1500)  time: 0.9234  data: 0.0169  max mem: 4967\n",
            "Cycle:[0] Epoch: [19]  [200/239]  eta: 0:00:35  task_lr: 0.000232  task_loss: 0.1695 (0.1532)  time: 0.9244  data: 0.0173  max mem: 4967\n",
            "Cycle:[0] Epoch: [19]  [238/239]  eta: 0:00:00  task_lr: 0.000232  task_loss: 0.1257 (0.1521)  time: 0.9184  data: 0.0144  max mem: 4967\n",
            "Cycle:[0] Epoch: [19] Total time: 0:03:40 (0.9225 s / it)\n",
            "creating index...\n",
            "index created!\n",
            "Test:  [  0/239]  eta: 0:00:56  model_time: 0.0954 (0.0954)  evaluator_time: 0.0054 (0.0054)  time: 0.2383  data: 0.1355  max mem: 4967\n",
            "Test:  [100/239]  eta: 0:00:12  model_time: 0.0829 (0.0834)  evaluator_time: 0.0024 (0.0024)  time: 0.0910  data: 0.0039  max mem: 4967\n",
            "Test:  [200/239]  eta: 0:00:03  model_time: 0.0831 (0.0833)  evaluator_time: 0.0022 (0.0024)  time: 0.0926  data: 0.0044  max mem: 4967\n"
          ],
          "name": "stdout"
        },
        {
          "output_type": "stream",
          "text": [
            "[2021-08-05 21:32:11,876][<ipython-input-26-eec21089c3ff>][line:40][INFO] Saving best checkpoints for mAP 0.260553\n"
          ],
          "name": "stderr"
        },
        {
          "output_type": "stream",
          "text": [
            "Test:  [238/239]  eta: 0:00:00  model_time: 0.0828 (0.0833)  evaluator_time: 0.0022 (0.0023)  time: 0.0925  data: 0.0043  max mem: 4967\n",
            "Test: Total time: 0:00:22 (0.0925 s / it)\n",
            "Averaged stats: model_time: 0.0828 (0.0833)  evaluator_time: 0.0022 (0.0023)\n",
            "Accumulating evaluation results...\n",
            "DONE (t=0.06s).\n",
            "IoU metric: bbox\n",
            " Average Precision  (AP) @[ IoU=0.50:0.95 | area=   all | maxDets=100 ] = 0.261\n",
            " Average Precision  (AP) @[ IoU=0.50      | area=   all | maxDets=100 ] = 0.468\n",
            " Average Precision  (AP) @[ IoU=0.75      | area=   all | maxDets=100 ] = 0.285\n",
            " Average Precision  (AP) @[ IoU=0.50:0.95 | area= small | maxDets=100 ] = 0.268\n",
            " Average Precision  (AP) @[ IoU=0.50:0.95 | area=medium | maxDets=100 ] = 0.269\n",
            " Average Precision  (AP) @[ IoU=0.50:0.95 | area= large | maxDets=100 ] = 0.001\n",
            " Average Recall     (AR) @[ IoU=0.50:0.95 | area=   all | maxDets=  1 ] = 0.324\n",
            " Average Recall     (AR) @[ IoU=0.50:0.95 | area=   all | maxDets= 10 ] = 0.428\n",
            " Average Recall     (AR) @[ IoU=0.50:0.95 | area=   all | maxDets=100 ] = 0.430\n",
            " Average Recall     (AR) @[ IoU=0.50:0.95 | area= small | maxDets=100 ] = 0.435\n",
            " Average Recall     (AR) @[ IoU=0.50:0.95 | area=medium | maxDets=100 ] = 0.433\n",
            " Average Recall     (AR) @[ IoU=0.50:0.95 | area= large | maxDets=100 ] = 0.067\n",
            "Cycle:[0] Epoch: [20]  [  0/239]  eta: 0:04:52  task_lr: 0.000225  task_loss: 0.1480 (0.1480)  time: 1.2250  data: 0.3079  max mem: 4967\n",
            "Cycle:[0] Epoch: [20]  [100/239]  eta: 0:02:08  task_lr: 0.000225  task_loss: 0.1619 (0.1558)  time: 0.9201  data: 0.0146  max mem: 4967\n",
            "Cycle:[0] Epoch: [20]  [200/239]  eta: 0:00:36  task_lr: 0.000225  task_loss: 0.1489 (0.1543)  time: 0.9219  data: 0.0154  max mem: 4967\n",
            "Cycle:[0] Epoch: [20]  [238/239]  eta: 0:00:00  task_lr: 0.000225  task_loss: 0.1454 (0.1523)  time: 0.9188  data: 0.0143  max mem: 4967\n",
            "Cycle:[0] Epoch: [20] Total time: 0:03:40 (0.9230 s / it)\n",
            "creating index...\n",
            "index created!\n",
            "Test:  [  0/239]  eta: 0:00:56  model_time: 0.1013 (0.1013)  evaluator_time: 0.0043 (0.0043)  time: 0.2367  data: 0.1290  max mem: 4967\n",
            "Test:  [100/239]  eta: 0:00:12  model_time: 0.0833 (0.0837)  evaluator_time: 0.0021 (0.0021)  time: 0.0913  data: 0.0043  max mem: 4967\n",
            "Test:  [200/239]  eta: 0:00:03  model_time: 0.0831 (0.0837)  evaluator_time: 0.0020 (0.0021)  time: 0.0920  data: 0.0043  max mem: 4967\n"
          ],
          "name": "stdout"
        },
        {
          "output_type": "stream",
          "text": [
            "[2021-08-05 21:36:52,067][<ipython-input-26-eec21089c3ff>][line:40][INFO] Saving best checkpoints for mAP 0.265184\n"
          ],
          "name": "stderr"
        },
        {
          "output_type": "stream",
          "text": [
            "Test:  [238/239]  eta: 0:00:00  model_time: 0.0830 (0.0836)  evaluator_time: 0.0020 (0.0021)  time: 0.0916  data: 0.0041  max mem: 4967\n",
            "Test: Total time: 0:00:22 (0.0924 s / it)\n",
            "Averaged stats: model_time: 0.0830 (0.0836)  evaluator_time: 0.0020 (0.0021)\n",
            "Accumulating evaluation results...\n",
            "DONE (t=0.05s).\n",
            "IoU metric: bbox\n",
            " Average Precision  (AP) @[ IoU=0.50:0.95 | area=   all | maxDets=100 ] = 0.265\n",
            " Average Precision  (AP) @[ IoU=0.50      | area=   all | maxDets=100 ] = 0.466\n",
            " Average Precision  (AP) @[ IoU=0.75      | area=   all | maxDets=100 ] = 0.289\n",
            " Average Precision  (AP) @[ IoU=0.50:0.95 | area= small | maxDets=100 ] = 0.280\n",
            " Average Precision  (AP) @[ IoU=0.50:0.95 | area=medium | maxDets=100 ] = 0.261\n",
            " Average Precision  (AP) @[ IoU=0.50:0.95 | area= large | maxDets=100 ] = 0.000\n",
            " Average Recall     (AR) @[ IoU=0.50:0.95 | area=   all | maxDets=  1 ] = 0.353\n",
            " Average Recall     (AR) @[ IoU=0.50:0.95 | area=   all | maxDets= 10 ] = 0.451\n",
            " Average Recall     (AR) @[ IoU=0.50:0.95 | area=   all | maxDets=100 ] = 0.453\n",
            " Average Recall     (AR) @[ IoU=0.50:0.95 | area= small | maxDets=100 ] = 0.467\n",
            " Average Recall     (AR) @[ IoU=0.50:0.95 | area=medium | maxDets=100 ] = 0.436\n",
            " Average Recall     (AR) @[ IoU=0.50:0.95 | area= large | maxDets=100 ] = 0.000\n",
            "Cycle:[0] Epoch: [21]  [  0/239]  eta: 0:04:52  task_lr: 0.000218  task_loss: 0.1448 (0.1448)  time: 1.2251  data: 0.3105  max mem: 4967\n",
            "Cycle:[0] Epoch: [21]  [100/239]  eta: 0:02:08  task_lr: 0.000218  task_loss: 0.1474 (0.1473)  time: 0.9212  data: 0.0154  max mem: 4967\n",
            "Cycle:[0] Epoch: [21]  [200/239]  eta: 0:00:36  task_lr: 0.000218  task_loss: 0.1222 (0.1476)  time: 0.9235  data: 0.0162  max mem: 4967\n",
            "Cycle:[0] Epoch: [21]  [238/239]  eta: 0:00:00  task_lr: 0.000218  task_loss: 0.1384 (0.1480)  time: 0.9193  data: 0.0144  max mem: 4967\n",
            "Cycle:[0] Epoch: [21] Total time: 0:03:40 (0.9234 s / it)\n",
            "creating index...\n",
            "index created!\n",
            "Test:  [  0/239]  eta: 0:00:58  model_time: 0.0969 (0.0969)  evaluator_time: 0.0054 (0.0054)  time: 0.2438  data: 0.1388  max mem: 4967\n",
            "Test:  [100/239]  eta: 0:00:12  model_time: 0.0829 (0.0835)  evaluator_time: 0.0023 (0.0022)  time: 0.0907  data: 0.0039  max mem: 4967\n",
            "Test:  [200/239]  eta: 0:00:03  model_time: 0.0834 (0.0834)  evaluator_time: 0.0023 (0.0023)  time: 0.0916  data: 0.0043  max mem: 4967\n"
          ],
          "name": "stdout"
        },
        {
          "output_type": "stream",
          "text": [
            "[2021-08-05 21:41:31,991][<ipython-input-26-eec21089c3ff>][line:44][INFO] No improvement observed.\n"
          ],
          "name": "stderr"
        },
        {
          "output_type": "stream",
          "text": [
            "Test:  [238/239]  eta: 0:00:00  model_time: 0.0832 (0.0834)  evaluator_time: 0.0022 (0.0023)  time: 0.0911  data: 0.0041  max mem: 4967\n",
            "Test: Total time: 0:00:22 (0.0922 s / it)\n",
            "Averaged stats: model_time: 0.0832 (0.0834)  evaluator_time: 0.0022 (0.0023)\n",
            "Accumulating evaluation results...\n",
            "DONE (t=0.06s).\n",
            "IoU metric: bbox\n",
            " Average Precision  (AP) @[ IoU=0.50:0.95 | area=   all | maxDets=100 ] = 0.236\n",
            " Average Precision  (AP) @[ IoU=0.50      | area=   all | maxDets=100 ] = 0.435\n",
            " Average Precision  (AP) @[ IoU=0.75      | area=   all | maxDets=100 ] = 0.235\n",
            " Average Precision  (AP) @[ IoU=0.50:0.95 | area= small | maxDets=100 ] = 0.246\n",
            " Average Precision  (AP) @[ IoU=0.50:0.95 | area=medium | maxDets=100 ] = 0.263\n",
            " Average Precision  (AP) @[ IoU=0.50:0.95 | area= large | maxDets=100 ] = 0.000\n",
            " Average Recall     (AR) @[ IoU=0.50:0.95 | area=   all | maxDets=  1 ] = 0.326\n",
            " Average Recall     (AR) @[ IoU=0.50:0.95 | area=   all | maxDets= 10 ] = 0.439\n",
            " Average Recall     (AR) @[ IoU=0.50:0.95 | area=   all | maxDets=100 ] = 0.448\n",
            " Average Recall     (AR) @[ IoU=0.50:0.95 | area= small | maxDets=100 ] = 0.460\n",
            " Average Recall     (AR) @[ IoU=0.50:0.95 | area=medium | maxDets=100 ] = 0.438\n",
            " Average Recall     (AR) @[ IoU=0.50:0.95 | area= large | maxDets=100 ] = 0.000\n",
            "Cycle:[0] Epoch: [22]  [  0/239]  eta: 0:04:57  task_lr: 0.000211  task_loss: 0.1502 (0.1502)  time: 1.2463  data: 0.3253  max mem: 4967\n",
            "Cycle:[0] Epoch: [22]  [100/239]  eta: 0:02:08  task_lr: 0.000211  task_loss: 0.1346 (0.1481)  time: 0.9223  data: 0.0161  max mem: 4967\n",
            "Cycle:[0] Epoch: [22]  [200/239]  eta: 0:00:36  task_lr: 0.000211  task_loss: 0.1530 (0.1485)  time: 0.9198  data: 0.0148  max mem: 4967\n",
            "Cycle:[0] Epoch: [22]  [238/239]  eta: 0:00:00  task_lr: 0.000211  task_loss: 0.1255 (0.1489)  time: 0.9219  data: 0.0151  max mem: 4967\n",
            "Cycle:[0] Epoch: [22] Total time: 0:03:40 (0.9233 s / it)\n",
            "creating index...\n",
            "index created!\n",
            "Test:  [  0/239]  eta: 0:00:55  model_time: 0.0958 (0.0958)  evaluator_time: 0.0047 (0.0047)  time: 0.2302  data: 0.1273  max mem: 4967\n",
            "Test:  [100/239]  eta: 0:00:12  model_time: 0.0835 (0.0839)  evaluator_time: 0.0024 (0.0025)  time: 0.0917  data: 0.0043  max mem: 4967\n",
            "Test:  [200/239]  eta: 0:00:03  model_time: 0.0835 (0.0837)  evaluator_time: 0.0025 (0.0025)  time: 0.0918  data: 0.0042  max mem: 4967\n"
          ],
          "name": "stdout"
        },
        {
          "output_type": "stream",
          "text": [
            "[2021-08-05 21:46:10,629][<ipython-input-26-eec21089c3ff>][line:44][INFO] No improvement observed.\n"
          ],
          "name": "stderr"
        },
        {
          "output_type": "stream",
          "text": [
            "Test:  [238/239]  eta: 0:00:00  model_time: 0.0832 (0.0836)  evaluator_time: 0.0022 (0.0025)  time: 0.0912  data: 0.0041  max mem: 4967\n",
            "Test: Total time: 0:00:22 (0.0931 s / it)\n",
            "Averaged stats: model_time: 0.0832 (0.0836)  evaluator_time: 0.0022 (0.0025)\n",
            "Accumulating evaluation results...\n",
            "DONE (t=0.06s).\n",
            "IoU metric: bbox\n",
            " Average Precision  (AP) @[ IoU=0.50:0.95 | area=   all | maxDets=100 ] = 0.195\n",
            " Average Precision  (AP) @[ IoU=0.50      | area=   all | maxDets=100 ] = 0.438\n",
            " Average Precision  (AP) @[ IoU=0.75      | area=   all | maxDets=100 ] = 0.121\n",
            " Average Precision  (AP) @[ IoU=0.50:0.95 | area= small | maxDets=100 ] = 0.217\n",
            " Average Precision  (AP) @[ IoU=0.50:0.95 | area=medium | maxDets=100 ] = 0.163\n",
            " Average Precision  (AP) @[ IoU=0.50:0.95 | area= large | maxDets=100 ] = 0.000\n",
            " Average Recall     (AR) @[ IoU=0.50:0.95 | area=   all | maxDets=  1 ] = 0.274\n",
            " Average Recall     (AR) @[ IoU=0.50:0.95 | area=   all | maxDets= 10 ] = 0.374\n",
            " Average Recall     (AR) @[ IoU=0.50:0.95 | area=   all | maxDets=100 ] = 0.387\n",
            " Average Recall     (AR) @[ IoU=0.50:0.95 | area= small | maxDets=100 ] = 0.393\n",
            " Average Recall     (AR) @[ IoU=0.50:0.95 | area=medium | maxDets=100 ] = 0.387\n",
            " Average Recall     (AR) @[ IoU=0.50:0.95 | area= large | maxDets=100 ] = 0.000\n",
            "Cycle:[0] Epoch: [23]  [  0/239]  eta: 0:04:46  task_lr: 0.000204  task_loss: 0.0959 (0.0959)  time: 1.2007  data: 0.2884  max mem: 4967\n",
            "Cycle:[0] Epoch: [23]  [100/239]  eta: 0:02:08  task_lr: 0.000204  task_loss: 0.1428 (0.1490)  time: 0.9223  data: 0.0150  max mem: 4967\n",
            "Cycle:[0] Epoch: [23]  [200/239]  eta: 0:00:36  task_lr: 0.000204  task_loss: 0.1334 (0.1462)  time: 0.9213  data: 0.0153  max mem: 4967\n",
            "Cycle:[0] Epoch: [23]  [238/239]  eta: 0:00:00  task_lr: 0.000204  task_loss: 0.1430 (0.1476)  time: 0.9218  data: 0.0151  max mem: 4967\n",
            "Cycle:[0] Epoch: [23] Total time: 0:03:40 (0.9232 s / it)\n",
            "creating index...\n",
            "index created!\n",
            "Test:  [  0/239]  eta: 0:00:56  model_time: 0.0938 (0.0938)  evaluator_time: 0.0045 (0.0045)  time: 0.2352  data: 0.1305  max mem: 4967\n",
            "Test:  [100/239]  eta: 0:00:12  model_time: 0.0828 (0.0833)  evaluator_time: 0.0025 (0.0024)  time: 0.0911  data: 0.0040  max mem: 4967\n",
            "Test:  [200/239]  eta: 0:00:03  model_time: 0.0833 (0.0832)  evaluator_time: 0.0024 (0.0024)  time: 0.0918  data: 0.0041  max mem: 4967\n"
          ],
          "name": "stdout"
        },
        {
          "output_type": "stream",
          "text": [
            "[2021-08-05 21:50:49,162][<ipython-input-26-eec21089c3ff>][line:44][INFO] No improvement observed.\n"
          ],
          "name": "stderr"
        },
        {
          "output_type": "stream",
          "text": [
            "Test:  [238/239]  eta: 0:00:00  model_time: 0.0835 (0.0833)  evaluator_time: 0.0024 (0.0024)  time: 0.0915  data: 0.0041  max mem: 4967\n",
            "Test: Total time: 0:00:22 (0.0922 s / it)\n",
            "Averaged stats: model_time: 0.0835 (0.0833)  evaluator_time: 0.0024 (0.0024)\n",
            "Accumulating evaluation results...\n",
            "DONE (t=0.07s).\n",
            "IoU metric: bbox\n",
            " Average Precision  (AP) @[ IoU=0.50:0.95 | area=   all | maxDets=100 ] = 0.217\n",
            " Average Precision  (AP) @[ IoU=0.50      | area=   all | maxDets=100 ] = 0.479\n",
            " Average Precision  (AP) @[ IoU=0.75      | area=   all | maxDets=100 ] = 0.152\n",
            " Average Precision  (AP) @[ IoU=0.50:0.95 | area= small | maxDets=100 ] = 0.221\n",
            " Average Precision  (AP) @[ IoU=0.50:0.95 | area=medium | maxDets=100 ] = 0.249\n",
            " Average Precision  (AP) @[ IoU=0.50:0.95 | area= large | maxDets=100 ] = 0.005\n",
            " Average Recall     (AR) @[ IoU=0.50:0.95 | area=   all | maxDets=  1 ] = 0.286\n",
            " Average Recall     (AR) @[ IoU=0.50:0.95 | area=   all | maxDets= 10 ] = 0.410\n",
            " Average Recall     (AR) @[ IoU=0.50:0.95 | area=   all | maxDets=100 ] = 0.423\n",
            " Average Recall     (AR) @[ IoU=0.50:0.95 | area= small | maxDets=100 ] = 0.415\n",
            " Average Recall     (AR) @[ IoU=0.50:0.95 | area=medium | maxDets=100 ] = 0.457\n",
            " Average Recall     (AR) @[ IoU=0.50:0.95 | area= large | maxDets=100 ] = 0.167\n",
            "Cycle:[0] Epoch: [24]  [  0/239]  eta: 0:04:57  task_lr: 0.000196  task_loss: 0.1305 (0.1305)  time: 1.2450  data: 0.3256  max mem: 4967\n",
            "Cycle:[0] Epoch: [24]  [100/239]  eta: 0:02:08  task_lr: 0.000196  task_loss: 0.1384 (0.1485)  time: 0.9220  data: 0.0155  max mem: 4967\n",
            "Cycle:[0] Epoch: [24]  [200/239]  eta: 0:00:36  task_lr: 0.000196  task_loss: 0.1385 (0.1435)  time: 0.9257  data: 0.0175  max mem: 4967\n",
            "Cycle:[0] Epoch: [24]  [238/239]  eta: 0:00:00  task_lr: 0.000196  task_loss: 0.1403 (0.1438)  time: 0.9189  data: 0.0143  max mem: 4967\n",
            "Cycle:[0] Epoch: [24] Total time: 0:03:40 (0.9231 s / it)\n",
            "creating index...\n",
            "index created!\n",
            "Test:  [  0/239]  eta: 0:00:50  model_time: 0.0950 (0.0950)  evaluator_time: 0.0041 (0.0041)  time: 0.2131  data: 0.1121  max mem: 4967\n",
            "Test:  [100/239]  eta: 0:00:12  model_time: 0.0830 (0.0836)  evaluator_time: 0.0019 (0.0020)  time: 0.0903  data: 0.0038  max mem: 4967\n",
            "Test:  [200/239]  eta: 0:00:03  model_time: 0.0832 (0.0834)  evaluator_time: 0.0018 (0.0020)  time: 0.0904  data: 0.0039  max mem: 4967\n"
          ],
          "name": "stdout"
        },
        {
          "output_type": "stream",
          "text": [
            "[2021-08-05 21:55:28,379][<ipython-input-26-eec21089c3ff>][line:44][INFO] No improvement observed.\n"
          ],
          "name": "stderr"
        },
        {
          "output_type": "stream",
          "text": [
            "Test:  [238/239]  eta: 0:00:00  model_time: 0.0828 (0.0833)  evaluator_time: 0.0018 (0.0019)  time: 0.0900  data: 0.0038  max mem: 4967\n",
            "Test: Total time: 0:00:21 (0.0915 s / it)\n",
            "Averaged stats: model_time: 0.0828 (0.0833)  evaluator_time: 0.0018 (0.0019)\n",
            "Accumulating evaluation results...\n",
            "DONE (t=0.04s).\n",
            "IoU metric: bbox\n",
            " Average Precision  (AP) @[ IoU=0.50:0.95 | area=   all | maxDets=100 ] = 0.228\n",
            " Average Precision  (AP) @[ IoU=0.50      | area=   all | maxDets=100 ] = 0.432\n",
            " Average Precision  (AP) @[ IoU=0.75      | area=   all | maxDets=100 ] = 0.190\n",
            " Average Precision  (AP) @[ IoU=0.50:0.95 | area= small | maxDets=100 ] = 0.233\n",
            " Average Precision  (AP) @[ IoU=0.50:0.95 | area=medium | maxDets=100 ] = 0.263\n",
            " Average Precision  (AP) @[ IoU=0.50:0.95 | area= large | maxDets=100 ] = 0.000\n",
            " Average Recall     (AR) @[ IoU=0.50:0.95 | area=   all | maxDets=  1 ] = 0.311\n",
            " Average Recall     (AR) @[ IoU=0.50:0.95 | area=   all | maxDets= 10 ] = 0.436\n",
            " Average Recall     (AR) @[ IoU=0.50:0.95 | area=   all | maxDets=100 ] = 0.437\n",
            " Average Recall     (AR) @[ IoU=0.50:0.95 | area= small | maxDets=100 ] = 0.426\n",
            " Average Recall     (AR) @[ IoU=0.50:0.95 | area=medium | maxDets=100 ] = 0.492\n",
            " Average Recall     (AR) @[ IoU=0.50:0.95 | area= large | maxDets=100 ] = 0.000\n",
            "Cycle:[0] Epoch: [25]  [  0/239]  eta: 0:04:42  task_lr: 0.000189  task_loss: 0.1614 (0.1614)  time: 1.1809  data: 0.2573  max mem: 4967\n",
            "Cycle:[0] Epoch: [25]  [100/239]  eta: 0:02:08  task_lr: 0.000189  task_loss: 0.1504 (0.1538)  time: 0.9222  data: 0.0159  max mem: 4967\n",
            "Cycle:[0] Epoch: [25]  [200/239]  eta: 0:00:35  task_lr: 0.000189  task_loss: 0.1455 (0.1506)  time: 0.9212  data: 0.0156  max mem: 4967\n",
            "Cycle:[0] Epoch: [25]  [238/239]  eta: 0:00:00  task_lr: 0.000189  task_loss: 0.1415 (0.1493)  time: 0.9198  data: 0.0146  max mem: 4967\n",
            "Cycle:[0] Epoch: [25] Total time: 0:03:40 (0.9226 s / it)\n",
            "creating index...\n",
            "index created!\n",
            "Test:  [  0/239]  eta: 0:00:59  model_time: 0.1071 (0.1071)  evaluator_time: 0.0049 (0.0049)  time: 0.2498  data: 0.1353  max mem: 4967\n",
            "Test:  [100/239]  eta: 0:00:12  model_time: 0.0836 (0.0840)  evaluator_time: 0.0021 (0.0022)  time: 0.0918  data: 0.0044  max mem: 4967\n",
            "Test:  [200/239]  eta: 0:00:03  model_time: 0.0831 (0.0836)  evaluator_time: 0.0019 (0.0021)  time: 0.0916  data: 0.0043  max mem: 4967\n"
          ],
          "name": "stdout"
        },
        {
          "output_type": "stream",
          "text": [
            "[2021-08-05 22:00:06,995][<ipython-input-26-eec21089c3ff>][line:44][INFO] No improvement observed.\n"
          ],
          "name": "stderr"
        },
        {
          "output_type": "stream",
          "text": [
            "Test:  [238/239]  eta: 0:00:00  model_time: 0.0831 (0.0836)  evaluator_time: 0.0018 (0.0021)  time: 0.0921  data: 0.0043  max mem: 4967\n",
            "Test: Total time: 0:00:22 (0.0927 s / it)\n",
            "Averaged stats: model_time: 0.0831 (0.0836)  evaluator_time: 0.0018 (0.0021)\n",
            "Accumulating evaluation results...\n",
            "DONE (t=0.04s).\n",
            "IoU metric: bbox\n",
            " Average Precision  (AP) @[ IoU=0.50:0.95 | area=   all | maxDets=100 ] = 0.245\n",
            " Average Precision  (AP) @[ IoU=0.50      | area=   all | maxDets=100 ] = 0.484\n",
            " Average Precision  (AP) @[ IoU=0.75      | area=   all | maxDets=100 ] = 0.211\n",
            " Average Precision  (AP) @[ IoU=0.50:0.95 | area= small | maxDets=100 ] = 0.247\n",
            " Average Precision  (AP) @[ IoU=0.50:0.95 | area=medium | maxDets=100 ] = 0.275\n",
            " Average Precision  (AP) @[ IoU=0.50:0.95 | area= large | maxDets=100 ] = 0.000\n",
            " Average Recall     (AR) @[ IoU=0.50:0.95 | area=   all | maxDets=  1 ] = 0.314\n",
            " Average Recall     (AR) @[ IoU=0.50:0.95 | area=   all | maxDets= 10 ] = 0.416\n",
            " Average Recall     (AR) @[ IoU=0.50:0.95 | area=   all | maxDets=100 ] = 0.417\n",
            " Average Recall     (AR) @[ IoU=0.50:0.95 | area= small | maxDets=100 ] = 0.406\n",
            " Average Recall     (AR) @[ IoU=0.50:0.95 | area=medium | maxDets=100 ] = 0.469\n",
            " Average Recall     (AR) @[ IoU=0.50:0.95 | area= large | maxDets=100 ] = 0.000\n",
            "Cycle:[0] Epoch: [26]  [  0/239]  eta: 0:04:52  task_lr: 0.000181  task_loss: 0.1471 (0.1471)  time: 1.2230  data: 0.3052  max mem: 4967\n",
            "Cycle:[0] Epoch: [26]  [100/239]  eta: 0:02:08  task_lr: 0.000181  task_loss: 0.1422 (0.1505)  time: 0.9187  data: 0.0145  max mem: 4967\n",
            "Cycle:[0] Epoch: [26]  [200/239]  eta: 0:00:35  task_lr: 0.000181  task_loss: 0.1439 (0.1486)  time: 0.9203  data: 0.0151  max mem: 4967\n",
            "Cycle:[0] Epoch: [26]  [238/239]  eta: 0:00:00  task_lr: 0.000181  task_loss: 0.1612 (0.1498)  time: 0.9218  data: 0.0156  max mem: 4967\n",
            "Cycle:[0] Epoch: [26] Total time: 0:03:40 (0.9219 s / it)\n",
            "creating index...\n",
            "index created!\n",
            "Test:  [  0/239]  eta: 0:00:56  model_time: 0.0943 (0.0943)  evaluator_time: 0.0044 (0.0044)  time: 0.2347  data: 0.1315  max mem: 4967\n",
            "Test:  [100/239]  eta: 0:00:12  model_time: 0.0834 (0.0835)  evaluator_time: 0.0021 (0.0022)  time: 0.0917  data: 0.0044  max mem: 4967\n",
            "Test:  [200/239]  eta: 0:00:03  model_time: 0.0837 (0.0835)  evaluator_time: 0.0019 (0.0022)  time: 0.0920  data: 0.0043  max mem: 4967\n"
          ],
          "name": "stdout"
        },
        {
          "output_type": "stream",
          "text": [
            "[2021-08-05 22:04:44,845][<ipython-input-26-eec21089c3ff>][line:44][INFO] No improvement observed.\n"
          ],
          "name": "stderr"
        },
        {
          "output_type": "stream",
          "text": [
            "Test:  [238/239]  eta: 0:00:00  model_time: 0.0833 (0.0835)  evaluator_time: 0.0019 (0.0022)  time: 0.0912  data: 0.0044  max mem: 4967\n",
            "Test: Total time: 0:00:22 (0.0922 s / it)\n",
            "Averaged stats: model_time: 0.0833 (0.0835)  evaluator_time: 0.0019 (0.0022)\n",
            "Accumulating evaluation results...\n",
            "DONE (t=0.05s).\n",
            "IoU metric: bbox\n",
            " Average Precision  (AP) @[ IoU=0.50:0.95 | area=   all | maxDets=100 ] = 0.221\n",
            " Average Precision  (AP) @[ IoU=0.50      | area=   all | maxDets=100 ] = 0.454\n",
            " Average Precision  (AP) @[ IoU=0.75      | area=   all | maxDets=100 ] = 0.181\n",
            " Average Precision  (AP) @[ IoU=0.50:0.95 | area= small | maxDets=100 ] = 0.228\n",
            " Average Precision  (AP) @[ IoU=0.50:0.95 | area=medium | maxDets=100 ] = 0.239\n",
            " Average Precision  (AP) @[ IoU=0.50:0.95 | area= large | maxDets=100 ] = 0.001\n",
            " Average Recall     (AR) @[ IoU=0.50:0.95 | area=   all | maxDets=  1 ] = 0.298\n",
            " Average Recall     (AR) @[ IoU=0.50:0.95 | area=   all | maxDets= 10 ] = 0.382\n",
            " Average Recall     (AR) @[ IoU=0.50:0.95 | area=   all | maxDets=100 ] = 0.384\n",
            " Average Recall     (AR) @[ IoU=0.50:0.95 | area= small | maxDets=100 ] = 0.363\n",
            " Average Recall     (AR) @[ IoU=0.50:0.95 | area=medium | maxDets=100 ] = 0.461\n",
            " Average Recall     (AR) @[ IoU=0.50:0.95 | area= large | maxDets=100 ] = 0.100\n",
            "Cycle:[0] Epoch: [27]  [  0/239]  eta: 0:05:03  task_lr: 0.000173  task_loss: 0.2337 (0.2337)  time: 1.2680  data: 0.3323  max mem: 4967\n",
            "Cycle:[0] Epoch: [27]  [100/239]  eta: 0:02:08  task_lr: 0.000173  task_loss: 0.1444 (0.1519)  time: 0.9197  data: 0.0147  max mem: 4967\n",
            "Cycle:[0] Epoch: [27]  [200/239]  eta: 0:00:35  task_lr: 0.000173  task_loss: 0.1303 (0.1458)  time: 0.9207  data: 0.0157  max mem: 4967\n",
            "Cycle:[0] Epoch: [27]  [238/239]  eta: 0:00:00  task_lr: 0.000173  task_loss: 0.1424 (0.1462)  time: 0.9194  data: 0.0148  max mem: 4967\n",
            "Cycle:[0] Epoch: [27] Total time: 0:03:40 (0.9220 s / it)\n",
            "creating index...\n",
            "index created!\n",
            "Test:  [  0/239]  eta: 0:00:58  model_time: 0.1006 (0.1006)  evaluator_time: 0.0046 (0.0046)  time: 0.2449  data: 0.1367  max mem: 4967\n",
            "Test:  [100/239]  eta: 0:00:12  model_time: 0.0834 (0.0838)  evaluator_time: 0.0021 (0.0022)  time: 0.0913  data: 0.0041  max mem: 4967\n",
            "Test:  [200/239]  eta: 0:00:03  model_time: 0.0832 (0.0837)  evaluator_time: 0.0021 (0.0023)  time: 0.0912  data: 0.0043  max mem: 4967\n"
          ],
          "name": "stdout"
        },
        {
          "output_type": "stream",
          "text": [
            "[2021-08-05 22:09:22,666][<ipython-input-26-eec21089c3ff>][line:44][INFO] No improvement observed.\n"
          ],
          "name": "stderr"
        },
        {
          "output_type": "stream",
          "text": [
            "Test:  [238/239]  eta: 0:00:00  model_time: 0.0829 (0.0836)  evaluator_time: 0.0020 (0.0022)  time: 0.0903  data: 0.0039  max mem: 4967\n",
            "Test: Total time: 0:00:22 (0.0924 s / it)\n",
            "Averaged stats: model_time: 0.0829 (0.0836)  evaluator_time: 0.0020 (0.0022)\n",
            "Accumulating evaluation results...\n",
            "DONE (t=0.05s).\n",
            "IoU metric: bbox\n",
            " Average Precision  (AP) @[ IoU=0.50:0.95 | area=   all | maxDets=100 ] = 0.212\n",
            " Average Precision  (AP) @[ IoU=0.50      | area=   all | maxDets=100 ] = 0.434\n",
            " Average Precision  (AP) @[ IoU=0.75      | area=   all | maxDets=100 ] = 0.185\n",
            " Average Precision  (AP) @[ IoU=0.50:0.95 | area= small | maxDets=100 ] = 0.223\n",
            " Average Precision  (AP) @[ IoU=0.50:0.95 | area=medium | maxDets=100 ] = 0.216\n",
            " Average Precision  (AP) @[ IoU=0.50:0.95 | area= large | maxDets=100 ] = 0.000\n",
            " Average Recall     (AR) @[ IoU=0.50:0.95 | area=   all | maxDets=  1 ] = 0.298\n",
            " Average Recall     (AR) @[ IoU=0.50:0.95 | area=   all | maxDets= 10 ] = 0.405\n",
            " Average Recall     (AR) @[ IoU=0.50:0.95 | area=   all | maxDets=100 ] = 0.409\n",
            " Average Recall     (AR) @[ IoU=0.50:0.95 | area= small | maxDets=100 ] = 0.399\n",
            " Average Recall     (AR) @[ IoU=0.50:0.95 | area=medium | maxDets=100 ] = 0.459\n",
            " Average Recall     (AR) @[ IoU=0.50:0.95 | area= large | maxDets=100 ] = 0.000\n",
            "Cycle:[0] Epoch: [28]  [  0/239]  eta: 0:04:50  task_lr: 0.000166  task_loss: 0.2114 (0.2114)  time: 1.2148  data: 0.3017  max mem: 4967\n",
            "Cycle:[0] Epoch: [28]  [100/239]  eta: 0:02:08  task_lr: 0.000166  task_loss: 0.1332 (0.1453)  time: 0.9222  data: 0.0160  max mem: 4967\n",
            "Cycle:[0] Epoch: [28]  [200/239]  eta: 0:00:35  task_lr: 0.000166  task_loss: 0.1319 (0.1464)  time: 0.9211  data: 0.0155  max mem: 4967\n",
            "Cycle:[0] Epoch: [28]  [238/239]  eta: 0:00:00  task_lr: 0.000166  task_loss: 0.1607 (0.1477)  time: 0.9220  data: 0.0154  max mem: 4967\n",
            "Cycle:[0] Epoch: [28] Total time: 0:03:40 (0.9224 s / it)\n",
            "creating index...\n",
            "index created!\n",
            "Test:  [  0/239]  eta: 0:00:56  model_time: 0.0952 (0.0952)  evaluator_time: 0.0043 (0.0043)  time: 0.2351  data: 0.1334  max mem: 4967\n",
            "Test:  [100/239]  eta: 0:00:12  model_time: 0.0829 (0.0834)  evaluator_time: 0.0019 (0.0020)  time: 0.0908  data: 0.0045  max mem: 4967\n",
            "Test:  [200/239]  eta: 0:00:03  model_time: 0.0834 (0.0834)  evaluator_time: 0.0020 (0.0020)  time: 0.0913  data: 0.0043  max mem: 4967\n"
          ],
          "name": "stdout"
        },
        {
          "output_type": "stream",
          "text": [
            "[2021-08-05 22:14:00,427][<ipython-input-26-eec21089c3ff>][line:44][INFO] No improvement observed.\n"
          ],
          "name": "stderr"
        },
        {
          "output_type": "stream",
          "text": [
            "Test:  [238/239]  eta: 0:00:00  model_time: 0.0834 (0.0834)  evaluator_time: 0.0019 (0.0020)  time: 0.0914  data: 0.0042  max mem: 4967\n",
            "Test: Total time: 0:00:21 (0.0918 s / it)\n",
            "Averaged stats: model_time: 0.0834 (0.0834)  evaluator_time: 0.0019 (0.0020)\n",
            "Accumulating evaluation results...\n",
            "DONE (t=0.04s).\n",
            "IoU metric: bbox\n",
            " Average Precision  (AP) @[ IoU=0.50:0.95 | area=   all | maxDets=100 ] = 0.178\n",
            " Average Precision  (AP) @[ IoU=0.50      | area=   all | maxDets=100 ] = 0.474\n",
            " Average Precision  (AP) @[ IoU=0.75      | area=   all | maxDets=100 ] = 0.085\n",
            " Average Precision  (AP) @[ IoU=0.50:0.95 | area= small | maxDets=100 ] = 0.171\n",
            " Average Precision  (AP) @[ IoU=0.50:0.95 | area=medium | maxDets=100 ] = 0.233\n",
            " Average Precision  (AP) @[ IoU=0.50:0.95 | area= large | maxDets=100 ] = 0.000\n",
            " Average Recall     (AR) @[ IoU=0.50:0.95 | area=   all | maxDets=  1 ] = 0.243\n",
            " Average Recall     (AR) @[ IoU=0.50:0.95 | area=   all | maxDets= 10 ] = 0.317\n",
            " Average Recall     (AR) @[ IoU=0.50:0.95 | area=   all | maxDets=100 ] = 0.317\n",
            " Average Recall     (AR) @[ IoU=0.50:0.95 | area= small | maxDets=100 ] = 0.277\n",
            " Average Recall     (AR) @[ IoU=0.50:0.95 | area=medium | maxDets=100 ] = 0.451\n",
            " Average Recall     (AR) @[ IoU=0.50:0.95 | area= large | maxDets=100 ] = 0.000\n",
            "Cycle:[0] Epoch: [29]  [  0/239]  eta: 0:04:57  task_lr: 0.000158  task_loss: 0.1737 (0.1737)  time: 1.2454  data: 0.3312  max mem: 4967\n",
            "Cycle:[0] Epoch: [29]  [100/239]  eta: 0:02:08  task_lr: 0.000158  task_loss: 0.1431 (0.1458)  time: 0.9208  data: 0.0149  max mem: 4967\n",
            "Cycle:[0] Epoch: [29]  [200/239]  eta: 0:00:35  task_lr: 0.000158  task_loss: 0.1267 (0.1448)  time: 0.9233  data: 0.0165  max mem: 4967\n",
            "Cycle:[0] Epoch: [29]  [238/239]  eta: 0:00:00  task_lr: 0.000158  task_loss: 0.1383 (0.1450)  time: 0.9191  data: 0.0147  max mem: 4967\n",
            "Cycle:[0] Epoch: [29] Total time: 0:03:40 (0.9227 s / it)\n",
            "creating index...\n",
            "index created!\n",
            "Test:  [  0/239]  eta: 0:00:53  model_time: 0.0969 (0.0969)  evaluator_time: 0.0067 (0.0067)  time: 0.2258  data: 0.1200  max mem: 4967\n",
            "Test:  [100/239]  eta: 0:00:12  model_time: 0.0830 (0.0835)  evaluator_time: 0.0019 (0.0020)  time: 0.0909  data: 0.0042  max mem: 4967\n",
            "Test:  [200/239]  eta: 0:00:03  model_time: 0.0828 (0.0833)  evaluator_time: 0.0018 (0.0020)  time: 0.0902  data: 0.0039  max mem: 4967\n"
          ],
          "name": "stdout"
        },
        {
          "output_type": "stream",
          "text": [
            "[2021-08-05 22:18:39,679][<ipython-input-26-eec21089c3ff>][line:40][INFO] Saving best checkpoints for mAP 0.270364\n"
          ],
          "name": "stderr"
        },
        {
          "output_type": "stream",
          "text": [
            "Test:  [238/239]  eta: 0:00:00  model_time: 0.0832 (0.0837)  evaluator_time: 0.0018 (0.0019)  time: 0.0962  data: 0.0039  max mem: 4967\n",
            "Test: Total time: 0:00:21 (0.0920 s / it)\n",
            "Averaged stats: model_time: 0.0832 (0.0837)  evaluator_time: 0.0018 (0.0019)\n",
            "Accumulating evaluation results...\n",
            "DONE (t=0.04s).\n",
            "IoU metric: bbox\n",
            " Average Precision  (AP) @[ IoU=0.50:0.95 | area=   all | maxDets=100 ] = 0.270\n",
            " Average Precision  (AP) @[ IoU=0.50      | area=   all | maxDets=100 ] = 0.491\n",
            " Average Precision  (AP) @[ IoU=0.75      | area=   all | maxDets=100 ] = 0.286\n",
            " Average Precision  (AP) @[ IoU=0.50:0.95 | area= small | maxDets=100 ] = 0.275\n",
            " Average Precision  (AP) @[ IoU=0.50:0.95 | area=medium | maxDets=100 ] = 0.289\n",
            " Average Precision  (AP) @[ IoU=0.50:0.95 | area= large | maxDets=100 ] = 0.000\n",
            " Average Recall     (AR) @[ IoU=0.50:0.95 | area=   all | maxDets=  1 ] = 0.338\n",
            " Average Recall     (AR) @[ IoU=0.50:0.95 | area=   all | maxDets= 10 ] = 0.435\n",
            " Average Recall     (AR) @[ IoU=0.50:0.95 | area=   all | maxDets=100 ] = 0.435\n",
            " Average Recall     (AR) @[ IoU=0.50:0.95 | area= small | maxDets=100 ] = 0.435\n",
            " Average Recall     (AR) @[ IoU=0.50:0.95 | area=medium | maxDets=100 ] = 0.456\n",
            " Average Recall     (AR) @[ IoU=0.50:0.95 | area= large | maxDets=100 ] = 0.000\n",
            "Cycle:[0] Epoch: [30]  [  0/239]  eta: 0:04:56  task_lr: 0.000150  task_loss: 0.1676 (0.1676)  time: 1.2387  data: 0.3158  max mem: 4967\n",
            "Cycle:[0] Epoch: [30]  [100/239]  eta: 0:02:08  task_lr: 0.000150  task_loss: 0.1260 (0.1436)  time: 0.9196  data: 0.0149  max mem: 4967\n",
            "Cycle:[0] Epoch: [30]  [200/239]  eta: 0:00:35  task_lr: 0.000150  task_loss: 0.1474 (0.1458)  time: 0.9216  data: 0.0150  max mem: 4967\n",
            "Cycle:[0] Epoch: [30]  [238/239]  eta: 0:00:00  task_lr: 0.000150  task_loss: 0.1438 (0.1463)  time: 0.9195  data: 0.0146  max mem: 4967\n",
            "Cycle:[0] Epoch: [30] Total time: 0:03:40 (0.9227 s / it)\n",
            "creating index...\n",
            "index created!\n",
            "Test:  [  0/239]  eta: 0:00:55  model_time: 0.0947 (0.0947)  evaluator_time: 0.0051 (0.0051)  time: 0.2337  data: 0.1322  max mem: 4967\n",
            "Test:  [100/239]  eta: 0:00:12  model_time: 0.0831 (0.0837)  evaluator_time: 0.0021 (0.0023)  time: 0.0907  data: 0.0039  max mem: 4967\n",
            "Test:  [200/239]  eta: 0:00:03  model_time: 0.0830 (0.0835)  evaluator_time: 0.0021 (0.0023)  time: 0.0906  data: 0.0039  max mem: 4967\n"
          ],
          "name": "stdout"
        },
        {
          "output_type": "stream",
          "text": [
            "[2021-08-05 22:23:18,952][<ipython-input-26-eec21089c3ff>][line:40][INFO] Saving best checkpoints for mAP 0.279390\n"
          ],
          "name": "stderr"
        },
        {
          "output_type": "stream",
          "text": [
            "Test:  [238/239]  eta: 0:00:00  model_time: 0.0833 (0.0834)  evaluator_time: 0.0021 (0.0023)  time: 0.0908  data: 0.0040  max mem: 4967\n",
            "Test: Total time: 0:00:22 (0.0922 s / it)\n",
            "Averaged stats: model_time: 0.0833 (0.0834)  evaluator_time: 0.0021 (0.0023)\n",
            "Accumulating evaluation results...\n",
            "DONE (t=0.06s).\n",
            "IoU metric: bbox\n",
            " Average Precision  (AP) @[ IoU=0.50:0.95 | area=   all | maxDets=100 ] = 0.279\n",
            " Average Precision  (AP) @[ IoU=0.50      | area=   all | maxDets=100 ] = 0.499\n",
            " Average Precision  (AP) @[ IoU=0.75      | area=   all | maxDets=100 ] = 0.274\n",
            " Average Precision  (AP) @[ IoU=0.50:0.95 | area= small | maxDets=100 ] = 0.281\n",
            " Average Precision  (AP) @[ IoU=0.50:0.95 | area=medium | maxDets=100 ] = 0.308\n",
            " Average Precision  (AP) @[ IoU=0.50:0.95 | area= large | maxDets=100 ] = 0.000\n",
            " Average Recall     (AR) @[ IoU=0.50:0.95 | area=   all | maxDets=  1 ] = 0.356\n",
            " Average Recall     (AR) @[ IoU=0.50:0.95 | area=   all | maxDets= 10 ] = 0.464\n",
            " Average Recall     (AR) @[ IoU=0.50:0.95 | area=   all | maxDets=100 ] = 0.471\n",
            " Average Recall     (AR) @[ IoU=0.50:0.95 | area= small | maxDets=100 ] = 0.469\n",
            " Average Recall     (AR) @[ IoU=0.50:0.95 | area=medium | maxDets=100 ] = 0.500\n",
            " Average Recall     (AR) @[ IoU=0.50:0.95 | area= large | maxDets=100 ] = 0.000\n",
            "Cycle:[0] Epoch: [31]  [  0/239]  eta: 0:05:02  task_lr: 0.000142  task_loss: 0.1701 (0.1701)  time: 1.2660  data: 0.3495  max mem: 4967\n",
            "Cycle:[0] Epoch: [31]  [100/239]  eta: 0:02:08  task_lr: 0.000142  task_loss: 0.1437 (0.1456)  time: 0.9195  data: 0.0144  max mem: 4967\n",
            "Cycle:[0] Epoch: [31]  [200/239]  eta: 0:00:35  task_lr: 0.000142  task_loss: 0.1427 (0.1449)  time: 0.9182  data: 0.0148  max mem: 4967\n",
            "Cycle:[0] Epoch: [31]  [238/239]  eta: 0:00:00  task_lr: 0.000142  task_loss: 0.1262 (0.1439)  time: 0.9192  data: 0.0143  max mem: 4967\n",
            "Cycle:[0] Epoch: [31] Total time: 0:03:40 (0.9219 s / it)\n",
            "creating index...\n",
            "index created!\n",
            "Test:  [  0/239]  eta: 0:00:54  model_time: 0.0930 (0.0930)  evaluator_time: 0.0038 (0.0038)  time: 0.2266  data: 0.1278  max mem: 4967\n",
            "Test:  [100/239]  eta: 0:00:12  model_time: 0.0827 (0.0831)  evaluator_time: 0.0018 (0.0018)  time: 0.0900  data: 0.0037  max mem: 4967\n",
            "Test:  [200/239]  eta: 0:00:03  model_time: 0.0827 (0.0830)  evaluator_time: 0.0017 (0.0018)  time: 0.0897  data: 0.0036  max mem: 4967\n"
          ],
          "name": "stdout"
        },
        {
          "output_type": "stream",
          "text": [
            "[2021-08-05 22:27:54,799][<ipython-input-26-eec21089c3ff>][line:44][INFO] No improvement observed.\n"
          ],
          "name": "stderr"
        },
        {
          "output_type": "stream",
          "text": [
            "Test:  [238/239]  eta: 0:00:00  model_time: 0.0829 (0.0830)  evaluator_time: 0.0017 (0.0018)  time: 0.0899  data: 0.0040  max mem: 4967\n",
            "Test: Total time: 0:00:21 (0.0907 s / it)\n",
            "Averaged stats: model_time: 0.0829 (0.0830)  evaluator_time: 0.0017 (0.0018)\n",
            "Accumulating evaluation results...\n",
            "DONE (t=0.05s).\n",
            "IoU metric: bbox\n",
            " Average Precision  (AP) @[ IoU=0.50:0.95 | area=   all | maxDets=100 ] = 0.228\n",
            " Average Precision  (AP) @[ IoU=0.50      | area=   all | maxDets=100 ] = 0.447\n",
            " Average Precision  (AP) @[ IoU=0.75      | area=   all | maxDets=100 ] = 0.201\n",
            " Average Precision  (AP) @[ IoU=0.50:0.95 | area= small | maxDets=100 ] = 0.241\n",
            " Average Precision  (AP) @[ IoU=0.50:0.95 | area=medium | maxDets=100 ] = 0.231\n",
            " Average Precision  (AP) @[ IoU=0.50:0.95 | area= large | maxDets=100 ] = 0.000\n",
            " Average Recall     (AR) @[ IoU=0.50:0.95 | area=   all | maxDets=  1 ] = 0.297\n",
            " Average Recall     (AR) @[ IoU=0.50:0.95 | area=   all | maxDets= 10 ] = 0.412\n",
            " Average Recall     (AR) @[ IoU=0.50:0.95 | area=   all | maxDets=100 ] = 0.412\n",
            " Average Recall     (AR) @[ IoU=0.50:0.95 | area= small | maxDets=100 ] = 0.413\n",
            " Average Recall     (AR) @[ IoU=0.50:0.95 | area=medium | maxDets=100 ] = 0.430\n",
            " Average Recall     (AR) @[ IoU=0.50:0.95 | area= large | maxDets=100 ] = 0.000\n",
            "Cycle:[0] Epoch: [32]  [  0/239]  eta: 0:05:00  task_lr: 0.000134  task_loss: 0.1197 (0.1197)  time: 1.2571  data: 0.3392  max mem: 4967\n",
            "Cycle:[0] Epoch: [32]  [100/239]  eta: 0:02:08  task_lr: 0.000134  task_loss: 0.1283 (0.1337)  time: 0.9173  data: 0.0141  max mem: 4967\n",
            "Cycle:[0] Epoch: [32]  [200/239]  eta: 0:00:35  task_lr: 0.000134  task_loss: 0.1470 (0.1388)  time: 0.9191  data: 0.0153  max mem: 4967\n",
            "Cycle:[0] Epoch: [32]  [238/239]  eta: 0:00:00  task_lr: 0.000134  task_loss: 0.1286 (0.1390)  time: 0.9187  data: 0.0149  max mem: 4967\n",
            "Cycle:[0] Epoch: [32] Total time: 0:03:40 (0.9205 s / it)\n",
            "creating index...\n",
            "index created!\n",
            "Test:  [  0/239]  eta: 0:00:50  model_time: 0.0941 (0.0941)  evaluator_time: 0.0050 (0.0050)  time: 0.2092  data: 0.1079  max mem: 4967\n",
            "Test:  [100/239]  eta: 0:00:12  model_time: 0.0824 (0.0828)  evaluator_time: 0.0018 (0.0019)  time: 0.0895  data: 0.0037  max mem: 4967\n",
            "Test:  [200/239]  eta: 0:00:03  model_time: 0.0826 (0.0827)  evaluator_time: 0.0018 (0.0019)  time: 0.0893  data: 0.0035  max mem: 4967\n"
          ],
          "name": "stdout"
        },
        {
          "output_type": "stream",
          "text": [
            "[2021-08-05 22:32:30,873][<ipython-input-26-eec21089c3ff>][line:44][INFO] No improvement observed.\n"
          ],
          "name": "stderr"
        },
        {
          "output_type": "stream",
          "text": [
            "Test:  [238/239]  eta: 0:00:00  model_time: 0.0823 (0.0826)  evaluator_time: 0.0017 (0.0019)  time: 0.0892  data: 0.0035  max mem: 4967\n",
            "Test: Total time: 0:00:21 (0.0902 s / it)\n",
            "Averaged stats: model_time: 0.0823 (0.0826)  evaluator_time: 0.0017 (0.0019)\n",
            "Accumulating evaluation results...\n",
            "DONE (t=0.05s).\n",
            "IoU metric: bbox\n",
            " Average Precision  (AP) @[ IoU=0.50:0.95 | area=   all | maxDets=100 ] = 0.242\n",
            " Average Precision  (AP) @[ IoU=0.50      | area=   all | maxDets=100 ] = 0.480\n",
            " Average Precision  (AP) @[ IoU=0.75      | area=   all | maxDets=100 ] = 0.197\n",
            " Average Precision  (AP) @[ IoU=0.50:0.95 | area= small | maxDets=100 ] = 0.250\n",
            " Average Precision  (AP) @[ IoU=0.50:0.95 | area=medium | maxDets=100 ] = 0.248\n",
            " Average Precision  (AP) @[ IoU=0.50:0.95 | area= large | maxDets=100 ] = 0.000\n",
            " Average Recall     (AR) @[ IoU=0.50:0.95 | area=   all | maxDets=  1 ] = 0.331\n",
            " Average Recall     (AR) @[ IoU=0.50:0.95 | area=   all | maxDets= 10 ] = 0.442\n",
            " Average Recall     (AR) @[ IoU=0.50:0.95 | area=   all | maxDets=100 ] = 0.445\n",
            " Average Recall     (AR) @[ IoU=0.50:0.95 | area= small | maxDets=100 ] = 0.442\n",
            " Average Recall     (AR) @[ IoU=0.50:0.95 | area=medium | maxDets=100 ] = 0.479\n",
            " Average Recall     (AR) @[ IoU=0.50:0.95 | area= large | maxDets=100 ] = 0.000\n",
            "Cycle:[0] Epoch: [33]  [  0/239]  eta: 0:04:44  task_lr: 0.000127  task_loss: 0.1524 (0.1524)  time: 1.1889  data: 0.2793  max mem: 4967\n",
            "Cycle:[0] Epoch: [33]  [100/239]  eta: 0:02:08  task_lr: 0.000127  task_loss: 0.1298 (0.1425)  time: 0.9201  data: 0.0153  max mem: 4967\n",
            "Cycle:[0] Epoch: [33]  [200/239]  eta: 0:00:35  task_lr: 0.000127  task_loss: 0.1394 (0.1424)  time: 0.9183  data: 0.0154  max mem: 4967\n",
            "Cycle:[0] Epoch: [33]  [238/239]  eta: 0:00:00  task_lr: 0.000127  task_loss: 0.1251 (0.1406)  time: 0.9206  data: 0.0150  max mem: 4967\n",
            "Cycle:[0] Epoch: [33] Total time: 0:03:40 (0.9206 s / it)\n",
            "creating index...\n",
            "index created!\n",
            "Test:  [  0/239]  eta: 0:00:55  model_time: 0.0930 (0.0930)  evaluator_time: 0.0043 (0.0043)  time: 0.2308  data: 0.1303  max mem: 4967\n",
            "Test:  [100/239]  eta: 0:00:12  model_time: 0.0825 (0.0829)  evaluator_time: 0.0017 (0.0018)  time: 0.0895  data: 0.0036  max mem: 4967\n",
            "Test:  [200/239]  eta: 0:00:03  model_time: 0.0825 (0.0828)  evaluator_time: 0.0016 (0.0018)  time: 0.0905  data: 0.0039  max mem: 4967\n"
          ],
          "name": "stdout"
        },
        {
          "output_type": "stream",
          "text": [
            "[2021-08-05 22:37:07,614][<ipython-input-26-eec21089c3ff>][line:44][INFO] No improvement observed.\n"
          ],
          "name": "stderr"
        },
        {
          "output_type": "stream",
          "text": [
            "Test:  [238/239]  eta: 0:00:00  model_time: 0.0825 (0.0828)  evaluator_time: 0.0016 (0.0018)  time: 0.0903  data: 0.0040  max mem: 4967\n",
            "Test: Total time: 0:00:21 (0.0909 s / it)\n",
            "Averaged stats: model_time: 0.0825 (0.0828)  evaluator_time: 0.0016 (0.0018)\n",
            "Accumulating evaluation results...\n",
            "DONE (t=0.04s).\n",
            "IoU metric: bbox\n",
            " Average Precision  (AP) @[ IoU=0.50:0.95 | area=   all | maxDets=100 ] = 0.267\n",
            " Average Precision  (AP) @[ IoU=0.50      | area=   all | maxDets=100 ] = 0.505\n",
            " Average Precision  (AP) @[ IoU=0.75      | area=   all | maxDets=100 ] = 0.264\n",
            " Average Precision  (AP) @[ IoU=0.50:0.95 | area= small | maxDets=100 ] = 0.273\n",
            " Average Precision  (AP) @[ IoU=0.50:0.95 | area=medium | maxDets=100 ] = 0.273\n",
            " Average Precision  (AP) @[ IoU=0.50:0.95 | area= large | maxDets=100 ] = 0.000\n",
            " Average Recall     (AR) @[ IoU=0.50:0.95 | area=   all | maxDets=  1 ] = 0.347\n",
            " Average Recall     (AR) @[ IoU=0.50:0.95 | area=   all | maxDets= 10 ] = 0.445\n",
            " Average Recall     (AR) @[ IoU=0.50:0.95 | area=   all | maxDets=100 ] = 0.448\n",
            " Average Recall     (AR) @[ IoU=0.50:0.95 | area= small | maxDets=100 ] = 0.440\n",
            " Average Recall     (AR) @[ IoU=0.50:0.95 | area=medium | maxDets=100 ] = 0.490\n",
            " Average Recall     (AR) @[ IoU=0.50:0.95 | area= large | maxDets=100 ] = 0.000\n",
            "Cycle:[0] Epoch: [34]  [  0/239]  eta: 0:04:56  task_lr: 0.000119  task_loss: 0.1050 (0.1050)  time: 1.2398  data: 0.3229  max mem: 4967\n",
            "Cycle:[0] Epoch: [34]  [100/239]  eta: 0:02:08  task_lr: 0.000119  task_loss: 0.1393 (0.1402)  time: 0.9173  data: 0.0144  max mem: 4967\n",
            "Cycle:[0] Epoch: [34]  [200/239]  eta: 0:00:35  task_lr: 0.000119  task_loss: 0.1267 (0.1418)  time: 0.9206  data: 0.0154  max mem: 4967\n",
            "Cycle:[0] Epoch: [34]  [238/239]  eta: 0:00:00  task_lr: 0.000119  task_loss: 0.1178 (0.1418)  time: 0.9169  data: 0.0142  max mem: 4967\n",
            "Cycle:[0] Epoch: [34] Total time: 0:03:39 (0.9204 s / it)\n",
            "creating index...\n",
            "index created!\n",
            "Test:  [  0/239]  eta: 0:00:59  model_time: 0.0963 (0.0963)  evaluator_time: 0.0064 (0.0064)  time: 0.2503  data: 0.1441  max mem: 4967\n",
            "Test:  [100/239]  eta: 0:00:12  model_time: 0.0831 (0.0832)  evaluator_time: 0.0020 (0.0020)  time: 0.0927  data: 0.0043  max mem: 4967\n",
            "Test:  [200/239]  eta: 0:00:03  model_time: 0.0829 (0.0831)  evaluator_time: 0.0019 (0.0020)  time: 0.0902  data: 0.0038  max mem: 4967\n"
          ],
          "name": "stdout"
        },
        {
          "output_type": "stream",
          "text": [
            "[2021-08-05 22:41:44,344][<ipython-input-26-eec21089c3ff>][line:40][INFO] Saving best checkpoints for mAP 0.293920\n"
          ],
          "name": "stderr"
        },
        {
          "output_type": "stream",
          "text": [
            "Test:  [238/239]  eta: 0:00:00  model_time: 0.0832 (0.0831)  evaluator_time: 0.0020 (0.0020)  time: 0.0907  data: 0.0040  max mem: 4967\n",
            "Test: Total time: 0:00:21 (0.0914 s / it)\n",
            "Averaged stats: model_time: 0.0832 (0.0831)  evaluator_time: 0.0020 (0.0020)\n",
            "Accumulating evaluation results...\n",
            "DONE (t=0.06s).\n",
            "IoU metric: bbox\n",
            " Average Precision  (AP) @[ IoU=0.50:0.95 | area=   all | maxDets=100 ] = 0.294\n",
            " Average Precision  (AP) @[ IoU=0.50      | area=   all | maxDets=100 ] = 0.500\n",
            " Average Precision  (AP) @[ IoU=0.75      | area=   all | maxDets=100 ] = 0.319\n",
            " Average Precision  (AP) @[ IoU=0.50:0.95 | area= small | maxDets=100 ] = 0.306\n",
            " Average Precision  (AP) @[ IoU=0.50:0.95 | area=medium | maxDets=100 ] = 0.293\n",
            " Average Precision  (AP) @[ IoU=0.50:0.95 | area= large | maxDets=100 ] = 0.000\n",
            " Average Recall     (AR) @[ IoU=0.50:0.95 | area=   all | maxDets=  1 ] = 0.363\n",
            " Average Recall     (AR) @[ IoU=0.50:0.95 | area=   all | maxDets= 10 ] = 0.489\n",
            " Average Recall     (AR) @[ IoU=0.50:0.95 | area=   all | maxDets=100 ] = 0.498\n",
            " Average Recall     (AR) @[ IoU=0.50:0.95 | area= small | maxDets=100 ] = 0.517\n",
            " Average Recall     (AR) @[ IoU=0.50:0.95 | area=medium | maxDets=100 ] = 0.467\n",
            " Average Recall     (AR) @[ IoU=0.50:0.95 | area= large | maxDets=100 ] = 0.000\n",
            "Cycle:[0] Epoch: [35]  [  0/239]  eta: 0:04:55  task_lr: 0.000111  task_loss: 0.1981 (0.1981)  time: 1.2366  data: 0.3204  max mem: 4967\n",
            "Cycle:[0] Epoch: [35]  [100/239]  eta: 0:02:08  task_lr: 0.000111  task_loss: 0.1305 (0.1387)  time: 0.9168  data: 0.0138  max mem: 4967\n",
            "Cycle:[0] Epoch: [35]  [200/239]  eta: 0:00:35  task_lr: 0.000111  task_loss: 0.1226 (0.1376)  time: 0.9197  data: 0.0156  max mem: 4967\n",
            "Cycle:[0] Epoch: [35]  [238/239]  eta: 0:00:00  task_lr: 0.000111  task_loss: 0.1360 (0.1391)  time: 0.9163  data: 0.0136  max mem: 4967\n",
            "Cycle:[0] Epoch: [35] Total time: 0:03:39 (0.9197 s / it)\n",
            "creating index...\n",
            "index created!\n",
            "Test:  [  0/239]  eta: 0:00:54  model_time: 0.0957 (0.0957)  evaluator_time: 0.0043 (0.0043)  time: 0.2292  data: 0.1272  max mem: 4967\n",
            "Test:  [100/239]  eta: 0:00:12  model_time: 0.0827 (0.0831)  evaluator_time: 0.0017 (0.0018)  time: 0.0899  data: 0.0038  max mem: 4967\n",
            "Test:  [200/239]  eta: 0:00:03  model_time: 0.0824 (0.0829)  evaluator_time: 0.0017 (0.0018)  time: 0.0893  data: 0.0035  max mem: 4967\n"
          ],
          "name": "stdout"
        },
        {
          "output_type": "stream",
          "text": [
            "[2021-08-05 22:46:20,299][<ipython-input-26-eec21089c3ff>][line:44][INFO] No improvement observed.\n"
          ],
          "name": "stderr"
        },
        {
          "output_type": "stream",
          "text": [
            "Test:  [238/239]  eta: 0:00:00  model_time: 0.0823 (0.0828)  evaluator_time: 0.0015 (0.0018)  time: 0.0888  data: 0.0035  max mem: 4967\n",
            "Test: Total time: 0:00:21 (0.0905 s / it)\n",
            "Averaged stats: model_time: 0.0823 (0.0828)  evaluator_time: 0.0015 (0.0018)\n",
            "Accumulating evaluation results...\n",
            "DONE (t=0.04s).\n",
            "IoU metric: bbox\n",
            " Average Precision  (AP) @[ IoU=0.50:0.95 | area=   all | maxDets=100 ] = 0.266\n",
            " Average Precision  (AP) @[ IoU=0.50      | area=   all | maxDets=100 ] = 0.478\n",
            " Average Precision  (AP) @[ IoU=0.75      | area=   all | maxDets=100 ] = 0.296\n",
            " Average Precision  (AP) @[ IoU=0.50:0.95 | area= small | maxDets=100 ] = 0.275\n",
            " Average Precision  (AP) @[ IoU=0.50:0.95 | area=medium | maxDets=100 ] = 0.288\n",
            " Average Precision  (AP) @[ IoU=0.50:0.95 | area= large | maxDets=100 ] = 0.000\n",
            " Average Recall     (AR) @[ IoU=0.50:0.95 | area=   all | maxDets=  1 ] = 0.325\n",
            " Average Recall     (AR) @[ IoU=0.50:0.95 | area=   all | maxDets= 10 ] = 0.449\n",
            " Average Recall     (AR) @[ IoU=0.50:0.95 | area=   all | maxDets=100 ] = 0.451\n",
            " Average Recall     (AR) @[ IoU=0.50:0.95 | area= small | maxDets=100 ] = 0.447\n",
            " Average Recall     (AR) @[ IoU=0.50:0.95 | area=medium | maxDets=100 ] = 0.485\n",
            " Average Recall     (AR) @[ IoU=0.50:0.95 | area= large | maxDets=100 ] = 0.000\n",
            "Cycle:[0] Epoch: [36]  [  0/239]  eta: 0:04:46  task_lr: 0.000104  task_loss: 0.1421 (0.1421)  time: 1.1977  data: 0.2877  max mem: 4967\n",
            "Cycle:[0] Epoch: [36]  [100/239]  eta: 0:02:08  task_lr: 0.000104  task_loss: 0.1351 (0.1411)  time: 0.9209  data: 0.0154  max mem: 4967\n",
            "Cycle:[0] Epoch: [36]  [200/239]  eta: 0:00:35  task_lr: 0.000104  task_loss: 0.1279 (0.1365)  time: 0.9182  data: 0.0139  max mem: 4967\n",
            "Cycle:[0] Epoch: [36]  [238/239]  eta: 0:00:00  task_lr: 0.000104  task_loss: 0.1215 (0.1365)  time: 0.9198  data: 0.0141  max mem: 4967\n",
            "Cycle:[0] Epoch: [36] Total time: 0:03:39 (0.9202 s / it)\n",
            "creating index...\n",
            "index created!\n",
            "Test:  [  0/239]  eta: 0:00:54  model_time: 0.0946 (0.0946)  evaluator_time: 0.0043 (0.0043)  time: 0.2296  data: 0.1274  max mem: 4967\n",
            "Test:  [100/239]  eta: 0:00:12  model_time: 0.0824 (0.0827)  evaluator_time: 0.0018 (0.0018)  time: 0.0894  data: 0.0037  max mem: 4967\n",
            "Test:  [200/239]  eta: 0:00:03  model_time: 0.0832 (0.0834)  evaluator_time: 0.0018 (0.0018)  time: 0.0909  data: 0.0041  max mem: 4967\n"
          ],
          "name": "stdout"
        },
        {
          "output_type": "stream",
          "text": [
            "[2021-08-05 22:50:55,461][<ipython-input-26-eec21089c3ff>][line:44][INFO] No improvement observed.\n"
          ],
          "name": "stderr"
        },
        {
          "output_type": "stream",
          "text": [
            "Test:  [238/239]  eta: 0:00:00  model_time: 0.0831 (0.0834)  evaluator_time: 0.0019 (0.0019)  time: 0.0911  data: 0.0041  max mem: 4967\n",
            "Test: Total time: 0:00:21 (0.0912 s / it)\n",
            "Averaged stats: model_time: 0.0831 (0.0834)  evaluator_time: 0.0019 (0.0019)\n",
            "Accumulating evaluation results...\n",
            "DONE (t=0.05s).\n",
            "IoU metric: bbox\n",
            " Average Precision  (AP) @[ IoU=0.50:0.95 | area=   all | maxDets=100 ] = 0.265\n",
            " Average Precision  (AP) @[ IoU=0.50      | area=   all | maxDets=100 ] = 0.481\n",
            " Average Precision  (AP) @[ IoU=0.75      | area=   all | maxDets=100 ] = 0.264\n",
            " Average Precision  (AP) @[ IoU=0.50:0.95 | area= small | maxDets=100 ] = 0.278\n",
            " Average Precision  (AP) @[ IoU=0.50:0.95 | area=medium | maxDets=100 ] = 0.263\n",
            " Average Precision  (AP) @[ IoU=0.50:0.95 | area= large | maxDets=100 ] = 0.000\n",
            " Average Recall     (AR) @[ IoU=0.50:0.95 | area=   all | maxDets=  1 ] = 0.339\n",
            " Average Recall     (AR) @[ IoU=0.50:0.95 | area=   all | maxDets= 10 ] = 0.455\n",
            " Average Recall     (AR) @[ IoU=0.50:0.95 | area=   all | maxDets=100 ] = 0.455\n",
            " Average Recall     (AR) @[ IoU=0.50:0.95 | area= small | maxDets=100 ] = 0.451\n",
            " Average Recall     (AR) @[ IoU=0.50:0.95 | area=medium | maxDets=100 ] = 0.490\n",
            " Average Recall     (AR) @[ IoU=0.50:0.95 | area= large | maxDets=100 ] = 0.000\n",
            "Cycle:[0] Epoch: [37]  [  0/239]  eta: 0:04:54  task_lr: 0.000096  task_loss: 0.1499 (0.1499)  time: 1.2337  data: 0.3133  max mem: 4967\n",
            "Cycle:[0] Epoch: [37]  [100/239]  eta: 0:02:08  task_lr: 0.000096  task_loss: 0.1335 (0.1323)  time: 0.9195  data: 0.0151  max mem: 4967\n",
            "Cycle:[0] Epoch: [37]  [200/239]  eta: 0:00:35  task_lr: 0.000096  task_loss: 0.1269 (0.1333)  time: 0.9214  data: 0.0150  max mem: 4967\n",
            "Cycle:[0] Epoch: [37]  [238/239]  eta: 0:00:00  task_lr: 0.000096  task_loss: 0.1204 (0.1337)  time: 0.9169  data: 0.0139  max mem: 4967\n",
            "Cycle:[0] Epoch: [37] Total time: 0:03:39 (0.9202 s / it)\n",
            "creating index...\n",
            "index created!\n",
            "Test:  [  0/239]  eta: 0:00:53  model_time: 0.0967 (0.0967)  evaluator_time: 0.0054 (0.0054)  time: 0.2233  data: 0.1190  max mem: 4967\n",
            "Test:  [100/239]  eta: 0:00:12  model_time: 0.0824 (0.0827)  evaluator_time: 0.0018 (0.0018)  time: 0.0895  data: 0.0038  max mem: 4967\n",
            "Test:  [200/239]  eta: 0:00:03  model_time: 0.0824 (0.0826)  evaluator_time: 0.0016 (0.0018)  time: 0.0892  data: 0.0036  max mem: 4967\n"
          ],
          "name": "stdout"
        },
        {
          "output_type": "stream",
          "text": [
            "[2021-08-05 22:55:31,821][<ipython-input-26-eec21089c3ff>][line:44][INFO] No improvement observed.\n"
          ],
          "name": "stderr"
        },
        {
          "output_type": "stream",
          "text": [
            "Test:  [238/239]  eta: 0:00:00  model_time: 0.0824 (0.0826)  evaluator_time: 0.0016 (0.0018)  time: 0.0888  data: 0.0034  max mem: 4967\n",
            "Test: Total time: 0:00:21 (0.0901 s / it)\n",
            "Averaged stats: model_time: 0.0824 (0.0826)  evaluator_time: 0.0016 (0.0018)\n",
            "Accumulating evaluation results...\n",
            "DONE (t=0.04s).\n",
            "IoU metric: bbox\n",
            " Average Precision  (AP) @[ IoU=0.50:0.95 | area=   all | maxDets=100 ] = 0.264\n",
            " Average Precision  (AP) @[ IoU=0.50      | area=   all | maxDets=100 ] = 0.482\n",
            " Average Precision  (AP) @[ IoU=0.75      | area=   all | maxDets=100 ] = 0.270\n",
            " Average Precision  (AP) @[ IoU=0.50:0.95 | area= small | maxDets=100 ] = 0.276\n",
            " Average Precision  (AP) @[ IoU=0.50:0.95 | area=medium | maxDets=100 ] = 0.265\n",
            " Average Precision  (AP) @[ IoU=0.50:0.95 | area= large | maxDets=100 ] = 0.000\n",
            " Average Recall     (AR) @[ IoU=0.50:0.95 | area=   all | maxDets=  1 ] = 0.326\n",
            " Average Recall     (AR) @[ IoU=0.50:0.95 | area=   all | maxDets= 10 ] = 0.440\n",
            " Average Recall     (AR) @[ IoU=0.50:0.95 | area=   all | maxDets=100 ] = 0.448\n",
            " Average Recall     (AR) @[ IoU=0.50:0.95 | area= small | maxDets=100 ] = 0.437\n",
            " Average Recall     (AR) @[ IoU=0.50:0.95 | area=medium | maxDets=100 ] = 0.500\n",
            " Average Recall     (AR) @[ IoU=0.50:0.95 | area= large | maxDets=100 ] = 0.000\n",
            "Cycle:[0] Epoch: [38]  [  0/239]  eta: 0:04:49  task_lr: 0.000089  task_loss: 0.1113 (0.1113)  time: 1.2114  data: 0.3041  max mem: 4967\n",
            "Cycle:[0] Epoch: [38]  [100/239]  eta: 0:02:08  task_lr: 0.000089  task_loss: 0.1377 (0.1357)  time: 0.9203  data: 0.0148  max mem: 4967\n",
            "Cycle:[0] Epoch: [38]  [200/239]  eta: 0:00:35  task_lr: 0.000089  task_loss: 0.1224 (0.1346)  time: 0.9191  data: 0.0146  max mem: 4967\n",
            "Cycle:[0] Epoch: [38]  [238/239]  eta: 0:00:00  task_lr: 0.000089  task_loss: 0.1190 (0.1352)  time: 0.9169  data: 0.0140  max mem: 4967\n",
            "Cycle:[0] Epoch: [38] Total time: 0:03:39 (0.9204 s / it)\n",
            "creating index...\n",
            "index created!\n",
            "Test:  [  0/239]  eta: 0:00:52  model_time: 0.0972 (0.0972)  evaluator_time: 0.0048 (0.0048)  time: 0.2188  data: 0.1145  max mem: 4967\n",
            "Test:  [100/239]  eta: 0:00:12  model_time: 0.0828 (0.0832)  evaluator_time: 0.0019 (0.0019)  time: 0.0905  data: 0.0039  max mem: 4967\n",
            "Test:  [200/239]  eta: 0:00:03  model_time: 0.0831 (0.0831)  evaluator_time: 0.0020 (0.0019)  time: 0.0917  data: 0.0040  max mem: 4967\n"
          ],
          "name": "stdout"
        },
        {
          "output_type": "stream",
          "text": [
            "[2021-08-05 23:00:07,908][<ipython-input-26-eec21089c3ff>][line:44][INFO] No improvement observed.\n"
          ],
          "name": "stderr"
        },
        {
          "output_type": "stream",
          "text": [
            "Test:  [238/239]  eta: 0:00:00  model_time: 0.0824 (0.0831)  evaluator_time: 0.0017 (0.0019)  time: 0.0903  data: 0.0035  max mem: 4967\n",
            "Test: Total time: 0:00:21 (0.0916 s / it)\n",
            "Averaged stats: model_time: 0.0824 (0.0831)  evaluator_time: 0.0017 (0.0019)\n",
            "Accumulating evaluation results...\n",
            "DONE (t=0.05s).\n",
            "IoU metric: bbox\n",
            " Average Precision  (AP) @[ IoU=0.50:0.95 | area=   all | maxDets=100 ] = 0.255\n",
            " Average Precision  (AP) @[ IoU=0.50      | area=   all | maxDets=100 ] = 0.487\n",
            " Average Precision  (AP) @[ IoU=0.75      | area=   all | maxDets=100 ] = 0.247\n",
            " Average Precision  (AP) @[ IoU=0.50:0.95 | area= small | maxDets=100 ] = 0.258\n",
            " Average Precision  (AP) @[ IoU=0.50:0.95 | area=medium | maxDets=100 ] = 0.276\n",
            " Average Precision  (AP) @[ IoU=0.50:0.95 | area= large | maxDets=100 ] = 0.003\n",
            " Average Recall     (AR) @[ IoU=0.50:0.95 | area=   all | maxDets=  1 ] = 0.323\n",
            " Average Recall     (AR) @[ IoU=0.50:0.95 | area=   all | maxDets= 10 ] = 0.433\n",
            " Average Recall     (AR) @[ IoU=0.50:0.95 | area=   all | maxDets=100 ] = 0.438\n",
            " Average Recall     (AR) @[ IoU=0.50:0.95 | area= small | maxDets=100 ] = 0.432\n",
            " Average Recall     (AR) @[ IoU=0.50:0.95 | area=medium | maxDets=100 ] = 0.472\n",
            " Average Recall     (AR) @[ IoU=0.50:0.95 | area= large | maxDets=100 ] = 0.133\n",
            "Cycle:[0] Epoch: [39]  [  0/239]  eta: 0:04:41  task_lr: 0.000082  task_loss: 0.1097 (0.1097)  time: 1.1774  data: 0.2653  max mem: 4967\n",
            "Cycle:[0] Epoch: [39]  [100/239]  eta: 0:02:08  task_lr: 0.000082  task_loss: 0.1343 (0.1272)  time: 0.9170  data: 0.0142  max mem: 4967\n",
            "Cycle:[0] Epoch: [39]  [200/239]  eta: 0:00:35  task_lr: 0.000082  task_loss: 0.1486 (0.1280)  time: 0.9216  data: 0.0159  max mem: 4967\n",
            "Cycle:[0] Epoch: [39]  [238/239]  eta: 0:00:00  task_lr: 0.000082  task_loss: 0.1325 (0.1303)  time: 0.9199  data: 0.0148  max mem: 4967\n",
            "Cycle:[0] Epoch: [39] Total time: 0:03:39 (0.9202 s / it)\n",
            "creating index...\n",
            "index created!\n",
            "Test:  [  0/239]  eta: 0:00:53  model_time: 0.0930 (0.0930)  evaluator_time: 0.0041 (0.0041)  time: 0.2243  data: 0.1236  max mem: 4967\n",
            "Test:  [100/239]  eta: 0:00:12  model_time: 0.0827 (0.0826)  evaluator_time: 0.0018 (0.0018)  time: 0.0897  data: 0.0037  max mem: 4967\n",
            "Test:  [200/239]  eta: 0:00:03  model_time: 0.0828 (0.0827)  evaluator_time: 0.0018 (0.0019)  time: 0.0902  data: 0.0039  max mem: 4967\n"
          ],
          "name": "stdout"
        },
        {
          "output_type": "stream",
          "text": [
            "[2021-08-05 23:04:42,949][<ipython-input-26-eec21089c3ff>][line:44][INFO] No improvement observed.\n"
          ],
          "name": "stderr"
        },
        {
          "output_type": "stream",
          "text": [
            "Test:  [238/239]  eta: 0:00:00  model_time: 0.0829 (0.0828)  evaluator_time: 0.0018 (0.0019)  time: 0.0900  data: 0.0038  max mem: 4967\n",
            "Test: Total time: 0:00:21 (0.0906 s / it)\n",
            "Averaged stats: model_time: 0.0829 (0.0828)  evaluator_time: 0.0018 (0.0019)\n",
            "Accumulating evaluation results...\n",
            "DONE (t=0.05s).\n",
            "IoU metric: bbox\n",
            " Average Precision  (AP) @[ IoU=0.50:0.95 | area=   all | maxDets=100 ] = 0.254\n",
            " Average Precision  (AP) @[ IoU=0.50      | area=   all | maxDets=100 ] = 0.490\n",
            " Average Precision  (AP) @[ IoU=0.75      | area=   all | maxDets=100 ] = 0.220\n",
            " Average Precision  (AP) @[ IoU=0.50:0.95 | area= small | maxDets=100 ] = 0.263\n",
            " Average Precision  (AP) @[ IoU=0.50:0.95 | area=medium | maxDets=100 ] = 0.263\n",
            " Average Precision  (AP) @[ IoU=0.50:0.95 | area= large | maxDets=100 ] = 0.000\n",
            " Average Recall     (AR) @[ IoU=0.50:0.95 | area=   all | maxDets=  1 ] = 0.331\n",
            " Average Recall     (AR) @[ IoU=0.50:0.95 | area=   all | maxDets= 10 ] = 0.430\n",
            " Average Recall     (AR) @[ IoU=0.50:0.95 | area=   all | maxDets=100 ] = 0.432\n",
            " Average Recall     (AR) @[ IoU=0.50:0.95 | area= small | maxDets=100 ] = 0.421\n",
            " Average Recall     (AR) @[ IoU=0.50:0.95 | area=medium | maxDets=100 ] = 0.485\n",
            " Average Recall     (AR) @[ IoU=0.50:0.95 | area= large | maxDets=100 ] = 0.000\n",
            "Cycle:[0] Epoch: [40]  [  0/239]  eta: 0:04:49  task_lr: 0.000075  task_loss: 0.1152 (0.1152)  time: 1.2121  data: 0.2960  max mem: 4967\n",
            "Cycle:[0] Epoch: [40]  [100/239]  eta: 0:02:08  task_lr: 0.000075  task_loss: 0.1270 (0.1273)  time: 0.9190  data: 0.0147  max mem: 4967\n",
            "Cycle:[0] Epoch: [40]  [200/239]  eta: 0:00:35  task_lr: 0.000075  task_loss: 0.1315 (0.1330)  time: 0.9174  data: 0.0142  max mem: 4967\n",
            "Cycle:[0] Epoch: [40]  [238/239]  eta: 0:00:00  task_lr: 0.000075  task_loss: 0.1272 (0.1333)  time: 0.9185  data: 0.0143  max mem: 4967\n",
            "Cycle:[0] Epoch: [40] Total time: 0:03:39 (0.9203 s / it)\n",
            "creating index...\n",
            "index created!\n",
            "Test:  [  0/239]  eta: 0:00:54  model_time: 0.0941 (0.0941)  evaluator_time: 0.0042 (0.0042)  time: 0.2268  data: 0.1263  max mem: 4967\n",
            "Test:  [100/239]  eta: 0:00:12  model_time: 0.0822 (0.0826)  evaluator_time: 0.0018 (0.0018)  time: 0.0890  data: 0.0035  max mem: 4967\n",
            "Test:  [200/239]  eta: 0:00:03  model_time: 0.0828 (0.0826)  evaluator_time: 0.0021 (0.0019)  time: 0.0904  data: 0.0041  max mem: 4967\n"
          ],
          "name": "stdout"
        },
        {
          "output_type": "stream",
          "text": [
            "[2021-08-05 23:09:19,619][<ipython-input-26-eec21089c3ff>][line:44][INFO] No improvement observed.\n"
          ],
          "name": "stderr"
        },
        {
          "output_type": "stream",
          "text": [
            "Test:  [238/239]  eta: 0:00:00  model_time: 0.0823 (0.0826)  evaluator_time: 0.0017 (0.0019)  time: 0.0892  data: 0.0038  max mem: 4967\n",
            "Test: Total time: 0:00:21 (0.0904 s / it)\n",
            "Averaged stats: model_time: 0.0823 (0.0826)  evaluator_time: 0.0017 (0.0019)\n",
            "Accumulating evaluation results...\n",
            "DONE (t=0.05s).\n",
            "IoU metric: bbox\n",
            " Average Precision  (AP) @[ IoU=0.50:0.95 | area=   all | maxDets=100 ] = 0.260\n",
            " Average Precision  (AP) @[ IoU=0.50      | area=   all | maxDets=100 ] = 0.522\n",
            " Average Precision  (AP) @[ IoU=0.75      | area=   all | maxDets=100 ] = 0.226\n",
            " Average Precision  (AP) @[ IoU=0.50:0.95 | area= small | maxDets=100 ] = 0.260\n",
            " Average Precision  (AP) @[ IoU=0.50:0.95 | area=medium | maxDets=100 ] = 0.289\n",
            " Average Precision  (AP) @[ IoU=0.50:0.95 | area= large | maxDets=100 ] = 0.003\n",
            " Average Recall     (AR) @[ IoU=0.50:0.95 | area=   all | maxDets=  1 ] = 0.343\n",
            " Average Recall     (AR) @[ IoU=0.50:0.95 | area=   all | maxDets= 10 ] = 0.446\n",
            " Average Recall     (AR) @[ IoU=0.50:0.95 | area=   all | maxDets=100 ] = 0.447\n",
            " Average Recall     (AR) @[ IoU=0.50:0.95 | area= small | maxDets=100 ] = 0.438\n",
            " Average Recall     (AR) @[ IoU=0.50:0.95 | area=medium | maxDets=100 ] = 0.485\n",
            " Average Recall     (AR) @[ IoU=0.50:0.95 | area= large | maxDets=100 ] = 0.167\n",
            "Cycle:[0] Epoch: [41]  [  0/239]  eta: 0:04:49  task_lr: 0.000068  task_loss: 0.0837 (0.0837)  time: 1.2120  data: 0.2853  max mem: 4967\n",
            "Cycle:[0] Epoch: [41]  [100/239]  eta: 0:02:08  task_lr: 0.000068  task_loss: 0.1335 (0.1317)  time: 0.9198  data: 0.0144  max mem: 4967\n",
            "Cycle:[0] Epoch: [41]  [200/239]  eta: 0:00:35  task_lr: 0.000068  task_loss: 0.1234 (0.1313)  time: 0.9177  data: 0.0144  max mem: 4967\n",
            "Cycle:[0] Epoch: [41]  [238/239]  eta: 0:00:00  task_lr: 0.000068  task_loss: 0.1218 (0.1306)  time: 0.9205  data: 0.0153  max mem: 4967\n",
            "Cycle:[0] Epoch: [41] Total time: 0:03:39 (0.9201 s / it)\n",
            "creating index...\n",
            "index created!\n",
            "Test:  [  0/239]  eta: 0:00:53  model_time: 0.0939 (0.0939)  evaluator_time: 0.0039 (0.0039)  time: 0.2250  data: 0.1251  max mem: 4967\n",
            "Test:  [100/239]  eta: 0:00:12  model_time: 0.0824 (0.0828)  evaluator_time: 0.0017 (0.0017)  time: 0.0895  data: 0.0037  max mem: 4967\n",
            "Test:  [200/239]  eta: 0:00:03  model_time: 0.0827 (0.0828)  evaluator_time: 0.0016 (0.0017)  time: 0.0900  data: 0.0039  max mem: 4967\n"
          ],
          "name": "stdout"
        },
        {
          "output_type": "stream",
          "text": [
            "[2021-08-05 23:13:55,006][<ipython-input-26-eec21089c3ff>][line:44][INFO] No improvement observed.\n"
          ],
          "name": "stderr"
        },
        {
          "output_type": "stream",
          "text": [
            "Test:  [238/239]  eta: 0:00:00  model_time: 0.0827 (0.0828)  evaluator_time: 0.0017 (0.0017)  time: 0.0895  data: 0.0037  max mem: 4967\n",
            "Test: Total time: 0:00:21 (0.0905 s / it)\n",
            "Averaged stats: model_time: 0.0827 (0.0828)  evaluator_time: 0.0017 (0.0017)\n",
            "Accumulating evaluation results...\n",
            "DONE (t=0.06s).\n",
            "IoU metric: bbox\n",
            " Average Precision  (AP) @[ IoU=0.50:0.95 | area=   all | maxDets=100 ] = 0.229\n",
            " Average Precision  (AP) @[ IoU=0.50      | area=   all | maxDets=100 ] = 0.508\n",
            " Average Precision  (AP) @[ IoU=0.75      | area=   all | maxDets=100 ] = 0.169\n",
            " Average Precision  (AP) @[ IoU=0.50:0.95 | area= small | maxDets=100 ] = 0.229\n",
            " Average Precision  (AP) @[ IoU=0.50:0.95 | area=medium | maxDets=100 ] = 0.257\n",
            " Average Precision  (AP) @[ IoU=0.50:0.95 | area= large | maxDets=100 ] = 0.004\n",
            " Average Recall     (AR) @[ IoU=0.50:0.95 | area=   all | maxDets=  1 ] = 0.317\n",
            " Average Recall     (AR) @[ IoU=0.50:0.95 | area=   all | maxDets= 10 ] = 0.391\n",
            " Average Recall     (AR) @[ IoU=0.50:0.95 | area=   all | maxDets=100 ] = 0.395\n",
            " Average Recall     (AR) @[ IoU=0.50:0.95 | area= small | maxDets=100 ] = 0.369\n",
            " Average Recall     (AR) @[ IoU=0.50:0.95 | area=medium | maxDets=100 ] = 0.482\n",
            " Average Recall     (AR) @[ IoU=0.50:0.95 | area= large | maxDets=100 ] = 0.233\n",
            "Cycle:[0] Epoch: [42]  [  0/239]  eta: 0:04:46  task_lr: 0.000062  task_loss: 0.0813 (0.0813)  time: 1.2008  data: 0.2893  max mem: 4967\n",
            "Cycle:[0] Epoch: [42]  [100/239]  eta: 0:02:08  task_lr: 0.000062  task_loss: 0.1157 (0.1341)  time: 0.9186  data: 0.0142  max mem: 4967\n",
            "Cycle:[0] Epoch: [42]  [200/239]  eta: 0:00:35  task_lr: 0.000062  task_loss: 0.1274 (0.1336)  time: 0.9210  data: 0.0154  max mem: 4967\n",
            "Cycle:[0] Epoch: [42]  [238/239]  eta: 0:00:00  task_lr: 0.000062  task_loss: 0.1136 (0.1328)  time: 0.9173  data: 0.0142  max mem: 4967\n",
            "Cycle:[0] Epoch: [42] Total time: 0:03:40 (0.9208 s / it)\n",
            "creating index...\n",
            "index created!\n",
            "Test:  [  0/239]  eta: 0:00:55  model_time: 0.0940 (0.0940)  evaluator_time: 0.0041 (0.0041)  time: 0.2331  data: 0.1320  max mem: 4967\n",
            "Test:  [100/239]  eta: 0:00:12  model_time: 0.0825 (0.0829)  evaluator_time: 0.0017 (0.0018)  time: 0.0894  data: 0.0036  max mem: 4967\n",
            "Test:  [200/239]  eta: 0:00:03  model_time: 0.0827 (0.0829)  evaluator_time: 0.0019 (0.0019)  time: 0.0902  data: 0.0040  max mem: 4967\n"
          ],
          "name": "stdout"
        },
        {
          "output_type": "stream",
          "text": [
            "[2021-08-05 23:18:31,762][<ipython-input-26-eec21089c3ff>][line:44][INFO] No improvement observed.\n"
          ],
          "name": "stderr"
        },
        {
          "output_type": "stream",
          "text": [
            "Test:  [238/239]  eta: 0:00:00  model_time: 0.0827 (0.0829)  evaluator_time: 0.0017 (0.0019)  time: 0.0900  data: 0.0038  max mem: 4967\n",
            "Test: Total time: 0:00:21 (0.0908 s / it)\n",
            "Averaged stats: model_time: 0.0827 (0.0829)  evaluator_time: 0.0017 (0.0019)\n",
            "Accumulating evaluation results...\n",
            "DONE (t=0.05s).\n",
            "IoU metric: bbox\n",
            " Average Precision  (AP) @[ IoU=0.50:0.95 | area=   all | maxDets=100 ] = 0.262\n",
            " Average Precision  (AP) @[ IoU=0.50      | area=   all | maxDets=100 ] = 0.503\n",
            " Average Precision  (AP) @[ IoU=0.75      | area=   all | maxDets=100 ] = 0.258\n",
            " Average Precision  (AP) @[ IoU=0.50:0.95 | area= small | maxDets=100 ] = 0.269\n",
            " Average Precision  (AP) @[ IoU=0.50:0.95 | area=medium | maxDets=100 ] = 0.269\n",
            " Average Precision  (AP) @[ IoU=0.50:0.95 | area= large | maxDets=100 ] = 0.000\n",
            " Average Recall     (AR) @[ IoU=0.50:0.95 | area=   all | maxDets=  1 ] = 0.334\n",
            " Average Recall     (AR) @[ IoU=0.50:0.95 | area=   all | maxDets= 10 ] = 0.442\n",
            " Average Recall     (AR) @[ IoU=0.50:0.95 | area=   all | maxDets=100 ] = 0.445\n",
            " Average Recall     (AR) @[ IoU=0.50:0.95 | area= small | maxDets=100 ] = 0.441\n",
            " Average Recall     (AR) @[ IoU=0.50:0.95 | area=medium | maxDets=100 ] = 0.480\n",
            " Average Recall     (AR) @[ IoU=0.50:0.95 | area= large | maxDets=100 ] = 0.000\n",
            "Cycle:[0] Epoch: [43]  [  0/239]  eta: 0:04:49  task_lr: 0.000056  task_loss: 0.1507 (0.1507)  time: 1.2117  data: 0.3010  max mem: 4967\n",
            "Cycle:[0] Epoch: [43]  [100/239]  eta: 0:02:08  task_lr: 0.000056  task_loss: 0.1322 (0.1297)  time: 0.9205  data: 0.0153  max mem: 4967\n",
            "Cycle:[0] Epoch: [43]  [200/239]  eta: 0:00:35  task_lr: 0.000056  task_loss: 0.1167 (0.1289)  time: 0.9206  data: 0.0153  max mem: 4967\n",
            "Cycle:[0] Epoch: [43]  [238/239]  eta: 0:00:00  task_lr: 0.000056  task_loss: 0.1165 (0.1288)  time: 0.9201  data: 0.0148  max mem: 4967\n",
            "Cycle:[0] Epoch: [43] Total time: 0:03:40 (0.9225 s / it)\n",
            "creating index...\n",
            "index created!\n",
            "Test:  [  0/239]  eta: 0:00:56  model_time: 0.0948 (0.0948)  evaluator_time: 0.0045 (0.0045)  time: 0.2382  data: 0.1353  max mem: 4967\n",
            "Test:  [100/239]  eta: 0:00:12  model_time: 0.0828 (0.0833)  evaluator_time: 0.0018 (0.0019)  time: 0.0912  data: 0.0040  max mem: 4967\n",
            "Test:  [200/239]  eta: 0:00:03  model_time: 0.0828 (0.0832)  evaluator_time: 0.0019 (0.0019)  time: 0.0909  data: 0.0044  max mem: 4967\n"
          ],
          "name": "stdout"
        },
        {
          "output_type": "stream",
          "text": [
            "[2021-08-05 23:23:08,191][<ipython-input-26-eec21089c3ff>][line:44][INFO] No improvement observed.\n"
          ],
          "name": "stderr"
        },
        {
          "output_type": "stream",
          "text": [
            "Test:  [238/239]  eta: 0:00:00  model_time: 0.0824 (0.0835)  evaluator_time: 0.0016 (0.0019)  time: 0.0947  data: 0.0036  max mem: 4967\n",
            "Test: Total time: 0:00:21 (0.0917 s / it)\n",
            "Averaged stats: model_time: 0.0824 (0.0835)  evaluator_time: 0.0016 (0.0019)\n",
            "Accumulating evaluation results...\n",
            "DONE (t=0.06s).\n",
            "IoU metric: bbox\n",
            " Average Precision  (AP) @[ IoU=0.50:0.95 | area=   all | maxDets=100 ] = 0.283\n",
            " Average Precision  (AP) @[ IoU=0.50      | area=   all | maxDets=100 ] = 0.514\n",
            " Average Precision  (AP) @[ IoU=0.75      | area=   all | maxDets=100 ] = 0.281\n",
            " Average Precision  (AP) @[ IoU=0.50:0.95 | area= small | maxDets=100 ] = 0.282\n",
            " Average Precision  (AP) @[ IoU=0.50:0.95 | area=medium | maxDets=100 ] = 0.315\n",
            " Average Precision  (AP) @[ IoU=0.50:0.95 | area= large | maxDets=100 ] = 0.001\n",
            " Average Recall     (AR) @[ IoU=0.50:0.95 | area=   all | maxDets=  1 ] = 0.346\n",
            " Average Recall     (AR) @[ IoU=0.50:0.95 | area=   all | maxDets= 10 ] = 0.452\n",
            " Average Recall     (AR) @[ IoU=0.50:0.95 | area=   all | maxDets=100 ] = 0.455\n",
            " Average Recall     (AR) @[ IoU=0.50:0.95 | area= small | maxDets=100 ] = 0.447\n",
            " Average Recall     (AR) @[ IoU=0.50:0.95 | area=medium | maxDets=100 ] = 0.502\n",
            " Average Recall     (AR) @[ IoU=0.50:0.95 | area= large | maxDets=100 ] = 0.033\n",
            "Cycle:[0] Epoch: [44]  [  0/239]  eta: 0:04:49  task_lr: 0.000050  task_loss: 0.1538 (0.1538)  time: 1.2099  data: 0.2937  max mem: 4967\n",
            "Cycle:[0] Epoch: [44]  [100/239]  eta: 0:02:08  task_lr: 0.000050  task_loss: 0.1267 (0.1235)  time: 0.9171  data: 0.0132  max mem: 4967\n",
            "Cycle:[0] Epoch: [44]  [200/239]  eta: 0:00:35  task_lr: 0.000050  task_loss: 0.1370 (0.1281)  time: 0.9183  data: 0.0146  max mem: 4967\n",
            "Cycle:[0] Epoch: [44]  [238/239]  eta: 0:00:00  task_lr: 0.000050  task_loss: 0.1158 (0.1279)  time: 0.9205  data: 0.0147  max mem: 4967\n",
            "Cycle:[0] Epoch: [44] Total time: 0:03:40 (0.9210 s / it)\n",
            "creating index...\n",
            "index created!\n",
            "Test:  [  0/239]  eta: 0:00:55  model_time: 0.0949 (0.0949)  evaluator_time: 0.0053 (0.0053)  time: 0.2321  data: 0.1294  max mem: 4967\n",
            "Test:  [100/239]  eta: 0:00:12  model_time: 0.0826 (0.0828)  evaluator_time: 0.0016 (0.0018)  time: 0.0893  data: 0.0036  max mem: 4967\n",
            "Test:  [200/239]  eta: 0:00:03  model_time: 0.0828 (0.0829)  evaluator_time: 0.0018 (0.0018)  time: 0.0900  data: 0.0038  max mem: 4967\n"
          ],
          "name": "stdout"
        },
        {
          "output_type": "stream",
          "text": [
            "[2021-08-05 23:27:43,943][<ipython-input-26-eec21089c3ff>][line:40][INFO] Saving best checkpoints for mAP 0.294653\n"
          ],
          "name": "stderr"
        },
        {
          "output_type": "stream",
          "text": [
            "Test:  [238/239]  eta: 0:00:00  model_time: 0.0831 (0.0829)  evaluator_time: 0.0017 (0.0018)  time: 0.0898  data: 0.0037  max mem: 4967\n",
            "Test: Total time: 0:00:21 (0.0907 s / it)\n",
            "Averaged stats: model_time: 0.0831 (0.0829)  evaluator_time: 0.0017 (0.0018)\n",
            "Accumulating evaluation results...\n",
            "DONE (t=0.05s).\n",
            "IoU metric: bbox\n",
            " Average Precision  (AP) @[ IoU=0.50:0.95 | area=   all | maxDets=100 ] = 0.295\n",
            " Average Precision  (AP) @[ IoU=0.50      | area=   all | maxDets=100 ] = 0.517\n",
            " Average Precision  (AP) @[ IoU=0.75      | area=   all | maxDets=100 ] = 0.282\n",
            " Average Precision  (AP) @[ IoU=0.50:0.95 | area= small | maxDets=100 ] = 0.296\n",
            " Average Precision  (AP) @[ IoU=0.50:0.95 | area=medium | maxDets=100 ] = 0.323\n",
            " Average Precision  (AP) @[ IoU=0.50:0.95 | area= large | maxDets=100 ] = 0.002\n",
            " Average Recall     (AR) @[ IoU=0.50:0.95 | area=   all | maxDets=  1 ] = 0.370\n",
            " Average Recall     (AR) @[ IoU=0.50:0.95 | area=   all | maxDets= 10 ] = 0.476\n",
            " Average Recall     (AR) @[ IoU=0.50:0.95 | area=   all | maxDets=100 ] = 0.480\n",
            " Average Recall     (AR) @[ IoU=0.50:0.95 | area= small | maxDets=100 ] = 0.480\n",
            " Average Recall     (AR) @[ IoU=0.50:0.95 | area=medium | maxDets=100 ] = 0.502\n",
            " Average Recall     (AR) @[ IoU=0.50:0.95 | area= large | maxDets=100 ] = 0.067\n",
            "Cycle:[0] Epoch: [45]  [  0/239]  eta: 0:04:46  task_lr: 0.000044  task_loss: 0.0849 (0.0849)  time: 1.2004  data: 0.2793  max mem: 4967\n",
            "Cycle:[0] Epoch: [45]  [100/239]  eta: 0:02:08  task_lr: 0.000044  task_loss: 0.1292 (0.1285)  time: 0.9199  data: 0.0149  max mem: 4967\n",
            "Cycle:[0] Epoch: [45]  [200/239]  eta: 0:00:35  task_lr: 0.000044  task_loss: 0.1231 (0.1299)  time: 0.9209  data: 0.0152  max mem: 4967\n",
            "Cycle:[0] Epoch: [45]  [238/239]  eta: 0:00:00  task_lr: 0.000044  task_loss: 0.1097 (0.1292)  time: 0.9171  data: 0.0138  max mem: 4967\n",
            "Cycle:[0] Epoch: [45] Total time: 0:03:40 (0.9214 s / it)\n",
            "creating index...\n",
            "index created!\n",
            "Test:  [  0/239]  eta: 0:00:54  model_time: 0.0938 (0.0938)  evaluator_time: 0.0054 (0.0054)  time: 0.2300  data: 0.1276  max mem: 4967\n",
            "Test:  [100/239]  eta: 0:00:12  model_time: 0.0825 (0.0828)  evaluator_time: 0.0017 (0.0018)  time: 0.0895  data: 0.0037  max mem: 4967\n",
            "Test:  [200/239]  eta: 0:00:03  model_time: 0.0822 (0.0827)  evaluator_time: 0.0016 (0.0018)  time: 0.0889  data: 0.0036  max mem: 4967\n"
          ],
          "name": "stdout"
        },
        {
          "output_type": "stream",
          "text": [
            "[2021-08-05 23:32:21,370][<ipython-input-26-eec21089c3ff>][line:44][INFO] No improvement observed.\n"
          ],
          "name": "stderr"
        },
        {
          "output_type": "stream",
          "text": [
            "Test:  [238/239]  eta: 0:00:00  model_time: 0.0824 (0.0827)  evaluator_time: 0.0016 (0.0018)  time: 0.0888  data: 0.0035  max mem: 4967\n",
            "Test: Total time: 0:00:21 (0.0903 s / it)\n",
            "Averaged stats: model_time: 0.0824 (0.0827)  evaluator_time: 0.0016 (0.0018)\n",
            "Accumulating evaluation results...\n",
            "DONE (t=0.05s).\n",
            "IoU metric: bbox\n",
            " Average Precision  (AP) @[ IoU=0.50:0.95 | area=   all | maxDets=100 ] = 0.266\n",
            " Average Precision  (AP) @[ IoU=0.50      | area=   all | maxDets=100 ] = 0.517\n",
            " Average Precision  (AP) @[ IoU=0.75      | area=   all | maxDets=100 ] = 0.254\n",
            " Average Precision  (AP) @[ IoU=0.50:0.95 | area= small | maxDets=100 ] = 0.271\n",
            " Average Precision  (AP) @[ IoU=0.50:0.95 | area=medium | maxDets=100 ] = 0.283\n",
            " Average Precision  (AP) @[ IoU=0.50:0.95 | area= large | maxDets=100 ] = 0.000\n",
            " Average Recall     (AR) @[ IoU=0.50:0.95 | area=   all | maxDets=  1 ] = 0.327\n",
            " Average Recall     (AR) @[ IoU=0.50:0.95 | area=   all | maxDets= 10 ] = 0.447\n",
            " Average Recall     (AR) @[ IoU=0.50:0.95 | area=   all | maxDets=100 ] = 0.452\n",
            " Average Recall     (AR) @[ IoU=0.50:0.95 | area= small | maxDets=100 ] = 0.442\n",
            " Average Recall     (AR) @[ IoU=0.50:0.95 | area=medium | maxDets=100 ] = 0.503\n",
            " Average Recall     (AR) @[ IoU=0.50:0.95 | area= large | maxDets=100 ] = 0.000\n",
            "Cycle:[0] Epoch: [46]  [  0/239]  eta: 0:04:43  task_lr: 0.000039  task_loss: 0.1408 (0.1408)  time: 1.1874  data: 0.2677  max mem: 4967\n",
            "Cycle:[0] Epoch: [46]  [100/239]  eta: 0:02:08  task_lr: 0.000039  task_loss: 0.1091 (0.1307)  time: 0.9204  data: 0.0154  max mem: 4967\n",
            "Cycle:[0] Epoch: [46]  [200/239]  eta: 0:00:35  task_lr: 0.000039  task_loss: 0.1341 (0.1287)  time: 0.9172  data: 0.0135  max mem: 4967\n",
            "Cycle:[0] Epoch: [46]  [238/239]  eta: 0:00:00  task_lr: 0.000039  task_loss: 0.1199 (0.1284)  time: 0.9183  data: 0.0141  max mem: 4967\n",
            "Cycle:[0] Epoch: [46] Total time: 0:03:39 (0.9203 s / it)\n",
            "creating index...\n",
            "index created!\n",
            "Test:  [  0/239]  eta: 0:00:51  model_time: 0.0952 (0.0952)  evaluator_time: 0.0044 (0.0044)  time: 0.2143  data: 0.1125  max mem: 4967\n",
            "Test:  [100/239]  eta: 0:00:12  model_time: 0.0831 (0.0833)  evaluator_time: 0.0019 (0.0018)  time: 0.0936  data: 0.0049  max mem: 4967\n",
            "Test:  [200/239]  eta: 0:00:03  model_time: 0.0825 (0.0831)  evaluator_time: 0.0016 (0.0018)  time: 0.0907  data: 0.0040  max mem: 4967\n"
          ],
          "name": "stdout"
        },
        {
          "output_type": "stream",
          "text": [
            "[2021-08-05 23:36:58,390][<ipython-input-26-eec21089c3ff>][line:44][INFO] No improvement observed.\n"
          ],
          "name": "stderr"
        },
        {
          "output_type": "stream",
          "text": [
            "Test:  [238/239]  eta: 0:00:00  model_time: 0.0825 (0.0831)  evaluator_time: 0.0015 (0.0018)  time: 0.0908  data: 0.0041  max mem: 4967\n",
            "Test: Total time: 0:00:22 (0.0923 s / it)\n",
            "Averaged stats: model_time: 0.0825 (0.0831)  evaluator_time: 0.0015 (0.0018)\n",
            "Accumulating evaluation results...\n",
            "DONE (t=0.04s).\n",
            "IoU metric: bbox\n",
            " Average Precision  (AP) @[ IoU=0.50:0.95 | area=   all | maxDets=100 ] = 0.265\n",
            " Average Precision  (AP) @[ IoU=0.50      | area=   all | maxDets=100 ] = 0.520\n",
            " Average Precision  (AP) @[ IoU=0.75      | area=   all | maxDets=100 ] = 0.230\n",
            " Average Precision  (AP) @[ IoU=0.50:0.95 | area= small | maxDets=100 ] = 0.272\n",
            " Average Precision  (AP) @[ IoU=0.50:0.95 | area=medium | maxDets=100 ] = 0.276\n",
            " Average Precision  (AP) @[ IoU=0.50:0.95 | area= large | maxDets=100 ] = 0.000\n",
            " Average Recall     (AR) @[ IoU=0.50:0.95 | area=   all | maxDets=  1 ] = 0.335\n",
            " Average Recall     (AR) @[ IoU=0.50:0.95 | area=   all | maxDets= 10 ] = 0.434\n",
            " Average Recall     (AR) @[ IoU=0.50:0.95 | area=   all | maxDets=100 ] = 0.435\n",
            " Average Recall     (AR) @[ IoU=0.50:0.95 | area= small | maxDets=100 ] = 0.425\n",
            " Average Recall     (AR) @[ IoU=0.50:0.95 | area=medium | maxDets=100 ] = 0.485\n",
            " Average Recall     (AR) @[ IoU=0.50:0.95 | area= large | maxDets=100 ] = 0.000\n",
            "Cycle:[0] Epoch: [47]  [  0/239]  eta: 0:04:49  task_lr: 0.000033  task_loss: 0.0929 (0.0929)  time: 1.2096  data: 0.2853  max mem: 4967\n",
            "Cycle:[0] Epoch: [47]  [100/239]  eta: 0:02:08  task_lr: 0.000033  task_loss: 0.1243 (0.1276)  time: 0.9175  data: 0.0141  max mem: 4967\n",
            "Cycle:[0] Epoch: [47]  [200/239]  eta: 0:00:35  task_lr: 0.000033  task_loss: 0.1143 (0.1296)  time: 0.9219  data: 0.0160  max mem: 4967\n",
            "Cycle:[0] Epoch: [47]  [238/239]  eta: 0:00:00  task_lr: 0.000033  task_loss: 0.1323 (0.1291)  time: 0.9174  data: 0.0142  max mem: 4967\n",
            "Cycle:[0] Epoch: [47] Total time: 0:03:40 (0.9207 s / it)\n",
            "creating index...\n",
            "index created!\n",
            "Test:  [  0/239]  eta: 0:00:57  model_time: 0.0953 (0.0953)  evaluator_time: 0.0049 (0.0049)  time: 0.2393  data: 0.1364  max mem: 4967\n",
            "Test:  [100/239]  eta: 0:00:12  model_time: 0.0824 (0.0828)  evaluator_time: 0.0018 (0.0019)  time: 0.0895  data: 0.0037  max mem: 4967\n",
            "Test:  [200/239]  eta: 0:00:03  model_time: 0.0829 (0.0829)  evaluator_time: 0.0020 (0.0020)  time: 0.0913  data: 0.0041  max mem: 4967\n"
          ],
          "name": "stdout"
        },
        {
          "output_type": "stream",
          "text": [
            "[2021-08-05 23:41:35,233][<ipython-input-26-eec21089c3ff>][line:44][INFO] No improvement observed.\n"
          ],
          "name": "stderr"
        },
        {
          "output_type": "stream",
          "text": [
            "Test:  [238/239]  eta: 0:00:00  model_time: 0.0829 (0.0829)  evaluator_time: 0.0018 (0.0019)  time: 0.0914  data: 0.0041  max mem: 4967\n",
            "Test: Total time: 0:00:21 (0.0914 s / it)\n",
            "Averaged stats: model_time: 0.0829 (0.0829)  evaluator_time: 0.0018 (0.0019)\n",
            "Accumulating evaluation results...\n",
            "DONE (t=0.05s).\n",
            "IoU metric: bbox\n",
            " Average Precision  (AP) @[ IoU=0.50:0.95 | area=   all | maxDets=100 ] = 0.260\n",
            " Average Precision  (AP) @[ IoU=0.50      | area=   all | maxDets=100 ] = 0.519\n",
            " Average Precision  (AP) @[ IoU=0.75      | area=   all | maxDets=100 ] = 0.228\n",
            " Average Precision  (AP) @[ IoU=0.50:0.95 | area= small | maxDets=100 ] = 0.265\n",
            " Average Precision  (AP) @[ IoU=0.50:0.95 | area=medium | maxDets=100 ] = 0.274\n",
            " Average Precision  (AP) @[ IoU=0.50:0.95 | area= large | maxDets=100 ] = 0.001\n",
            " Average Recall     (AR) @[ IoU=0.50:0.95 | area=   all | maxDets=  1 ] = 0.322\n",
            " Average Recall     (AR) @[ IoU=0.50:0.95 | area=   all | maxDets= 10 ] = 0.438\n",
            " Average Recall     (AR) @[ IoU=0.50:0.95 | area=   all | maxDets=100 ] = 0.443\n",
            " Average Recall     (AR) @[ IoU=0.50:0.95 | area= small | maxDets=100 ] = 0.428\n",
            " Average Recall     (AR) @[ IoU=0.50:0.95 | area=medium | maxDets=100 ] = 0.507\n",
            " Average Recall     (AR) @[ IoU=0.50:0.95 | area= large | maxDets=100 ] = 0.067\n",
            "Cycle:[0] Epoch: [48]  [  0/239]  eta: 0:04:54  task_lr: 0.000029  task_loss: 0.1334 (0.1334)  time: 1.2310  data: 0.3081  max mem: 4967\n",
            "Cycle:[0] Epoch: [48]  [100/239]  eta: 0:02:08  task_lr: 0.000029  task_loss: 0.1159 (0.1201)  time: 0.9188  data: 0.0146  max mem: 4967\n",
            "Cycle:[0] Epoch: [48]  [200/239]  eta: 0:00:35  task_lr: 0.000029  task_loss: 0.1180 (0.1233)  time: 0.9172  data: 0.0140  max mem: 4967\n",
            "Cycle:[0] Epoch: [48]  [238/239]  eta: 0:00:00  task_lr: 0.000029  task_loss: 0.1313 (0.1243)  time: 0.9203  data: 0.0146  max mem: 4967\n",
            "Cycle:[0] Epoch: [48] Total time: 0:03:40 (0.9209 s / it)\n",
            "creating index...\n",
            "index created!\n",
            "Test:  [  0/239]  eta: 0:00:56  model_time: 0.0938 (0.0938)  evaluator_time: 0.0041 (0.0041)  time: 0.2357  data: 0.1351  max mem: 4967\n",
            "Test:  [100/239]  eta: 0:00:12  model_time: 0.0830 (0.0835)  evaluator_time: 0.0020 (0.0020)  time: 0.0909  data: 0.0040  max mem: 4967\n",
            "Test:  [200/239]  eta: 0:00:03  model_time: 0.0830 (0.0833)  evaluator_time: 0.0017 (0.0019)  time: 0.0915  data: 0.0041  max mem: 4967\n"
          ],
          "name": "stdout"
        },
        {
          "output_type": "stream",
          "text": [
            "[2021-08-05 23:46:10,363][<ipython-input-26-eec21089c3ff>][line:44][INFO] No improvement observed.\n"
          ],
          "name": "stderr"
        },
        {
          "output_type": "stream",
          "text": [
            "Test:  [238/239]  eta: 0:00:00  model_time: 0.0828 (0.0833)  evaluator_time: 0.0017 (0.0019)  time: 0.0907  data: 0.0040  max mem: 4967\n",
            "Test: Total time: 0:00:21 (0.0918 s / it)\n",
            "Averaged stats: model_time: 0.0828 (0.0833)  evaluator_time: 0.0017 (0.0019)\n",
            "Accumulating evaluation results...\n",
            "DONE (t=0.05s).\n",
            "IoU metric: bbox\n",
            " Average Precision  (AP) @[ IoU=0.50:0.95 | area=   all | maxDets=100 ] = 0.261\n",
            " Average Precision  (AP) @[ IoU=0.50      | area=   all | maxDets=100 ] = 0.521\n",
            " Average Precision  (AP) @[ IoU=0.75      | area=   all | maxDets=100 ] = 0.238\n",
            " Average Precision  (AP) @[ IoU=0.50:0.95 | area= small | maxDets=100 ] = 0.263\n",
            " Average Precision  (AP) @[ IoU=0.50:0.95 | area=medium | maxDets=100 ] = 0.288\n",
            " Average Precision  (AP) @[ IoU=0.50:0.95 | area= large | maxDets=100 ] = 0.000\n",
            " Average Recall     (AR) @[ IoU=0.50:0.95 | area=   all | maxDets=  1 ] = 0.335\n",
            " Average Recall     (AR) @[ IoU=0.50:0.95 | area=   all | maxDets= 10 ] = 0.431\n",
            " Average Recall     (AR) @[ IoU=0.50:0.95 | area=   all | maxDets=100 ] = 0.433\n",
            " Average Recall     (AR) @[ IoU=0.50:0.95 | area= small | maxDets=100 ] = 0.417\n",
            " Average Recall     (AR) @[ IoU=0.50:0.95 | area=medium | maxDets=100 ] = 0.498\n",
            " Average Recall     (AR) @[ IoU=0.50:0.95 | area= large | maxDets=100 ] = 0.000\n",
            "Cycle:[0] Epoch: [49]  [  0/239]  eta: 0:04:54  task_lr: 0.000024  task_loss: 0.0616 (0.0616)  time: 1.2305  data: 0.3091  max mem: 4967\n",
            "Cycle:[0] Epoch: [49]  [100/239]  eta: 0:02:08  task_lr: 0.000024  task_loss: 0.1254 (0.1229)  time: 0.9217  data: 0.0157  max mem: 4967\n",
            "Cycle:[0] Epoch: [49]  [200/239]  eta: 0:00:35  task_lr: 0.000024  task_loss: 0.1356 (0.1240)  time: 0.9185  data: 0.0145  max mem: 4967\n",
            "Cycle:[0] Epoch: [49]  [238/239]  eta: 0:00:00  task_lr: 0.000024  task_loss: 0.1227 (0.1249)  time: 0.9203  data: 0.0149  max mem: 4967\n",
            "Cycle:[0] Epoch: [49] Total time: 0:03:40 (0.9210 s / it)\n",
            "creating index...\n",
            "index created!\n",
            "Test:  [  0/239]  eta: 0:00:52  model_time: 0.0978 (0.0978)  evaluator_time: 0.0044 (0.0044)  time: 0.2201  data: 0.1159  max mem: 4967\n",
            "Test:  [100/239]  eta: 0:00:12  model_time: 0.0822 (0.0829)  evaluator_time: 0.0018 (0.0018)  time: 0.0894  data: 0.0037  max mem: 4967\n",
            "Test:  [200/239]  eta: 0:00:03  model_time: 0.0824 (0.0827)  evaluator_time: 0.0017 (0.0018)  time: 0.0894  data: 0.0039  max mem: 4967\n"
          ],
          "name": "stdout"
        },
        {
          "output_type": "stream",
          "text": [
            "[2021-08-05 23:50:46,694][<ipython-input-26-eec21089c3ff>][line:44][INFO] No improvement observed.\n"
          ],
          "name": "stderr"
        },
        {
          "output_type": "stream",
          "text": [
            "Test:  [238/239]  eta: 0:00:00  model_time: 0.0828 (0.0827)  evaluator_time: 0.0018 (0.0018)  time: 0.0900  data: 0.0038  max mem: 4967\n",
            "Test: Total time: 0:00:21 (0.0903 s / it)\n",
            "Averaged stats: model_time: 0.0828 (0.0827)  evaluator_time: 0.0018 (0.0018)\n",
            "Accumulating evaluation results...\n",
            "DONE (t=0.05s).\n",
            "IoU metric: bbox\n",
            " Average Precision  (AP) @[ IoU=0.50:0.95 | area=   all | maxDets=100 ] = 0.276\n",
            " Average Precision  (AP) @[ IoU=0.50      | area=   all | maxDets=100 ] = 0.526\n",
            " Average Precision  (AP) @[ IoU=0.75      | area=   all | maxDets=100 ] = 0.271\n",
            " Average Precision  (AP) @[ IoU=0.50:0.95 | area= small | maxDets=100 ] = 0.280\n",
            " Average Precision  (AP) @[ IoU=0.50:0.95 | area=medium | maxDets=100 ] = 0.291\n",
            " Average Precision  (AP) @[ IoU=0.50:0.95 | area= large | maxDets=100 ] = 0.004\n",
            " Average Recall     (AR) @[ IoU=0.50:0.95 | area=   all | maxDets=  1 ] = 0.342\n",
            " Average Recall     (AR) @[ IoU=0.50:0.95 | area=   all | maxDets= 10 ] = 0.447\n",
            " Average Recall     (AR) @[ IoU=0.50:0.95 | area=   all | maxDets=100 ] = 0.452\n",
            " Average Recall     (AR) @[ IoU=0.50:0.95 | area= small | maxDets=100 ] = 0.435\n",
            " Average Recall     (AR) @[ IoU=0.50:0.95 | area=medium | maxDets=100 ] = 0.513\n",
            " Average Recall     (AR) @[ IoU=0.50:0.95 | area= large | maxDets=100 ] = 0.233\n",
            "Cycle:[0] Epoch: [50]  [  0/239]  eta: 0:05:03  task_lr: 0.000020  task_loss: 0.1182 (0.1182)  time: 1.2700  data: 0.3545  max mem: 4967\n",
            "Cycle:[0] Epoch: [50]  [100/239]  eta: 0:02:08  task_lr: 0.000020  task_loss: 0.1138 (0.1287)  time: 0.9207  data: 0.0150  max mem: 4967\n",
            "Cycle:[0] Epoch: [50]  [200/239]  eta: 0:00:35  task_lr: 0.000020  task_loss: 0.1162 (0.1283)  time: 0.9217  data: 0.0156  max mem: 4967\n",
            "Cycle:[0] Epoch: [50]  [238/239]  eta: 0:00:00  task_lr: 0.000020  task_loss: 0.1044 (0.1273)  time: 0.9170  data: 0.0139  max mem: 4967\n",
            "Cycle:[0] Epoch: [50] Total time: 0:03:40 (0.9213 s / it)\n",
            "creating index...\n",
            "index created!\n",
            "Test:  [  0/239]  eta: 0:00:49  model_time: 0.0943 (0.0943)  evaluator_time: 0.0041 (0.0041)  time: 0.2087  data: 0.1081  max mem: 4967\n",
            "Test:  [100/239]  eta: 0:00:12  model_time: 0.0824 (0.0830)  evaluator_time: 0.0017 (0.0018)  time: 0.0895  data: 0.0036  max mem: 4967\n",
            "Test:  [200/239]  eta: 0:00:03  model_time: 0.0824 (0.0829)  evaluator_time: 0.0016 (0.0018)  time: 0.0891  data: 0.0036  max mem: 4967\n"
          ],
          "name": "stdout"
        },
        {
          "output_type": "stream",
          "text": [
            "[2021-08-05 23:55:23,179][<ipython-input-26-eec21089c3ff>][line:44][INFO] No improvement observed.\n"
          ],
          "name": "stderr"
        },
        {
          "output_type": "stream",
          "text": [
            "Test:  [238/239]  eta: 0:00:00  model_time: 0.0824 (0.0828)  evaluator_time: 0.0016 (0.0018)  time: 0.0889  data: 0.0034  max mem: 4967\n",
            "Test: Total time: 0:00:21 (0.0904 s / it)\n",
            "Averaged stats: model_time: 0.0824 (0.0828)  evaluator_time: 0.0016 (0.0018)\n",
            "Accumulating evaluation results...\n",
            "DONE (t=0.04s).\n",
            "IoU metric: bbox\n",
            " Average Precision  (AP) @[ IoU=0.50:0.95 | area=   all | maxDets=100 ] = 0.260\n",
            " Average Precision  (AP) @[ IoU=0.50      | area=   all | maxDets=100 ] = 0.514\n",
            " Average Precision  (AP) @[ IoU=0.75      | area=   all | maxDets=100 ] = 0.215\n",
            " Average Precision  (AP) @[ IoU=0.50:0.95 | area= small | maxDets=100 ] = 0.264\n",
            " Average Precision  (AP) @[ IoU=0.50:0.95 | area=medium | maxDets=100 ] = 0.275\n",
            " Average Precision  (AP) @[ IoU=0.50:0.95 | area= large | maxDets=100 ] = 0.000\n",
            " Average Recall     (AR) @[ IoU=0.50:0.95 | area=   all | maxDets=  1 ] = 0.335\n",
            " Average Recall     (AR) @[ IoU=0.50:0.95 | area=   all | maxDets= 10 ] = 0.432\n",
            " Average Recall     (AR) @[ IoU=0.50:0.95 | area=   all | maxDets=100 ] = 0.434\n",
            " Average Recall     (AR) @[ IoU=0.50:0.95 | area= small | maxDets=100 ] = 0.420\n",
            " Average Recall     (AR) @[ IoU=0.50:0.95 | area=medium | maxDets=100 ] = 0.495\n",
            " Average Recall     (AR) @[ IoU=0.50:0.95 | area= large | maxDets=100 ] = 0.000\n",
            "Cycle:[0] Epoch: [51]  [  0/239]  eta: 0:05:14  task_lr: 0.000016  task_loss: 0.0901 (0.0901)  time: 1.3142  data: 0.4070  max mem: 4967\n",
            "Cycle:[0] Epoch: [51]  [100/239]  eta: 0:02:08  task_lr: 0.000016  task_loss: 0.1162 (0.1257)  time: 0.9190  data: 0.0142  max mem: 4967\n",
            "Cycle:[0] Epoch: [51]  [200/239]  eta: 0:00:35  task_lr: 0.000016  task_loss: 0.1157 (0.1230)  time: 0.9195  data: 0.0154  max mem: 4967\n",
            "Cycle:[0] Epoch: [51]  [238/239]  eta: 0:00:00  task_lr: 0.000016  task_loss: 0.1199 (0.1227)  time: 0.9172  data: 0.0136  max mem: 4967\n",
            "Cycle:[0] Epoch: [51] Total time: 0:03:40 (0.9215 s / it)\n",
            "creating index...\n",
            "index created!\n",
            "Test:  [  0/239]  eta: 0:00:56  model_time: 0.0959 (0.0959)  evaluator_time: 0.0040 (0.0040)  time: 0.2350  data: 0.1330  max mem: 4967\n",
            "Test:  [100/239]  eta: 0:00:12  model_time: 0.0830 (0.0832)  evaluator_time: 0.0018 (0.0018)  time: 0.0903  data: 0.0039  max mem: 4967\n",
            "Test:  [200/239]  eta: 0:00:03  model_time: 0.0829 (0.0831)  evaluator_time: 0.0016 (0.0018)  time: 0.0917  data: 0.0044  max mem: 4967\n"
          ],
          "name": "stdout"
        },
        {
          "output_type": "stream",
          "text": [
            "[2021-08-05 23:59:58,903][<ipython-input-26-eec21089c3ff>][line:44][INFO] No improvement observed.\n"
          ],
          "name": "stderr"
        },
        {
          "output_type": "stream",
          "text": [
            "Test:  [238/239]  eta: 0:00:00  model_time: 0.0823 (0.0831)  evaluator_time: 0.0015 (0.0018)  time: 0.0892  data: 0.0036  max mem: 4967\n",
            "Test: Total time: 0:00:21 (0.0915 s / it)\n",
            "Averaged stats: model_time: 0.0823 (0.0831)  evaluator_time: 0.0015 (0.0018)\n",
            "Accumulating evaluation results...\n",
            "DONE (t=0.04s).\n",
            "IoU metric: bbox\n",
            " Average Precision  (AP) @[ IoU=0.50:0.95 | area=   all | maxDets=100 ] = 0.270\n",
            " Average Precision  (AP) @[ IoU=0.50      | area=   all | maxDets=100 ] = 0.524\n",
            " Average Precision  (AP) @[ IoU=0.75      | area=   all | maxDets=100 ] = 0.265\n",
            " Average Precision  (AP) @[ IoU=0.50:0.95 | area= small | maxDets=100 ] = 0.277\n",
            " Average Precision  (AP) @[ IoU=0.50:0.95 | area=medium | maxDets=100 ] = 0.283\n",
            " Average Precision  (AP) @[ IoU=0.50:0.95 | area= large | maxDets=100 ] = 0.000\n",
            " Average Recall     (AR) @[ IoU=0.50:0.95 | area=   all | maxDets=  1 ] = 0.344\n",
            " Average Recall     (AR) @[ IoU=0.50:0.95 | area=   all | maxDets= 10 ] = 0.440\n",
            " Average Recall     (AR) @[ IoU=0.50:0.95 | area=   all | maxDets=100 ] = 0.441\n",
            " Average Recall     (AR) @[ IoU=0.50:0.95 | area= small | maxDets=100 ] = 0.429\n",
            " Average Recall     (AR) @[ IoU=0.50:0.95 | area=medium | maxDets=100 ] = 0.498\n",
            " Average Recall     (AR) @[ IoU=0.50:0.95 | area= large | maxDets=100 ] = 0.000\n",
            "Cycle:[0] Epoch: [52]  [  0/239]  eta: 0:04:49  task_lr: 0.000013  task_loss: 0.1452 (0.1452)  time: 1.2093  data: 0.2986  max mem: 4967\n",
            "Cycle:[0] Epoch: [52]  [100/239]  eta: 0:02:08  task_lr: 0.000013  task_loss: 0.1362 (0.1255)  time: 0.9184  data: 0.0145  max mem: 4967\n",
            "Cycle:[0] Epoch: [52]  [200/239]  eta: 0:00:35  task_lr: 0.000013  task_loss: 0.1180 (0.1248)  time: 0.9196  data: 0.0146  max mem: 4967\n",
            "Cycle:[0] Epoch: [52]  [238/239]  eta: 0:00:00  task_lr: 0.000013  task_loss: 0.1212 (0.1253)  time: 0.9194  data: 0.0146  max mem: 4967\n",
            "Cycle:[0] Epoch: [52] Total time: 0:03:40 (0.9209 s / it)\n",
            "creating index...\n",
            "index created!\n",
            "Test:  [  0/239]  eta: 0:00:51  model_time: 0.0932 (0.0932)  evaluator_time: 0.0041 (0.0041)  time: 0.2145  data: 0.1150  max mem: 4967\n",
            "Test:  [100/239]  eta: 0:00:12  model_time: 0.0824 (0.0828)  evaluator_time: 0.0017 (0.0018)  time: 0.0893  data: 0.0035  max mem: 4967\n",
            "Test:  [200/239]  eta: 0:00:03  model_time: 0.0823 (0.0827)  evaluator_time: 0.0016 (0.0018)  time: 0.0890  data: 0.0037  max mem: 4967\n"
          ],
          "name": "stdout"
        },
        {
          "output_type": "stream",
          "text": [
            "[2021-08-06 00:04:34,247][<ipython-input-26-eec21089c3ff>][line:44][INFO] No improvement observed.\n"
          ],
          "name": "stderr"
        },
        {
          "output_type": "stream",
          "text": [
            "Test:  [238/239]  eta: 0:00:00  model_time: 0.0827 (0.0827)  evaluator_time: 0.0017 (0.0018)  time: 0.0899  data: 0.0038  max mem: 4967\n",
            "Test: Total time: 0:00:21 (0.0903 s / it)\n",
            "Averaged stats: model_time: 0.0827 (0.0827)  evaluator_time: 0.0017 (0.0018)\n",
            "Accumulating evaluation results...\n",
            "DONE (t=0.05s).\n",
            "IoU metric: bbox\n",
            " Average Precision  (AP) @[ IoU=0.50:0.95 | area=   all | maxDets=100 ] = 0.249\n",
            " Average Precision  (AP) @[ IoU=0.50      | area=   all | maxDets=100 ] = 0.510\n",
            " Average Precision  (AP) @[ IoU=0.75      | area=   all | maxDets=100 ] = 0.219\n",
            " Average Precision  (AP) @[ IoU=0.50:0.95 | area= small | maxDets=100 ] = 0.254\n",
            " Average Precision  (AP) @[ IoU=0.50:0.95 | area=medium | maxDets=100 ] = 0.263\n",
            " Average Precision  (AP) @[ IoU=0.50:0.95 | area= large | maxDets=100 ] = 0.000\n",
            " Average Recall     (AR) @[ IoU=0.50:0.95 | area=   all | maxDets=  1 ] = 0.328\n",
            " Average Recall     (AR) @[ IoU=0.50:0.95 | area=   all | maxDets= 10 ] = 0.428\n",
            " Average Recall     (AR) @[ IoU=0.50:0.95 | area=   all | maxDets=100 ] = 0.431\n",
            " Average Recall     (AR) @[ IoU=0.50:0.95 | area= small | maxDets=100 ] = 0.417\n",
            " Average Recall     (AR) @[ IoU=0.50:0.95 | area=medium | maxDets=100 ] = 0.493\n",
            " Average Recall     (AR) @[ IoU=0.50:0.95 | area= large | maxDets=100 ] = 0.000\n",
            "Cycle:[0] Epoch: [53]  [  0/239]  eta: 0:04:55  task_lr: 0.000010  task_loss: 0.1647 (0.1647)  time: 1.2381  data: 0.3218  max mem: 4967\n",
            "Cycle:[0] Epoch: [53]  [100/239]  eta: 0:02:08  task_lr: 0.000010  task_loss: 0.1082 (0.1240)  time: 0.9200  data: 0.0150  max mem: 4967\n",
            "Cycle:[0] Epoch: [53]  [200/239]  eta: 0:00:35  task_lr: 0.000010  task_loss: 0.1095 (0.1243)  time: 0.9175  data: 0.0137  max mem: 4967\n",
            "Cycle:[0] Epoch: [53]  [238/239]  eta: 0:00:00  task_lr: 0.000010  task_loss: 0.1200 (0.1240)  time: 0.9205  data: 0.0150  max mem: 4967\n",
            "Cycle:[0] Epoch: [53] Total time: 0:03:40 (0.9205 s / it)\n",
            "creating index...\n",
            "index created!\n",
            "Test:  [  0/239]  eta: 0:00:55  model_time: 0.0939 (0.0939)  evaluator_time: 0.0041 (0.0041)  time: 0.2326  data: 0.1325  max mem: 4967\n",
            "Test:  [100/239]  eta: 0:00:12  model_time: 0.0823 (0.0827)  evaluator_time: 0.0016 (0.0017)  time: 0.0890  data: 0.0036  max mem: 4967\n",
            "Test:  [200/239]  eta: 0:00:03  model_time: 0.0826 (0.0826)  evaluator_time: 0.0017 (0.0017)  time: 0.0895  data: 0.0036  max mem: 4967\n"
          ],
          "name": "stdout"
        },
        {
          "output_type": "stream",
          "text": [
            "[2021-08-06 00:09:10,538][<ipython-input-26-eec21089c3ff>][line:44][INFO] No improvement observed.\n"
          ],
          "name": "stderr"
        },
        {
          "output_type": "stream",
          "text": [
            "Test:  [238/239]  eta: 0:00:00  model_time: 0.0822 (0.0826)  evaluator_time: 0.0015 (0.0017)  time: 0.0888  data: 0.0035  max mem: 4967\n",
            "Test: Total time: 0:00:21 (0.0901 s / it)\n",
            "Averaged stats: model_time: 0.0822 (0.0826)  evaluator_time: 0.0015 (0.0017)\n",
            "Accumulating evaluation results...\n",
            "DONE (t=0.04s).\n",
            "IoU metric: bbox\n",
            " Average Precision  (AP) @[ IoU=0.50:0.95 | area=   all | maxDets=100 ] = 0.281\n",
            " Average Precision  (AP) @[ IoU=0.50      | area=   all | maxDets=100 ] = 0.528\n",
            " Average Precision  (AP) @[ IoU=0.75      | area=   all | maxDets=100 ] = 0.279\n",
            " Average Precision  (AP) @[ IoU=0.50:0.95 | area= small | maxDets=100 ] = 0.289\n",
            " Average Precision  (AP) @[ IoU=0.50:0.95 | area=medium | maxDets=100 ] = 0.287\n",
            " Average Precision  (AP) @[ IoU=0.50:0.95 | area= large | maxDets=100 ] = 0.000\n",
            " Average Recall     (AR) @[ IoU=0.50:0.95 | area=   all | maxDets=  1 ] = 0.347\n",
            " Average Recall     (AR) @[ IoU=0.50:0.95 | area=   all | maxDets= 10 ] = 0.458\n",
            " Average Recall     (AR) @[ IoU=0.50:0.95 | area=   all | maxDets=100 ] = 0.460\n",
            " Average Recall     (AR) @[ IoU=0.50:0.95 | area= small | maxDets=100 ] = 0.454\n",
            " Average Recall     (AR) @[ IoU=0.50:0.95 | area=medium | maxDets=100 ] = 0.500\n",
            " Average Recall     (AR) @[ IoU=0.50:0.95 | area= large | maxDets=100 ] = 0.000\n",
            "Cycle:[0] Epoch: [54]  [  0/239]  eta: 0:04:44  task_lr: 0.000007  task_loss: 0.1120 (0.1120)  time: 1.1899  data: 0.2712  max mem: 4967\n",
            "Cycle:[0] Epoch: [54]  [100/239]  eta: 0:02:08  task_lr: 0.000007  task_loss: 0.1352 (0.1286)  time: 0.9207  data: 0.0158  max mem: 4967\n",
            "Cycle:[0] Epoch: [54]  [200/239]  eta: 0:00:35  task_lr: 0.000007  task_loss: 0.1198 (0.1286)  time: 0.9223  data: 0.0165  max mem: 4967\n",
            "Cycle:[0] Epoch: [54]  [238/239]  eta: 0:00:00  task_lr: 0.000007  task_loss: 0.1161 (0.1260)  time: 0.9189  data: 0.0146  max mem: 4967\n",
            "Cycle:[0] Epoch: [54] Total time: 0:03:40 (0.9218 s / it)\n",
            "creating index...\n",
            "index created!\n",
            "Test:  [  0/239]  eta: 0:00:57  model_time: 0.0951 (0.0951)  evaluator_time: 0.0044 (0.0044)  time: 0.2398  data: 0.1381  max mem: 4967\n",
            "Test:  [100/239]  eta: 0:00:12  model_time: 0.0824 (0.0828)  evaluator_time: 0.0017 (0.0017)  time: 0.0893  data: 0.0037  max mem: 4967\n",
            "Test:  [200/239]  eta: 0:00:03  model_time: 0.0826 (0.0827)  evaluator_time: 0.0015 (0.0017)  time: 0.0893  data: 0.0037  max mem: 4967\n"
          ],
          "name": "stdout"
        },
        {
          "output_type": "stream",
          "text": [
            "[2021-08-06 00:13:47,395][<ipython-input-26-eec21089c3ff>][line:44][INFO] No improvement observed.\n",
            "[2021-08-06 00:13:47,397][<ipython-input-26-eec21089c3ff>][line:47][INFO] Training stops at epoch 55 due to plateau in performance.\n",
            "[2021-08-06 00:13:47,404][<ipython-input-26-eec21089c3ff>][line:50][INFO] COCO Performance on the test set\n"
          ],
          "name": "stderr"
        },
        {
          "output_type": "stream",
          "text": [
            "Test:  [238/239]  eta: 0:00:00  model_time: 0.0825 (0.0827)  evaluator_time: 0.0015 (0.0017)  time: 0.0899  data: 0.0038  max mem: 4967\n",
            "Test: Total time: 0:00:21 (0.0904 s / it)\n",
            "Averaged stats: model_time: 0.0825 (0.0827)  evaluator_time: 0.0015 (0.0017)\n",
            "Accumulating evaluation results...\n",
            "DONE (t=0.04s).\n",
            "IoU metric: bbox\n",
            " Average Precision  (AP) @[ IoU=0.50:0.95 | area=   all | maxDets=100 ] = 0.288\n",
            " Average Precision  (AP) @[ IoU=0.50      | area=   all | maxDets=100 ] = 0.522\n",
            " Average Precision  (AP) @[ IoU=0.75      | area=   all | maxDets=100 ] = 0.296\n",
            " Average Precision  (AP) @[ IoU=0.50:0.95 | area= small | maxDets=100 ] = 0.299\n",
            " Average Precision  (AP) @[ IoU=0.50:0.95 | area=medium | maxDets=100 ] = 0.292\n",
            " Average Precision  (AP) @[ IoU=0.50:0.95 | area= large | maxDets=100 ] = 0.000\n",
            " Average Recall     (AR) @[ IoU=0.50:0.95 | area=   all | maxDets=  1 ] = 0.368\n",
            " Average Recall     (AR) @[ IoU=0.50:0.95 | area=   all | maxDets= 10 ] = 0.466\n",
            " Average Recall     (AR) @[ IoU=0.50:0.95 | area=   all | maxDets=100 ] = 0.467\n",
            " Average Recall     (AR) @[ IoU=0.50:0.95 | area= small | maxDets=100 ] = 0.467\n",
            " Average Recall     (AR) @[ IoU=0.50:0.95 | area=medium | maxDets=100 ] = 0.490\n",
            " Average Recall     (AR) @[ IoU=0.50:0.95 | area= large | maxDets=100 ] = 0.000\n",
            "creating index...\n",
            "index created!\n",
            "Test:  [  0/240]  eta: 0:00:54  model_time: 0.0958 (0.0958)  evaluator_time: 0.0045 (0.0045)  time: 0.2288  data: 0.1263  max mem: 4967\n",
            "Test:  [100/240]  eta: 0:00:12  model_time: 0.0828 (0.0832)  evaluator_time: 0.0017 (0.0018)  time: 0.0901  data: 0.0039  max mem: 4967\n",
            "Test:  [200/240]  eta: 0:00:03  model_time: 0.0828 (0.0830)  evaluator_time: 0.0017 (0.0018)  time: 0.0900  data: 0.0039  max mem: 4967\n"
          ],
          "name": "stdout"
        },
        {
          "output_type": "stream",
          "text": [
            "[2021-08-06 00:14:44,264][<ipython-input-26-eec21089c3ff>][line:52][INFO] [0.25065955 0.45984435 0.25993482 0.27478144 0.20970187 0.00763791\n",
            " 0.3291498  0.46315789 0.46315789 0.47885714 0.43478261 0.2       ]\n",
            "[2021-08-06 00:14:44,267][<ipython-input-26-eec21089c3ff>][line:57][INFO] Training time 4:37:22\n"
          ],
          "name": "stderr"
        },
        {
          "output_type": "stream",
          "text": [
            "Test:  [239/240]  eta: 0:00:00  model_time: 0.0828 (0.0830)  evaluator_time: 0.0017 (0.0018)  time: 0.0899  data: 0.0037  max mem: 4967\n",
            "Test: Total time: 0:00:21 (0.0910 s / it)\n",
            "Averaged stats: model_time: 0.0828 (0.0830)  evaluator_time: 0.0017 (0.0018)\n",
            "Accumulating evaluation results...\n",
            "DONE (t=0.05s).\n",
            "IoU metric: bbox\n",
            " Average Precision  (AP) @[ IoU=0.50:0.95 | area=   all | maxDets=100 ] = 0.251\n",
            " Average Precision  (AP) @[ IoU=0.50      | area=   all | maxDets=100 ] = 0.460\n",
            " Average Precision  (AP) @[ IoU=0.75      | area=   all | maxDets=100 ] = 0.260\n",
            " Average Precision  (AP) @[ IoU=0.50:0.95 | area= small | maxDets=100 ] = 0.275\n",
            " Average Precision  (AP) @[ IoU=0.50:0.95 | area=medium | maxDets=100 ] = 0.210\n",
            " Average Precision  (AP) @[ IoU=0.50:0.95 | area= large | maxDets=100 ] = 0.008\n",
            " Average Recall     (AR) @[ IoU=0.50:0.95 | area=   all | maxDets=  1 ] = 0.329\n",
            " Average Recall     (AR) @[ IoU=0.50:0.95 | area=   all | maxDets= 10 ] = 0.463\n",
            " Average Recall     (AR) @[ IoU=0.50:0.95 | area=   all | maxDets=100 ] = 0.463\n",
            " Average Recall     (AR) @[ IoU=0.50:0.95 | area= small | maxDets=100 ] = 0.479\n",
            " Average Recall     (AR) @[ IoU=0.50:0.95 | area=medium | maxDets=100 ] = 0.435\n",
            " Average Recall     (AR) @[ IoU=0.50:0.95 | area= large | maxDets=100 ] = 0.200\n"
          ],
          "name": "stdout"
        }
      ]
    },
    {
      "cell_type": "code",
      "metadata": {
        "colab": {
          "base_uri": "https://localhost:8080/"
        },
        "id": "VSE2HyDwBHrF",
        "outputId": "3288409b-ad3c-419f-ed96-beda5a288ce8"
      },
      "source": [
        "path = 'drive/MyDrive/exp_results/faster-rcnn-DeepLesion-alssl-pretrained/'+exp_name+'_best.pth'\n",
        "task_model.load_state_dict(torch.load(path)['model'])\n",
        "evaluator = evaluate(task_model, data_loader_test, device=device)"
      ],
      "execution_count": null,
      "outputs": [
        {
          "output_type": "stream",
          "text": [
            "creating index...\n",
            "index created!\n",
            "Test:  [  0/240]  eta: 0:00:57  model_time: 0.1007 (0.1007)  evaluator_time: 0.0041 (0.0041)  time: 0.2377  data: 0.1309  max mem: 4967\n",
            "Test:  [100/240]  eta: 0:00:12  model_time: 0.0827 (0.0833)  evaluator_time: 0.0017 (0.0018)  time: 0.0897  data: 0.0038  max mem: 4967\n",
            "Test:  [200/240]  eta: 0:00:03  model_time: 0.0829 (0.0833)  evaluator_time: 0.0017 (0.0018)  time: 0.0907  data: 0.0042  max mem: 4967\n",
            "Test:  [239/240]  eta: 0:00:00  model_time: 0.0828 (0.0833)  evaluator_time: 0.0017 (0.0018)  time: 0.0902  data: 0.0040  max mem: 4967\n",
            "Test: Total time: 0:00:21 (0.0914 s / it)\n",
            "Averaged stats: model_time: 0.0828 (0.0833)  evaluator_time: 0.0017 (0.0018)\n",
            "Accumulating evaluation results...\n",
            "DONE (t=0.05s).\n",
            "IoU metric: bbox\n",
            " Average Precision  (AP) @[ IoU=0.50:0.95 | area=   all | maxDets=100 ] = 0.241\n",
            " Average Precision  (AP) @[ IoU=0.50      | area=   all | maxDets=100 ] = 0.444\n",
            " Average Precision  (AP) @[ IoU=0.75      | area=   all | maxDets=100 ] = 0.263\n",
            " Average Precision  (AP) @[ IoU=0.50:0.95 | area= small | maxDets=100 ] = 0.267\n",
            " Average Precision  (AP) @[ IoU=0.50:0.95 | area=medium | maxDets=100 ] = 0.199\n",
            " Average Precision  (AP) @[ IoU=0.50:0.95 | area= large | maxDets=100 ] = 0.004\n",
            " Average Recall     (AR) @[ IoU=0.50:0.95 | area=   all | maxDets=  1 ] = 0.310\n",
            " Average Recall     (AR) @[ IoU=0.50:0.95 | area=   all | maxDets= 10 ] = 0.457\n",
            " Average Recall     (AR) @[ IoU=0.50:0.95 | area=   all | maxDets=100 ] = 0.460\n",
            " Average Recall     (AR) @[ IoU=0.50:0.95 | area= small | maxDets=100 ] = 0.485\n",
            " Average Recall     (AR) @[ IoU=0.50:0.95 | area=medium | maxDets=100 ] = 0.407\n",
            " Average Recall     (AR) @[ IoU=0.50:0.95 | area= large | maxDets=100 ] = 0.200\n"
          ],
          "name": "stdout"
        }
      ]
    },
    {
      "cell_type": "markdown",
      "metadata": {
        "id": "GVIkBl2N4ni6"
      },
      "source": [
        "####one-step AL + pseudolabels"
      ]
    },
    {
      "cell_type": "code",
      "metadata": {
        "id": "4WTyq0lLAmYw"
      },
      "source": [
        "import sklearn\n",
        "from sklearn.cluster import KMeans"
      ],
      "execution_count": null,
      "outputs": []
    },
    {
      "cell_type": "code",
      "metadata": {
        "colab": {
          "base_uri": "https://localhost:8080/"
        },
        "id": "QSByRPKa3Edt",
        "outputId": "d6a3f829-20e8-4f7b-c7f2-5d0be31c7350"
      },
      "source": [
        "# Get logger\n",
        "exp_name = 'frcnn_onestepAL_20to50_lr3e-4_CA_'+str(SEED)\n",
        "root = 'drive/MyDrive/exp_results/faster-rcnn-DeepLesion-alssl'\n",
        "pretrained_root = 'drive/MyDrive/exp_results/faster-rcnn-DeepLesion-alssl-pretrained'\n",
        "exp_dir = os.path.join(root, exp_name)\n",
        "\n",
        "# Make exp folder\n",
        "if not os.path.isdir(exp_dir):\n",
        "    os.mkdir(exp_dir)\n",
        "\n",
        "logger = get_logger(os.path.join(exp_dir, 'training_info.log'))\n",
        "logger.info('Training configurations: \\n%s' %(args))\n",
        "\n",
        "# Load pretrained checkpoints\n",
        "if configs.start_cycle == 1:\n",
        "    # Load initial checkpoints\n",
        "    checkpoint_path = os.path.join(pretrained_root, 'frcnn_initial_20%_lr1e-3_CA_'+str(SEED)+'_best.pth')\n",
        "else:\n",
        "    checkpoint_path = os.path.join(exp_dir, exp_name+'_cycle%d.pth' %(configs.start_cycle-1))\n",
        "    # Load previous labeled/unlabeled indices\n",
        "    labeled_set = list(np.loadtxt(os.path.join(exp_dir, exp_name+'_labeled_set_cycle%d.txt'%(configs.start_cycle-1)), dtype=int))\n",
        "    unlabeled_set = list(np.loadtxt(os.path.join(exp_dir, exp_name+'_unlabeled_set_cycle%d.txt'%(configs.start_cycle-1)), dtype=int))\n",
        "\n",
        "logger.info('Loading pretrained from %s' %(checkpoint_path))\n",
        "task_model.load_state_dict(torch.load(checkpoint_path)['model'])\n",
        "logger.info('\\nCurrent performance on test set:')\n",
        "evaluator = evaluate(task_model, data_loader_test, device=device)\n",
        "logger.info(str(evaluator.coco_eval['bbox'].stats))\n",
        "\n",
        "# SSL status flag \n",
        "INCLUDE_PSEUDOLABEL = False\n",
        "\n",
        "for cycle in range(configs.start_cycle, configs.num_cycles + 1):\n",
        "    if cycle >= configs.ssl_start_cycle:\n",
        "        INCLUDE_PSEUDOLABEL = True\n",
        "        logger.info(\"\\nWill include pseudolabels.\")\n",
        "    else:\n",
        "        logger.info('\\nNo pseudolabel training for this cycle ...')\n",
        "\n",
        "    logger.info(\"\\nActive Learning Cycle %d\" %(cycle))\n",
        "\n",
        "    labeled_loader = DataLoader(train_dataset, batch_size=1, sampler=SubsetSequentialSampler(labeled_set), \n",
        "                                num_workers=configs.num_workers, pin_memory=True, collate_fn=collate_fn)\n",
        "    logger.info(\"\\nCurrent labeled pool size: %d\" %(len(labeled_set)))\n",
        "\n",
        "    # Compute uncertainties for the unlabeled pool\n",
        "    unlabeled_loader = DataLoader(train_dataset, batch_size=1, sampler=SubsetSequentialSampler(unlabeled_set),\n",
        "                                  num_workers=configs.num_workers, pin_memory=True, collate_fn=collate_fn)\n",
        "\n",
        "    # Get needed info by inference over the entire unlabeled set\n",
        "    uncertainties, unlabeled_pool, imgs, detections, pseudo_flags = get_query(task_model, unlabeled_loader, device)\n",
        "\n",
        "    # first rank by uncertainty, choose the top 2*N ones\n",
        "    arg1 = np.argsort(uncertainties)\n",
        "\n",
        "    # cluster by k-means, set k = 10\n",
        "    kmeans_pool = np.array(unlabeled_pool)[arg1][:configs.budget_num * 2]\n",
        "    kmeans = KMeans(n_clusters=10)\n",
        "    clusters = kmeans.fit(kmeans_pool)\n",
        "    cluster_labels = clusters.labels_\n",
        "    cluster_indices = arg1[:configs.budget_num * 2]\n",
        "    cluster_dict = {}\n",
        "    \n",
        "    # group unlabeled indices by cluster\n",
        "    for label, index in zip(cluster_labels, cluster_indices):\n",
        "        if label not in cluster_dict:\n",
        "            cluster_dict[label] = []\n",
        "        cluster_dict[label].append(index)\n",
        "    \n",
        "    # iterate over clusters, choose one sample each iteration until meet the budget number\n",
        "    to_be_added = []\n",
        "    count = 0\n",
        "    while count < configs.budget_num:\n",
        "        for c in range(10):\n",
        "            if len(cluster_dict[c]) > 0:\n",
        "                selected = random.choice(cluster_dict[c])\n",
        "                to_be_added.append(selected)\n",
        "                cluster_dict[c].remove(selected)\n",
        "                count += 1\n",
        "                if count == configs.budget_num:\n",
        "                    break\n",
        "            else:\n",
        "                continue\n",
        "\n",
        "    to_be_added = np.array(to_be_added)\n",
        "    labeled_set += list(torch.tensor(unlabeled_set)[to_be_added].numpy())\n",
        "    unlabeled_set = list(set(indices) - set(labeled_set)) \n",
        "\n",
        "    # Save labeled & unlabeled indices\n",
        "    np.savetxt(os.path.join(exp_dir, exp_name+'_labeled_set_cycle%d.txt'%(cycle)), labeled_set, fmt='%d')\n",
        "    np.savetxt(os.path.join(exp_dir, exp_name+'_unlabeled_set_cycle%d.txt'%(cycle)), unlabeled_set, fmt='%d')\n",
        "\n",
        "    # Assign pseudolabels to the most confident predictions, and add them to labeled dataset\n",
        "    if INCLUDE_PSEUDOLABEL:\n",
        "        logger.info('\\nGetting pseudolabels ...')\n",
        "        # Choose the most CONFIDENT predictions for pseudolabeling\n",
        "        pseudo_set = list(set(arg1) - set(to_be_added))\n",
        "        ordered_imgs = [imgs[i] for i in pseudo_set] \n",
        "        ordered_detections = [detections[i] for i in pseudo_set]\n",
        "        pseudo_flags = [pseudo_flags[i] for i in pseudo_set]\n",
        "\n",
        "        #pseudolabel_num_updated = min(configs.pseudolabel_num, len(unlabeled_set))\n",
        "        pseudo_train_dataset = PseudoDataset(pseudo_flags, ordered_imgs, ordered_detections, transforms=None)\n",
        "        logger.info('%d pseudo-labels are added to the training set' %(len(pseudo_train_dataset)))\n",
        "        logger.info('Saving pseudolabels for reference')\n",
        "        torch.save(pseudo_train_dataset, os.path.join(exp_dir, 'pseudolabels_cycle%d.pt' %(cycle)))\n",
        "\n",
        "        # Create new train dataset\n",
        "        concat_train_dataset = torch.utils.data.ConcatDataset([train_dataset, pseudo_train_dataset])\n",
        "        logger.info('Current training dataset size: %d' %(len(pseudo_train_dataset) + len(labeled_set)))\n",
        "\n",
        "        # Update sampler for this cycle\n",
        "        train_sampler = SubsetRandomSampler(list(set(range(len(train_dataset), len(concat_train_dataset))) | set(labeled_set)))\n",
        "    else: \n",
        "        logger.info('\\nNo pseudolabel training for this cycle ...')\n",
        "        train_sampler = SubsetRandomSampler(labeled_set)\n",
        "\n",
        "    # Train prep\n",
        "    train_batch_sampler = torch.utils.data.BatchSampler(train_sampler, configs.batch_size, drop_last=True)\n",
        "\n",
        "    g_seed = torch.Generator()\n",
        "    g_seed.manual_seed(SEED)\n",
        "    if INCLUDE_PSEUDOLABEL:\n",
        "        train_data_loader = torch.utils.data.DataLoader(concat_train_dataset, batch_sampler=train_batch_sampler, \n",
        "                                                        worker_init_fn=seed_worker, generator=g_seed,\n",
        "                                                        num_workers=configs.num_workers, collate_fn=collate_fn)\n",
        "    else:\n",
        "        train_data_loader = torch.utils.data.DataLoader(train_dataset, batch_sampler=train_batch_sampler, \n",
        "                                                        worker_init_fn=seed_worker, generator=g_seed,\n",
        "                                                        num_workers=configs.num_workers, collate_fn=collate_fn)\n",
        "\n",
        "    # Optimization    \n",
        "    params = [p for p in task_model.parameters() if p.requires_grad]\n",
        "    task_optimizer = torch.optim.Adam(params, lr=configs.lr, weight_decay=configs.weight_decay, amsgrad=True)\n",
        "    task_lr_scheduler = torch.optim.lr_scheduler.CosineAnnealingLR(task_optimizer, T_max=configs.num_epochs)\n",
        "\n",
        "    # Start active learning cycle training\n",
        "    logger.info(\"Start training\")\n",
        "    start_time = time.time()\n",
        "\n",
        "    best_map = 0\n",
        "    plateau_num = 0\n",
        "    for epoch in range(configs.num_epochs):\n",
        "        train_one_epoch(task_model, task_optimizer, train_data_loader, device, cycle, epoch, configs.print_freq)\n",
        "        task_lr_scheduler.step()\n",
        "    \n",
        "        # Evaluate performance\n",
        "        evaluator = evaluate(task_model, data_loader_val, device=device)\n",
        "        # Save the best model\n",
        "        eval_stats = evaluator.coco_eval['bbox'].stats\n",
        "        logger.info(str(eval_stats))\n",
        "        # Use the COCO mAP as the main criterion\n",
        "        if eval_stats[0] > best_map:\n",
        "            best_map = eval_stats[0]\n",
        "            plateau_num = 0\n",
        "            # Save checkpoint\n",
        "            logger.info('Saving best checkpoints for mAP %f' %(best_map))\n",
        "            save_on_master({'model': task_model.state_dict()}, \n",
        "                            os.path.join(exp_dir, exp_name+'_cycle%d_best.pth' %(cycle)))\n",
        "        else:\n",
        "            logger.info('No improvement. ')\n",
        "            plateau_num += 1\n",
        "            if plateau_num == 20:\n",
        "                logger.info('Training stops at epoch %d due to plateau in performance.' %(epoch+1))\n",
        "                break\n",
        "    \n",
        "    logger.info('COCO Performance on the test set')\n",
        "    task_model.load_state_dict(torch.load(os.path.join(exp_dir, exp_name+'_cycle%d_best.pth' %(cycle)))['model'])\n",
        "    evaluator = evaluate(task_model, data_loader_test, device=device)\n",
        "    logger.info(str(evaluator.coco_eval['bbox'].stats))\n",
        "\n",
        "    # Update sampler for training\n",
        "    total_time = time.time() - start_time\n",
        "    total_time_str = str(datetime.timedelta(seconds=int(total_time)))\n",
        "\n",
        "    logger.info('Training time {}'.format(total_time_str))"
      ],
      "execution_count": null,
      "outputs": [
        {
          "output_type": "stream",
          "text": [
            "[2021-08-06 14:04:00,854][<ipython-input-28-977f21560589>][line:12][INFO] Training configurations: \n",
            "{'num_cycles': 1, 'start_cycle': 1, 'num_epochs': 60, 'init_num': 383, 'budget_num': 574, 'pseudolabel_num': 200, 'ssl_start_cycle': 100, 'num_workers': 2, 'batch_size': 4, 'lr': 0.0005, 'momentum': 0.9, 'weight_decay': 1e-08, 'lr_gamma': 0.1, 'step_size': 20, 'gamma': 0.1, 'print_freq': 100}\n",
            "[2021-08-06 14:04:00,858][<ipython-input-28-977f21560589>][line:24][INFO] Loading pretrained from drive/MyDrive/exp_results/faster-rcnn-DeepLesion-alssl-pretrained/frcnn_initial_20%_lr1e-3_CA_202108_best.pth\n",
            "[2021-08-06 14:04:04,194][<ipython-input-28-977f21560589>][line:26][INFO] \n",
            "Current performance on test set:\n"
          ],
          "name": "stderr"
        },
        {
          "output_type": "stream",
          "text": [
            "creating index...\n",
            "index created!\n"
          ],
          "name": "stdout"
        },
        {
          "output_type": "stream",
          "text": [
            "/usr/local/lib/python3.7/dist-packages/torch/nn/functional.py:718: UserWarning: Named tensors and all their associated APIs are an experimental feature and subject to change. Please do not use them for anything important until they are released as stable. (Triggered internally at  /pytorch/c10/core/TensorImpl.h:1156.)\n",
            "  return torch.max_pool2d(input, kernel_size, stride, padding, dilation, ceil_mode)\n"
          ],
          "name": "stderr"
        },
        {
          "output_type": "stream",
          "text": [
            "Test:  [  0/240]  eta: 0:01:32  model_time: 0.2458 (0.2458)  evaluator_time: 0.0039 (0.0039)  time: 0.3853  data: 0.1320  max mem: 769\n",
            "Test:  [100/240]  eta: 0:00:13  model_time: 0.0828 (0.0845)  evaluator_time: 0.0020 (0.0020)  time: 0.0904  data: 0.0042  max mem: 821\n",
            "Test:  [200/240]  eta: 0:00:03  model_time: 0.0827 (0.0840)  evaluator_time: 0.0020 (0.0020)  time: 0.0906  data: 0.0039  max mem: 821\n"
          ],
          "name": "stdout"
        },
        {
          "output_type": "stream",
          "text": [
            "[2021-08-06 14:36:59,611][<ipython-input-28-977f21560589>][line:28][INFO] [0.1503431  0.2803077  0.14606968 0.1737053  0.11315969 0.\n",
            " 0.21336032 0.3340081  0.37449393 0.40285714 0.31884058 0.        ]\n",
            "[2021-08-06 14:36:59,615][<ipython-input-28-977f21560589>][line:38][INFO] \n",
            "No pseudolabel training for this cycle ...\n",
            "[2021-08-06 14:36:59,621][<ipython-input-28-977f21560589>][line:40][INFO] \n",
            "Active Learning Cycle 1\n",
            "[2021-08-06 14:36:59,622][<ipython-input-28-977f21560589>][line:44][INFO] \n",
            "Current labeled pool size: 383\n",
            "  0%|          | 0/1532 [00:00<?, ?it/s]"
          ],
          "name": "stderr"
        },
        {
          "output_type": "stream",
          "text": [
            "Test:  [239/240]  eta: 0:00:00  model_time: 0.0828 (0.0838)  evaluator_time: 0.0019 (0.0020)  time: 0.0898  data: 0.0037  max mem: 821\n",
            "Test: Total time: 0:00:22 (0.0920 s / it)\n",
            "Averaged stats: model_time: 0.0828 (0.0838)  evaluator_time: 0.0019 (0.0020)\n",
            "Accumulating evaluation results...\n",
            "DONE (t=0.06s).\n",
            "IoU metric: bbox\n",
            " Average Precision  (AP) @[ IoU=0.50:0.95 | area=   all | maxDets=100 ] = 0.150\n",
            " Average Precision  (AP) @[ IoU=0.50      | area=   all | maxDets=100 ] = 0.280\n",
            " Average Precision  (AP) @[ IoU=0.75      | area=   all | maxDets=100 ] = 0.146\n",
            " Average Precision  (AP) @[ IoU=0.50:0.95 | area= small | maxDets=100 ] = 0.174\n",
            " Average Precision  (AP) @[ IoU=0.50:0.95 | area=medium | maxDets=100 ] = 0.113\n",
            " Average Precision  (AP) @[ IoU=0.50:0.95 | area= large | maxDets=100 ] = 0.000\n",
            " Average Recall     (AR) @[ IoU=0.50:0.95 | area=   all | maxDets=  1 ] = 0.213\n",
            " Average Recall     (AR) @[ IoU=0.50:0.95 | area=   all | maxDets= 10 ] = 0.334\n",
            " Average Recall     (AR) @[ IoU=0.50:0.95 | area=   all | maxDets=100 ] = 0.374\n",
            " Average Recall     (AR) @[ IoU=0.50:0.95 | area= small | maxDets=100 ] = 0.403\n",
            " Average Recall     (AR) @[ IoU=0.50:0.95 | area=medium | maxDets=100 ] = 0.319\n",
            " Average Recall     (AR) @[ IoU=0.50:0.95 | area= large | maxDets=100 ] = 0.000\n"
          ],
          "name": "stdout"
        },
        {
          "output_type": "stream",
          "text": [
            "100%|██████████| 1532/1532 [02:21<00:00, 10.79it/s]\n",
            "[2021-08-06 14:39:22,060][<ipython-input-28-977f21560589>][line:115][INFO] \n",
            "No pseudolabel training for this cycle ...\n",
            "[2021-08-06 14:39:22,062][<ipython-input-28-977f21560589>][line:138][INFO] Start training\n"
          ],
          "name": "stderr"
        },
        {
          "output_type": "stream",
          "text": [
            "Cycle:[1] Epoch: [0]  [  0/239]  eta: 0:05:16  task_lr: 0.000003  task_loss: 0.1577 (0.1577)  time: 1.3247  data: 0.3589  max mem: 4236\n",
            "Cycle:[1] Epoch: [0]  [100/239]  eta: 0:02:08  task_lr: 0.000212  task_loss: 0.1552 (0.1581)  time: 0.9164  data: 0.0143  max mem: 4961\n",
            "Cycle:[1] Epoch: [0]  [200/239]  eta: 0:00:35  task_lr: 0.000422  task_loss: 0.1655 (0.1644)  time: 0.9190  data: 0.0150  max mem: 4961\n",
            "Cycle:[1] Epoch: [0]  [238/239]  eta: 0:00:00  task_lr: 0.000500  task_loss: 0.1354 (0.1621)  time: 0.9154  data: 0.0139  max mem: 4961\n",
            "Cycle:[1] Epoch: [0] Total time: 0:03:39 (0.9204 s / it)\n",
            "creating index...\n",
            "index created!\n",
            "Test:  [  0/239]  eta: 0:01:08  model_time: 0.0941 (0.0941)  evaluator_time: 0.0035 (0.0035)  time: 0.2881  data: 0.1885  max mem: 4961\n",
            "Test:  [100/239]  eta: 0:00:12  model_time: 0.0830 (0.0833)  evaluator_time: 0.0018 (0.0017)  time: 0.0901  data: 0.0038  max mem: 4961\n",
            "Test:  [200/239]  eta: 0:00:03  model_time: 0.0829 (0.0832)  evaluator_time: 0.0017 (0.0017)  time: 0.0900  data: 0.0037  max mem: 4961\n"
          ],
          "name": "stdout"
        },
        {
          "output_type": "stream",
          "text": [
            "[2021-08-06 14:43:58,752][<ipython-input-28-977f21560589>][line:151][INFO] [0.15944562 0.35950615 0.11677027 0.17152388 0.14323925 0.\n",
            " 0.22479339 0.3161157  0.31652893 0.32191011 0.31639344 0.        ]\n",
            "[2021-08-06 14:43:58,754][<ipython-input-28-977f21560589>][line:157][INFO] Saving best checkpoints for mAP 0.159446\n"
          ],
          "name": "stderr"
        },
        {
          "output_type": "stream",
          "text": [
            "Test:  [238/239]  eta: 0:00:00  model_time: 0.0831 (0.0831)  evaluator_time: 0.0016 (0.0017)  time: 0.0897  data: 0.0037  max mem: 4961\n",
            "Test: Total time: 0:00:21 (0.0914 s / it)\n",
            "Averaged stats: model_time: 0.0831 (0.0831)  evaluator_time: 0.0016 (0.0017)\n",
            "Accumulating evaluation results...\n",
            "DONE (t=0.05s).\n",
            "IoU metric: bbox\n",
            " Average Precision  (AP) @[ IoU=0.50:0.95 | area=   all | maxDets=100 ] = 0.159\n",
            " Average Precision  (AP) @[ IoU=0.50      | area=   all | maxDets=100 ] = 0.360\n",
            " Average Precision  (AP) @[ IoU=0.75      | area=   all | maxDets=100 ] = 0.117\n",
            " Average Precision  (AP) @[ IoU=0.50:0.95 | area= small | maxDets=100 ] = 0.172\n",
            " Average Precision  (AP) @[ IoU=0.50:0.95 | area=medium | maxDets=100 ] = 0.143\n",
            " Average Precision  (AP) @[ IoU=0.50:0.95 | area= large | maxDets=100 ] = 0.000\n",
            " Average Recall     (AR) @[ IoU=0.50:0.95 | area=   all | maxDets=  1 ] = 0.225\n",
            " Average Recall     (AR) @[ IoU=0.50:0.95 | area=   all | maxDets= 10 ] = 0.316\n",
            " Average Recall     (AR) @[ IoU=0.50:0.95 | area=   all | maxDets=100 ] = 0.317\n",
            " Average Recall     (AR) @[ IoU=0.50:0.95 | area= small | maxDets=100 ] = 0.322\n",
            " Average Recall     (AR) @[ IoU=0.50:0.95 | area=medium | maxDets=100 ] = 0.316\n",
            " Average Recall     (AR) @[ IoU=0.50:0.95 | area= large | maxDets=100 ] = 0.000\n",
            "Cycle:[1] Epoch: [1]  [  0/239]  eta: 0:05:03  task_lr: 0.000500  task_loss: 0.1331 (0.1331)  time: 1.2705  data: 0.3568  max mem: 4961\n",
            "Cycle:[1] Epoch: [1]  [100/239]  eta: 0:02:08  task_lr: 0.000500  task_loss: 0.1329 (0.1633)  time: 0.9166  data: 0.0141  max mem: 4961\n",
            "Cycle:[1] Epoch: [1]  [200/239]  eta: 0:00:35  task_lr: 0.000500  task_loss: 0.1473 (0.1565)  time: 0.9187  data: 0.0147  max mem: 4963\n",
            "Cycle:[1] Epoch: [1]  [238/239]  eta: 0:00:00  task_lr: 0.000500  task_loss: 0.1385 (0.1557)  time: 0.9169  data: 0.0140  max mem: 4963\n",
            "Cycle:[1] Epoch: [1] Total time: 0:03:39 (0.9200 s / it)\n",
            "creating index...\n",
            "index created!\n",
            "Test:  [  0/239]  eta: 0:01:13  model_time: 0.0952 (0.0952)  evaluator_time: 0.0053 (0.0053)  time: 0.3092  data: 0.2066  max mem: 4963\n",
            "Test:  [100/239]  eta: 0:00:13  model_time: 0.0830 (0.0833)  evaluator_time: 0.0029 (0.0031)  time: 0.0915  data: 0.0038  max mem: 4963\n",
            "Test:  [200/239]  eta: 0:00:03  model_time: 0.0826 (0.0832)  evaluator_time: 0.0030 (0.0030)  time: 0.0908  data: 0.0036  max mem: 4963\n",
            "Test:  [238/239]  eta: 0:00:00  model_time: 0.0831 (0.0831)  evaluator_time: 0.0029 (0.0030)  time: 0.0912  data: 0.0038  max mem: 4963\n",
            "Test: Total time: 0:00:22 (0.0927 s / it)\n",
            "Averaged stats: model_time: 0.0831 (0.0831)  evaluator_time: 0.0029 (0.0030)\n",
            "Accumulating evaluation results...\n"
          ],
          "name": "stdout"
        },
        {
          "output_type": "stream",
          "text": [
            "[2021-08-06 14:48:37,427][<ipython-input-28-977f21560589>][line:151][INFO] [0.16328345 0.33293922 0.1196778  0.16927337 0.18580007 0.\n",
            " 0.20950413 0.32768595 0.38512397 0.38033708 0.41803279 0.        ]\n",
            "[2021-08-06 14:48:37,429][<ipython-input-28-977f21560589>][line:157][INFO] Saving best checkpoints for mAP 0.163283\n"
          ],
          "name": "stderr"
        },
        {
          "output_type": "stream",
          "text": [
            "DONE (t=0.11s).\n",
            "IoU metric: bbox\n",
            " Average Precision  (AP) @[ IoU=0.50:0.95 | area=   all | maxDets=100 ] = 0.163\n",
            " Average Precision  (AP) @[ IoU=0.50      | area=   all | maxDets=100 ] = 0.333\n",
            " Average Precision  (AP) @[ IoU=0.75      | area=   all | maxDets=100 ] = 0.120\n",
            " Average Precision  (AP) @[ IoU=0.50:0.95 | area= small | maxDets=100 ] = 0.169\n",
            " Average Precision  (AP) @[ IoU=0.50:0.95 | area=medium | maxDets=100 ] = 0.186\n",
            " Average Precision  (AP) @[ IoU=0.50:0.95 | area= large | maxDets=100 ] = 0.000\n",
            " Average Recall     (AR) @[ IoU=0.50:0.95 | area=   all | maxDets=  1 ] = 0.210\n",
            " Average Recall     (AR) @[ IoU=0.50:0.95 | area=   all | maxDets= 10 ] = 0.328\n",
            " Average Recall     (AR) @[ IoU=0.50:0.95 | area=   all | maxDets=100 ] = 0.385\n",
            " Average Recall     (AR) @[ IoU=0.50:0.95 | area= small | maxDets=100 ] = 0.380\n",
            " Average Recall     (AR) @[ IoU=0.50:0.95 | area=medium | maxDets=100 ] = 0.418\n",
            " Average Recall     (AR) @[ IoU=0.50:0.95 | area= large | maxDets=100 ] = 0.000\n",
            "Cycle:[1] Epoch: [2]  [  0/239]  eta: 0:05:13  task_lr: 0.000499  task_loss: 0.1380 (0.1380)  time: 1.3112  data: 0.3958  max mem: 4963\n",
            "Cycle:[1] Epoch: [2]  [100/239]  eta: 0:02:08  task_lr: 0.000499  task_loss: 0.1399 (0.1485)  time: 0.9237  data: 0.0143  max mem: 4963\n",
            "Cycle:[1] Epoch: [2]  [200/239]  eta: 0:00:36  task_lr: 0.000499  task_loss: 0.1624 (0.1525)  time: 0.9226  data: 0.0146  max mem: 4963\n",
            "Cycle:[1] Epoch: [2]  [238/239]  eta: 0:00:00  task_lr: 0.000499  task_loss: 0.1462 (0.1534)  time: 0.9251  data: 0.0147  max mem: 4966\n",
            "Cycle:[1] Epoch: [2] Total time: 0:03:41 (0.9259 s / it)\n",
            "creating index...\n",
            "index created!\n",
            "Test:  [  0/239]  eta: 0:01:10  model_time: 0.0967 (0.0967)  evaluator_time: 0.0048 (0.0048)  time: 0.2967  data: 0.1933  max mem: 4966\n",
            "Test:  [100/239]  eta: 0:00:12  model_time: 0.0832 (0.0831)  evaluator_time: 0.0031 (0.0029)  time: 0.0919  data: 0.0038  max mem: 4966\n",
            "Test:  [200/239]  eta: 0:00:03  model_time: 0.0830 (0.0831)  evaluator_time: 0.0027 (0.0030)  time: 0.0914  data: 0.0038  max mem: 4966\n",
            "Test:  [238/239]  eta: 0:00:00  model_time: 0.0828 (0.0831)  evaluator_time: 0.0025 (0.0030)  time: 0.0911  data: 0.0038  max mem: 4966\n",
            "Test: Total time: 0:00:22 (0.0927 s / it)\n",
            "Averaged stats: model_time: 0.0828 (0.0831)  evaluator_time: 0.0025 (0.0030)\n",
            "Accumulating evaluation results...\n"
          ],
          "name": "stdout"
        },
        {
          "output_type": "stream",
          "text": [
            "[2021-08-06 14:53:16,695][<ipython-input-28-977f21560589>][line:151][INFO] [0.19927407 0.37937444 0.1973151  0.20439948 0.21566321 0.\n",
            " 0.26363636 0.38347107 0.43016529 0.43764045 0.4295082  0.        ]\n",
            "[2021-08-06 14:53:16,697][<ipython-input-28-977f21560589>][line:157][INFO] Saving best checkpoints for mAP 0.199274\n"
          ],
          "name": "stderr"
        },
        {
          "output_type": "stream",
          "text": [
            "DONE (t=0.10s).\n",
            "IoU metric: bbox\n",
            " Average Precision  (AP) @[ IoU=0.50:0.95 | area=   all | maxDets=100 ] = 0.199\n",
            " Average Precision  (AP) @[ IoU=0.50      | area=   all | maxDets=100 ] = 0.379\n",
            " Average Precision  (AP) @[ IoU=0.75      | area=   all | maxDets=100 ] = 0.197\n",
            " Average Precision  (AP) @[ IoU=0.50:0.95 | area= small | maxDets=100 ] = 0.204\n",
            " Average Precision  (AP) @[ IoU=0.50:0.95 | area=medium | maxDets=100 ] = 0.216\n",
            " Average Precision  (AP) @[ IoU=0.50:0.95 | area= large | maxDets=100 ] = 0.000\n",
            " Average Recall     (AR) @[ IoU=0.50:0.95 | area=   all | maxDets=  1 ] = 0.264\n",
            " Average Recall     (AR) @[ IoU=0.50:0.95 | area=   all | maxDets= 10 ] = 0.383\n",
            " Average Recall     (AR) @[ IoU=0.50:0.95 | area=   all | maxDets=100 ] = 0.430\n",
            " Average Recall     (AR) @[ IoU=0.50:0.95 | area= small | maxDets=100 ] = 0.438\n",
            " Average Recall     (AR) @[ IoU=0.50:0.95 | area=medium | maxDets=100 ] = 0.430\n",
            " Average Recall     (AR) @[ IoU=0.50:0.95 | area= large | maxDets=100 ] = 0.000\n",
            "Cycle:[1] Epoch: [3]  [  0/239]  eta: 0:05:11  task_lr: 0.000497  task_loss: 0.1874 (0.1874)  time: 1.3038  data: 0.3742  max mem: 4966\n",
            "Cycle:[1] Epoch: [3]  [100/239]  eta: 0:02:09  task_lr: 0.000497  task_loss: 0.1363 (0.1609)  time: 0.9248  data: 0.0148  max mem: 4966\n",
            "Cycle:[1] Epoch: [3]  [200/239]  eta: 0:00:36  task_lr: 0.000497  task_loss: 0.1492 (0.1591)  time: 0.9269  data: 0.0150  max mem: 4966\n",
            "Cycle:[1] Epoch: [3]  [238/239]  eta: 0:00:00  task_lr: 0.000497  task_loss: 0.1541 (0.1593)  time: 0.9242  data: 0.0140  max mem: 4966\n",
            "Cycle:[1] Epoch: [3] Total time: 0:03:41 (0.9276 s / it)\n",
            "creating index...\n",
            "index created!\n",
            "Test:  [  0/239]  eta: 0:01:11  model_time: 0.0933 (0.0933)  evaluator_time: 0.0061 (0.0061)  time: 0.3008  data: 0.1980  max mem: 4966\n",
            "Test:  [100/239]  eta: 0:00:12  model_time: 0.0826 (0.0830)  evaluator_time: 0.0021 (0.0022)  time: 0.0918  data: 0.0040  max mem: 4966\n",
            "Test:  [200/239]  eta: 0:00:03  model_time: 0.0827 (0.0829)  evaluator_time: 0.0023 (0.0022)  time: 0.0921  data: 0.0040  max mem: 4966\n",
            "Test:  [238/239]  eta: 0:00:00  model_time: 0.0825 (0.0829)  evaluator_time: 0.0019 (0.0022)  time: 0.0905  data: 0.0039  max mem: 4966\n",
            "Test: Total time: 0:00:22 (0.0925 s / it)\n",
            "Averaged stats: model_time: 0.0825 (0.0829)  evaluator_time: 0.0019 (0.0022)\n",
            "Accumulating evaluation results...\n",
            "DONE (t=0.07s).\n",
            "IoU metric: bbox\n",
            " Average Precision  (AP) @[ IoU=0.50:0.95 | area=   all | maxDets=100 ] = 0.148\n",
            " Average Precision  (AP) @[ IoU=0.50      | area=   all | maxDets=100 ] = 0.348\n",
            " Average Precision  (AP) @[ IoU=0.75      | area=   all | maxDets=100 ] = 0.060\n",
            " Average Precision  (AP) @[ IoU=0.50:0.95 | area= small | maxDets=100 ] = 0.158\n",
            " Average Precision  (AP) @[ IoU=0.50:0.95 | area=medium | maxDets=100 ] = 0.152\n",
            " Average Precision  (AP) @[ IoU=0.50:0.95 | area= large | maxDets=100 ] = 0.000\n",
            " Average Recall     (AR) @[ IoU=0.50:0.95 | area=   all | maxDets=  1 ] = 0.206\n",
            " Average Recall     (AR) @[ IoU=0.50:0.95 | area=   all | maxDets= 10 ] = 0.356\n",
            " Average Recall     (AR) @[ IoU=0.50:0.95 | area=   all | maxDets=100 ] = 0.372\n",
            " Average Recall     (AR) @[ IoU=0.50:0.95 | area= small | maxDets=100 ] = 0.374\n",
            " Average Recall     (AR) @[ IoU=0.50:0.95 | area=medium | maxDets=100 ] = 0.385\n",
            " Average Recall     (AR) @[ IoU=0.50:0.95 | area= large | maxDets=100 ] = 0.000\n"
          ],
          "name": "stdout"
        },
        {
          "output_type": "stream",
          "text": [
            "[2021-08-06 14:57:57,136][<ipython-input-28-977f21560589>][line:151][INFO] [0.14823894 0.34807064 0.06017849 0.15792007 0.15204363 0.\n",
            " 0.20619835 0.35619835 0.37190083 0.37359551 0.3852459  0.        ]\n",
            "[2021-08-06 14:57:57,142][<ipython-input-28-977f21560589>][line:161][INFO] No improvement. \n"
          ],
          "name": "stderr"
        },
        {
          "output_type": "stream",
          "text": [
            "Cycle:[1] Epoch: [4]  [  0/239]  eta: 0:05:07  task_lr: 0.000495  task_loss: 0.1330 (0.1330)  time: 1.2871  data: 0.3651  max mem: 4966\n",
            "Cycle:[1] Epoch: [4]  [100/239]  eta: 0:02:08  task_lr: 0.000495  task_loss: 0.1424 (0.1450)  time: 0.9187  data: 0.0148  max mem: 4966\n",
            "Cycle:[1] Epoch: [4]  [200/239]  eta: 0:00:35  task_lr: 0.000495  task_loss: 0.1399 (0.1505)  time: 0.9191  data: 0.0153  max mem: 4966\n",
            "Cycle:[1] Epoch: [4]  [238/239]  eta: 0:00:00  task_lr: 0.000495  task_loss: 0.1493 (0.1513)  time: 0.9156  data: 0.0138  max mem: 4966\n",
            "Cycle:[1] Epoch: [4] Total time: 0:03:39 (0.9199 s / it)\n",
            "creating index...\n",
            "index created!\n",
            "Test:  [  0/239]  eta: 0:01:15  model_time: 0.0945 (0.0945)  evaluator_time: 0.0051 (0.0051)  time: 0.3154  data: 0.2136  max mem: 4966\n",
            "Test:  [100/239]  eta: 0:00:12  model_time: 0.0826 (0.0830)  evaluator_time: 0.0019 (0.0020)  time: 0.0898  data: 0.0036  max mem: 4966\n",
            "Test:  [200/239]  eta: 0:00:03  model_time: 0.0827 (0.0829)  evaluator_time: 0.0019 (0.0019)  time: 0.0898  data: 0.0037  max mem: 4966\n"
          ],
          "name": "stdout"
        },
        {
          "output_type": "stream",
          "text": [
            "[2021-08-06 15:02:34,948][<ipython-input-28-977f21560589>][line:151][INFO] [0.14754584 0.30086088 0.10204231 0.1627205  0.12486855 0.\n",
            " 0.22479339 0.3392562  0.34545455 0.3488764  0.35245902 0.        ]\n",
            "[2021-08-06 15:02:34,949][<ipython-input-28-977f21560589>][line:161][INFO] No improvement. \n"
          ],
          "name": "stderr"
        },
        {
          "output_type": "stream",
          "text": [
            "Test:  [238/239]  eta: 0:00:00  model_time: 0.0825 (0.0828)  evaluator_time: 0.0018 (0.0019)  time: 0.0895  data: 0.0037  max mem: 4966\n",
            "Test: Total time: 0:00:21 (0.0914 s / it)\n",
            "Averaged stats: model_time: 0.0825 (0.0828)  evaluator_time: 0.0018 (0.0019)\n",
            "Accumulating evaluation results...\n",
            "DONE (t=0.05s).\n",
            "IoU metric: bbox\n",
            " Average Precision  (AP) @[ IoU=0.50:0.95 | area=   all | maxDets=100 ] = 0.148\n",
            " Average Precision  (AP) @[ IoU=0.50      | area=   all | maxDets=100 ] = 0.301\n",
            " Average Precision  (AP) @[ IoU=0.75      | area=   all | maxDets=100 ] = 0.102\n",
            " Average Precision  (AP) @[ IoU=0.50:0.95 | area= small | maxDets=100 ] = 0.163\n",
            " Average Precision  (AP) @[ IoU=0.50:0.95 | area=medium | maxDets=100 ] = 0.125\n",
            " Average Precision  (AP) @[ IoU=0.50:0.95 | area= large | maxDets=100 ] = 0.000\n",
            " Average Recall     (AR) @[ IoU=0.50:0.95 | area=   all | maxDets=  1 ] = 0.225\n",
            " Average Recall     (AR) @[ IoU=0.50:0.95 | area=   all | maxDets= 10 ] = 0.339\n",
            " Average Recall     (AR) @[ IoU=0.50:0.95 | area=   all | maxDets=100 ] = 0.345\n",
            " Average Recall     (AR) @[ IoU=0.50:0.95 | area= small | maxDets=100 ] = 0.349\n",
            " Average Recall     (AR) @[ IoU=0.50:0.95 | area=medium | maxDets=100 ] = 0.352\n",
            " Average Recall     (AR) @[ IoU=0.50:0.95 | area= large | maxDets=100 ] = 0.000\n",
            "Cycle:[1] Epoch: [5]  [  0/239]  eta: 0:05:08  task_lr: 0.000491  task_loss: 0.1826 (0.1826)  time: 1.2897  data: 0.3743  max mem: 4966\n",
            "Cycle:[1] Epoch: [5]  [100/239]  eta: 0:02:08  task_lr: 0.000491  task_loss: 0.1609 (0.1477)  time: 0.9237  data: 0.0143  max mem: 4966\n",
            "Cycle:[1] Epoch: [5]  [200/239]  eta: 0:00:36  task_lr: 0.000491  task_loss: 0.1614 (0.1457)  time: 0.9253  data: 0.0147  max mem: 4966\n",
            "Cycle:[1] Epoch: [5]  [238/239]  eta: 0:00:00  task_lr: 0.000491  task_loss: 0.1496 (0.1463)  time: 0.9234  data: 0.0138  max mem: 4966\n",
            "Cycle:[1] Epoch: [5] Total time: 0:03:41 (0.9262 s / it)\n",
            "creating index...\n",
            "index created!\n",
            "Test:  [  0/239]  eta: 0:01:13  model_time: 0.0966 (0.0966)  evaluator_time: 0.0059 (0.0059)  time: 0.3062  data: 0.2014  max mem: 4966\n",
            "Test:  [100/239]  eta: 0:00:12  model_time: 0.0832 (0.0834)  evaluator_time: 0.0017 (0.0019)  time: 0.0906  data: 0.0040  max mem: 4966\n",
            "Test:  [200/239]  eta: 0:00:03  model_time: 0.0830 (0.0832)  evaluator_time: 0.0018 (0.0019)  time: 0.0902  data: 0.0038  max mem: 4966\n"
          ],
          "name": "stdout"
        },
        {
          "output_type": "stream",
          "text": [
            "[2021-08-06 15:07:13,103][<ipython-input-28-977f21560589>][line:151][INFO] [0.18219522 0.37752449 0.14236794 0.18803196 0.19181264 0.\n",
            " 0.26198347 0.37107438 0.37272727 0.38314607 0.36065574 0.        ]\n",
            "[2021-08-06 15:07:13,104][<ipython-input-28-977f21560589>][line:161][INFO] No improvement. \n"
          ],
          "name": "stderr"
        },
        {
          "output_type": "stream",
          "text": [
            "Test:  [238/239]  eta: 0:00:00  model_time: 0.0827 (0.0832)  evaluator_time: 0.0016 (0.0019)  time: 0.0894  data: 0.0036  max mem: 4966\n",
            "Test: Total time: 0:00:21 (0.0919 s / it)\n",
            "Averaged stats: model_time: 0.0827 (0.0832)  evaluator_time: 0.0016 (0.0019)\n",
            "Accumulating evaluation results...\n",
            "DONE (t=0.05s).\n",
            "IoU metric: bbox\n",
            " Average Precision  (AP) @[ IoU=0.50:0.95 | area=   all | maxDets=100 ] = 0.182\n",
            " Average Precision  (AP) @[ IoU=0.50      | area=   all | maxDets=100 ] = 0.378\n",
            " Average Precision  (AP) @[ IoU=0.75      | area=   all | maxDets=100 ] = 0.142\n",
            " Average Precision  (AP) @[ IoU=0.50:0.95 | area= small | maxDets=100 ] = 0.188\n",
            " Average Precision  (AP) @[ IoU=0.50:0.95 | area=medium | maxDets=100 ] = 0.192\n",
            " Average Precision  (AP) @[ IoU=0.50:0.95 | area= large | maxDets=100 ] = 0.000\n",
            " Average Recall     (AR) @[ IoU=0.50:0.95 | area=   all | maxDets=  1 ] = 0.262\n",
            " Average Recall     (AR) @[ IoU=0.50:0.95 | area=   all | maxDets= 10 ] = 0.371\n",
            " Average Recall     (AR) @[ IoU=0.50:0.95 | area=   all | maxDets=100 ] = 0.373\n",
            " Average Recall     (AR) @[ IoU=0.50:0.95 | area= small | maxDets=100 ] = 0.383\n",
            " Average Recall     (AR) @[ IoU=0.50:0.95 | area=medium | maxDets=100 ] = 0.361\n",
            " Average Recall     (AR) @[ IoU=0.50:0.95 | area= large | maxDets=100 ] = 0.000\n",
            "Cycle:[1] Epoch: [6]  [  0/239]  eta: 0:05:11  task_lr: 0.000488  task_loss: 0.1406 (0.1406)  time: 1.3024  data: 0.3836  max mem: 4966\n",
            "Cycle:[1] Epoch: [6]  [100/239]  eta: 0:02:08  task_lr: 0.000488  task_loss: 0.1345 (0.1403)  time: 0.9242  data: 0.0139  max mem: 4966\n",
            "Cycle:[1] Epoch: [6]  [200/239]  eta: 0:00:36  task_lr: 0.000488  task_loss: 0.1542 (0.1454)  time: 0.9244  data: 0.0145  max mem: 4966\n",
            "Cycle:[1] Epoch: [6]  [238/239]  eta: 0:00:00  task_lr: 0.000488  task_loss: 0.1379 (0.1467)  time: 0.9255  data: 0.0147  max mem: 4966\n",
            "Cycle:[1] Epoch: [6] Total time: 0:03:41 (0.9262 s / it)\n",
            "creating index...\n",
            "index created!\n",
            "Test:  [  0/239]  eta: 0:01:11  model_time: 0.0935 (0.0935)  evaluator_time: 0.0049 (0.0049)  time: 0.2995  data: 0.1986  max mem: 4966\n",
            "Test:  [100/239]  eta: 0:00:12  model_time: 0.0825 (0.0830)  evaluator_time: 0.0020 (0.0021)  time: 0.0921  data: 0.0041  max mem: 4966\n",
            "Test:  [200/239]  eta: 0:00:03  model_time: 0.0830 (0.0830)  evaluator_time: 0.0021 (0.0021)  time: 0.0930  data: 0.0043  max mem: 4966\n",
            "Test:  [238/239]  eta: 0:00:00  model_time: 0.0830 (0.0836)  evaluator_time: 0.0020 (0.0021)  time: 0.0921  data: 0.0040  max mem: 4966\n",
            "Test: Total time: 0:00:22 (0.0938 s / it)\n",
            "Averaged stats: model_time: 0.0830 (0.0836)  evaluator_time: 0.0020 (0.0021)\n",
            "Accumulating evaluation results...\n",
            "DONE (t=0.07s).\n",
            "IoU metric: bbox\n"
          ],
          "name": "stdout"
        },
        {
          "output_type": "stream",
          "text": [
            "[2021-08-06 15:11:51,883][<ipython-input-28-977f21560589>][line:151][INFO] [0.17886843 0.37886881 0.11549222 0.19452321 0.16252428 0.\n",
            " 0.25165289 0.38760331 0.39710744 0.40730337 0.38688525 0.        ]\n",
            "[2021-08-06 15:11:51,884][<ipython-input-28-977f21560589>][line:161][INFO] No improvement. \n"
          ],
          "name": "stderr"
        },
        {
          "output_type": "stream",
          "text": [
            " Average Precision  (AP) @[ IoU=0.50:0.95 | area=   all | maxDets=100 ] = 0.179\n",
            " Average Precision  (AP) @[ IoU=0.50      | area=   all | maxDets=100 ] = 0.379\n",
            " Average Precision  (AP) @[ IoU=0.75      | area=   all | maxDets=100 ] = 0.115\n",
            " Average Precision  (AP) @[ IoU=0.50:0.95 | area= small | maxDets=100 ] = 0.195\n",
            " Average Precision  (AP) @[ IoU=0.50:0.95 | area=medium | maxDets=100 ] = 0.163\n",
            " Average Precision  (AP) @[ IoU=0.50:0.95 | area= large | maxDets=100 ] = 0.000\n",
            " Average Recall     (AR) @[ IoU=0.50:0.95 | area=   all | maxDets=  1 ] = 0.252\n",
            " Average Recall     (AR) @[ IoU=0.50:0.95 | area=   all | maxDets= 10 ] = 0.388\n",
            " Average Recall     (AR) @[ IoU=0.50:0.95 | area=   all | maxDets=100 ] = 0.397\n",
            " Average Recall     (AR) @[ IoU=0.50:0.95 | area= small | maxDets=100 ] = 0.407\n",
            " Average Recall     (AR) @[ IoU=0.50:0.95 | area=medium | maxDets=100 ] = 0.387\n",
            " Average Recall     (AR) @[ IoU=0.50:0.95 | area= large | maxDets=100 ] = 0.000\n",
            "Cycle:[1] Epoch: [7]  [  0/239]  eta: 0:05:10  task_lr: 0.000483  task_loss: 0.1264 (0.1264)  time: 1.2995  data: 0.3648  max mem: 4966\n",
            "Cycle:[1] Epoch: [7]  [100/239]  eta: 0:02:09  task_lr: 0.000483  task_loss: 0.1481 (0.1435)  time: 0.9253  data: 0.0145  max mem: 4966\n",
            "Cycle:[1] Epoch: [7]  [200/239]  eta: 0:00:36  task_lr: 0.000483  task_loss: 0.1588 (0.1522)  time: 0.9238  data: 0.0137  max mem: 4966\n",
            "Cycle:[1] Epoch: [7]  [238/239]  eta: 0:00:00  task_lr: 0.000483  task_loss: 0.1414 (0.1519)  time: 0.9259  data: 0.0146  max mem: 4966\n",
            "Cycle:[1] Epoch: [7] Total time: 0:03:41 (0.9278 s / it)\n",
            "creating index...\n",
            "index created!\n",
            "Test:  [  0/239]  eta: 0:01:14  model_time: 0.0999 (0.0999)  evaluator_time: 0.0048 (0.0048)  time: 0.3098  data: 0.2031  max mem: 4966\n",
            "Test:  [100/239]  eta: 0:00:12  model_time: 0.0832 (0.0834)  evaluator_time: 0.0023 (0.0023)  time: 0.0923  data: 0.0042  max mem: 4966\n",
            "Test:  [200/239]  eta: 0:00:03  model_time: 0.0834 (0.0834)  evaluator_time: 0.0023 (0.0023)  time: 0.0929  data: 0.0043  max mem: 4966\n",
            "Test:  [238/239]  eta: 0:00:00  model_time: 0.0828 (0.0834)  evaluator_time: 0.0020 (0.0023)  time: 0.0917  data: 0.0040  max mem: 4966\n",
            "Test: Total time: 0:00:22 (0.0937 s / it)\n",
            "Averaged stats: model_time: 0.0828 (0.0834)  evaluator_time: 0.0020 (0.0023)\n",
            "Accumulating evaluation results...\n",
            "DONE (t=0.07s).\n",
            "IoU metric: bbox\n"
          ],
          "name": "stdout"
        },
        {
          "output_type": "stream",
          "text": [
            "[2021-08-06 15:16:30,478][<ipython-input-28-977f21560589>][line:151][INFO] [0.1995721  0.37855084 0.17136073 0.21176415 0.20486057 0.\n",
            " 0.2661157  0.41652893 0.43264463 0.45168539 0.39836066 0.        ]\n",
            "[2021-08-06 15:16:30,483][<ipython-input-28-977f21560589>][line:157][INFO] Saving best checkpoints for mAP 0.199572\n"
          ],
          "name": "stderr"
        },
        {
          "output_type": "stream",
          "text": [
            " Average Precision  (AP) @[ IoU=0.50:0.95 | area=   all | maxDets=100 ] = 0.200\n",
            " Average Precision  (AP) @[ IoU=0.50      | area=   all | maxDets=100 ] = 0.379\n",
            " Average Precision  (AP) @[ IoU=0.75      | area=   all | maxDets=100 ] = 0.171\n",
            " Average Precision  (AP) @[ IoU=0.50:0.95 | area= small | maxDets=100 ] = 0.212\n",
            " Average Precision  (AP) @[ IoU=0.50:0.95 | area=medium | maxDets=100 ] = 0.205\n",
            " Average Precision  (AP) @[ IoU=0.50:0.95 | area= large | maxDets=100 ] = 0.000\n",
            " Average Recall     (AR) @[ IoU=0.50:0.95 | area=   all | maxDets=  1 ] = 0.266\n",
            " Average Recall     (AR) @[ IoU=0.50:0.95 | area=   all | maxDets= 10 ] = 0.417\n",
            " Average Recall     (AR) @[ IoU=0.50:0.95 | area=   all | maxDets=100 ] = 0.433\n",
            " Average Recall     (AR) @[ IoU=0.50:0.95 | area= small | maxDets=100 ] = 0.452\n",
            " Average Recall     (AR) @[ IoU=0.50:0.95 | area=medium | maxDets=100 ] = 0.398\n",
            " Average Recall     (AR) @[ IoU=0.50:0.95 | area= large | maxDets=100 ] = 0.000\n",
            "Cycle:[1] Epoch: [8]  [  0/239]  eta: 0:05:04  task_lr: 0.000478  task_loss: 0.1829 (0.1829)  time: 1.2757  data: 0.3539  max mem: 4966\n",
            "Cycle:[1] Epoch: [8]  [100/239]  eta: 0:02:08  task_lr: 0.000478  task_loss: 0.1279 (0.1459)  time: 0.9202  data: 0.0150  max mem: 4966\n",
            "Cycle:[1] Epoch: [8]  [200/239]  eta: 0:00:36  task_lr: 0.000478  task_loss: 0.1579 (0.1494)  time: 0.9255  data: 0.0146  max mem: 4966\n",
            "Cycle:[1] Epoch: [8]  [238/239]  eta: 0:00:00  task_lr: 0.000478  task_loss: 0.1266 (0.1478)  time: 0.9276  data: 0.0150  max mem: 4966\n",
            "Cycle:[1] Epoch: [8] Total time: 0:03:41 (0.9247 s / it)\n",
            "creating index...\n",
            "index created!\n",
            "Test:  [  0/239]  eta: 0:01:11  model_time: 0.0937 (0.0937)  evaluator_time: 0.0049 (0.0049)  time: 0.2998  data: 0.1981  max mem: 4966\n",
            "Test:  [100/239]  eta: 0:00:12  model_time: 0.0827 (0.0829)  evaluator_time: 0.0020 (0.0021)  time: 0.0903  data: 0.0037  max mem: 4966\n",
            "Test:  [200/239]  eta: 0:00:03  model_time: 0.0833 (0.0831)  evaluator_time: 0.0021 (0.0022)  time: 0.0943  data: 0.0046  max mem: 4966\n",
            "Test:  [238/239]  eta: 0:00:00  model_time: 0.0830 (0.0831)  evaluator_time: 0.0020 (0.0022)  time: 0.0912  data: 0.0040  max mem: 4966\n",
            "Test: Total time: 0:00:22 (0.0924 s / it)\n",
            "Averaged stats: model_time: 0.0830 (0.0831)  evaluator_time: 0.0020 (0.0022)\n",
            "Accumulating evaluation results...\n",
            "DONE (t=0.07s).\n",
            "IoU metric: bbox\n"
          ],
          "name": "stdout"
        },
        {
          "output_type": "stream",
          "text": [
            "[2021-08-06 15:21:10,246][<ipython-input-28-977f21560589>][line:151][INFO] [0.22172842 0.39110774 0.25543695 0.22394237 0.23180262 0.\n",
            " 0.29545455 0.42190083 0.43966942 0.4488764  0.43442623 0.        ]\n",
            "[2021-08-06 15:21:10,248][<ipython-input-28-977f21560589>][line:157][INFO] Saving best checkpoints for mAP 0.221728\n"
          ],
          "name": "stderr"
        },
        {
          "output_type": "stream",
          "text": [
            " Average Precision  (AP) @[ IoU=0.50:0.95 | area=   all | maxDets=100 ] = 0.222\n",
            " Average Precision  (AP) @[ IoU=0.50      | area=   all | maxDets=100 ] = 0.391\n",
            " Average Precision  (AP) @[ IoU=0.75      | area=   all | maxDets=100 ] = 0.255\n",
            " Average Precision  (AP) @[ IoU=0.50:0.95 | area= small | maxDets=100 ] = 0.224\n",
            " Average Precision  (AP) @[ IoU=0.50:0.95 | area=medium | maxDets=100 ] = 0.232\n",
            " Average Precision  (AP) @[ IoU=0.50:0.95 | area= large | maxDets=100 ] = 0.000\n",
            " Average Recall     (AR) @[ IoU=0.50:0.95 | area=   all | maxDets=  1 ] = 0.295\n",
            " Average Recall     (AR) @[ IoU=0.50:0.95 | area=   all | maxDets= 10 ] = 0.422\n",
            " Average Recall     (AR) @[ IoU=0.50:0.95 | area=   all | maxDets=100 ] = 0.440\n",
            " Average Recall     (AR) @[ IoU=0.50:0.95 | area= small | maxDets=100 ] = 0.449\n",
            " Average Recall     (AR) @[ IoU=0.50:0.95 | area=medium | maxDets=100 ] = 0.434\n",
            " Average Recall     (AR) @[ IoU=0.50:0.95 | area= large | maxDets=100 ] = 0.000\n",
            "Cycle:[1] Epoch: [9]  [  0/239]  eta: 0:05:13  task_lr: 0.000473  task_loss: 0.1153 (0.1153)  time: 1.3110  data: 0.3882  max mem: 4966\n",
            "Cycle:[1] Epoch: [9]  [100/239]  eta: 0:02:08  task_lr: 0.000473  task_loss: 0.1405 (0.1480)  time: 0.9175  data: 0.0139  max mem: 4966\n",
            "Cycle:[1] Epoch: [9]  [200/239]  eta: 0:00:35  task_lr: 0.000473  task_loss: 0.1569 (0.1509)  time: 0.9192  data: 0.0142  max mem: 4966\n",
            "Cycle:[1] Epoch: [9]  [238/239]  eta: 0:00:00  task_lr: 0.000473  task_loss: 0.1526 (0.1527)  time: 0.9175  data: 0.0138  max mem: 4966\n",
            "Cycle:[1] Epoch: [9] Total time: 0:03:40 (0.9213 s / it)\n",
            "creating index...\n",
            "index created!\n",
            "Test:  [  0/239]  eta: 0:01:11  model_time: 0.0947 (0.0947)  evaluator_time: 0.0046 (0.0046)  time: 0.3010  data: 0.1994  max mem: 4966\n",
            "Test:  [100/239]  eta: 0:00:12  model_time: 0.0826 (0.0830)  evaluator_time: 0.0023 (0.0023)  time: 0.0901  data: 0.0035  max mem: 4966\n",
            "Test:  [200/239]  eta: 0:00:03  model_time: 0.0827 (0.0828)  evaluator_time: 0.0024 (0.0024)  time: 0.0911  data: 0.0038  max mem: 4966\n",
            "Test:  [238/239]  eta: 0:00:00  model_time: 0.0825 (0.0829)  evaluator_time: 0.0021 (0.0023)  time: 0.0906  data: 0.0035  max mem: 4966\n",
            "Test: Total time: 0:00:21 (0.0918 s / it)\n",
            "Averaged stats: model_time: 0.0825 (0.0829)  evaluator_time: 0.0021 (0.0023)\n",
            "Accumulating evaluation results...\n",
            "DONE (t=0.07s).\n",
            "IoU metric: bbox\n"
          ],
          "name": "stdout"
        },
        {
          "output_type": "stream",
          "text": [
            "[2021-08-06 15:25:48,995][<ipython-input-28-977f21560589>][line:151][INFO] [0.16998064 0.38435514 0.10052315 0.17854461 0.16243651 0.\n",
            " 0.24008264 0.33016529 0.35619835 0.36685393 0.34262295 0.        ]\n",
            "[2021-08-06 15:25:48,997][<ipython-input-28-977f21560589>][line:161][INFO] No improvement. \n"
          ],
          "name": "stderr"
        },
        {
          "output_type": "stream",
          "text": [
            " Average Precision  (AP) @[ IoU=0.50:0.95 | area=   all | maxDets=100 ] = 0.170\n",
            " Average Precision  (AP) @[ IoU=0.50      | area=   all | maxDets=100 ] = 0.384\n",
            " Average Precision  (AP) @[ IoU=0.75      | area=   all | maxDets=100 ] = 0.101\n",
            " Average Precision  (AP) @[ IoU=0.50:0.95 | area= small | maxDets=100 ] = 0.179\n",
            " Average Precision  (AP) @[ IoU=0.50:0.95 | area=medium | maxDets=100 ] = 0.162\n",
            " Average Precision  (AP) @[ IoU=0.50:0.95 | area= large | maxDets=100 ] = 0.000\n",
            " Average Recall     (AR) @[ IoU=0.50:0.95 | area=   all | maxDets=  1 ] = 0.240\n",
            " Average Recall     (AR) @[ IoU=0.50:0.95 | area=   all | maxDets= 10 ] = 0.330\n",
            " Average Recall     (AR) @[ IoU=0.50:0.95 | area=   all | maxDets=100 ] = 0.356\n",
            " Average Recall     (AR) @[ IoU=0.50:0.95 | area= small | maxDets=100 ] = 0.367\n",
            " Average Recall     (AR) @[ IoU=0.50:0.95 | area=medium | maxDets=100 ] = 0.343\n",
            " Average Recall     (AR) @[ IoU=0.50:0.95 | area= large | maxDets=100 ] = 0.000\n",
            "Cycle:[1] Epoch: [10]  [  0/239]  eta: 0:05:00  task_lr: 0.000467  task_loss: 0.1657 (0.1657)  time: 1.2571  data: 0.3427  max mem: 4966\n",
            "Cycle:[1] Epoch: [10]  [100/239]  eta: 0:02:08  task_lr: 0.000467  task_loss: 0.1403 (0.1382)  time: 0.9172  data: 0.0138  max mem: 4966\n",
            "Cycle:[1] Epoch: [10]  [200/239]  eta: 0:00:35  task_lr: 0.000467  task_loss: 0.1215 (0.1341)  time: 0.9179  data: 0.0140  max mem: 4966\n",
            "Cycle:[1] Epoch: [10]  [238/239]  eta: 0:00:00  task_lr: 0.000467  task_loss: 0.1198 (0.1333)  time: 0.9176  data: 0.0137  max mem: 4966\n",
            "Cycle:[1] Epoch: [10] Total time: 0:03:40 (0.9207 s / it)\n",
            "creating index...\n",
            "index created!\n",
            "Test:  [  0/239]  eta: 0:01:15  model_time: 0.0968 (0.0968)  evaluator_time: 0.0069 (0.0069)  time: 0.3149  data: 0.2091  max mem: 4966\n",
            "Test:  [100/239]  eta: 0:00:13  model_time: 0.0829 (0.0833)  evaluator_time: 0.0032 (0.0033)  time: 0.0919  data: 0.0039  max mem: 4966\n",
            "Test:  [200/239]  eta: 0:00:03  model_time: 0.0826 (0.0831)  evaluator_time: 0.0029 (0.0033)  time: 0.0918  data: 0.0038  max mem: 4966\n",
            "Test:  [238/239]  eta: 0:00:00  model_time: 0.0825 (0.0831)  evaluator_time: 0.0027 (0.0032)  time: 0.0913  data: 0.0038  max mem: 4966\n",
            "Test: Total time: 0:00:22 (0.0934 s / it)\n",
            "Averaged stats: model_time: 0.0825 (0.0831)  evaluator_time: 0.0027 (0.0032)\n",
            "Accumulating evaluation results...\n"
          ],
          "name": "stdout"
        },
        {
          "output_type": "stream",
          "text": [
            "[2021-08-06 15:30:26,942][<ipython-input-28-977f21560589>][line:151][INFO] [0.18744478 0.38176099 0.14018427 0.18694025 0.23599852 0.\n",
            " 0.27644628 0.39256198 0.43471074 0.44494382 0.42622951 0.        ]\n",
            "[2021-08-06 15:30:26,944][<ipython-input-28-977f21560589>][line:161][INFO] No improvement. \n"
          ],
          "name": "stderr"
        },
        {
          "output_type": "stream",
          "text": [
            "DONE (t=0.10s).\n",
            "IoU metric: bbox\n",
            " Average Precision  (AP) @[ IoU=0.50:0.95 | area=   all | maxDets=100 ] = 0.187\n",
            " Average Precision  (AP) @[ IoU=0.50      | area=   all | maxDets=100 ] = 0.382\n",
            " Average Precision  (AP) @[ IoU=0.75      | area=   all | maxDets=100 ] = 0.140\n",
            " Average Precision  (AP) @[ IoU=0.50:0.95 | area= small | maxDets=100 ] = 0.187\n",
            " Average Precision  (AP) @[ IoU=0.50:0.95 | area=medium | maxDets=100 ] = 0.236\n",
            " Average Precision  (AP) @[ IoU=0.50:0.95 | area= large | maxDets=100 ] = 0.000\n",
            " Average Recall     (AR) @[ IoU=0.50:0.95 | area=   all | maxDets=  1 ] = 0.276\n",
            " Average Recall     (AR) @[ IoU=0.50:0.95 | area=   all | maxDets= 10 ] = 0.393\n",
            " Average Recall     (AR) @[ IoU=0.50:0.95 | area=   all | maxDets=100 ] = 0.435\n",
            " Average Recall     (AR) @[ IoU=0.50:0.95 | area= small | maxDets=100 ] = 0.445\n",
            " Average Recall     (AR) @[ IoU=0.50:0.95 | area=medium | maxDets=100 ] = 0.426\n",
            " Average Recall     (AR) @[ IoU=0.50:0.95 | area= large | maxDets=100 ] = 0.000\n",
            "Cycle:[1] Epoch: [11]  [  0/239]  eta: 0:05:00  task_lr: 0.000460  task_loss: 0.1080 (0.1080)  time: 1.2582  data: 0.3450  max mem: 4966\n",
            "Cycle:[1] Epoch: [11]  [100/239]  eta: 0:02:08  task_lr: 0.000460  task_loss: 0.1243 (0.1313)  time: 0.9166  data: 0.0136  max mem: 4966\n",
            "Cycle:[1] Epoch: [11]  [200/239]  eta: 0:00:35  task_lr: 0.000460  task_loss: 0.1431 (0.1372)  time: 0.9168  data: 0.0137  max mem: 4966\n",
            "Cycle:[1] Epoch: [11]  [238/239]  eta: 0:00:00  task_lr: 0.000460  task_loss: 0.1217 (0.1370)  time: 0.9180  data: 0.0146  max mem: 4966\n",
            "Cycle:[1] Epoch: [11] Total time: 0:03:39 (0.9203 s / it)\n",
            "creating index...\n",
            "index created!\n",
            "Test:  [  0/239]  eta: 0:01:14  model_time: 0.0942 (0.0942)  evaluator_time: 0.0063 (0.0063)  time: 0.3110  data: 0.2083  max mem: 4966\n",
            "Test:  [100/239]  eta: 0:00:12  model_time: 0.0828 (0.0830)  evaluator_time: 0.0025 (0.0024)  time: 0.0910  data: 0.0039  max mem: 4966\n",
            "Test:  [200/239]  eta: 0:00:03  model_time: 0.0828 (0.0830)  evaluator_time: 0.0024 (0.0024)  time: 0.0906  data: 0.0037  max mem: 4966\n",
            "Test:  [238/239]  eta: 0:00:00  model_time: 0.0829 (0.0830)  evaluator_time: 0.0022 (0.0024)  time: 0.0900  data: 0.0036  max mem: 4966\n",
            "Test: Total time: 0:00:22 (0.0922 s / it)\n",
            "Averaged stats: model_time: 0.0829 (0.0830)  evaluator_time: 0.0022 (0.0024)\n",
            "Accumulating evaluation results...\n"
          ],
          "name": "stdout"
        },
        {
          "output_type": "stream",
          "text": [
            "[2021-08-06 15:35:03,746][<ipython-input-28-977f21560589>][line:151][INFO] [0.16881613 0.37300441 0.11209406 0.18300008 0.16769094 0.\n",
            " 0.24917355 0.35702479 0.37809917 0.37865169 0.39508197 0.        ]\n",
            "[2021-08-06 15:35:03,750][<ipython-input-28-977f21560589>][line:161][INFO] No improvement. \n"
          ],
          "name": "stderr"
        },
        {
          "output_type": "stream",
          "text": [
            "DONE (t=0.08s).\n",
            "IoU metric: bbox\n",
            " Average Precision  (AP) @[ IoU=0.50:0.95 | area=   all | maxDets=100 ] = 0.169\n",
            " Average Precision  (AP) @[ IoU=0.50      | area=   all | maxDets=100 ] = 0.373\n",
            " Average Precision  (AP) @[ IoU=0.75      | area=   all | maxDets=100 ] = 0.112\n",
            " Average Precision  (AP) @[ IoU=0.50:0.95 | area= small | maxDets=100 ] = 0.183\n",
            " Average Precision  (AP) @[ IoU=0.50:0.95 | area=medium | maxDets=100 ] = 0.168\n",
            " Average Precision  (AP) @[ IoU=0.50:0.95 | area= large | maxDets=100 ] = 0.000\n",
            " Average Recall     (AR) @[ IoU=0.50:0.95 | area=   all | maxDets=  1 ] = 0.249\n",
            " Average Recall     (AR) @[ IoU=0.50:0.95 | area=   all | maxDets= 10 ] = 0.357\n",
            " Average Recall     (AR) @[ IoU=0.50:0.95 | area=   all | maxDets=100 ] = 0.378\n",
            " Average Recall     (AR) @[ IoU=0.50:0.95 | area= small | maxDets=100 ] = 0.379\n",
            " Average Recall     (AR) @[ IoU=0.50:0.95 | area=medium | maxDets=100 ] = 0.395\n",
            " Average Recall     (AR) @[ IoU=0.50:0.95 | area= large | maxDets=100 ] = 0.000\n",
            "Cycle:[1] Epoch: [12]  [  0/239]  eta: 0:05:04  task_lr: 0.000452  task_loss: 0.1060 (0.1060)  time: 1.2734  data: 0.3661  max mem: 4966\n",
            "Cycle:[1] Epoch: [12]  [100/239]  eta: 0:02:08  task_lr: 0.000452  task_loss: 0.1428 (0.1452)  time: 0.9192  data: 0.0150  max mem: 4966\n",
            "Cycle:[1] Epoch: [12]  [200/239]  eta: 0:00:35  task_lr: 0.000452  task_loss: 0.1565 (0.1499)  time: 0.9202  data: 0.0148  max mem: 4966\n",
            "Cycle:[1] Epoch: [12]  [238/239]  eta: 0:00:00  task_lr: 0.000452  task_loss: 0.1237 (0.1479)  time: 0.9171  data: 0.0134  max mem: 4966\n",
            "Cycle:[1] Epoch: [12] Total time: 0:03:40 (0.9208 s / it)\n",
            "creating index...\n",
            "index created!\n",
            "Test:  [  0/239]  eta: 0:01:11  model_time: 0.0960 (0.0960)  evaluator_time: 0.0048 (0.0048)  time: 0.2975  data: 0.1941  max mem: 4966\n",
            "Test:  [100/239]  eta: 0:00:12  model_time: 0.0827 (0.0830)  evaluator_time: 0.0019 (0.0020)  time: 0.0898  data: 0.0035  max mem: 4966\n",
            "Test:  [200/239]  eta: 0:00:03  model_time: 0.0826 (0.0828)  evaluator_time: 0.0020 (0.0020)  time: 0.0902  data: 0.0039  max mem: 4966\n"
          ],
          "name": "stdout"
        },
        {
          "output_type": "stream",
          "text": [
            "[2021-08-06 15:39:42,048][<ipython-input-28-977f21560589>][line:151][INFO] [0.1963175  0.41813199 0.15375106 0.21656029 0.16830691 0.\n",
            " 0.27727273 0.40247934 0.41900826 0.42865169 0.41147541 0.        ]\n",
            "[2021-08-06 15:39:42,049][<ipython-input-28-977f21560589>][line:161][INFO] No improvement. \n"
          ],
          "name": "stderr"
        },
        {
          "output_type": "stream",
          "text": [
            "Test:  [238/239]  eta: 0:00:00  model_time: 0.0826 (0.0828)  evaluator_time: 0.0019 (0.0020)  time: 0.0897  data: 0.0035  max mem: 4966\n",
            "Test: Total time: 0:00:21 (0.0912 s / it)\n",
            "Averaged stats: model_time: 0.0826 (0.0828)  evaluator_time: 0.0019 (0.0020)\n",
            "Accumulating evaluation results...\n",
            "DONE (t=0.06s).\n",
            "IoU metric: bbox\n",
            " Average Precision  (AP) @[ IoU=0.50:0.95 | area=   all | maxDets=100 ] = 0.196\n",
            " Average Precision  (AP) @[ IoU=0.50      | area=   all | maxDets=100 ] = 0.418\n",
            " Average Precision  (AP) @[ IoU=0.75      | area=   all | maxDets=100 ] = 0.154\n",
            " Average Precision  (AP) @[ IoU=0.50:0.95 | area= small | maxDets=100 ] = 0.217\n",
            " Average Precision  (AP) @[ IoU=0.50:0.95 | area=medium | maxDets=100 ] = 0.168\n",
            " Average Precision  (AP) @[ IoU=0.50:0.95 | area= large | maxDets=100 ] = 0.000\n",
            " Average Recall     (AR) @[ IoU=0.50:0.95 | area=   all | maxDets=  1 ] = 0.277\n",
            " Average Recall     (AR) @[ IoU=0.50:0.95 | area=   all | maxDets= 10 ] = 0.402\n",
            " Average Recall     (AR) @[ IoU=0.50:0.95 | area=   all | maxDets=100 ] = 0.419\n",
            " Average Recall     (AR) @[ IoU=0.50:0.95 | area= small | maxDets=100 ] = 0.429\n",
            " Average Recall     (AR) @[ IoU=0.50:0.95 | area=medium | maxDets=100 ] = 0.411\n",
            " Average Recall     (AR) @[ IoU=0.50:0.95 | area= large | maxDets=100 ] = 0.000\n",
            "Cycle:[1] Epoch: [13]  [  0/239]  eta: 0:05:05  task_lr: 0.000444  task_loss: 0.1272 (0.1272)  time: 1.2772  data: 0.3498  max mem: 4966\n",
            "Cycle:[1] Epoch: [13]  [100/239]  eta: 0:02:09  task_lr: 0.000444  task_loss: 0.1732 (0.1546)  time: 0.9272  data: 0.0149  max mem: 4966\n",
            "Cycle:[1] Epoch: [13]  [200/239]  eta: 0:00:36  task_lr: 0.000444  task_loss: 0.1511 (0.1505)  time: 0.9230  data: 0.0133  max mem: 4966\n",
            "Cycle:[1] Epoch: [13]  [238/239]  eta: 0:00:00  task_lr: 0.000444  task_loss: 0.0991 (0.1466)  time: 0.9250  data: 0.0142  max mem: 4966\n",
            "Cycle:[1] Epoch: [13] Total time: 0:03:41 (0.9268 s / it)\n",
            "creating index...\n",
            "index created!\n",
            "Test:  [  0/239]  eta: 0:01:13  model_time: 0.0938 (0.0938)  evaluator_time: 0.0052 (0.0052)  time: 0.3095  data: 0.2079  max mem: 4966\n",
            "Test:  [100/239]  eta: 0:00:12  model_time: 0.0826 (0.0832)  evaluator_time: 0.0022 (0.0023)  time: 0.0903  data: 0.0037  max mem: 4966\n",
            "Test:  [200/239]  eta: 0:00:03  model_time: 0.0826 (0.0830)  evaluator_time: 0.0021 (0.0022)  time: 0.0900  data: 0.0037  max mem: 4966\n"
          ],
          "name": "stdout"
        },
        {
          "output_type": "stream",
          "text": [
            "[2021-08-06 15:44:21,774][<ipython-input-28-977f21560589>][line:151][INFO] [0.21292708 0.42929496 0.15599451 0.22407116 0.20853206 0.\n",
            " 0.28264463 0.40454545 0.40950413 0.41123596 0.42459016 0.        ]\n"
          ],
          "name": "stderr"
        },
        {
          "output_type": "stream",
          "text": [
            "Test:  [238/239]  eta: 0:00:00  model_time: 0.0826 (0.0829)  evaluator_time: 0.0019 (0.0022)  time: 0.0897  data: 0.0038  max mem: 4966\n",
            "Test: Total time: 0:00:21 (0.0916 s / it)\n",
            "Averaged stats: model_time: 0.0826 (0.0829)  evaluator_time: 0.0019 (0.0022)\n",
            "Accumulating evaluation results...\n",
            "DONE (t=0.06s).\n",
            "IoU metric: bbox\n",
            " Average Precision  (AP) @[ IoU=0.50:0.95 | area=   all | maxDets=100 ] = 0.213\n",
            " Average Precision  (AP) @[ IoU=0.50      | area=   all | maxDets=100 ] = 0.429\n",
            " Average Precision  (AP) @[ IoU=0.75      | area=   all | maxDets=100 ] = 0.156\n",
            " Average Precision  (AP) @[ IoU=0.50:0.95 | area= small | maxDets=100 ] = 0.224\n",
            " Average Precision  (AP) @[ IoU=0.50:0.95 | area=medium | maxDets=100 ] = 0.209\n",
            " Average Precision  (AP) @[ IoU=0.50:0.95 | area= large | maxDets=100 ] = 0.000\n",
            " Average Recall     (AR) @[ IoU=0.50:0.95 | area=   all | maxDets=  1 ] = 0.283\n",
            " Average Recall     (AR) @[ IoU=0.50:0.95 | area=   all | maxDets= 10 ] = 0.405\n",
            " Average Recall     (AR) @[ IoU=0.50:0.95 | area=   all | maxDets=100 ] = 0.410\n",
            " Average Recall     (AR) @[ IoU=0.50:0.95 | area= small | maxDets=100 ] = 0.411\n",
            " Average Recall     (AR) @[ IoU=0.50:0.95 | area=medium | maxDets=100 ] = 0.425\n",
            " Average Recall     (AR) @[ IoU=0.50:0.95 | area= large | maxDets=100 ] = 0.000\n"
          ],
          "name": "stdout"
        },
        {
          "output_type": "stream",
          "text": [
            "[2021-08-06 15:44:21,776][<ipython-input-28-977f21560589>][line:161][INFO] No improvement. \n"
          ],
          "name": "stderr"
        },
        {
          "output_type": "stream",
          "text": [
            "Cycle:[1] Epoch: [14]  [  0/239]  eta: 0:05:33  task_lr: 0.000436  task_loss: 0.1436 (0.1436)  time: 1.3968  data: 0.4803  max mem: 4966\n",
            "Cycle:[1] Epoch: [14]  [100/239]  eta: 0:02:09  task_lr: 0.000436  task_loss: 0.1332 (0.1460)  time: 0.9251  data: 0.0144  max mem: 4966\n",
            "Cycle:[1] Epoch: [14]  [200/239]  eta: 0:00:36  task_lr: 0.000436  task_loss: 0.1547 (0.1461)  time: 0.9255  data: 0.0147  max mem: 4966\n",
            "Cycle:[1] Epoch: [14]  [238/239]  eta: 0:00:00  task_lr: 0.000436  task_loss: 0.1537 (0.1472)  time: 0.9229  data: 0.0134  max mem: 4966\n",
            "Cycle:[1] Epoch: [14] Total time: 0:03:41 (0.9275 s / it)\n",
            "creating index...\n",
            "index created!\n",
            "Test:  [  0/239]  eta: 0:01:15  model_time: 0.0948 (0.0948)  evaluator_time: 0.0052 (0.0052)  time: 0.3176  data: 0.2151  max mem: 4966\n",
            "Test:  [100/239]  eta: 0:00:12  model_time: 0.0831 (0.0833)  evaluator_time: 0.0023 (0.0023)  time: 0.0910  data: 0.0039  max mem: 4966\n",
            "Test:  [200/239]  eta: 0:00:03  model_time: 0.0830 (0.0832)  evaluator_time: 0.0022 (0.0023)  time: 0.0910  data: 0.0038  max mem: 4966\n",
            "Test:  [238/239]  eta: 0:00:00  model_time: 0.0830 (0.0832)  evaluator_time: 0.0021 (0.0022)  time: 0.0914  data: 0.0042  max mem: 4966\n",
            "Test: Total time: 0:00:22 (0.0923 s / it)\n",
            "Averaged stats: model_time: 0.0830 (0.0832)  evaluator_time: 0.0021 (0.0022)\n",
            "Accumulating evaluation results...\n",
            "DONE (t=0.07s).\n",
            "IoU metric: bbox\n",
            " Average Precision  (AP) @[ IoU=0.50:0.95 | area=   all | maxDets=100 ] = 0.176\n",
            " Average Precision  (AP) @[ IoU=0.50      | area=   all | maxDets=100 ] = 0.404\n",
            " Average Precision  (AP) @[ IoU=0.75      | area=   all | maxDets=100 ] = 0.111\n",
            " Average Precision  (AP) @[ IoU=0.50:0.95 | area= small | maxDets=100 ] = 0.181\n",
            " Average Precision  (AP) @[ IoU=0.50:0.95 | area=medium | maxDets=100 ] = 0.199\n",
            " Average Precision  (AP) @[ IoU=0.50:0.95 | area= large | maxDets=100 ] = 0.000\n",
            " Average Recall     (AR) @[ IoU=0.50:0.95 | area=   all | maxDets=  1 ] = 0.271\n",
            " Average Recall     (AR) @[ IoU=0.50:0.95 | area=   all | maxDets= 10 ] = 0.376\n",
            " Average Recall     (AR) @[ IoU=0.50:0.95 | area=   all | maxDets=100 ] = 0.388\n",
            " Average Recall     (AR) @[ IoU=0.50:0.95 | area= small | maxDets=100 ] = 0.378\n",
            " Average Recall     (AR) @[ IoU=0.50:0.95 | area=medium | maxDets=100 ] = 0.436\n",
            " Average Recall     (AR) @[ IoU=0.50:0.95 | area= large | maxDets=100 ] = 0.000\n"
          ],
          "name": "stdout"
        },
        {
          "output_type": "stream",
          "text": [
            "[2021-08-06 15:49:02,011][<ipython-input-28-977f21560589>][line:151][INFO] [0.17594433 0.4035378  0.11066428 0.18101521 0.19910442 0.\n",
            " 0.27066116 0.37644628 0.38760331 0.37752809 0.43606557 0.        ]\n",
            "[2021-08-06 15:49:02,014][<ipython-input-28-977f21560589>][line:161][INFO] No improvement. \n"
          ],
          "name": "stderr"
        },
        {
          "output_type": "stream",
          "text": [
            "Cycle:[1] Epoch: [15]  [  0/239]  eta: 0:05:11  task_lr: 0.000427  task_loss: 0.1233 (0.1233)  time: 1.3041  data: 0.3833  max mem: 4966\n",
            "Cycle:[1] Epoch: [15]  [100/239]  eta: 0:02:08  task_lr: 0.000427  task_loss: 0.1272 (0.1365)  time: 0.9217  data: 0.0137  max mem: 4966\n",
            "Cycle:[1] Epoch: [15]  [200/239]  eta: 0:00:36  task_lr: 0.000427  task_loss: 0.1394 (0.1397)  time: 0.9249  data: 0.0148  max mem: 4966\n",
            "Cycle:[1] Epoch: [15]  [238/239]  eta: 0:00:00  task_lr: 0.000427  task_loss: 0.1539 (0.1428)  time: 0.9217  data: 0.0133  max mem: 4966\n",
            "Cycle:[1] Epoch: [15] Total time: 0:03:41 (0.9259 s / it)\n",
            "creating index...\n",
            "index created!\n",
            "Test:  [  0/239]  eta: 0:01:18  model_time: 0.0970 (0.0970)  evaluator_time: 0.0060 (0.0060)  time: 0.3272  data: 0.2220  max mem: 4966\n",
            "Test:  [100/239]  eta: 0:00:12  model_time: 0.0826 (0.0832)  evaluator_time: 0.0019 (0.0020)  time: 0.0896  data: 0.0037  max mem: 4966\n",
            "Test:  [200/239]  eta: 0:00:03  model_time: 0.0826 (0.0829)  evaluator_time: 0.0018 (0.0020)  time: 0.0894  data: 0.0036  max mem: 4966\n"
          ],
          "name": "stdout"
        },
        {
          "output_type": "stream",
          "text": [
            "[2021-08-06 15:53:40,939][<ipython-input-28-977f21560589>][line:151][INFO] [0.23749953 0.43272058 0.21639201 0.2426753  0.25270839 0.\n",
            " 0.31363636 0.43595041 0.44752066 0.45561798 0.44590164 0.        ]\n",
            "[2021-08-06 15:53:40,940][<ipython-input-28-977f21560589>][line:157][INFO] Saving best checkpoints for mAP 0.237500\n"
          ],
          "name": "stderr"
        },
        {
          "output_type": "stream",
          "text": [
            "Test:  [238/239]  eta: 0:00:00  model_time: 0.0828 (0.0829)  evaluator_time: 0.0018 (0.0019)  time: 0.0902  data: 0.0037  max mem: 4966\n",
            "Test: Total time: 0:00:21 (0.0916 s / it)\n",
            "Averaged stats: model_time: 0.0828 (0.0829)  evaluator_time: 0.0018 (0.0019)\n",
            "Accumulating evaluation results...\n",
            "DONE (t=0.05s).\n",
            "IoU metric: bbox\n",
            " Average Precision  (AP) @[ IoU=0.50:0.95 | area=   all | maxDets=100 ] = 0.237\n",
            " Average Precision  (AP) @[ IoU=0.50      | area=   all | maxDets=100 ] = 0.433\n",
            " Average Precision  (AP) @[ IoU=0.75      | area=   all | maxDets=100 ] = 0.216\n",
            " Average Precision  (AP) @[ IoU=0.50:0.95 | area= small | maxDets=100 ] = 0.243\n",
            " Average Precision  (AP) @[ IoU=0.50:0.95 | area=medium | maxDets=100 ] = 0.253\n",
            " Average Precision  (AP) @[ IoU=0.50:0.95 | area= large | maxDets=100 ] = 0.000\n",
            " Average Recall     (AR) @[ IoU=0.50:0.95 | area=   all | maxDets=  1 ] = 0.314\n",
            " Average Recall     (AR) @[ IoU=0.50:0.95 | area=   all | maxDets= 10 ] = 0.436\n",
            " Average Recall     (AR) @[ IoU=0.50:0.95 | area=   all | maxDets=100 ] = 0.448\n",
            " Average Recall     (AR) @[ IoU=0.50:0.95 | area= small | maxDets=100 ] = 0.456\n",
            " Average Recall     (AR) @[ IoU=0.50:0.95 | area=medium | maxDets=100 ] = 0.446\n",
            " Average Recall     (AR) @[ IoU=0.50:0.95 | area= large | maxDets=100 ] = 0.000\n",
            "Cycle:[1] Epoch: [16]  [  0/239]  eta: 0:05:10  task_lr: 0.000417  task_loss: 0.1432 (0.1432)  time: 1.2986  data: 0.3729  max mem: 4966\n",
            "Cycle:[1] Epoch: [16]  [100/239]  eta: 0:02:09  task_lr: 0.000417  task_loss: 0.1344 (0.1486)  time: 0.9241  data: 0.0142  max mem: 4966\n",
            "Cycle:[1] Epoch: [16]  [200/239]  eta: 0:00:36  task_lr: 0.000417  task_loss: 0.1343 (0.1471)  time: 0.9230  data: 0.0138  max mem: 4966\n",
            "Cycle:[1] Epoch: [16]  [238/239]  eta: 0:00:00  task_lr: 0.000417  task_loss: 0.1385 (0.1468)  time: 0.9251  data: 0.0141  max mem: 4966\n",
            "Cycle:[1] Epoch: [16] Total time: 0:03:41 (0.9272 s / it)\n",
            "creating index...\n",
            "index created!\n",
            "Test:  [  0/239]  eta: 0:01:12  model_time: 0.0993 (0.0993)  evaluator_time: 0.0050 (0.0050)  time: 0.3037  data: 0.1971  max mem: 4966\n",
            "Test:  [100/239]  eta: 0:00:13  model_time: 0.0834 (0.0838)  evaluator_time: 0.0025 (0.0026)  time: 0.0919  data: 0.0041  max mem: 4966\n",
            "Test:  [200/239]  eta: 0:00:03  model_time: 0.0833 (0.0835)  evaluator_time: 0.0027 (0.0026)  time: 0.0913  data: 0.0040  max mem: 4966\n",
            "Test:  [238/239]  eta: 0:00:00  model_time: 0.0833 (0.0835)  evaluator_time: 0.0023 (0.0026)  time: 0.0910  data: 0.0039  max mem: 4966\n",
            "Test: Total time: 0:00:22 (0.0930 s / it)\n",
            "Averaged stats: model_time: 0.0833 (0.0835)  evaluator_time: 0.0023 (0.0026)\n",
            "Accumulating evaluation results...\n"
          ],
          "name": "stdout"
        },
        {
          "output_type": "stream",
          "text": [
            "[2021-08-06 15:58:20,302][<ipython-input-28-977f21560589>][line:151][INFO] [0.21585705 0.42269489 0.18545695 0.21906827 0.24706259 0.\n",
            " 0.30330579 0.42809917 0.45165289 0.45224719 0.47213115 0.        ]\n",
            "[2021-08-06 15:58:20,303][<ipython-input-28-977f21560589>][line:161][INFO] No improvement. \n"
          ],
          "name": "stderr"
        },
        {
          "output_type": "stream",
          "text": [
            "DONE (t=0.09s).\n",
            "IoU metric: bbox\n",
            " Average Precision  (AP) @[ IoU=0.50:0.95 | area=   all | maxDets=100 ] = 0.216\n",
            " Average Precision  (AP) @[ IoU=0.50      | area=   all | maxDets=100 ] = 0.423\n",
            " Average Precision  (AP) @[ IoU=0.75      | area=   all | maxDets=100 ] = 0.185\n",
            " Average Precision  (AP) @[ IoU=0.50:0.95 | area= small | maxDets=100 ] = 0.219\n",
            " Average Precision  (AP) @[ IoU=0.50:0.95 | area=medium | maxDets=100 ] = 0.247\n",
            " Average Precision  (AP) @[ IoU=0.50:0.95 | area= large | maxDets=100 ] = 0.000\n",
            " Average Recall     (AR) @[ IoU=0.50:0.95 | area=   all | maxDets=  1 ] = 0.303\n",
            " Average Recall     (AR) @[ IoU=0.50:0.95 | area=   all | maxDets= 10 ] = 0.428\n",
            " Average Recall     (AR) @[ IoU=0.50:0.95 | area=   all | maxDets=100 ] = 0.452\n",
            " Average Recall     (AR) @[ IoU=0.50:0.95 | area= small | maxDets=100 ] = 0.452\n",
            " Average Recall     (AR) @[ IoU=0.50:0.95 | area=medium | maxDets=100 ] = 0.472\n",
            " Average Recall     (AR) @[ IoU=0.50:0.95 | area= large | maxDets=100 ] = 0.000\n",
            "Cycle:[1] Epoch: [17]  [  0/239]  eta: 0:05:14  task_lr: 0.000407  task_loss: 0.1485 (0.1485)  time: 1.3148  data: 0.3975  max mem: 4966\n",
            "Cycle:[1] Epoch: [17]  [100/239]  eta: 0:02:09  task_lr: 0.000407  task_loss: 0.1294 (0.1388)  time: 0.9271  data: 0.0149  max mem: 4966\n",
            "Cycle:[1] Epoch: [17]  [200/239]  eta: 0:00:36  task_lr: 0.000407  task_loss: 0.1338 (0.1392)  time: 0.9250  data: 0.0142  max mem: 4966\n",
            "Cycle:[1] Epoch: [17]  [238/239]  eta: 0:00:00  task_lr: 0.000407  task_loss: 0.1384 (0.1402)  time: 0.9271  data: 0.0147  max mem: 4966\n",
            "Cycle:[1] Epoch: [17] Total time: 0:03:41 (0.9283 s / it)\n",
            "creating index...\n",
            "index created!\n",
            "Test:  [  0/239]  eta: 0:01:12  model_time: 0.0954 (0.0954)  evaluator_time: 0.0049 (0.0049)  time: 0.3028  data: 0.2004  max mem: 4966\n",
            "Test:  [100/239]  eta: 0:00:12  model_time: 0.0828 (0.0832)  evaluator_time: 0.0019 (0.0020)  time: 0.0900  data: 0.0036  max mem: 4966\n",
            "Test:  [200/239]  eta: 0:00:03  model_time: 0.0833 (0.0831)  evaluator_time: 0.0020 (0.0020)  time: 0.0908  data: 0.0039  max mem: 4966\n"
          ],
          "name": "stdout"
        },
        {
          "output_type": "stream",
          "text": [
            "[2021-08-06 16:02:59,978][<ipython-input-28-977f21560589>][line:151][INFO] [0.20050284 0.45470444 0.151986   0.20014533 0.24373671 0.\n",
            " 0.27479339 0.36322314 0.36735537 0.3505618  0.43442623 0.        ]\n",
            "[2021-08-06 16:02:59,980][<ipython-input-28-977f21560589>][line:161][INFO] No improvement. \n"
          ],
          "name": "stderr"
        },
        {
          "output_type": "stream",
          "text": [
            "Test:  [238/239]  eta: 0:00:00  model_time: 0.0833 (0.0831)  evaluator_time: 0.0020 (0.0020)  time: 0.0906  data: 0.0040  max mem: 4966\n",
            "Test: Total time: 0:00:21 (0.0918 s / it)\n",
            "Averaged stats: model_time: 0.0833 (0.0831)  evaluator_time: 0.0020 (0.0020)\n",
            "Accumulating evaluation results...\n",
            "DONE (t=0.05s).\n",
            "IoU metric: bbox\n",
            " Average Precision  (AP) @[ IoU=0.50:0.95 | area=   all | maxDets=100 ] = 0.201\n",
            " Average Precision  (AP) @[ IoU=0.50      | area=   all | maxDets=100 ] = 0.455\n",
            " Average Precision  (AP) @[ IoU=0.75      | area=   all | maxDets=100 ] = 0.152\n",
            " Average Precision  (AP) @[ IoU=0.50:0.95 | area= small | maxDets=100 ] = 0.200\n",
            " Average Precision  (AP) @[ IoU=0.50:0.95 | area=medium | maxDets=100 ] = 0.244\n",
            " Average Precision  (AP) @[ IoU=0.50:0.95 | area= large | maxDets=100 ] = 0.000\n",
            " Average Recall     (AR) @[ IoU=0.50:0.95 | area=   all | maxDets=  1 ] = 0.275\n",
            " Average Recall     (AR) @[ IoU=0.50:0.95 | area=   all | maxDets= 10 ] = 0.363\n",
            " Average Recall     (AR) @[ IoU=0.50:0.95 | area=   all | maxDets=100 ] = 0.367\n",
            " Average Recall     (AR) @[ IoU=0.50:0.95 | area= small | maxDets=100 ] = 0.351\n",
            " Average Recall     (AR) @[ IoU=0.50:0.95 | area=medium | maxDets=100 ] = 0.434\n",
            " Average Recall     (AR) @[ IoU=0.50:0.95 | area= large | maxDets=100 ] = 0.000\n",
            "Cycle:[1] Epoch: [18]  [  0/239]  eta: 0:05:06  task_lr: 0.000397  task_loss: 0.1362 (0.1362)  time: 1.2825  data: 0.3591  max mem: 4966\n",
            "Cycle:[1] Epoch: [18]  [100/239]  eta: 0:02:09  task_lr: 0.000397  task_loss: 0.1339 (0.1454)  time: 0.9266  data: 0.0143  max mem: 4966\n",
            "Cycle:[1] Epoch: [18]  [200/239]  eta: 0:00:36  task_lr: 0.000397  task_loss: 0.1470 (0.1430)  time: 0.9263  data: 0.0141  max mem: 4966\n",
            "Cycle:[1] Epoch: [18]  [238/239]  eta: 0:00:00  task_lr: 0.000397  task_loss: 0.1534 (0.1439)  time: 0.9246  data: 0.0142  max mem: 4966\n",
            "Cycle:[1] Epoch: [18] Total time: 0:03:41 (0.9277 s / it)\n",
            "creating index...\n",
            "index created!\n",
            "Test:  [  0/239]  eta: 0:01:12  model_time: 0.0952 (0.0952)  evaluator_time: 0.0048 (0.0048)  time: 0.3053  data: 0.2032  max mem: 4966\n",
            "Test:  [100/239]  eta: 0:00:12  model_time: 0.0828 (0.0831)  evaluator_time: 0.0023 (0.0023)  time: 0.0905  data: 0.0037  max mem: 4966\n",
            "Test:  [200/239]  eta: 0:00:03  model_time: 0.0828 (0.0831)  evaluator_time: 0.0023 (0.0023)  time: 0.0925  data: 0.0042  max mem: 4966\n",
            "Test:  [238/239]  eta: 0:00:00  model_time: 0.0828 (0.0830)  evaluator_time: 0.0023 (0.0023)  time: 0.0918  data: 0.0041  max mem: 4966\n",
            "Test: Total time: 0:00:22 (0.0931 s / it)\n",
            "Averaged stats: model_time: 0.0828 (0.0830)  evaluator_time: 0.0023 (0.0023)\n",
            "Accumulating evaluation results...\n",
            "DONE (t=0.07s).\n",
            "IoU metric: bbox\n",
            " Average Precision  (AP) @[ IoU=0.50:0.95 | area=   all | maxDets=100 ] = 0.217\n",
            " Average Precision  (AP) @[ IoU=0.50      | area=   all | maxDets=100 ] = 0.437\n",
            " Average Precision  (AP) @[ IoU=0.75      | area=   all | maxDets=100 ] = 0.184\n",
            " Average Precision  (AP) @[ IoU=0.50:0.95 | area= small | maxDets=100 ] = 0.217\n",
            " Average Precision  (AP) @[ IoU=0.50:0.95 | area=medium | maxDets=100 ] = 0.267\n",
            " Average Precision  (AP) @[ IoU=0.50:0.95 | area= large | maxDets=100 ] = 0.000\n",
            " Average Recall     (AR) @[ IoU=0.50:0.95 | area=   all | maxDets=  1 ] = 0.313\n",
            " Average Recall     (AR) @[ IoU=0.50:0.95 | area=   all | maxDets= 10 ] = 0.436\n",
            " Average Recall     (AR) @[ IoU=0.50:0.95 | area=   all | maxDets=100 ] = 0.452\n",
            " Average Recall     (AR) @[ IoU=0.50:0.95 | area= small | maxDets=100 ] = 0.454\n",
            " Average Recall     (AR) @[ IoU=0.50:0.95 | area=medium | maxDets=100 ] = 0.466\n",
            " Average Recall     (AR) @[ IoU=0.50:0.95 | area= large | maxDets=100 ] = 0.000\n"
          ],
          "name": "stdout"
        },
        {
          "output_type": "stream",
          "text": [
            "[2021-08-06 16:07:40,572][<ipython-input-28-977f21560589>][line:151][INFO] [0.21706197 0.43690312 0.18355486 0.21715074 0.2666191  0.\n",
            " 0.31322314 0.43636364 0.45165289 0.45449438 0.46557377 0.        ]\n",
            "[2021-08-06 16:07:40,578][<ipython-input-28-977f21560589>][line:161][INFO] No improvement. \n"
          ],
          "name": "stderr"
        },
        {
          "output_type": "stream",
          "text": [
            "Cycle:[1] Epoch: [19]  [  0/239]  eta: 0:05:09  task_lr: 0.000386  task_loss: 0.0886 (0.0886)  time: 1.2950  data: 0.3688  max mem: 4966\n",
            "Cycle:[1] Epoch: [19]  [100/239]  eta: 0:02:09  task_lr: 0.000386  task_loss: 0.1224 (0.1399)  time: 0.9275  data: 0.0148  max mem: 4966\n",
            "Cycle:[1] Epoch: [19]  [200/239]  eta: 0:00:36  task_lr: 0.000386  task_loss: 0.1269 (0.1407)  time: 0.9283  data: 0.0157  max mem: 4966\n",
            "Cycle:[1] Epoch: [19]  [238/239]  eta: 0:00:00  task_lr: 0.000386  task_loss: 0.1292 (0.1397)  time: 0.9254  data: 0.0140  max mem: 4966\n",
            "Cycle:[1] Epoch: [19] Total time: 0:03:41 (0.9288 s / it)\n",
            "creating index...\n",
            "index created!\n",
            "Test:  [  0/239]  eta: 0:01:17  model_time: 0.0942 (0.0942)  evaluator_time: 0.0054 (0.0054)  time: 0.3237  data: 0.2151  max mem: 4966\n",
            "Test:  [100/239]  eta: 0:00:13  model_time: 0.0835 (0.0837)  evaluator_time: 0.0027 (0.0026)  time: 0.0919  data: 0.0040  max mem: 4966\n",
            "Test:  [200/239]  eta: 0:00:03  model_time: 0.0832 (0.0835)  evaluator_time: 0.0026 (0.0026)  time: 0.0917  data: 0.0041  max mem: 4966\n",
            "Test:  [238/239]  eta: 0:00:00  model_time: 0.0831 (0.0835)  evaluator_time: 0.0022 (0.0026)  time: 0.0915  data: 0.0040  max mem: 4966\n",
            "Test: Total time: 0:00:22 (0.0932 s / it)\n",
            "Averaged stats: model_time: 0.0831 (0.0835)  evaluator_time: 0.0022 (0.0026)\n",
            "Accumulating evaluation results...\n"
          ],
          "name": "stdout"
        },
        {
          "output_type": "stream",
          "text": [
            "[2021-08-06 16:12:21,805][<ipython-input-28-977f21560589>][line:151][INFO] [0.24082155 0.46370583 0.21224311 0.2418467  0.26860669 0.\n",
            " 0.32809917 0.44752066 0.47727273 0.48764045 0.4704918  0.        ]\n",
            "[2021-08-06 16:12:21,806][<ipython-input-28-977f21560589>][line:157][INFO] Saving best checkpoints for mAP 0.240822\n"
          ],
          "name": "stderr"
        },
        {
          "output_type": "stream",
          "text": [
            "DONE (t=0.09s).\n",
            "IoU metric: bbox\n",
            " Average Precision  (AP) @[ IoU=0.50:0.95 | area=   all | maxDets=100 ] = 0.241\n",
            " Average Precision  (AP) @[ IoU=0.50      | area=   all | maxDets=100 ] = 0.464\n",
            " Average Precision  (AP) @[ IoU=0.75      | area=   all | maxDets=100 ] = 0.212\n",
            " Average Precision  (AP) @[ IoU=0.50:0.95 | area= small | maxDets=100 ] = 0.242\n",
            " Average Precision  (AP) @[ IoU=0.50:0.95 | area=medium | maxDets=100 ] = 0.269\n",
            " Average Precision  (AP) @[ IoU=0.50:0.95 | area= large | maxDets=100 ] = 0.000\n",
            " Average Recall     (AR) @[ IoU=0.50:0.95 | area=   all | maxDets=  1 ] = 0.328\n",
            " Average Recall     (AR) @[ IoU=0.50:0.95 | area=   all | maxDets= 10 ] = 0.448\n",
            " Average Recall     (AR) @[ IoU=0.50:0.95 | area=   all | maxDets=100 ] = 0.477\n",
            " Average Recall     (AR) @[ IoU=0.50:0.95 | area= small | maxDets=100 ] = 0.488\n",
            " Average Recall     (AR) @[ IoU=0.50:0.95 | area=medium | maxDets=100 ] = 0.470\n",
            " Average Recall     (AR) @[ IoU=0.50:0.95 | area= large | maxDets=100 ] = 0.000\n",
            "Cycle:[1] Epoch: [20]  [  0/239]  eta: 0:05:31  task_lr: 0.000375  task_loss: 0.1539 (0.1539)  time: 1.3857  data: 0.4592  max mem: 4966\n",
            "Cycle:[1] Epoch: [20]  [100/239]  eta: 0:02:09  task_lr: 0.000375  task_loss: 0.1297 (0.1373)  time: 0.9253  data: 0.0144  max mem: 4966\n",
            "Cycle:[1] Epoch: [20]  [200/239]  eta: 0:00:36  task_lr: 0.000375  task_loss: 0.1430 (0.1413)  time: 0.9277  data: 0.0147  max mem: 4966\n",
            "Cycle:[1] Epoch: [20]  [238/239]  eta: 0:00:00  task_lr: 0.000375  task_loss: 0.1400 (0.1410)  time: 0.9274  data: 0.0156  max mem: 4966\n",
            "Cycle:[1] Epoch: [20] Total time: 0:03:42 (0.9292 s / it)\n",
            "creating index...\n",
            "index created!\n",
            "Test:  [  0/239]  eta: 0:01:11  model_time: 0.0936 (0.0936)  evaluator_time: 0.0046 (0.0046)  time: 0.3002  data: 0.1985  max mem: 4966\n",
            "Test:  [100/239]  eta: 0:00:12  model_time: 0.0832 (0.0836)  evaluator_time: 0.0024 (0.0024)  time: 0.0913  data: 0.0040  max mem: 4966\n",
            "Test:  [200/239]  eta: 0:00:03  model_time: 0.0833 (0.0835)  evaluator_time: 0.0023 (0.0024)  time: 0.0913  data: 0.0040  max mem: 4966\n",
            "Test:  [238/239]  eta: 0:00:00  model_time: 0.0832 (0.0834)  evaluator_time: 0.0021 (0.0024)  time: 0.0908  data: 0.0041  max mem: 4966\n",
            "Test: Total time: 0:00:22 (0.0926 s / it)\n",
            "Averaged stats: model_time: 0.0832 (0.0834)  evaluator_time: 0.0021 (0.0024)\n",
            "Accumulating evaluation results...\n",
            "DONE (t=0.07s).\n",
            "IoU metric: bbox\n"
          ],
          "name": "stdout"
        },
        {
          "output_type": "stream",
          "text": [
            "[2021-08-06 16:17:01,713][<ipython-input-28-977f21560589>][line:151][INFO] [0.24823341 0.47616519 0.21655126 0.25270284 0.27016386 0.\n",
            " 0.3285124  0.45909091 0.47975207 0.48258427 0.49508197 0.        ]\n",
            "[2021-08-06 16:17:01,717][<ipython-input-28-977f21560589>][line:157][INFO] Saving best checkpoints for mAP 0.248233\n"
          ],
          "name": "stderr"
        },
        {
          "output_type": "stream",
          "text": [
            " Average Precision  (AP) @[ IoU=0.50:0.95 | area=   all | maxDets=100 ] = 0.248\n",
            " Average Precision  (AP) @[ IoU=0.50      | area=   all | maxDets=100 ] = 0.476\n",
            " Average Precision  (AP) @[ IoU=0.75      | area=   all | maxDets=100 ] = 0.217\n",
            " Average Precision  (AP) @[ IoU=0.50:0.95 | area= small | maxDets=100 ] = 0.253\n",
            " Average Precision  (AP) @[ IoU=0.50:0.95 | area=medium | maxDets=100 ] = 0.270\n",
            " Average Precision  (AP) @[ IoU=0.50:0.95 | area= large | maxDets=100 ] = 0.000\n",
            " Average Recall     (AR) @[ IoU=0.50:0.95 | area=   all | maxDets=  1 ] = 0.329\n",
            " Average Recall     (AR) @[ IoU=0.50:0.95 | area=   all | maxDets= 10 ] = 0.459\n",
            " Average Recall     (AR) @[ IoU=0.50:0.95 | area=   all | maxDets=100 ] = 0.480\n",
            " Average Recall     (AR) @[ IoU=0.50:0.95 | area= small | maxDets=100 ] = 0.483\n",
            " Average Recall     (AR) @[ IoU=0.50:0.95 | area=medium | maxDets=100 ] = 0.495\n",
            " Average Recall     (AR) @[ IoU=0.50:0.95 | area= large | maxDets=100 ] = 0.000\n",
            "Cycle:[1] Epoch: [21]  [  0/239]  eta: 0:05:49  task_lr: 0.000363  task_loss: 0.1052 (0.1052)  time: 1.4619  data: 0.5486  max mem: 4966\n",
            "Cycle:[1] Epoch: [21]  [100/239]  eta: 0:02:09  task_lr: 0.000363  task_loss: 0.1296 (0.1430)  time: 0.9243  data: 0.0143  max mem: 4966\n",
            "Cycle:[1] Epoch: [21]  [200/239]  eta: 0:00:36  task_lr: 0.000363  task_loss: 0.1169 (0.1413)  time: 0.9255  data: 0.0146  max mem: 4966\n",
            "Cycle:[1] Epoch: [21]  [238/239]  eta: 0:00:00  task_lr: 0.000363  task_loss: 0.1357 (0.1416)  time: 0.9258  data: 0.0145  max mem: 4966\n",
            "Cycle:[1] Epoch: [21] Total time: 0:03:41 (0.9282 s / it)\n",
            "creating index...\n",
            "index created!\n",
            "Test:  [  0/239]  eta: 0:01:13  model_time: 0.0945 (0.0945)  evaluator_time: 0.0059 (0.0059)  time: 0.3086  data: 0.2002  max mem: 4966\n",
            "Test:  [100/239]  eta: 0:00:13  model_time: 0.0833 (0.0835)  evaluator_time: 0.0028 (0.0028)  time: 0.0923  data: 0.0043  max mem: 4966\n",
            "Test:  [200/239]  eta: 0:00:03  model_time: 0.0830 (0.0833)  evaluator_time: 0.0026 (0.0027)  time: 0.0916  data: 0.0040  max mem: 4966\n",
            "Test:  [238/239]  eta: 0:00:00  model_time: 0.0831 (0.0833)  evaluator_time: 0.0025 (0.0027)  time: 0.0909  data: 0.0038  max mem: 4966\n",
            "Test: Total time: 0:00:22 (0.0931 s / it)\n",
            "Averaged stats: model_time: 0.0831 (0.0833)  evaluator_time: 0.0025 (0.0027)\n",
            "Accumulating evaluation results...\n"
          ],
          "name": "stdout"
        },
        {
          "output_type": "stream",
          "text": [
            "[2021-08-06 16:21:42,336][<ipython-input-28-977f21560589>][line:151][INFO] [0.16674496 0.4589295  0.06862002 0.16340847 0.19722229 0.\n",
            " 0.24338843 0.3714876  0.40661157 0.39494382 0.46065574 0.        ]\n",
            "[2021-08-06 16:21:42,337][<ipython-input-28-977f21560589>][line:161][INFO] No improvement. \n"
          ],
          "name": "stderr"
        },
        {
          "output_type": "stream",
          "text": [
            "DONE (t=0.09s).\n",
            "IoU metric: bbox\n",
            " Average Precision  (AP) @[ IoU=0.50:0.95 | area=   all | maxDets=100 ] = 0.167\n",
            " Average Precision  (AP) @[ IoU=0.50      | area=   all | maxDets=100 ] = 0.459\n",
            " Average Precision  (AP) @[ IoU=0.75      | area=   all | maxDets=100 ] = 0.069\n",
            " Average Precision  (AP) @[ IoU=0.50:0.95 | area= small | maxDets=100 ] = 0.163\n",
            " Average Precision  (AP) @[ IoU=0.50:0.95 | area=medium | maxDets=100 ] = 0.197\n",
            " Average Precision  (AP) @[ IoU=0.50:0.95 | area= large | maxDets=100 ] = 0.000\n",
            " Average Recall     (AR) @[ IoU=0.50:0.95 | area=   all | maxDets=  1 ] = 0.243\n",
            " Average Recall     (AR) @[ IoU=0.50:0.95 | area=   all | maxDets= 10 ] = 0.371\n",
            " Average Recall     (AR) @[ IoU=0.50:0.95 | area=   all | maxDets=100 ] = 0.407\n",
            " Average Recall     (AR) @[ IoU=0.50:0.95 | area= small | maxDets=100 ] = 0.395\n",
            " Average Recall     (AR) @[ IoU=0.50:0.95 | area=medium | maxDets=100 ] = 0.461\n",
            " Average Recall     (AR) @[ IoU=0.50:0.95 | area= large | maxDets=100 ] = 0.000\n",
            "Cycle:[1] Epoch: [22]  [  0/239]  eta: 0:05:09  task_lr: 0.000352  task_loss: 0.1134 (0.1134)  time: 1.2954  data: 0.3649  max mem: 4966\n",
            "Cycle:[1] Epoch: [22]  [100/239]  eta: 0:02:09  task_lr: 0.000352  task_loss: 0.1230 (0.1451)  time: 0.9278  data: 0.0152  max mem: 4966\n",
            "Cycle:[1] Epoch: [22]  [200/239]  eta: 0:00:36  task_lr: 0.000352  task_loss: 0.1166 (0.1373)  time: 0.9246  data: 0.0145  max mem: 4966\n",
            "Cycle:[1] Epoch: [22]  [238/239]  eta: 0:00:00  task_lr: 0.000352  task_loss: 0.1440 (0.1366)  time: 0.9272  data: 0.0154  max mem: 4966\n",
            "Cycle:[1] Epoch: [22] Total time: 0:03:41 (0.9281 s / it)\n",
            "creating index...\n",
            "index created!\n",
            "Test:  [  0/239]  eta: 0:01:10  model_time: 0.0935 (0.0935)  evaluator_time: 0.0046 (0.0046)  time: 0.2945  data: 0.1939  max mem: 4966\n",
            "Test:  [100/239]  eta: 0:00:12  model_time: 0.0836 (0.0835)  evaluator_time: 0.0026 (0.0024)  time: 0.0924  data: 0.0045  max mem: 4966\n",
            "Test:  [200/239]  eta: 0:00:03  model_time: 0.0834 (0.0834)  evaluator_time: 0.0022 (0.0024)  time: 0.0913  data: 0.0040  max mem: 4966\n",
            "Test:  [238/239]  eta: 0:00:00  model_time: 0.0830 (0.0834)  evaluator_time: 0.0023 (0.0024)  time: 0.0906  data: 0.0038  max mem: 4966\n",
            "Test: Total time: 0:00:22 (0.0927 s / it)\n",
            "Averaged stats: model_time: 0.0830 (0.0834)  evaluator_time: 0.0023 (0.0024)\n",
            "Accumulating evaluation results...\n"
          ],
          "name": "stdout"
        },
        {
          "output_type": "stream",
          "text": [
            "[2021-08-06 16:26:21,338][<ipython-input-28-977f21560589>][line:151][INFO] [0.2234871  0.46555418 0.17453809 0.22896341 0.24174601 0.\n",
            " 0.29380165 0.43429752 0.44545455 0.44550562 0.46721311 0.        ]\n",
            "[2021-08-06 16:26:21,339][<ipython-input-28-977f21560589>][line:161][INFO] No improvement. \n"
          ],
          "name": "stderr"
        },
        {
          "output_type": "stream",
          "text": [
            "DONE (t=0.09s).\n",
            "IoU metric: bbox\n",
            " Average Precision  (AP) @[ IoU=0.50:0.95 | area=   all | maxDets=100 ] = 0.223\n",
            " Average Precision  (AP) @[ IoU=0.50      | area=   all | maxDets=100 ] = 0.466\n",
            " Average Precision  (AP) @[ IoU=0.75      | area=   all | maxDets=100 ] = 0.175\n",
            " Average Precision  (AP) @[ IoU=0.50:0.95 | area= small | maxDets=100 ] = 0.229\n",
            " Average Precision  (AP) @[ IoU=0.50:0.95 | area=medium | maxDets=100 ] = 0.242\n",
            " Average Precision  (AP) @[ IoU=0.50:0.95 | area= large | maxDets=100 ] = 0.000\n",
            " Average Recall     (AR) @[ IoU=0.50:0.95 | area=   all | maxDets=  1 ] = 0.294\n",
            " Average Recall     (AR) @[ IoU=0.50:0.95 | area=   all | maxDets= 10 ] = 0.434\n",
            " Average Recall     (AR) @[ IoU=0.50:0.95 | area=   all | maxDets=100 ] = 0.445\n",
            " Average Recall     (AR) @[ IoU=0.50:0.95 | area= small | maxDets=100 ] = 0.446\n",
            " Average Recall     (AR) @[ IoU=0.50:0.95 | area=medium | maxDets=100 ] = 0.467\n",
            " Average Recall     (AR) @[ IoU=0.50:0.95 | area= large | maxDets=100 ] = 0.000\n",
            "Cycle:[1] Epoch: [23]  [  0/239]  eta: 0:05:07  task_lr: 0.000340  task_loss: 0.1689 (0.1689)  time: 1.2872  data: 0.3591  max mem: 4966\n",
            "Cycle:[1] Epoch: [23]  [100/239]  eta: 0:02:09  task_lr: 0.000340  task_loss: 0.1104 (0.1286)  time: 0.9286  data: 0.0158  max mem: 4966\n",
            "Cycle:[1] Epoch: [23]  [200/239]  eta: 0:00:36  task_lr: 0.000340  task_loss: 0.1095 (0.1293)  time: 0.9251  data: 0.0140  max mem: 4966\n",
            "Cycle:[1] Epoch: [23]  [238/239]  eta: 0:00:00  task_lr: 0.000340  task_loss: 0.1230 (0.1325)  time: 0.9268  data: 0.0152  max mem: 4966\n",
            "Cycle:[1] Epoch: [23] Total time: 0:03:41 (0.9287 s / it)\n",
            "creating index...\n",
            "index created!\n",
            "Test:  [  0/239]  eta: 0:01:10  model_time: 0.0963 (0.0963)  evaluator_time: 0.0045 (0.0045)  time: 0.2956  data: 0.1925  max mem: 4966\n",
            "Test:  [100/239]  eta: 0:00:12  model_time: 0.0828 (0.0833)  evaluator_time: 0.0020 (0.0021)  time: 0.0904  data: 0.0039  max mem: 4966\n",
            "Test:  [200/239]  eta: 0:00:03  model_time: 0.0829 (0.0831)  evaluator_time: 0.0021 (0.0021)  time: 0.0912  data: 0.0041  max mem: 4966\n",
            "Test:  [238/239]  eta: 0:00:00  model_time: 0.0831 (0.0831)  evaluator_time: 0.0020 (0.0021)  time: 0.0914  data: 0.0041  max mem: 4966\n",
            "Test: Total time: 0:00:22 (0.0923 s / it)\n",
            "Averaged stats: model_time: 0.0831 (0.0831)  evaluator_time: 0.0020 (0.0021)\n",
            "Accumulating evaluation results...\n",
            "DONE (t=0.06s).\n",
            "IoU metric: bbox\n",
            " Average Precision  (AP) @[ IoU=0.50:0.95 | area=   all | maxDets=100 ] = 0.247\n",
            " Average Precision  (AP) @[ IoU=0.50      | area=   all | maxDets=100 ] = 0.437\n",
            " Average Precision  (AP) @[ IoU=0.75      | area=   all | maxDets=100 ] = 0.248\n",
            " Average Precision  (AP) @[ IoU=0.50:0.95 | area= small | maxDets=100 ] = 0.250\n",
            " Average Precision  (AP) @[ IoU=0.50:0.95 | area=medium | maxDets=100 ] = 0.272\n",
            " Average Precision  (AP) @[ IoU=0.50:0.95 | area= large | maxDets=100 ] = 0.000\n",
            " Average Recall     (AR) @[ IoU=0.50:0.95 | area=   all | maxDets=  1 ] = 0.324\n",
            " Average Recall     (AR) @[ IoU=0.50:0.95 | area=   all | maxDets= 10 ] = 0.461\n",
            " Average Recall     (AR) @[ IoU=0.50:0.95 | area=   all | maxDets=100 ] = 0.471\n",
            " Average Recall     (AR) @[ IoU=0.50:0.95 | area= small | maxDets=100 ] = 0.493\n",
            " Average Recall     (AR) @[ IoU=0.50:0.95 | area=medium | maxDets=100 ] = 0.430\n",
            " Average Recall     (AR) @[ IoU=0.50:0.95 | area= large | maxDets=100 ] = 0.000\n"
          ],
          "name": "stdout"
        },
        {
          "output_type": "stream",
          "text": [
            "[2021-08-06 16:31:01,391][<ipython-input-28-977f21560589>][line:151][INFO] [0.24655543 0.43743025 0.24840787 0.25022428 0.27187993 0.\n",
            " 0.32355372 0.4607438  0.47066116 0.49269663 0.4295082  0.        ]\n",
            "[2021-08-06 16:31:01,397][<ipython-input-28-977f21560589>][line:161][INFO] No improvement. \n"
          ],
          "name": "stderr"
        },
        {
          "output_type": "stream",
          "text": [
            "Cycle:[1] Epoch: [24]  [  0/239]  eta: 0:05:11  task_lr: 0.000327  task_loss: 0.0921 (0.0921)  time: 1.3018  data: 0.3697  max mem: 4966\n",
            "Cycle:[1] Epoch: [24]  [100/239]  eta: 0:02:08  task_lr: 0.000327  task_loss: 0.1369 (0.1393)  time: 0.9206  data: 0.0153  max mem: 4966\n",
            "Cycle:[1] Epoch: [24]  [200/239]  eta: 0:00:35  task_lr: 0.000327  task_loss: 0.1379 (0.1408)  time: 0.9201  data: 0.0151  max mem: 4966\n",
            "Cycle:[1] Epoch: [24]  [238/239]  eta: 0:00:00  task_lr: 0.000327  task_loss: 0.1309 (0.1406)  time: 0.9183  data: 0.0146  max mem: 4966\n",
            "Cycle:[1] Epoch: [24] Total time: 0:03:40 (0.9217 s / it)\n",
            "creating index...\n",
            "index created!\n",
            "Test:  [  0/239]  eta: 0:01:09  model_time: 0.0960 (0.0960)  evaluator_time: 0.0047 (0.0047)  time: 0.2910  data: 0.1882  max mem: 4966\n",
            "Test:  [100/239]  eta: 0:00:12  model_time: 0.0828 (0.0832)  evaluator_time: 0.0020 (0.0020)  time: 0.0900  data: 0.0038  max mem: 4966\n",
            "Test:  [200/239]  eta: 0:00:03  model_time: 0.0828 (0.0831)  evaluator_time: 0.0018 (0.0019)  time: 0.0898  data: 0.0037  max mem: 4966\n"
          ],
          "name": "stdout"
        },
        {
          "output_type": "stream",
          "text": [
            "[2021-08-06 16:35:40,198][<ipython-input-28-977f21560589>][line:151][INFO] [0.23273158 0.47185048 0.19038922 0.23622237 0.25878772 0.\n",
            " 0.31322314 0.4177686  0.4177686  0.41966292 0.43278689 0.        ]\n",
            "[2021-08-06 16:35:40,199][<ipython-input-28-977f21560589>][line:161][INFO] No improvement. \n"
          ],
          "name": "stderr"
        },
        {
          "output_type": "stream",
          "text": [
            "Test:  [238/239]  eta: 0:00:00  model_time: 0.0828 (0.0830)  evaluator_time: 0.0018 (0.0019)  time: 0.0899  data: 0.0038  max mem: 4966\n",
            "Test: Total time: 0:00:21 (0.0915 s / it)\n",
            "Averaged stats: model_time: 0.0828 (0.0830)  evaluator_time: 0.0018 (0.0019)\n",
            "Accumulating evaluation results...\n",
            "DONE (t=0.05s).\n",
            "IoU metric: bbox\n",
            " Average Precision  (AP) @[ IoU=0.50:0.95 | area=   all | maxDets=100 ] = 0.233\n",
            " Average Precision  (AP) @[ IoU=0.50      | area=   all | maxDets=100 ] = 0.472\n",
            " Average Precision  (AP) @[ IoU=0.75      | area=   all | maxDets=100 ] = 0.190\n",
            " Average Precision  (AP) @[ IoU=0.50:0.95 | area= small | maxDets=100 ] = 0.236\n",
            " Average Precision  (AP) @[ IoU=0.50:0.95 | area=medium | maxDets=100 ] = 0.259\n",
            " Average Precision  (AP) @[ IoU=0.50:0.95 | area= large | maxDets=100 ] = 0.000\n",
            " Average Recall     (AR) @[ IoU=0.50:0.95 | area=   all | maxDets=  1 ] = 0.313\n",
            " Average Recall     (AR) @[ IoU=0.50:0.95 | area=   all | maxDets= 10 ] = 0.418\n",
            " Average Recall     (AR) @[ IoU=0.50:0.95 | area=   all | maxDets=100 ] = 0.418\n",
            " Average Recall     (AR) @[ IoU=0.50:0.95 | area= small | maxDets=100 ] = 0.420\n",
            " Average Recall     (AR) @[ IoU=0.50:0.95 | area=medium | maxDets=100 ] = 0.433\n",
            " Average Recall     (AR) @[ IoU=0.50:0.95 | area= large | maxDets=100 ] = 0.000\n",
            "Cycle:[1] Epoch: [25]  [  0/239]  eta: 0:05:01  task_lr: 0.000315  task_loss: 0.1169 (0.1169)  time: 1.2610  data: 0.3227  max mem: 4966\n",
            "Cycle:[1] Epoch: [25]  [100/239]  eta: 0:02:09  task_lr: 0.000315  task_loss: 0.1250 (0.1457)  time: 0.9252  data: 0.0140  max mem: 4966\n",
            "Cycle:[1] Epoch: [25]  [200/239]  eta: 0:00:36  task_lr: 0.000315  task_loss: 0.1236 (0.1430)  time: 0.9255  data: 0.0147  max mem: 4966\n",
            "Cycle:[1] Epoch: [25]  [238/239]  eta: 0:00:00  task_lr: 0.000315  task_loss: 0.1318 (0.1429)  time: 0.9256  data: 0.0147  max mem: 4966\n",
            "Cycle:[1] Epoch: [25] Total time: 0:03:41 (0.9279 s / it)\n",
            "creating index...\n",
            "index created!\n",
            "Test:  [  0/239]  eta: 0:01:14  model_time: 0.0938 (0.0938)  evaluator_time: 0.0045 (0.0045)  time: 0.3127  data: 0.2122  max mem: 4966\n",
            "Test:  [100/239]  eta: 0:00:13  model_time: 0.0831 (0.0836)  evaluator_time: 0.0022 (0.0023)  time: 0.0933  data: 0.0046  max mem: 4966\n",
            "Test:  [200/239]  eta: 0:00:03  model_time: 0.0828 (0.0834)  evaluator_time: 0.0020 (0.0023)  time: 0.0915  data: 0.0042  max mem: 4966\n"
          ],
          "name": "stdout"
        },
        {
          "output_type": "stream",
          "text": [
            "[2021-08-06 16:40:19,747][<ipython-input-28-977f21560589>][line:151][INFO] [0.22014536 0.46053549 0.17298599 0.21733793 0.27167784 0.\n",
            " 0.29669421 0.43305785 0.4446281  0.43764045 0.48688525 0.        ]\n",
            "[2021-08-06 16:40:19,748][<ipython-input-28-977f21560589>][line:161][INFO] No improvement. \n"
          ],
          "name": "stderr"
        },
        {
          "output_type": "stream",
          "text": [
            "Test:  [238/239]  eta: 0:00:00  model_time: 0.0828 (0.0834)  evaluator_time: 0.0021 (0.0022)  time: 0.0908  data: 0.0039  max mem: 4966\n",
            "Test: Total time: 0:00:22 (0.0938 s / it)\n",
            "Averaged stats: model_time: 0.0828 (0.0834)  evaluator_time: 0.0021 (0.0022)\n",
            "Accumulating evaluation results...\n",
            "DONE (t=0.06s).\n",
            "IoU metric: bbox\n",
            " Average Precision  (AP) @[ IoU=0.50:0.95 | area=   all | maxDets=100 ] = 0.220\n",
            " Average Precision  (AP) @[ IoU=0.50      | area=   all | maxDets=100 ] = 0.461\n",
            " Average Precision  (AP) @[ IoU=0.75      | area=   all | maxDets=100 ] = 0.173\n",
            " Average Precision  (AP) @[ IoU=0.50:0.95 | area= small | maxDets=100 ] = 0.217\n",
            " Average Precision  (AP) @[ IoU=0.50:0.95 | area=medium | maxDets=100 ] = 0.272\n",
            " Average Precision  (AP) @[ IoU=0.50:0.95 | area= large | maxDets=100 ] = 0.000\n",
            " Average Recall     (AR) @[ IoU=0.50:0.95 | area=   all | maxDets=  1 ] = 0.297\n",
            " Average Recall     (AR) @[ IoU=0.50:0.95 | area=   all | maxDets= 10 ] = 0.433\n",
            " Average Recall     (AR) @[ IoU=0.50:0.95 | area=   all | maxDets=100 ] = 0.445\n",
            " Average Recall     (AR) @[ IoU=0.50:0.95 | area= small | maxDets=100 ] = 0.438\n",
            " Average Recall     (AR) @[ IoU=0.50:0.95 | area=medium | maxDets=100 ] = 0.487\n",
            " Average Recall     (AR) @[ IoU=0.50:0.95 | area= large | maxDets=100 ] = 0.000\n",
            "Cycle:[1] Epoch: [26]  [  0/239]  eta: 0:05:09  task_lr: 0.000302  task_loss: 0.2154 (0.2154)  time: 1.2940  data: 0.3745  max mem: 4966\n",
            "Cycle:[1] Epoch: [26]  [100/239]  eta: 0:02:09  task_lr: 0.000302  task_loss: 0.1289 (0.1341)  time: 0.9247  data: 0.0154  max mem: 4966\n",
            "Cycle:[1] Epoch: [26]  [200/239]  eta: 0:00:36  task_lr: 0.000302  task_loss: 0.1307 (0.1369)  time: 0.9271  data: 0.0153  max mem: 4966\n",
            "Cycle:[1] Epoch: [26]  [238/239]  eta: 0:00:00  task_lr: 0.000302  task_loss: 0.1315 (0.1377)  time: 0.9261  data: 0.0148  max mem: 4966\n",
            "Cycle:[1] Epoch: [26] Total time: 0:03:41 (0.9276 s / it)\n",
            "creating index...\n",
            "index created!\n",
            "Test:  [  0/239]  eta: 0:01:11  model_time: 0.0963 (0.0963)  evaluator_time: 0.0050 (0.0050)  time: 0.2992  data: 0.1948  max mem: 4966\n",
            "Test:  [100/239]  eta: 0:00:12  model_time: 0.0829 (0.0832)  evaluator_time: 0.0020 (0.0020)  time: 0.0911  data: 0.0040  max mem: 4966\n",
            "Test:  [200/239]  eta: 0:00:03  model_time: 0.0831 (0.0833)  evaluator_time: 0.0020 (0.0021)  time: 0.0911  data: 0.0042  max mem: 4966\n"
          ],
          "name": "stdout"
        },
        {
          "output_type": "stream",
          "text": [
            "[2021-08-06 16:44:58,760][<ipython-input-28-977f21560589>][line:151][INFO] [0.22211643 0.4712882  0.16793877 0.22452858 0.24564663 0.\n",
            " 0.31528926 0.41033058 0.41570248 0.41348315 0.44262295 0.        ]\n",
            "[2021-08-06 16:44:58,761][<ipython-input-28-977f21560589>][line:161][INFO] No improvement. \n"
          ],
          "name": "stderr"
        },
        {
          "output_type": "stream",
          "text": [
            "Test:  [238/239]  eta: 0:00:00  model_time: 0.0831 (0.0833)  evaluator_time: 0.0020 (0.0021)  time: 0.0907  data: 0.0040  max mem: 4966\n",
            "Test: Total time: 0:00:22 (0.0923 s / it)\n",
            "Averaged stats: model_time: 0.0831 (0.0833)  evaluator_time: 0.0020 (0.0021)\n",
            "Accumulating evaluation results...\n",
            "DONE (t=0.05s).\n",
            "IoU metric: bbox\n",
            " Average Precision  (AP) @[ IoU=0.50:0.95 | area=   all | maxDets=100 ] = 0.222\n",
            " Average Precision  (AP) @[ IoU=0.50      | area=   all | maxDets=100 ] = 0.471\n",
            " Average Precision  (AP) @[ IoU=0.75      | area=   all | maxDets=100 ] = 0.168\n",
            " Average Precision  (AP) @[ IoU=0.50:0.95 | area= small | maxDets=100 ] = 0.225\n",
            " Average Precision  (AP) @[ IoU=0.50:0.95 | area=medium | maxDets=100 ] = 0.246\n",
            " Average Precision  (AP) @[ IoU=0.50:0.95 | area= large | maxDets=100 ] = 0.000\n",
            " Average Recall     (AR) @[ IoU=0.50:0.95 | area=   all | maxDets=  1 ] = 0.315\n",
            " Average Recall     (AR) @[ IoU=0.50:0.95 | area=   all | maxDets= 10 ] = 0.410\n",
            " Average Recall     (AR) @[ IoU=0.50:0.95 | area=   all | maxDets=100 ] = 0.416\n",
            " Average Recall     (AR) @[ IoU=0.50:0.95 | area= small | maxDets=100 ] = 0.413\n",
            " Average Recall     (AR) @[ IoU=0.50:0.95 | area=medium | maxDets=100 ] = 0.443\n",
            " Average Recall     (AR) @[ IoU=0.50:0.95 | area= large | maxDets=100 ] = 0.000\n",
            "Cycle:[1] Epoch: [27]  [  0/239]  eta: 0:05:15  task_lr: 0.000289  task_loss: 0.1309 (0.1309)  time: 1.3199  data: 0.3970  max mem: 4966\n",
            "Cycle:[1] Epoch: [27]  [100/239]  eta: 0:02:09  task_lr: 0.000289  task_loss: 0.1385 (0.1381)  time: 0.9250  data: 0.0147  max mem: 4966\n",
            "Cycle:[1] Epoch: [27]  [200/239]  eta: 0:00:36  task_lr: 0.000289  task_loss: 0.1207 (0.1360)  time: 0.9249  data: 0.0149  max mem: 4966\n",
            "Cycle:[1] Epoch: [27]  [238/239]  eta: 0:00:00  task_lr: 0.000289  task_loss: 0.1283 (0.1363)  time: 0.9251  data: 0.0141  max mem: 4966\n",
            "Cycle:[1] Epoch: [27] Total time: 0:03:41 (0.9271 s / it)\n",
            "creating index...\n",
            "index created!\n",
            "Test:  [  0/239]  eta: 0:01:13  model_time: 0.0940 (0.0940)  evaluator_time: 0.0046 (0.0046)  time: 0.3059  data: 0.2040  max mem: 4966\n",
            "Test:  [100/239]  eta: 0:00:12  model_time: 0.0829 (0.0833)  evaluator_time: 0.0024 (0.0023)  time: 0.0906  data: 0.0038  max mem: 4966\n",
            "Test:  [200/239]  eta: 0:00:03  model_time: 0.0828 (0.0831)  evaluator_time: 0.0023 (0.0023)  time: 0.0903  data: 0.0037  max mem: 4966\n"
          ],
          "name": "stdout"
        },
        {
          "output_type": "stream",
          "text": [
            "[2021-08-06 16:49:38,787][<ipython-input-28-977f21560589>][line:151][INFO] [0.25248911 0.47288904 0.23493662 0.25987534 0.26597587 0.\n",
            " 0.32933884 0.44834711 0.47190083 0.48539326 0.4557377  0.        ]\n"
          ],
          "name": "stderr"
        },
        {
          "output_type": "stream",
          "text": [
            "Test:  [238/239]  eta: 0:00:00  model_time: 0.0827 (0.0830)  evaluator_time: 0.0021 (0.0023)  time: 0.0897  data: 0.0036  max mem: 4966\n",
            "Test: Total time: 0:00:22 (0.0921 s / it)\n",
            "Averaged stats: model_time: 0.0827 (0.0830)  evaluator_time: 0.0021 (0.0023)\n",
            "Accumulating evaluation results...\n",
            "DONE (t=0.07s).\n",
            "IoU metric: bbox\n",
            " Average Precision  (AP) @[ IoU=0.50:0.95 | area=   all | maxDets=100 ] = 0.252\n",
            " Average Precision  (AP) @[ IoU=0.50      | area=   all | maxDets=100 ] = 0.473\n",
            " Average Precision  (AP) @[ IoU=0.75      | area=   all | maxDets=100 ] = 0.235\n",
            " Average Precision  (AP) @[ IoU=0.50:0.95 | area= small | maxDets=100 ] = 0.260\n",
            " Average Precision  (AP) @[ IoU=0.50:0.95 | area=medium | maxDets=100 ] = 0.266\n",
            " Average Precision  (AP) @[ IoU=0.50:0.95 | area= large | maxDets=100 ] = 0.000\n",
            " Average Recall     (AR) @[ IoU=0.50:0.95 | area=   all | maxDets=  1 ] = 0.329\n",
            " Average Recall     (AR) @[ IoU=0.50:0.95 | area=   all | maxDets= 10 ] = 0.448\n",
            " Average Recall     (AR) @[ IoU=0.50:0.95 | area=   all | maxDets=100 ] = 0.472\n",
            " Average Recall     (AR) @[ IoU=0.50:0.95 | area= small | maxDets=100 ] = 0.485\n",
            " Average Recall     (AR) @[ IoU=0.50:0.95 | area=medium | maxDets=100 ] = 0.456\n",
            " Average Recall     (AR) @[ IoU=0.50:0.95 | area= large | maxDets=100 ] = 0.000\n"
          ],
          "name": "stdout"
        },
        {
          "output_type": "stream",
          "text": [
            "[2021-08-06 16:49:38,788][<ipython-input-28-977f21560589>][line:157][INFO] Saving best checkpoints for mAP 0.252489\n"
          ],
          "name": "stderr"
        },
        {
          "output_type": "stream",
          "text": [
            "Cycle:[1] Epoch: [28]  [  0/239]  eta: 0:05:24  task_lr: 0.000276  task_loss: 0.1459 (0.1459)  time: 1.3571  data: 0.4364  max mem: 4966\n",
            "Cycle:[1] Epoch: [28]  [100/239]  eta: 0:02:09  task_lr: 0.000276  task_loss: 0.1226 (0.1373)  time: 0.9283  data: 0.0160  max mem: 4966\n",
            "Cycle:[1] Epoch: [28]  [200/239]  eta: 0:00:36  task_lr: 0.000276  task_loss: 0.1322 (0.1387)  time: 0.9234  data: 0.0141  max mem: 4966\n",
            "Cycle:[1] Epoch: [28]  [238/239]  eta: 0:00:00  task_lr: 0.000276  task_loss: 0.1426 (0.1387)  time: 0.9265  data: 0.0149  max mem: 4966\n",
            "Cycle:[1] Epoch: [28] Total time: 0:03:41 (0.9273 s / it)\n",
            "creating index...\n",
            "index created!\n",
            "Test:  [  0/239]  eta: 0:01:13  model_time: 0.0968 (0.0968)  evaluator_time: 0.0043 (0.0043)  time: 0.3057  data: 0.2025  max mem: 4966\n",
            "Test:  [100/239]  eta: 0:00:12  model_time: 0.0829 (0.0833)  evaluator_time: 0.0020 (0.0019)  time: 0.0919  data: 0.0042  max mem: 4966\n",
            "Test:  [200/239]  eta: 0:00:03  model_time: 0.0832 (0.0833)  evaluator_time: 0.0019 (0.0019)  time: 0.0928  data: 0.0047  max mem: 4966\n"
          ],
          "name": "stdout"
        },
        {
          "output_type": "stream",
          "text": [
            "[2021-08-06 16:54:18,706][<ipython-input-28-977f21560589>][line:151][INFO] [0.20267594 0.47623104 0.12188707 0.19253349 0.25902271 0.\n",
            " 0.27809917 0.36818182 0.36859504 0.34438202 0.45737705 0.        ]\n",
            "[2021-08-06 16:54:18,708][<ipython-input-28-977f21560589>][line:161][INFO] No improvement. \n"
          ],
          "name": "stderr"
        },
        {
          "output_type": "stream",
          "text": [
            "Test:  [238/239]  eta: 0:00:00  model_time: 0.0831 (0.0833)  evaluator_time: 0.0018 (0.0019)  time: 0.0915  data: 0.0044  max mem: 4966\n",
            "Test: Total time: 0:00:22 (0.0932 s / it)\n",
            "Averaged stats: model_time: 0.0831 (0.0833)  evaluator_time: 0.0018 (0.0019)\n",
            "Accumulating evaluation results...\n",
            "DONE (t=0.05s).\n",
            "IoU metric: bbox\n",
            " Average Precision  (AP) @[ IoU=0.50:0.95 | area=   all | maxDets=100 ] = 0.203\n",
            " Average Precision  (AP) @[ IoU=0.50      | area=   all | maxDets=100 ] = 0.476\n",
            " Average Precision  (AP) @[ IoU=0.75      | area=   all | maxDets=100 ] = 0.122\n",
            " Average Precision  (AP) @[ IoU=0.50:0.95 | area= small | maxDets=100 ] = 0.193\n",
            " Average Precision  (AP) @[ IoU=0.50:0.95 | area=medium | maxDets=100 ] = 0.259\n",
            " Average Precision  (AP) @[ IoU=0.50:0.95 | area= large | maxDets=100 ] = 0.000\n",
            " Average Recall     (AR) @[ IoU=0.50:0.95 | area=   all | maxDets=  1 ] = 0.278\n",
            " Average Recall     (AR) @[ IoU=0.50:0.95 | area=   all | maxDets= 10 ] = 0.368\n",
            " Average Recall     (AR) @[ IoU=0.50:0.95 | area=   all | maxDets=100 ] = 0.369\n",
            " Average Recall     (AR) @[ IoU=0.50:0.95 | area= small | maxDets=100 ] = 0.344\n",
            " Average Recall     (AR) @[ IoU=0.50:0.95 | area=medium | maxDets=100 ] = 0.457\n",
            " Average Recall     (AR) @[ IoU=0.50:0.95 | area= large | maxDets=100 ] = 0.000\n",
            "Cycle:[1] Epoch: [29]  [  0/239]  eta: 0:05:06  task_lr: 0.000263  task_loss: 0.1570 (0.1570)  time: 1.2808  data: 0.3472  max mem: 4966\n",
            "Cycle:[1] Epoch: [29]  [100/239]  eta: 0:02:09  task_lr: 0.000263  task_loss: 0.1475 (0.1392)  time: 0.9268  data: 0.0147  max mem: 4966\n",
            "Cycle:[1] Epoch: [29]  [200/239]  eta: 0:00:36  task_lr: 0.000263  task_loss: 0.1283 (0.1360)  time: 0.9270  data: 0.0150  max mem: 4966\n",
            "Cycle:[1] Epoch: [29]  [238/239]  eta: 0:00:00  task_lr: 0.000263  task_loss: 0.1491 (0.1372)  time: 0.9248  data: 0.0143  max mem: 4966\n",
            "Cycle:[1] Epoch: [29] Total time: 0:03:41 (0.9285 s / it)\n",
            "creating index...\n",
            "index created!\n",
            "Test:  [  0/239]  eta: 0:01:11  model_time: 0.0935 (0.0935)  evaluator_time: 0.0047 (0.0047)  time: 0.2983  data: 0.1980  max mem: 4966\n",
            "Test:  [100/239]  eta: 0:00:12  model_time: 0.0830 (0.0833)  evaluator_time: 0.0022 (0.0022)  time: 0.0904  data: 0.0035  max mem: 4966\n",
            "Test:  [200/239]  eta: 0:00:03  model_time: 0.0828 (0.0831)  evaluator_time: 0.0022 (0.0022)  time: 0.0916  data: 0.0042  max mem: 4966\n"
          ],
          "name": "stdout"
        },
        {
          "output_type": "stream",
          "text": [
            "[2021-08-06 16:58:59,125][<ipython-input-28-977f21560589>][line:151][INFO] [0.26001908 0.49055117 0.23034604 0.27050149 0.26491562 0.\n",
            " 0.33677686 0.45454545 0.4714876  0.48146067 0.46557377 0.        ]\n",
            "[2021-08-06 16:58:59,128][<ipython-input-28-977f21560589>][line:157][INFO] Saving best checkpoints for mAP 0.260019\n"
          ],
          "name": "stderr"
        },
        {
          "output_type": "stream",
          "text": [
            "Test:  [238/239]  eta: 0:00:00  model_time: 0.0827 (0.0831)  evaluator_time: 0.0020 (0.0022)  time: 0.0907  data: 0.0039  max mem: 4966\n",
            "Test: Total time: 0:00:22 (0.0922 s / it)\n",
            "Averaged stats: model_time: 0.0827 (0.0831)  evaluator_time: 0.0020 (0.0022)\n",
            "Accumulating evaluation results...\n",
            "DONE (t=0.06s).\n",
            "IoU metric: bbox\n",
            " Average Precision  (AP) @[ IoU=0.50:0.95 | area=   all | maxDets=100 ] = 0.260\n",
            " Average Precision  (AP) @[ IoU=0.50      | area=   all | maxDets=100 ] = 0.491\n",
            " Average Precision  (AP) @[ IoU=0.75      | area=   all | maxDets=100 ] = 0.230\n",
            " Average Precision  (AP) @[ IoU=0.50:0.95 | area= small | maxDets=100 ] = 0.271\n",
            " Average Precision  (AP) @[ IoU=0.50:0.95 | area=medium | maxDets=100 ] = 0.265\n",
            " Average Precision  (AP) @[ IoU=0.50:0.95 | area= large | maxDets=100 ] = 0.000\n",
            " Average Recall     (AR) @[ IoU=0.50:0.95 | area=   all | maxDets=  1 ] = 0.337\n",
            " Average Recall     (AR) @[ IoU=0.50:0.95 | area=   all | maxDets= 10 ] = 0.455\n",
            " Average Recall     (AR) @[ IoU=0.50:0.95 | area=   all | maxDets=100 ] = 0.471\n",
            " Average Recall     (AR) @[ IoU=0.50:0.95 | area= small | maxDets=100 ] = 0.481\n",
            " Average Recall     (AR) @[ IoU=0.50:0.95 | area=medium | maxDets=100 ] = 0.466\n",
            " Average Recall     (AR) @[ IoU=0.50:0.95 | area= large | maxDets=100 ] = 0.000\n",
            "Cycle:[1] Epoch: [30]  [  0/239]  eta: 0:05:13  task_lr: 0.000250  task_loss: 0.1194 (0.1194)  time: 1.3103  data: 0.3868  max mem: 4966\n",
            "Cycle:[1] Epoch: [30]  [100/239]  eta: 0:02:09  task_lr: 0.000250  task_loss: 0.1274 (0.1366)  time: 0.9256  data: 0.0145  max mem: 4966\n",
            "Cycle:[1] Epoch: [30]  [200/239]  eta: 0:00:36  task_lr: 0.000250  task_loss: 0.1337 (0.1340)  time: 0.9286  data: 0.0157  max mem: 4966\n",
            "Cycle:[1] Epoch: [30]  [238/239]  eta: 0:00:00  task_lr: 0.000250  task_loss: 0.1313 (0.1334)  time: 0.9256  data: 0.0143  max mem: 4966\n",
            "Cycle:[1] Epoch: [30] Total time: 0:03:42 (0.9290 s / it)\n",
            "creating index...\n",
            "index created!\n",
            "Test:  [  0/239]  eta: 0:01:16  model_time: 0.0949 (0.0949)  evaluator_time: 0.0053 (0.0053)  time: 0.3192  data: 0.2151  max mem: 4966\n",
            "Test:  [100/239]  eta: 0:00:12  model_time: 0.0830 (0.0833)  evaluator_time: 0.0023 (0.0023)  time: 0.0906  data: 0.0037  max mem: 4966\n",
            "Test:  [200/239]  eta: 0:00:03  model_time: 0.0828 (0.0831)  evaluator_time: 0.0021 (0.0022)  time: 0.0902  data: 0.0037  max mem: 4966\n"
          ],
          "name": "stdout"
        },
        {
          "output_type": "stream",
          "text": [
            "[2021-08-06 17:03:40,213][<ipython-input-28-977f21560589>][line:151][INFO] [0.27878272 0.49392622 0.28458876 0.28153861 0.30099413 0.\n",
            " 0.35578512 0.47272727 0.48719008 0.49438202 0.49016393 0.        ]\n",
            "[2021-08-06 17:03:40,214][<ipython-input-28-977f21560589>][line:157][INFO] Saving best checkpoints for mAP 0.278783\n"
          ],
          "name": "stderr"
        },
        {
          "output_type": "stream",
          "text": [
            "Test:  [238/239]  eta: 0:00:00  model_time: 0.0828 (0.0831)  evaluator_time: 0.0020 (0.0022)  time: 0.0899  data: 0.0037  max mem: 4966\n",
            "Test: Total time: 0:00:21 (0.0919 s / it)\n",
            "Averaged stats: model_time: 0.0828 (0.0831)  evaluator_time: 0.0020 (0.0022)\n",
            "Accumulating evaluation results...\n",
            "DONE (t=0.06s).\n",
            "IoU metric: bbox\n",
            " Average Precision  (AP) @[ IoU=0.50:0.95 | area=   all | maxDets=100 ] = 0.279\n",
            " Average Precision  (AP) @[ IoU=0.50      | area=   all | maxDets=100 ] = 0.494\n",
            " Average Precision  (AP) @[ IoU=0.75      | area=   all | maxDets=100 ] = 0.285\n",
            " Average Precision  (AP) @[ IoU=0.50:0.95 | area= small | maxDets=100 ] = 0.282\n",
            " Average Precision  (AP) @[ IoU=0.50:0.95 | area=medium | maxDets=100 ] = 0.301\n",
            " Average Precision  (AP) @[ IoU=0.50:0.95 | area= large | maxDets=100 ] = 0.000\n",
            " Average Recall     (AR) @[ IoU=0.50:0.95 | area=   all | maxDets=  1 ] = 0.356\n",
            " Average Recall     (AR) @[ IoU=0.50:0.95 | area=   all | maxDets= 10 ] = 0.473\n",
            " Average Recall     (AR) @[ IoU=0.50:0.95 | area=   all | maxDets=100 ] = 0.487\n",
            " Average Recall     (AR) @[ IoU=0.50:0.95 | area= small | maxDets=100 ] = 0.494\n",
            " Average Recall     (AR) @[ IoU=0.50:0.95 | area=medium | maxDets=100 ] = 0.490\n",
            " Average Recall     (AR) @[ IoU=0.50:0.95 | area= large | maxDets=100 ] = 0.000\n",
            "Cycle:[1] Epoch: [31]  [  0/239]  eta: 0:05:10  task_lr: 0.000237  task_loss: 0.0938 (0.0938)  time: 1.3002  data: 0.3816  max mem: 4966\n",
            "Cycle:[1] Epoch: [31]  [100/239]  eta: 0:02:09  task_lr: 0.000237  task_loss: 0.1283 (0.1336)  time: 0.9243  data: 0.0147  max mem: 4966\n",
            "Cycle:[1] Epoch: [31]  [200/239]  eta: 0:00:36  task_lr: 0.000237  task_loss: 0.1168 (0.1294)  time: 0.9223  data: 0.0141  max mem: 4966\n",
            "Cycle:[1] Epoch: [31]  [238/239]  eta: 0:00:00  task_lr: 0.000237  task_loss: 0.1211 (0.1293)  time: 0.9248  data: 0.0147  max mem: 4966\n",
            "Cycle:[1] Epoch: [31] Total time: 0:03:41 (0.9271 s / it)\n",
            "creating index...\n",
            "index created!\n",
            "Test:  [  0/239]  eta: 0:01:13  model_time: 0.0944 (0.0944)  evaluator_time: 0.0050 (0.0050)  time: 0.3070  data: 0.2055  max mem: 4966\n",
            "Test:  [100/239]  eta: 0:00:12  model_time: 0.0832 (0.0835)  evaluator_time: 0.0022 (0.0021)  time: 0.0907  data: 0.0038  max mem: 4966\n",
            "Test:  [200/239]  eta: 0:00:03  model_time: 0.0830 (0.0834)  evaluator_time: 0.0020 (0.0021)  time: 0.0923  data: 0.0043  max mem: 4966\n"
          ],
          "name": "stdout"
        },
        {
          "output_type": "stream",
          "text": [
            "[2021-08-06 17:08:19,879][<ipython-input-28-977f21560589>][line:151][INFO] [0.2822089  0.48793864 0.30565437 0.29026064 0.29729616 0.\n",
            " 0.36115702 0.49214876 0.49917355 0.51573034 0.47540984 0.        ]\n",
            "[2021-08-06 17:08:19,881][<ipython-input-28-977f21560589>][line:157][INFO] Saving best checkpoints for mAP 0.282209\n"
          ],
          "name": "stderr"
        },
        {
          "output_type": "stream",
          "text": [
            "Test:  [238/239]  eta: 0:00:00  model_time: 0.0829 (0.0834)  evaluator_time: 0.0019 (0.0021)  time: 0.0908  data: 0.0040  max mem: 4966\n",
            "Test: Total time: 0:00:22 (0.0928 s / it)\n",
            "Averaged stats: model_time: 0.0829 (0.0834)  evaluator_time: 0.0019 (0.0021)\n",
            "Accumulating evaluation results...\n",
            "DONE (t=0.05s).\n",
            "IoU metric: bbox\n",
            " Average Precision  (AP) @[ IoU=0.50:0.95 | area=   all | maxDets=100 ] = 0.282\n",
            " Average Precision  (AP) @[ IoU=0.50      | area=   all | maxDets=100 ] = 0.488\n",
            " Average Precision  (AP) @[ IoU=0.75      | area=   all | maxDets=100 ] = 0.306\n",
            " Average Precision  (AP) @[ IoU=0.50:0.95 | area= small | maxDets=100 ] = 0.290\n",
            " Average Precision  (AP) @[ IoU=0.50:0.95 | area=medium | maxDets=100 ] = 0.297\n",
            " Average Precision  (AP) @[ IoU=0.50:0.95 | area= large | maxDets=100 ] = 0.000\n",
            " Average Recall     (AR) @[ IoU=0.50:0.95 | area=   all | maxDets=  1 ] = 0.361\n",
            " Average Recall     (AR) @[ IoU=0.50:0.95 | area=   all | maxDets= 10 ] = 0.492\n",
            " Average Recall     (AR) @[ IoU=0.50:0.95 | area=   all | maxDets=100 ] = 0.499\n",
            " Average Recall     (AR) @[ IoU=0.50:0.95 | area= small | maxDets=100 ] = 0.516\n",
            " Average Recall     (AR) @[ IoU=0.50:0.95 | area=medium | maxDets=100 ] = 0.475\n",
            " Average Recall     (AR) @[ IoU=0.50:0.95 | area= large | maxDets=100 ] = 0.000\n",
            "Cycle:[1] Epoch: [32]  [  0/239]  eta: 0:05:20  task_lr: 0.000224  task_loss: 0.1634 (0.1634)  time: 1.3415  data: 0.4267  max mem: 4966\n",
            "Cycle:[1] Epoch: [32]  [100/239]  eta: 0:02:09  task_lr: 0.000224  task_loss: 0.1205 (0.1252)  time: 0.9233  data: 0.0146  max mem: 4966\n",
            "Cycle:[1] Epoch: [32]  [200/239]  eta: 0:00:36  task_lr: 0.000224  task_loss: 0.1084 (0.1267)  time: 0.9220  data: 0.0141  max mem: 4966\n",
            "Cycle:[1] Epoch: [32]  [238/239]  eta: 0:00:00  task_lr: 0.000224  task_loss: 0.1303 (0.1261)  time: 0.9251  data: 0.0148  max mem: 4966\n",
            "Cycle:[1] Epoch: [32] Total time: 0:03:41 (0.9260 s / it)\n",
            "creating index...\n",
            "index created!\n",
            "Test:  [  0/239]  eta: 0:01:09  model_time: 0.0937 (0.0937)  evaluator_time: 0.0044 (0.0044)  time: 0.2927  data: 0.1926  max mem: 4966\n",
            "Test:  [100/239]  eta: 0:00:12  model_time: 0.0827 (0.0831)  evaluator_time: 0.0021 (0.0021)  time: 0.0901  data: 0.0037  max mem: 4966\n",
            "Test:  [200/239]  eta: 0:00:03  model_time: 0.0832 (0.0831)  evaluator_time: 0.0020 (0.0021)  time: 0.0909  data: 0.0040  max mem: 4966\n",
            "Test:  [238/239]  eta: 0:00:00  model_time: 0.0831 (0.0832)  evaluator_time: 0.0020 (0.0021)  time: 0.0904  data: 0.0038  max mem: 4966\n",
            "Test: Total time: 0:00:21 (0.0919 s / it)\n",
            "Averaged stats: model_time: 0.0831 (0.0832)  evaluator_time: 0.0020 (0.0021)\n",
            "Accumulating evaluation results...\n",
            "DONE (t=0.06s).\n",
            "IoU metric: bbox\n",
            " Average Precision  (AP) @[ IoU=0.50:0.95 | area=   all | maxDets=100 ] = 0.218\n",
            " Average Precision  (AP) @[ IoU=0.50      | area=   all | maxDets=100 ] = 0.463\n",
            " Average Precision  (AP) @[ IoU=0.75      | area=   all | maxDets=100 ] = 0.179\n",
            " Average Precision  (AP) @[ IoU=0.50:0.95 | area= small | maxDets=100 ] = 0.225\n",
            " Average Precision  (AP) @[ IoU=0.50:0.95 | area=medium | maxDets=100 ] = 0.236\n",
            " Average Precision  (AP) @[ IoU=0.50:0.95 | area= large | maxDets=100 ] = 0.000\n",
            " Average Recall     (AR) @[ IoU=0.50:0.95 | area=   all | maxDets=  1 ] = 0.312\n",
            " Average Recall     (AR) @[ IoU=0.50:0.95 | area=   all | maxDets= 10 ] = 0.428\n",
            " Average Recall     (AR) @[ IoU=0.50:0.95 | area=   all | maxDets=100 ] = 0.441\n",
            " Average Recall     (AR) @[ IoU=0.50:0.95 | area= small | maxDets=100 ] = 0.442\n",
            " Average Recall     (AR) @[ IoU=0.50:0.95 | area=medium | maxDets=100 ] = 0.459\n",
            " Average Recall     (AR) @[ IoU=0.50:0.95 | area= large | maxDets=100 ] = 0.000\n"
          ],
          "name": "stdout"
        },
        {
          "output_type": "stream",
          "text": [
            "[2021-08-06 17:12:58,986][<ipython-input-28-977f21560589>][line:151][INFO] [0.21818123 0.4631005  0.17940802 0.22457719 0.23635694 0.\n",
            " 0.31157025 0.42809917 0.44090909 0.44213483 0.45901639 0.        ]\n",
            "[2021-08-06 17:12:59,000][<ipython-input-28-977f21560589>][line:161][INFO] No improvement. \n"
          ],
          "name": "stderr"
        },
        {
          "output_type": "stream",
          "text": [
            "Cycle:[1] Epoch: [33]  [  0/239]  eta: 0:05:13  task_lr: 0.000211  task_loss: 0.0982 (0.0982)  time: 1.3102  data: 0.3871  max mem: 4966\n",
            "Cycle:[1] Epoch: [33]  [100/239]  eta: 0:02:09  task_lr: 0.000211  task_loss: 0.1193 (0.1302)  time: 0.9253  data: 0.0145  max mem: 4966\n",
            "Cycle:[1] Epoch: [33]  [200/239]  eta: 0:00:36  task_lr: 0.000211  task_loss: 0.0966 (0.1290)  time: 0.9262  data: 0.0151  max mem: 4966\n",
            "Cycle:[1] Epoch: [33]  [238/239]  eta: 0:00:00  task_lr: 0.000211  task_loss: 0.1070 (0.1273)  time: 0.9229  data: 0.0136  max mem: 4966\n",
            "Cycle:[1] Epoch: [33] Total time: 0:03:41 (0.9269 s / it)\n",
            "creating index...\n",
            "index created!\n",
            "Test:  [  0/239]  eta: 0:01:12  model_time: 0.1003 (0.1003)  evaluator_time: 0.0044 (0.0044)  time: 0.3043  data: 0.1977  max mem: 4966\n",
            "Test:  [100/239]  eta: 0:00:12  model_time: 0.0828 (0.0832)  evaluator_time: 0.0018 (0.0020)  time: 0.0901  data: 0.0038  max mem: 4966\n",
            "Test:  [200/239]  eta: 0:00:03  model_time: 0.0828 (0.0830)  evaluator_time: 0.0018 (0.0020)  time: 0.0927  data: 0.0045  max mem: 4966\n"
          ],
          "name": "stdout"
        },
        {
          "output_type": "stream",
          "text": [
            "[2021-08-06 17:17:38,534][<ipython-input-28-977f21560589>][line:151][INFO] [0.27179331 0.48814081 0.28218714 0.27384498 0.3012439  0.\n",
            " 0.35247934 0.47975207 0.48347107 0.48988764 0.48852459 0.        ]\n",
            "[2021-08-06 17:17:38,535][<ipython-input-28-977f21560589>][line:161][INFO] No improvement. \n"
          ],
          "name": "stderr"
        },
        {
          "output_type": "stream",
          "text": [
            "Test:  [238/239]  eta: 0:00:00  model_time: 0.0827 (0.0830)  evaluator_time: 0.0017 (0.0019)  time: 0.0910  data: 0.0040  max mem: 4966\n",
            "Test: Total time: 0:00:22 (0.0921 s / it)\n",
            "Averaged stats: model_time: 0.0827 (0.0830)  evaluator_time: 0.0017 (0.0019)\n",
            "Accumulating evaluation results...\n",
            "DONE (t=0.05s).\n",
            "IoU metric: bbox\n",
            " Average Precision  (AP) @[ IoU=0.50:0.95 | area=   all | maxDets=100 ] = 0.272\n",
            " Average Precision  (AP) @[ IoU=0.50      | area=   all | maxDets=100 ] = 0.488\n",
            " Average Precision  (AP) @[ IoU=0.75      | area=   all | maxDets=100 ] = 0.282\n",
            " Average Precision  (AP) @[ IoU=0.50:0.95 | area= small | maxDets=100 ] = 0.274\n",
            " Average Precision  (AP) @[ IoU=0.50:0.95 | area=medium | maxDets=100 ] = 0.301\n",
            " Average Precision  (AP) @[ IoU=0.50:0.95 | area= large | maxDets=100 ] = 0.000\n",
            " Average Recall     (AR) @[ IoU=0.50:0.95 | area=   all | maxDets=  1 ] = 0.352\n",
            " Average Recall     (AR) @[ IoU=0.50:0.95 | area=   all | maxDets= 10 ] = 0.480\n",
            " Average Recall     (AR) @[ IoU=0.50:0.95 | area=   all | maxDets=100 ] = 0.483\n",
            " Average Recall     (AR) @[ IoU=0.50:0.95 | area= small | maxDets=100 ] = 0.490\n",
            " Average Recall     (AR) @[ IoU=0.50:0.95 | area=medium | maxDets=100 ] = 0.489\n",
            " Average Recall     (AR) @[ IoU=0.50:0.95 | area= large | maxDets=100 ] = 0.000\n",
            "Cycle:[1] Epoch: [34]  [  0/239]  eta: 0:05:08  task_lr: 0.000198  task_loss: 0.1136 (0.1136)  time: 1.2924  data: 0.3801  max mem: 4966\n",
            "Cycle:[1] Epoch: [34]  [100/239]  eta: 0:02:08  task_lr: 0.000198  task_loss: 0.1085 (0.1222)  time: 0.9210  data: 0.0157  max mem: 4966\n",
            "Cycle:[1] Epoch: [34]  [200/239]  eta: 0:00:35  task_lr: 0.000198  task_loss: 0.1368 (0.1235)  time: 0.9169  data: 0.0137  max mem: 4966\n",
            "Cycle:[1] Epoch: [34]  [238/239]  eta: 0:00:00  task_lr: 0.000198  task_loss: 0.1286 (0.1246)  time: 0.9191  data: 0.0146  max mem: 4966\n",
            "Cycle:[1] Epoch: [34] Total time: 0:03:40 (0.9212 s / it)\n",
            "creating index...\n",
            "index created!\n",
            "Test:  [  0/239]  eta: 0:01:12  model_time: 0.1032 (0.1032)  evaluator_time: 0.0048 (0.0048)  time: 0.3050  data: 0.1949  max mem: 4966\n",
            "Test:  [100/239]  eta: 0:00:12  model_time: 0.0828 (0.0834)  evaluator_time: 0.0023 (0.0022)  time: 0.0918  data: 0.0042  max mem: 4966\n",
            "Test:  [200/239]  eta: 0:00:03  model_time: 0.0826 (0.0832)  evaluator_time: 0.0021 (0.0021)  time: 0.0920  data: 0.0041  max mem: 4966\n"
          ],
          "name": "stdout"
        },
        {
          "output_type": "stream",
          "text": [
            "[2021-08-06 17:22:17,260][<ipython-input-28-977f21560589>][line:151][INFO] [0.27227999 0.48652081 0.28335188 0.27076683 0.32090359 0.\n",
            " 0.35909091 0.4661157  0.48595041 0.50224719 0.46229508 0.        ]\n"
          ],
          "name": "stderr"
        },
        {
          "output_type": "stream",
          "text": [
            "Test:  [238/239]  eta: 0:00:00  model_time: 0.0828 (0.0832)  evaluator_time: 0.0020 (0.0021)  time: 0.0913  data: 0.0042  max mem: 4966\n",
            "Test: Total time: 0:00:22 (0.0929 s / it)\n",
            "Averaged stats: model_time: 0.0828 (0.0832)  evaluator_time: 0.0020 (0.0021)\n",
            "Accumulating evaluation results...\n",
            "DONE (t=0.06s).\n",
            "IoU metric: bbox\n",
            " Average Precision  (AP) @[ IoU=0.50:0.95 | area=   all | maxDets=100 ] = 0.272\n",
            " Average Precision  (AP) @[ IoU=0.50      | area=   all | maxDets=100 ] = 0.487\n",
            " Average Precision  (AP) @[ IoU=0.75      | area=   all | maxDets=100 ] = 0.283\n",
            " Average Precision  (AP) @[ IoU=0.50:0.95 | area= small | maxDets=100 ] = 0.271\n",
            " Average Precision  (AP) @[ IoU=0.50:0.95 | area=medium | maxDets=100 ] = 0.321\n",
            " Average Precision  (AP) @[ IoU=0.50:0.95 | area= large | maxDets=100 ] = 0.000\n",
            " Average Recall     (AR) @[ IoU=0.50:0.95 | area=   all | maxDets=  1 ] = 0.359\n",
            " Average Recall     (AR) @[ IoU=0.50:0.95 | area=   all | maxDets= 10 ] = 0.466\n",
            " Average Recall     (AR) @[ IoU=0.50:0.95 | area=   all | maxDets=100 ] = 0.486\n",
            " Average Recall     (AR) @[ IoU=0.50:0.95 | area= small | maxDets=100 ] = 0.502\n",
            " Average Recall     (AR) @[ IoU=0.50:0.95 | area=medium | maxDets=100 ] = 0.462\n",
            " Average Recall     (AR) @[ IoU=0.50:0.95 | area= large | maxDets=100 ] = 0.000\n"
          ],
          "name": "stdout"
        },
        {
          "output_type": "stream",
          "text": [
            "[2021-08-06 17:22:17,262][<ipython-input-28-977f21560589>][line:161][INFO] No improvement. \n"
          ],
          "name": "stderr"
        },
        {
          "output_type": "stream",
          "text": [
            "Cycle:[1] Epoch: [35]  [  0/239]  eta: 0:05:08  task_lr: 0.000185  task_loss: 0.1157 (0.1157)  time: 1.2915  data: 0.3565  max mem: 4966\n",
            "Cycle:[1] Epoch: [35]  [100/239]  eta: 0:02:09  task_lr: 0.000185  task_loss: 0.1232 (0.1241)  time: 0.9242  data: 0.0147  max mem: 4966\n",
            "Cycle:[1] Epoch: [35]  [200/239]  eta: 0:00:36  task_lr: 0.000185  task_loss: 0.1118 (0.1244)  time: 0.9262  data: 0.0151  max mem: 4966\n",
            "Cycle:[1] Epoch: [35]  [238/239]  eta: 0:00:00  task_lr: 0.000185  task_loss: 0.1218 (0.1266)  time: 0.9228  data: 0.0136  max mem: 4966\n",
            "Cycle:[1] Epoch: [35] Total time: 0:03:41 (0.9266 s / it)\n",
            "creating index...\n",
            "index created!\n",
            "Test:  [  0/239]  eta: 0:01:10  model_time: 0.0954 (0.0954)  evaluator_time: 0.0046 (0.0046)  time: 0.2971  data: 0.1949  max mem: 4966\n",
            "Test:  [100/239]  eta: 0:00:12  model_time: 0.0831 (0.0834)  evaluator_time: 0.0022 (0.0022)  time: 0.0909  data: 0.0041  max mem: 4966\n",
            "Test:  [200/239]  eta: 0:00:03  model_time: 0.0832 (0.0833)  evaluator_time: 0.0021 (0.0022)  time: 0.0910  data: 0.0039  max mem: 4966\n"
          ],
          "name": "stdout"
        },
        {
          "output_type": "stream",
          "text": [
            "[2021-08-06 17:26:56,686][<ipython-input-28-977f21560589>][line:151][INFO] [0.24280567 0.47922645 0.21091849 0.24608177 0.26746298 0.\n",
            " 0.33099174 0.45371901 0.45950413 0.45617978 0.49180328 0.        ]\n",
            "[2021-08-06 17:26:56,687][<ipython-input-28-977f21560589>][line:161][INFO] No improvement. \n"
          ],
          "name": "stderr"
        },
        {
          "output_type": "stream",
          "text": [
            "Test:  [238/239]  eta: 0:00:00  model_time: 0.0830 (0.0833)  evaluator_time: 0.0020 (0.0022)  time: 0.0903  data: 0.0038  max mem: 4966\n",
            "Test: Total time: 0:00:22 (0.0923 s / it)\n",
            "Averaged stats: model_time: 0.0830 (0.0833)  evaluator_time: 0.0020 (0.0022)\n",
            "Accumulating evaluation results...\n",
            "DONE (t=0.06s).\n",
            "IoU metric: bbox\n",
            " Average Precision  (AP) @[ IoU=0.50:0.95 | area=   all | maxDets=100 ] = 0.243\n",
            " Average Precision  (AP) @[ IoU=0.50      | area=   all | maxDets=100 ] = 0.479\n",
            " Average Precision  (AP) @[ IoU=0.75      | area=   all | maxDets=100 ] = 0.211\n",
            " Average Precision  (AP) @[ IoU=0.50:0.95 | area= small | maxDets=100 ] = 0.246\n",
            " Average Precision  (AP) @[ IoU=0.50:0.95 | area=medium | maxDets=100 ] = 0.267\n",
            " Average Precision  (AP) @[ IoU=0.50:0.95 | area= large | maxDets=100 ] = 0.000\n",
            " Average Recall     (AR) @[ IoU=0.50:0.95 | area=   all | maxDets=  1 ] = 0.331\n",
            " Average Recall     (AR) @[ IoU=0.50:0.95 | area=   all | maxDets= 10 ] = 0.454\n",
            " Average Recall     (AR) @[ IoU=0.50:0.95 | area=   all | maxDets=100 ] = 0.460\n",
            " Average Recall     (AR) @[ IoU=0.50:0.95 | area= small | maxDets=100 ] = 0.456\n",
            " Average Recall     (AR) @[ IoU=0.50:0.95 | area=medium | maxDets=100 ] = 0.492\n",
            " Average Recall     (AR) @[ IoU=0.50:0.95 | area= large | maxDets=100 ] = 0.000\n",
            "Cycle:[1] Epoch: [36]  [  0/239]  eta: 0:05:18  task_lr: 0.000173  task_loss: 0.1175 (0.1175)  time: 1.3309  data: 0.4145  max mem: 4966\n",
            "Cycle:[1] Epoch: [36]  [100/239]  eta: 0:02:08  task_lr: 0.000173  task_loss: 0.1091 (0.1269)  time: 0.9222  data: 0.0139  max mem: 4966\n",
            "Cycle:[1] Epoch: [36]  [200/239]  eta: 0:00:36  task_lr: 0.000173  task_loss: 0.1189 (0.1294)  time: 0.9234  data: 0.0150  max mem: 4966\n",
            "Cycle:[1] Epoch: [36]  [238/239]  eta: 0:00:00  task_lr: 0.000173  task_loss: 0.1181 (0.1295)  time: 0.9210  data: 0.0133  max mem: 4966\n",
            "Cycle:[1] Epoch: [36] Total time: 0:03:41 (0.9253 s / it)\n",
            "creating index...\n",
            "index created!\n",
            "Test:  [  0/239]  eta: 0:01:14  model_time: 0.0956 (0.0956)  evaluator_time: 0.0043 (0.0043)  time: 0.3131  data: 0.2114  max mem: 4966\n",
            "Test:  [100/239]  eta: 0:00:13  model_time: 0.0830 (0.0835)  evaluator_time: 0.0022 (0.0021)  time: 0.0920  data: 0.0043  max mem: 4966\n",
            "Test:  [200/239]  eta: 0:00:03  model_time: 0.0827 (0.0833)  evaluator_time: 0.0020 (0.0021)  time: 0.0924  data: 0.0043  max mem: 4966\n"
          ],
          "name": "stdout"
        },
        {
          "output_type": "stream",
          "text": [
            "[2021-08-06 17:31:35,090][<ipython-input-28-977f21560589>][line:151][INFO] [0.28098859 0.50532785 0.27953213 0.29086072 0.277801   0.\n",
            " 0.35578512 0.48842975 0.49752066 0.51910112 0.45901639 0.        ]\n",
            "[2021-08-06 17:31:35,092][<ipython-input-28-977f21560589>][line:161][INFO] No improvement. \n"
          ],
          "name": "stderr"
        },
        {
          "output_type": "stream",
          "text": [
            "Test:  [238/239]  eta: 0:00:00  model_time: 0.0826 (0.0832)  evaluator_time: 0.0017 (0.0020)  time: 0.0912  data: 0.0041  max mem: 4966\n",
            "Test: Total time: 0:00:22 (0.0934 s / it)\n",
            "Averaged stats: model_time: 0.0826 (0.0832)  evaluator_time: 0.0017 (0.0020)\n",
            "Accumulating evaluation results...\n",
            "DONE (t=0.05s).\n",
            "IoU metric: bbox\n",
            " Average Precision  (AP) @[ IoU=0.50:0.95 | area=   all | maxDets=100 ] = 0.281\n",
            " Average Precision  (AP) @[ IoU=0.50      | area=   all | maxDets=100 ] = 0.505\n",
            " Average Precision  (AP) @[ IoU=0.75      | area=   all | maxDets=100 ] = 0.280\n",
            " Average Precision  (AP) @[ IoU=0.50:0.95 | area= small | maxDets=100 ] = 0.291\n",
            " Average Precision  (AP) @[ IoU=0.50:0.95 | area=medium | maxDets=100 ] = 0.278\n",
            " Average Precision  (AP) @[ IoU=0.50:0.95 | area= large | maxDets=100 ] = 0.000\n",
            " Average Recall     (AR) @[ IoU=0.50:0.95 | area=   all | maxDets=  1 ] = 0.356\n",
            " Average Recall     (AR) @[ IoU=0.50:0.95 | area=   all | maxDets= 10 ] = 0.488\n",
            " Average Recall     (AR) @[ IoU=0.50:0.95 | area=   all | maxDets=100 ] = 0.498\n",
            " Average Recall     (AR) @[ IoU=0.50:0.95 | area= small | maxDets=100 ] = 0.519\n",
            " Average Recall     (AR) @[ IoU=0.50:0.95 | area=medium | maxDets=100 ] = 0.459\n",
            " Average Recall     (AR) @[ IoU=0.50:0.95 | area= large | maxDets=100 ] = 0.000\n",
            "Cycle:[1] Epoch: [37]  [  0/239]  eta: 0:05:06  task_lr: 0.000160  task_loss: 0.0955 (0.0955)  time: 1.2835  data: 0.3698  max mem: 4966\n",
            "Cycle:[1] Epoch: [37]  [100/239]  eta: 0:02:08  task_lr: 0.000160  task_loss: 0.1140 (0.1284)  time: 0.9237  data: 0.0148  max mem: 4966\n",
            "Cycle:[1] Epoch: [37]  [200/239]  eta: 0:00:36  task_lr: 0.000160  task_loss: 0.1117 (0.1269)  time: 0.9225  data: 0.0144  max mem: 4966\n",
            "Cycle:[1] Epoch: [37]  [238/239]  eta: 0:00:00  task_lr: 0.000160  task_loss: 0.1217 (0.1275)  time: 0.9244  data: 0.0152  max mem: 4966\n",
            "Cycle:[1] Epoch: [37] Total time: 0:03:41 (0.9253 s / it)\n",
            "creating index...\n",
            "index created!\n",
            "Test:  [  0/239]  eta: 0:01:13  model_time: 0.1016 (0.1016)  evaluator_time: 0.0044 (0.0044)  time: 0.3091  data: 0.2011  max mem: 4966\n",
            "Test:  [100/239]  eta: 0:00:12  model_time: 0.0832 (0.0833)  evaluator_time: 0.0022 (0.0021)  time: 0.0912  data: 0.0040  max mem: 4966\n",
            "Test:  [200/239]  eta: 0:00:03  model_time: 0.0834 (0.0832)  evaluator_time: 0.0020 (0.0021)  time: 0.0907  data: 0.0039  max mem: 4966\n"
          ],
          "name": "stdout"
        },
        {
          "output_type": "stream",
          "text": [
            "[2021-08-06 17:36:12,659][<ipython-input-28-977f21560589>][line:151][INFO] [0.25156863 0.48599993 0.24408448 0.25447272 0.27675892 0.\n",
            " 0.31942149 0.44834711 0.45950413 0.45393258 0.49836066 0.        ]\n",
            "[2021-08-06 17:36:12,660][<ipython-input-28-977f21560589>][line:161][INFO] No improvement. \n"
          ],
          "name": "stderr"
        },
        {
          "output_type": "stream",
          "text": [
            "Test:  [238/239]  eta: 0:00:00  model_time: 0.0830 (0.0833)  evaluator_time: 0.0019 (0.0021)  time: 0.0904  data: 0.0038  max mem: 4966\n",
            "Test: Total time: 0:00:22 (0.0921 s / it)\n",
            "Averaged stats: model_time: 0.0830 (0.0833)  evaluator_time: 0.0019 (0.0021)\n",
            "Accumulating evaluation results...\n",
            "DONE (t=0.06s).\n",
            "IoU metric: bbox\n",
            " Average Precision  (AP) @[ IoU=0.50:0.95 | area=   all | maxDets=100 ] = 0.252\n",
            " Average Precision  (AP) @[ IoU=0.50      | area=   all | maxDets=100 ] = 0.486\n",
            " Average Precision  (AP) @[ IoU=0.75      | area=   all | maxDets=100 ] = 0.244\n",
            " Average Precision  (AP) @[ IoU=0.50:0.95 | area= small | maxDets=100 ] = 0.254\n",
            " Average Precision  (AP) @[ IoU=0.50:0.95 | area=medium | maxDets=100 ] = 0.277\n",
            " Average Precision  (AP) @[ IoU=0.50:0.95 | area= large | maxDets=100 ] = 0.000\n",
            " Average Recall     (AR) @[ IoU=0.50:0.95 | area=   all | maxDets=  1 ] = 0.319\n",
            " Average Recall     (AR) @[ IoU=0.50:0.95 | area=   all | maxDets= 10 ] = 0.448\n",
            " Average Recall     (AR) @[ IoU=0.50:0.95 | area=   all | maxDets=100 ] = 0.460\n",
            " Average Recall     (AR) @[ IoU=0.50:0.95 | area= small | maxDets=100 ] = 0.454\n",
            " Average Recall     (AR) @[ IoU=0.50:0.95 | area=medium | maxDets=100 ] = 0.498\n",
            " Average Recall     (AR) @[ IoU=0.50:0.95 | area= large | maxDets=100 ] = 0.000\n",
            "Cycle:[1] Epoch: [38]  [  0/239]  eta: 0:05:13  task_lr: 0.000148  task_loss: 0.1248 (0.1248)  time: 1.3118  data: 0.3863  max mem: 4966\n",
            "Cycle:[1] Epoch: [38]  [100/239]  eta: 0:02:09  task_lr: 0.000148  task_loss: 0.1041 (0.1266)  time: 0.9254  data: 0.0151  max mem: 4966\n",
            "Cycle:[1] Epoch: [38]  [200/239]  eta: 0:00:36  task_lr: 0.000148  task_loss: 0.1296 (0.1250)  time: 0.9238  data: 0.0145  max mem: 4966\n",
            "Cycle:[1] Epoch: [38]  [238/239]  eta: 0:00:00  task_lr: 0.000148  task_loss: 0.1150 (0.1245)  time: 0.9236  data: 0.0145  max mem: 4966\n",
            "Cycle:[1] Epoch: [38] Total time: 0:03:41 (0.9266 s / it)\n",
            "creating index...\n",
            "index created!\n",
            "Test:  [  0/239]  eta: 0:01:13  model_time: 0.0949 (0.0949)  evaluator_time: 0.0047 (0.0047)  time: 0.3056  data: 0.2035  max mem: 4966\n",
            "Test:  [100/239]  eta: 0:00:12  model_time: 0.0829 (0.0832)  evaluator_time: 0.0020 (0.0021)  time: 0.0907  data: 0.0039  max mem: 4966\n",
            "Test:  [200/239]  eta: 0:00:03  model_time: 0.0828 (0.0830)  evaluator_time: 0.0018 (0.0021)  time: 0.0904  data: 0.0038  max mem: 4966\n"
          ],
          "name": "stdout"
        },
        {
          "output_type": "stream",
          "text": [
            "[2021-08-06 17:40:51,695][<ipython-input-28-977f21560589>][line:151][INFO] [0.25304345 0.48933589 0.20573124 0.24719707 0.30057823 0.\n",
            " 0.3231405  0.45991736 0.47520661 0.4758427  0.49672131 0.        ]\n",
            "[2021-08-06 17:40:51,697][<ipython-input-28-977f21560589>][line:161][INFO] No improvement. \n"
          ],
          "name": "stderr"
        },
        {
          "output_type": "stream",
          "text": [
            "Test:  [238/239]  eta: 0:00:00  model_time: 0.0828 (0.0830)  evaluator_time: 0.0019 (0.0020)  time: 0.0911  data: 0.0039  max mem: 4966\n",
            "Test: Total time: 0:00:21 (0.0917 s / it)\n",
            "Averaged stats: model_time: 0.0828 (0.0830)  evaluator_time: 0.0019 (0.0020)\n",
            "Accumulating evaluation results...\n",
            "DONE (t=0.05s).\n",
            "IoU metric: bbox\n",
            " Average Precision  (AP) @[ IoU=0.50:0.95 | area=   all | maxDets=100 ] = 0.253\n",
            " Average Precision  (AP) @[ IoU=0.50      | area=   all | maxDets=100 ] = 0.489\n",
            " Average Precision  (AP) @[ IoU=0.75      | area=   all | maxDets=100 ] = 0.206\n",
            " Average Precision  (AP) @[ IoU=0.50:0.95 | area= small | maxDets=100 ] = 0.247\n",
            " Average Precision  (AP) @[ IoU=0.50:0.95 | area=medium | maxDets=100 ] = 0.301\n",
            " Average Precision  (AP) @[ IoU=0.50:0.95 | area= large | maxDets=100 ] = 0.000\n",
            " Average Recall     (AR) @[ IoU=0.50:0.95 | area=   all | maxDets=  1 ] = 0.323\n",
            " Average Recall     (AR) @[ IoU=0.50:0.95 | area=   all | maxDets= 10 ] = 0.460\n",
            " Average Recall     (AR) @[ IoU=0.50:0.95 | area=   all | maxDets=100 ] = 0.475\n",
            " Average Recall     (AR) @[ IoU=0.50:0.95 | area= small | maxDets=100 ] = 0.476\n",
            " Average Recall     (AR) @[ IoU=0.50:0.95 | area=medium | maxDets=100 ] = 0.497\n",
            " Average Recall     (AR) @[ IoU=0.50:0.95 | area= large | maxDets=100 ] = 0.000\n",
            "Cycle:[1] Epoch: [39]  [  0/239]  eta: 0:04:57  task_lr: 0.000137  task_loss: 0.0939 (0.0939)  time: 1.2452  data: 0.3376  max mem: 4966\n",
            "Cycle:[1] Epoch: [39]  [100/239]  eta: 0:02:08  task_lr: 0.000137  task_loss: 0.1227 (0.1219)  time: 0.9211  data: 0.0153  max mem: 4966\n",
            "Cycle:[1] Epoch: [39]  [200/239]  eta: 0:00:35  task_lr: 0.000137  task_loss: 0.1132 (0.1238)  time: 0.9199  data: 0.0152  max mem: 4966\n",
            "Cycle:[1] Epoch: [39]  [238/239]  eta: 0:00:00  task_lr: 0.000137  task_loss: 0.1165 (0.1234)  time: 0.9176  data: 0.0139  max mem: 4966\n",
            "Cycle:[1] Epoch: [39] Total time: 0:03:40 (0.9209 s / it)\n",
            "creating index...\n",
            "index created!\n",
            "Test:  [  0/239]  eta: 0:01:14  model_time: 0.0943 (0.0943)  evaluator_time: 0.0043 (0.0043)  time: 0.3115  data: 0.2091  max mem: 4966\n",
            "Test:  [100/239]  eta: 0:00:12  model_time: 0.0829 (0.0832)  evaluator_time: 0.0020 (0.0020)  time: 0.0904  data: 0.0038  max mem: 4966\n",
            "Test:  [200/239]  eta: 0:00:03  model_time: 0.0829 (0.0831)  evaluator_time: 0.0019 (0.0020)  time: 0.0900  data: 0.0037  max mem: 4966\n"
          ],
          "name": "stdout"
        },
        {
          "output_type": "stream",
          "text": [
            "[2021-08-06 17:45:29,363][<ipython-input-28-977f21560589>][line:151][INFO] [0.26350285 0.48853247 0.23440522 0.2659405  0.29087271 0.\n",
            " 0.34049587 0.47809917 0.48595041 0.5005618  0.46721311 0.        ]\n",
            "[2021-08-06 17:45:29,366][<ipython-input-28-977f21560589>][line:161][INFO] No improvement. \n"
          ],
          "name": "stderr"
        },
        {
          "output_type": "stream",
          "text": [
            "Test:  [238/239]  eta: 0:00:00  model_time: 0.0827 (0.0831)  evaluator_time: 0.0018 (0.0020)  time: 0.0896  data: 0.0037  max mem: 4966\n",
            "Test: Total time: 0:00:21 (0.0919 s / it)\n",
            "Averaged stats: model_time: 0.0827 (0.0831)  evaluator_time: 0.0018 (0.0020)\n",
            "Accumulating evaluation results...\n",
            "DONE (t=0.05s).\n",
            "IoU metric: bbox\n",
            " Average Precision  (AP) @[ IoU=0.50:0.95 | area=   all | maxDets=100 ] = 0.264\n",
            " Average Precision  (AP) @[ IoU=0.50      | area=   all | maxDets=100 ] = 0.489\n",
            " Average Precision  (AP) @[ IoU=0.75      | area=   all | maxDets=100 ] = 0.234\n",
            " Average Precision  (AP) @[ IoU=0.50:0.95 | area= small | maxDets=100 ] = 0.266\n",
            " Average Precision  (AP) @[ IoU=0.50:0.95 | area=medium | maxDets=100 ] = 0.291\n",
            " Average Precision  (AP) @[ IoU=0.50:0.95 | area= large | maxDets=100 ] = 0.000\n",
            " Average Recall     (AR) @[ IoU=0.50:0.95 | area=   all | maxDets=  1 ] = 0.340\n",
            " Average Recall     (AR) @[ IoU=0.50:0.95 | area=   all | maxDets= 10 ] = 0.478\n",
            " Average Recall     (AR) @[ IoU=0.50:0.95 | area=   all | maxDets=100 ] = 0.486\n",
            " Average Recall     (AR) @[ IoU=0.50:0.95 | area= small | maxDets=100 ] = 0.501\n",
            " Average Recall     (AR) @[ IoU=0.50:0.95 | area=medium | maxDets=100 ] = 0.467\n",
            " Average Recall     (AR) @[ IoU=0.50:0.95 | area= large | maxDets=100 ] = 0.000\n",
            "Cycle:[1] Epoch: [40]  [  0/239]  eta: 0:05:03  task_lr: 0.000125  task_loss: 0.1064 (0.1064)  time: 1.2707  data: 0.3595  max mem: 4966\n",
            "Cycle:[1] Epoch: [40]  [100/239]  eta: 0:02:08  task_lr: 0.000125  task_loss: 0.1179 (0.1183)  time: 0.9188  data: 0.0145  max mem: 4966\n",
            "Cycle:[1] Epoch: [40]  [200/239]  eta: 0:00:35  task_lr: 0.000125  task_loss: 0.1139 (0.1206)  time: 0.9203  data: 0.0150  max mem: 4966\n",
            "Cycle:[1] Epoch: [40]  [238/239]  eta: 0:00:00  task_lr: 0.000125  task_loss: 0.1342 (0.1223)  time: 0.9197  data: 0.0152  max mem: 4966\n",
            "Cycle:[1] Epoch: [40] Total time: 0:03:40 (0.9214 s / it)\n",
            "creating index...\n",
            "index created!\n",
            "Test:  [  0/239]  eta: 0:01:13  model_time: 0.0964 (0.0964)  evaluator_time: 0.0055 (0.0055)  time: 0.3091  data: 0.2051  max mem: 4966\n",
            "Test:  [100/239]  eta: 0:00:12  model_time: 0.0833 (0.0835)  evaluator_time: 0.0022 (0.0021)  time: 0.0914  data: 0.0042  max mem: 4966\n",
            "Test:  [200/239]  eta: 0:00:03  model_time: 0.0832 (0.0834)  evaluator_time: 0.0019 (0.0021)  time: 0.0908  data: 0.0039  max mem: 4966\n"
          ],
          "name": "stdout"
        },
        {
          "output_type": "stream",
          "text": [
            "[2021-08-06 17:50:06,177][<ipython-input-28-977f21560589>][line:151][INFO] [0.26903178 0.49999984 0.26672527 0.26953029 0.30151497 0.\n",
            " 0.35082645 0.46983471 0.47231405 0.48089888 0.4704918  0.        ]\n",
            "[2021-08-06 17:50:06,179][<ipython-input-28-977f21560589>][line:161][INFO] No improvement. \n"
          ],
          "name": "stderr"
        },
        {
          "output_type": "stream",
          "text": [
            "Test:  [238/239]  eta: 0:00:00  model_time: 0.0829 (0.0834)  evaluator_time: 0.0019 (0.0021)  time: 0.0908  data: 0.0041  max mem: 4966\n",
            "Test: Total time: 0:00:22 (0.0925 s / it)\n",
            "Averaged stats: model_time: 0.0829 (0.0834)  evaluator_time: 0.0019 (0.0021)\n",
            "Accumulating evaluation results...\n",
            "DONE (t=0.05s).\n",
            "IoU metric: bbox\n",
            " Average Precision  (AP) @[ IoU=0.50:0.95 | area=   all | maxDets=100 ] = 0.269\n",
            " Average Precision  (AP) @[ IoU=0.50      | area=   all | maxDets=100 ] = 0.500\n",
            " Average Precision  (AP) @[ IoU=0.75      | area=   all | maxDets=100 ] = 0.267\n",
            " Average Precision  (AP) @[ IoU=0.50:0.95 | area= small | maxDets=100 ] = 0.270\n",
            " Average Precision  (AP) @[ IoU=0.50:0.95 | area=medium | maxDets=100 ] = 0.302\n",
            " Average Precision  (AP) @[ IoU=0.50:0.95 | area= large | maxDets=100 ] = 0.000\n",
            " Average Recall     (AR) @[ IoU=0.50:0.95 | area=   all | maxDets=  1 ] = 0.351\n",
            " Average Recall     (AR) @[ IoU=0.50:0.95 | area=   all | maxDets= 10 ] = 0.470\n",
            " Average Recall     (AR) @[ IoU=0.50:0.95 | area=   all | maxDets=100 ] = 0.472\n",
            " Average Recall     (AR) @[ IoU=0.50:0.95 | area= small | maxDets=100 ] = 0.481\n",
            " Average Recall     (AR) @[ IoU=0.50:0.95 | area=medium | maxDets=100 ] = 0.470\n",
            " Average Recall     (AR) @[ IoU=0.50:0.95 | area= large | maxDets=100 ] = 0.000\n",
            "Cycle:[1] Epoch: [41]  [  0/239]  eta: 0:05:08  task_lr: 0.000114  task_loss: 0.1345 (0.1345)  time: 1.2907  data: 0.3792  max mem: 4966\n",
            "Cycle:[1] Epoch: [41]  [100/239]  eta: 0:02:08  task_lr: 0.000114  task_loss: 0.1212 (0.1205)  time: 0.9194  data: 0.0149  max mem: 4966\n",
            "Cycle:[1] Epoch: [41]  [200/239]  eta: 0:00:35  task_lr: 0.000114  task_loss: 0.1164 (0.1229)  time: 0.9180  data: 0.0142  max mem: 4966\n",
            "Cycle:[1] Epoch: [41]  [238/239]  eta: 0:00:00  task_lr: 0.000114  task_loss: 0.1169 (0.1226)  time: 0.9187  data: 0.0139  max mem: 4966\n",
            "Cycle:[1] Epoch: [41] Total time: 0:03:40 (0.9212 s / it)\n",
            "creating index...\n",
            "index created!\n",
            "Test:  [  0/239]  eta: 0:01:10  model_time: 0.0950 (0.0950)  evaluator_time: 0.0044 (0.0044)  time: 0.2971  data: 0.1955  max mem: 4966\n",
            "Test:  [100/239]  eta: 0:00:12  model_time: 0.0828 (0.0833)  evaluator_time: 0.0021 (0.0021)  time: 0.0915  data: 0.0041  max mem: 4966\n",
            "Test:  [200/239]  eta: 0:00:03  model_time: 0.0829 (0.0831)  evaluator_time: 0.0021 (0.0021)  time: 0.0903  data: 0.0037  max mem: 4966\n",
            "Test:  [238/239]  eta: 0:00:00  model_time: 0.0830 (0.0831)  evaluator_time: 0.0020 (0.0021)  time: 0.0907  data: 0.0040  max mem: 4966\n",
            "Test: Total time: 0:00:22 (0.0922 s / it)\n",
            "Averaged stats: model_time: 0.0830 (0.0831)  evaluator_time: 0.0020 (0.0021)\n",
            "Accumulating evaluation results...\n",
            "DONE (t=0.06s).\n",
            "IoU metric: bbox\n",
            " Average Precision  (AP) @[ IoU=0.50:0.95 | area=   all | maxDets=100 ] = 0.248\n",
            " Average Precision  (AP) @[ IoU=0.50      | area=   all | maxDets=100 ] = 0.502\n",
            " Average Precision  (AP) @[ IoU=0.75      | area=   all | maxDets=100 ] = 0.218\n",
            " Average Precision  (AP) @[ IoU=0.50:0.95 | area= small | maxDets=100 ] = 0.239\n",
            " Average Precision  (AP) @[ IoU=0.50:0.95 | area=medium | maxDets=100 ] = 0.301\n",
            " Average Precision  (AP) @[ IoU=0.50:0.95 | area= large | maxDets=100 ] = 0.000\n",
            " Average Recall     (AR) @[ IoU=0.50:0.95 | area=   all | maxDets=  1 ] = 0.328\n",
            " Average Recall     (AR) @[ IoU=0.50:0.95 | area=   all | maxDets= 10 ] = 0.433\n",
            " Average Recall     (AR) @[ IoU=0.50:0.95 | area=   all | maxDets=100 ] = 0.442\n",
            " Average Recall     (AR) @[ IoU=0.50:0.95 | area= small | maxDets=100 ] = 0.435\n",
            " Average Recall     (AR) @[ IoU=0.50:0.95 | area=medium | maxDets=100 ] = 0.485\n",
            " Average Recall     (AR) @[ IoU=0.50:0.95 | area= large | maxDets=100 ] = 0.000\n"
          ],
          "name": "stdout"
        },
        {
          "output_type": "stream",
          "text": [
            "[2021-08-06 17:54:43,664][<ipython-input-28-977f21560589>][line:151][INFO] [0.24825027 0.50164529 0.21824309 0.23927015 0.30143637 0.\n",
            " 0.32768595 0.43305785 0.44214876 0.43483146 0.4852459  0.        ]\n",
            "[2021-08-06 17:54:43,672][<ipython-input-28-977f21560589>][line:161][INFO] No improvement. \n",
            "[2021-08-06 17:54:43,675][<ipython-input-28-977f21560589>][line:164][INFO] Training stops at epoch 42 due to plateau in performance.\n",
            "[2021-08-06 17:54:43,678][<ipython-input-28-977f21560589>][line:167][INFO] COCO Performance on the test set\n"
          ],
          "name": "stderr"
        },
        {
          "output_type": "stream",
          "text": [
            "creating index...\n",
            "index created!\n",
            "Test:  [  0/240]  eta: 0:01:16  model_time: 0.0998 (0.0998)  evaluator_time: 0.0066 (0.0066)  time: 0.3195  data: 0.2110  max mem: 4966\n",
            "Test:  [100/240]  eta: 0:00:12  model_time: 0.0829 (0.0833)  evaluator_time: 0.0019 (0.0021)  time: 0.0899  data: 0.0036  max mem: 4966\n",
            "Test:  [200/240]  eta: 0:00:03  model_time: 0.0828 (0.0831)  evaluator_time: 0.0019 (0.0020)  time: 0.0899  data: 0.0037  max mem: 4966\n"
          ],
          "name": "stdout"
        },
        {
          "output_type": "stream",
          "text": [
            "[2021-08-06 17:55:42,144][<ipython-input-28-977f21560589>][line:170][INFO] [0.2315148  0.40575358 0.25264906 0.25118336 0.20393361 0.\n",
            " 0.30364372 0.46356275 0.46923077 0.496      0.42173913 0.        ]\n",
            "[2021-08-06 17:55:42,145][<ipython-input-28-977f21560589>][line:176][INFO] Training time 3:16:20\n"
          ],
          "name": "stderr"
        },
        {
          "output_type": "stream",
          "text": [
            "Test:  [239/240]  eta: 0:00:00  model_time: 0.0828 (0.0830)  evaluator_time: 0.0019 (0.0020)  time: 0.0897  data: 0.0036  max mem: 4966\n",
            "Test: Total time: 0:00:22 (0.0918 s / it)\n",
            "Averaged stats: model_time: 0.0828 (0.0830)  evaluator_time: 0.0019 (0.0020)\n",
            "Accumulating evaluation results...\n",
            "DONE (t=0.05s).\n",
            "IoU metric: bbox\n",
            " Average Precision  (AP) @[ IoU=0.50:0.95 | area=   all | maxDets=100 ] = 0.232\n",
            " Average Precision  (AP) @[ IoU=0.50      | area=   all | maxDets=100 ] = 0.406\n",
            " Average Precision  (AP) @[ IoU=0.75      | area=   all | maxDets=100 ] = 0.253\n",
            " Average Precision  (AP) @[ IoU=0.50:0.95 | area= small | maxDets=100 ] = 0.251\n",
            " Average Precision  (AP) @[ IoU=0.50:0.95 | area=medium | maxDets=100 ] = 0.204\n",
            " Average Precision  (AP) @[ IoU=0.50:0.95 | area= large | maxDets=100 ] = 0.000\n",
            " Average Recall     (AR) @[ IoU=0.50:0.95 | area=   all | maxDets=  1 ] = 0.304\n",
            " Average Recall     (AR) @[ IoU=0.50:0.95 | area=   all | maxDets= 10 ] = 0.464\n",
            " Average Recall     (AR) @[ IoU=0.50:0.95 | area=   all | maxDets=100 ] = 0.469\n",
            " Average Recall     (AR) @[ IoU=0.50:0.95 | area= small | maxDets=100 ] = 0.496\n",
            " Average Recall     (AR) @[ IoU=0.50:0.95 | area=medium | maxDets=100 ] = 0.422\n",
            " Average Recall     (AR) @[ IoU=0.50:0.95 | area= large | maxDets=100 ] = 0.000\n"
          ],
          "name": "stdout"
        }
      ]
    },
    {
      "cell_type": "markdown",
      "metadata": {
        "id": "oCoDHic7tG3q"
      },
      "source": [
        "### one-step AL, no pseudo labels"
      ]
    },
    {
      "cell_type": "code",
      "metadata": {
        "colab": {
          "base_uri": "https://localhost:8080/"
        },
        "id": "30nwttBRongu",
        "outputId": "1a17e9de-c689-4850-ca7f-123978b9e6d5"
      },
      "source": [
        "# Get logger\n",
        "exp_name = 'frcnn_onestepAL_20to50_lr3e-4_CA_'+str(SEED)\n",
        "root = 'drive/MyDrive/exp_results/faster-rcnn-DeepLesion-alssl'\n",
        "pretrained_root = 'drive/MyDrive/exp_results/faster-rcnn-DeepLesion-alssl-pretrained'\n",
        "exp_dir = os.path.join(root, exp_name)\n",
        "\n",
        "# Make exp folder\n",
        "if not os.path.isdir(exp_dir):\n",
        "    os.mkdir(exp_dir)\n",
        "\n",
        "logger = get_logger(os.path.join(exp_dir, 'training_info.log'))\n",
        "logger.info('Training configurations: \\n%s' %(args))\n",
        "\n",
        "# Load pretrained checkpoints\n",
        "if configs.start_cycle == 1:\n",
        "    # Load initial checkpoints\n",
        "    checkpoint_path = os.path.join(pretrained_root, 'frcnn_initial_20%_lr1e-3_CA_'+str(SEED)+'_best.pth')\n",
        "    labeled_set = list(np.loadtxt(os.path.join(root+'/frcnn_onestepAL_20to50_lr5e-4_CA_'+str(SEED), 'frcnn_onestepAL_20to50_lr5e-4_CA_'+str(SEED)+'_labeled_set_cycle%d.txt'%(configs.start_cycle)), dtype=int))\n",
        "    unlabeled_set = list(np.loadtxt(os.path.join(root+'/frcnn_onestepAL_20to50_lr5e-4_CA_'+str(SEED), 'frcnn_onestepAL_20to50_lr5e-4_CA_'+str(SEED)+'_unlabeled_set_cycle%d.txt'%(configs.start_cycle)), dtype=int))\n",
        "else:\n",
        "    checkpoint_path = os.path.join(exp_dir, exp_name+'_cycle%d.pth' %(configs.start_cycle-1))\n",
        "    # Load previous labeled/unlabeled indices\n",
        "    labeled_set = list(np.loadtxt(os.path.join(exp_dir, exp_name+'_labeled_set_cycle%d.txt'%(configs.start_cycle-1)), dtype=int))\n",
        "    unlabeled_set = list(np.loadtxt(os.path.join(exp_dir, exp_name+'_unlabeled_set_cycle%d.txt'%(configs.start_cycle-1)), dtype=int))\n",
        "\n",
        "logger.info('Loading pretrained from %s' %(checkpoint_path))\n",
        "task_model.load_state_dict(torch.load(checkpoint_path)['model'])\n",
        "logger.info('\\nCurrent performance on test set:')\n",
        "evaluator = evaluate(task_model, data_loader_test, device=device)\n",
        "logger.info(str(evaluator.coco_eval['bbox'].stats))\n",
        "\n",
        "# SSL status flag \n",
        "INCLUDE_PSEUDOLABEL = False\n",
        "\n",
        "for cycle in range(configs.start_cycle, configs.num_cycles + 1):\n",
        "    if cycle >= configs.ssl_start_cycle:\n",
        "        INCLUDE_PSEUDOLABEL = True\n",
        "        logger.info(\"\\nWill include pseudolabels.\")\n",
        "    else:\n",
        "        logger.info('\\nNo pseudolabel training for this cycle ...')\n",
        "\n",
        "    logger.info(\"\\nActive Learning Cycle %d\" %(cycle))\n",
        "\n",
        "    # labeled_loader = DataLoader(train_dataset, batch_size=1, sampler=SubsetSequentialSampler(labeled_set), \n",
        "    #                             num_workers=configs.num_workers, pin_memory=True, collate_fn=collate_fn)\n",
        "    # logger.info(\"\\nCurrent labeled pool size: %d\" %(len(labeled_set)))\n",
        "\n",
        "    # # Compute uncertainties for the unlabeled pool\n",
        "    # unlabeled_loader = DataLoader(train_dataset, batch_size=1, sampler=SubsetSequentialSampler(unlabeled_set),\n",
        "    #                               num_workers=configs.num_workers, pin_memory=True, collate_fn=collate_fn)\n",
        "\n",
        "    # # Get needed info by inference over the entire unlabeled set\n",
        "    # uncertainties, unlabeled_pool, imgs, detections, pseudo_flags = get_query(task_model, unlabeled_loader, device)\n",
        "\n",
        "    # # first rank by uncertainty, choose the top 2*N ones\n",
        "    # arg1 = np.argsort(uncertainties)\n",
        "\n",
        "    # # cluster by k-means, set k = 10\n",
        "    # kmeans_pool = np.array(unlabeled_pool)[arg1][:configs.budget_num * 2]\n",
        "    # kmeans = KMeans(n_clusters=10)\n",
        "    # clusters = kmeans.fit(kmeans_pool)\n",
        "    # cluster_labels = clusters.labels_\n",
        "    # cluster_indices = arg1[:configs.budget_num * 2]\n",
        "    # cluster_dict = {}\n",
        "    \n",
        "    # # group unlabeled indices by cluster\n",
        "    # for label, index in zip(cluster_labels, cluster_indices):\n",
        "    #     if label not in cluster_dict:\n",
        "    #         cluster_dict[label] = []\n",
        "    #     cluster_dict[label].append(index)\n",
        "    \n",
        "    # # iterate over clusters, choose one sample each iteration until meet the budget number\n",
        "    # to_be_added = []\n",
        "    # count = 0\n",
        "    # while count < configs.budget_num:\n",
        "    #     for c in range(10):\n",
        "    #         if len(cluster_dict[c]) > 0:\n",
        "    #             selected = random.choice(cluster_dict[c])\n",
        "    #             to_be_added.append(selected)\n",
        "    #             cluster_dict[c].remove(selected)\n",
        "    #             count += 1\n",
        "    #             if count == configs.budget_num:\n",
        "    #                 break\n",
        "    #         else:\n",
        "    #             continue\n",
        "\n",
        "    # to_be_added = np.array(to_be_added)\n",
        "    # labeled_set += list(torch.tensor(unlabeled_set)[to_be_added].numpy())\n",
        "    # unlabeled_set = list(set(indices) - set(labeled_set)) \n",
        "\n",
        "    # Save labeled & unlabeled indices\n",
        "    # np.savetxt(os.path.join(exp_dir, exp_name+'_labeled_set_cycle%d.txt'%(cycle)), labeled_set, fmt='%d')\n",
        "    # np.savetxt(os.path.join(exp_dir, exp_name+'_unlabeled_set_cycle%d.txt'%(cycle)), unlabeled_set, fmt='%d')\n",
        "\n",
        "    # Assign pseudolabels to the most confident predictions, and add them to labeled dataset\n",
        "    if INCLUDE_PSEUDOLABEL:\n",
        "        logger.info('\\nGetting pseudolabels ...')\n",
        "        # Choose the most CONFIDENT predictions for pseudolabeling\n",
        "        pseudo_set = list(set(arg1) - set(to_be_added))\n",
        "        ordered_imgs = [imgs[i] for i in pseudo_set] \n",
        "        ordered_detections = [detections[i] for i in pseudo_set]\n",
        "        pseudo_flags = [pseudo_flags[i] for i in pseudo_set]\n",
        "\n",
        "        #pseudolabel_num_updated = min(configs.pseudolabel_num, len(unlabeled_set))\n",
        "        pseudo_train_dataset = PseudoDataset(pseudo_flags, ordered_imgs, ordered_detections, transforms=None)\n",
        "        logger.info('%d pseudo-labels are added to the training set' %(len(pseudo_train_dataset)))\n",
        "        logger.info('Saving pseudolabels for reference')\n",
        "        torch.save(pseudo_train_dataset, os.path.join(exp_dir, 'pseudolabels_cycle%d.pt' %(cycle)))\n",
        "\n",
        "        # Create new train dataset\n",
        "        concat_train_dataset = torch.utils.data.ConcatDataset([train_dataset, pseudo_train_dataset])\n",
        "        logger.info('Current training dataset size: %d' %(len(pseudo_train_dataset) + len(labeled_set)))\n",
        "\n",
        "        # Update sampler for this cycle\n",
        "        train_sampler = SubsetRandomSampler(list(set(range(len(train_dataset), len(concat_train_dataset))) | set(labeled_set)))\n",
        "    else: \n",
        "        logger.info('\\nNo pseudolabel training for this cycle ...')\n",
        "        train_sampler = SubsetRandomSampler(labeled_set)\n",
        "\n",
        "    # Train prep\n",
        "    train_batch_sampler = torch.utils.data.BatchSampler(train_sampler, configs.batch_size, drop_last=True)\n",
        "\n",
        "    g_seed = torch.Generator()\n",
        "    g_seed.manual_seed(SEED)\n",
        "    if INCLUDE_PSEUDOLABEL:\n",
        "        train_data_loader = torch.utils.data.DataLoader(concat_train_dataset, batch_sampler=train_batch_sampler, \n",
        "                                                        worker_init_fn=seed_worker, generator=g_seed,\n",
        "                                                        num_workers=configs.num_workers, collate_fn=collate_fn)\n",
        "    else:\n",
        "        train_data_loader = torch.utils.data.DataLoader(train_dataset, batch_sampler=train_batch_sampler, \n",
        "                                                        worker_init_fn=seed_worker, generator=g_seed,\n",
        "                                                        num_workers=configs.num_workers, collate_fn=collate_fn)\n",
        "\n",
        "    # Optimization    \n",
        "    params = [p for p in task_model.parameters() if p.requires_grad]\n",
        "    task_optimizer = torch.optim.Adam(params, lr=configs.lr, weight_decay=configs.weight_decay, amsgrad=True)\n",
        "    task_lr_scheduler = torch.optim.lr_scheduler.CosineAnnealingLR(task_optimizer, T_max=configs.num_epochs)\n",
        "\n",
        "    # Start active learning cycle training\n",
        "    logger.info(\"Start training\")\n",
        "    start_time = time.time()\n",
        "\n",
        "    best_map = 0\n",
        "    plateau_num = 0\n",
        "    for epoch in range(configs.num_epochs):\n",
        "        train_one_epoch(task_model, task_optimizer, train_data_loader, device, cycle, epoch, configs.print_freq)\n",
        "        task_lr_scheduler.step()\n",
        "    \n",
        "        # Evaluate performance\n",
        "        evaluator = evaluate(task_model, data_loader_val, device=device)\n",
        "        # Save the best model\n",
        "        eval_stats = evaluator.coco_eval['bbox'].stats\n",
        "        logger.info(str(eval_stats))\n",
        "        # Use the COCO mAP as the main criterion\n",
        "        if eval_stats[0] > best_map:\n",
        "            best_map = eval_stats[0]\n",
        "            plateau_num = 0\n",
        "            # Save checkpoint\n",
        "            logger.info('Saving best checkpoints for mAP %f' %(best_map))\n",
        "            save_on_master({'model': task_model.state_dict()}, \n",
        "                            os.path.join(exp_dir, exp_name+'_cycle%d_best.pth' %(cycle)))\n",
        "        else:\n",
        "            logger.info('No improvement. ')\n",
        "            plateau_num += 1\n",
        "            if plateau_num == 20:\n",
        "                logger.info('Training stops at epoch %d due to plateau in performance.' %(epoch+1))\n",
        "                break\n",
        "    \n",
        "    logger.info('COCO Performance on the test set')\n",
        "    task_model.load_state_dict(torch.load(os.path.join(exp_dir, exp_name+'_cycle%d_best.pth' %(cycle)))['model'])\n",
        "    evaluator = evaluate(task_model, data_loader_test, device=device)\n",
        "    logger.info(str(evaluator.coco_eval['bbox'].stats))\n",
        "\n",
        "    # Update sampler for training\n",
        "    total_time = time.time() - start_time\n",
        "    total_time_str = str(datetime.timedelta(seconds=int(total_time)))\n",
        "\n",
        "    logger.info('Training time {}'.format(total_time_str))"
      ],
      "execution_count": null,
      "outputs": [
        {
          "output_type": "stream",
          "text": [
            "[2021-08-06 20:50:16,689][<ipython-input-49-0825c7523d1d>][line:12][INFO] Training configurations: \n",
            "{'num_cycles': 1, 'start_cycle': 1, 'num_epochs': 60, 'init_num': 383, 'budget_num': 574, 'pseudolabel_num': 200, 'ssl_start_cycle': 100, 'num_workers': 2, 'batch_size': 4, 'lr': 0.0003, 'momentum': 0.9, 'weight_decay': 1e-08, 'lr_gamma': 0.1, 'step_size': 20, 'gamma': 0.1, 'print_freq': 100}\n",
            "[2021-08-06 20:50:16,701][<ipython-input-49-0825c7523d1d>][line:26][INFO] Loading pretrained from drive/MyDrive/exp_results/faster-rcnn-DeepLesion-alssl-pretrained/frcnn_initial_20%_lr1e-3_CA_202108_best.pth\n",
            "[2021-08-06 20:50:17,029][<ipython-input-49-0825c7523d1d>][line:28][INFO] \n",
            "Current performance on test set:\n"
          ],
          "name": "stderr"
        },
        {
          "output_type": "stream",
          "text": [
            "creating index...\n",
            "index created!\n",
            "Test:  [  0/240]  eta: 0:01:15  model_time: 0.0949 (0.0949)  evaluator_time: 0.0046 (0.0046)  time: 0.3141  data: 0.2124  max mem: 5003\n",
            "Test:  [100/240]  eta: 0:00:13  model_time: 0.0831 (0.0836)  evaluator_time: 0.0020 (0.0022)  time: 0.0907  data: 0.0039  max mem: 5003\n",
            "Test:  [200/240]  eta: 0:00:03  model_time: 0.0831 (0.0835)  evaluator_time: 0.0021 (0.0022)  time: 0.0909  data: 0.0038  max mem: 5003\n",
            "Test:  [239/240]  eta: 0:00:00  model_time: 0.0830 (0.0834)  evaluator_time: 0.0019 (0.0022)  time: 0.0902  data: 0.0038  max mem: 5003\n",
            "Test: Total time: 0:00:22 (0.0925 s / it)\n",
            "Averaged stats: model_time: 0.0830 (0.0834)  evaluator_time: 0.0019 (0.0022)\n",
            "Accumulating evaluation results...\n",
            "DONE (t=0.06s).\n",
            "IoU metric: bbox\n",
            " Average Precision  (AP) @[ IoU=0.50:0.95 | area=   all | maxDets=100 ] = 0.150\n",
            " Average Precision  (AP) @[ IoU=0.50      | area=   all | maxDets=100 ] = 0.280\n",
            " Average Precision  (AP) @[ IoU=0.75      | area=   all | maxDets=100 ] = 0.146\n",
            " Average Precision  (AP) @[ IoU=0.50:0.95 | area= small | maxDets=100 ] = 0.174\n",
            " Average Precision  (AP) @[ IoU=0.50:0.95 | area=medium | maxDets=100 ] = 0.113\n",
            " Average Precision  (AP) @[ IoU=0.50:0.95 | area= large | maxDets=100 ] = 0.000\n",
            " Average Recall     (AR) @[ IoU=0.50:0.95 | area=   all | maxDets=  1 ] = 0.213\n",
            " Average Recall     (AR) @[ IoU=0.50:0.95 | area=   all | maxDets= 10 ] = 0.334\n",
            " Average Recall     (AR) @[ IoU=0.50:0.95 | area=   all | maxDets=100 ] = 0.374\n"
          ],
          "name": "stdout"
        },
        {
          "output_type": "stream",
          "text": [
            "[2021-08-06 20:51:15,524][<ipython-input-49-0825c7523d1d>][line:30][INFO] [0.1503431  0.2803077  0.14606968 0.1737053  0.11315969 0.\n",
            " 0.21336032 0.3340081  0.37449393 0.40285714 0.31884058 0.        ]\n",
            "[2021-08-06 20:51:15,528][<ipython-input-49-0825c7523d1d>][line:40][INFO] \n",
            "No pseudolabel training for this cycle ...\n",
            "[2021-08-06 20:51:15,530][<ipython-input-49-0825c7523d1d>][line:42][INFO] \n",
            "Active Learning Cycle 1\n",
            "[2021-08-06 20:51:15,533][<ipython-input-49-0825c7523d1d>][line:117][INFO] \n",
            "No pseudolabel training for this cycle ...\n",
            "[2021-08-06 20:51:15,538][<ipython-input-49-0825c7523d1d>][line:140][INFO] Start training\n"
          ],
          "name": "stderr"
        },
        {
          "output_type": "stream",
          "text": [
            " Average Recall     (AR) @[ IoU=0.50:0.95 | area= small | maxDets=100 ] = 0.403\n",
            " Average Recall     (AR) @[ IoU=0.50:0.95 | area=medium | maxDets=100 ] = 0.319\n",
            " Average Recall     (AR) @[ IoU=0.50:0.95 | area= large | maxDets=100 ] = 0.000\n",
            "Cycle:[1] Epoch: [0]  [  0/239]  eta: 0:05:12  task_lr: 0.000002  task_loss: 0.1329 (0.1329)  time: 1.3086  data: 0.3750  max mem: 5003\n",
            "Cycle:[1] Epoch: [0]  [100/239]  eta: 0:02:08  task_lr: 0.000127  task_loss: 0.1431 (0.1584)  time: 0.9192  data: 0.0145  max mem: 5003\n",
            "Cycle:[1] Epoch: [0]  [200/239]  eta: 0:00:35  task_lr: 0.000253  task_loss: 0.1434 (0.1594)  time: 0.9200  data: 0.0150  max mem: 5003\n",
            "Cycle:[1] Epoch: [0]  [238/239]  eta: 0:00:00  task_lr: 0.000300  task_loss: 0.1766 (0.1604)  time: 0.9212  data: 0.0158  max mem: 5003\n",
            "Cycle:[1] Epoch: [0] Total time: 0:03:40 (0.9232 s / it)\n",
            "creating index...\n",
            "index created!\n",
            "Test:  [  0/239]  eta: 0:01:12  model_time: 0.0956 (0.0956)  evaluator_time: 0.0046 (0.0046)  time: 0.3020  data: 0.1995  max mem: 5003\n",
            "Test:  [100/239]  eta: 0:00:12  model_time: 0.0829 (0.0831)  evaluator_time: 0.0018 (0.0018)  time: 0.0899  data: 0.0037  max mem: 5003\n",
            "Test:  [200/239]  eta: 0:00:03  model_time: 0.0828 (0.0830)  evaluator_time: 0.0019 (0.0018)  time: 0.0901  data: 0.0039  max mem: 5003\n"
          ],
          "name": "stdout"
        },
        {
          "output_type": "stream",
          "text": [
            "[2021-08-06 20:55:54,251][<ipython-input-49-0825c7523d1d>][line:153][INFO] [0.18996774 0.35615212 0.15492781 0.2043082  0.19829454 0.\n",
            " 0.25454545 0.36652893 0.37438017 0.40898876 0.29180328 0.        ]\n",
            "[2021-08-06 20:55:54,253][<ipython-input-49-0825c7523d1d>][line:159][INFO] Saving best checkpoints for mAP 0.189968\n"
          ],
          "name": "stderr"
        },
        {
          "output_type": "stream",
          "text": [
            "Test:  [238/239]  eta: 0:00:00  model_time: 0.0831 (0.0831)  evaluator_time: 0.0017 (0.0018)  time: 0.0906  data: 0.0039  max mem: 5003\n",
            "Test: Total time: 0:00:21 (0.0917 s / it)\n",
            "Averaged stats: model_time: 0.0831 (0.0831)  evaluator_time: 0.0017 (0.0018)\n",
            "Accumulating evaluation results...\n",
            "DONE (t=0.05s).\n",
            "IoU metric: bbox\n",
            " Average Precision  (AP) @[ IoU=0.50:0.95 | area=   all | maxDets=100 ] = 0.190\n",
            " Average Precision  (AP) @[ IoU=0.50      | area=   all | maxDets=100 ] = 0.356\n",
            " Average Precision  (AP) @[ IoU=0.75      | area=   all | maxDets=100 ] = 0.155\n",
            " Average Precision  (AP) @[ IoU=0.50:0.95 | area= small | maxDets=100 ] = 0.204\n",
            " Average Precision  (AP) @[ IoU=0.50:0.95 | area=medium | maxDets=100 ] = 0.198\n",
            " Average Precision  (AP) @[ IoU=0.50:0.95 | area= large | maxDets=100 ] = 0.000\n",
            " Average Recall     (AR) @[ IoU=0.50:0.95 | area=   all | maxDets=  1 ] = 0.255\n",
            " Average Recall     (AR) @[ IoU=0.50:0.95 | area=   all | maxDets= 10 ] = 0.367\n",
            " Average Recall     (AR) @[ IoU=0.50:0.95 | area=   all | maxDets=100 ] = 0.374\n",
            " Average Recall     (AR) @[ IoU=0.50:0.95 | area= small | maxDets=100 ] = 0.409\n",
            " Average Recall     (AR) @[ IoU=0.50:0.95 | area=medium | maxDets=100 ] = 0.292\n",
            " Average Recall     (AR) @[ IoU=0.50:0.95 | area= large | maxDets=100 ] = 0.000\n",
            "Cycle:[1] Epoch: [1]  [  0/239]  eta: 0:05:14  task_lr: 0.000300  task_loss: 0.1953 (0.1953)  time: 1.3172  data: 0.4004  max mem: 5003\n",
            "Cycle:[1] Epoch: [1]  [100/239]  eta: 0:02:08  task_lr: 0.000300  task_loss: 0.1552 (0.1672)  time: 0.9208  data: 0.0153  max mem: 5003\n",
            "Cycle:[1] Epoch: [1]  [200/239]  eta: 0:00:35  task_lr: 0.000300  task_loss: 0.1429 (0.1659)  time: 0.9195  data: 0.0143  max mem: 5003\n",
            "Cycle:[1] Epoch: [1]  [238/239]  eta: 0:00:00  task_lr: 0.000300  task_loss: 0.1430 (0.1647)  time: 0.9195  data: 0.0147  max mem: 5003\n",
            "Cycle:[1] Epoch: [1] Total time: 0:03:40 (0.9225 s / it)\n",
            "creating index...\n",
            "index created!\n",
            "Test:  [  0/239]  eta: 0:01:16  model_time: 0.0983 (0.0983)  evaluator_time: 0.0043 (0.0043)  time: 0.3198  data: 0.2134  max mem: 5003\n",
            "Test:  [100/239]  eta: 0:00:12  model_time: 0.0827 (0.0834)  evaluator_time: 0.0016 (0.0016)  time: 0.0921  data: 0.0040  max mem: 5003\n",
            "Test:  [200/239]  eta: 0:00:03  model_time: 0.0828 (0.0832)  evaluator_time: 0.0017 (0.0016)  time: 0.0920  data: 0.0042  max mem: 5003\n"
          ],
          "name": "stdout"
        },
        {
          "output_type": "stream",
          "text": [
            "[2021-08-06 21:00:35,142][<ipython-input-49-0825c7523d1d>][line:153][INFO] [0.08595243 0.30652017 0.02914021 0.08786223 0.09211022 0.\n",
            " 0.14049587 0.23760331 0.23760331 0.2247191  0.28688525 0.        ]\n",
            "[2021-08-06 21:00:35,143][<ipython-input-49-0825c7523d1d>][line:163][INFO] No improvement. \n"
          ],
          "name": "stderr"
        },
        {
          "output_type": "stream",
          "text": [
            "Test:  [238/239]  eta: 0:00:00  model_time: 0.0828 (0.0832)  evaluator_time: 0.0016 (0.0016)  time: 0.0899  data: 0.0038  max mem: 5003\n",
            "Test: Total time: 0:00:22 (0.0928 s / it)\n",
            "Averaged stats: model_time: 0.0828 (0.0832)  evaluator_time: 0.0016 (0.0016)\n",
            "Accumulating evaluation results...\n",
            "DONE (t=0.03s).\n",
            "IoU metric: bbox\n",
            " Average Precision  (AP) @[ IoU=0.50:0.95 | area=   all | maxDets=100 ] = 0.086\n",
            " Average Precision  (AP) @[ IoU=0.50      | area=   all | maxDets=100 ] = 0.307\n",
            " Average Precision  (AP) @[ IoU=0.75      | area=   all | maxDets=100 ] = 0.029\n",
            " Average Precision  (AP) @[ IoU=0.50:0.95 | area= small | maxDets=100 ] = 0.088\n",
            " Average Precision  (AP) @[ IoU=0.50:0.95 | area=medium | maxDets=100 ] = 0.092\n",
            " Average Precision  (AP) @[ IoU=0.50:0.95 | area= large | maxDets=100 ] = 0.000\n",
            " Average Recall     (AR) @[ IoU=0.50:0.95 | area=   all | maxDets=  1 ] = 0.140\n",
            " Average Recall     (AR) @[ IoU=0.50:0.95 | area=   all | maxDets= 10 ] = 0.238\n",
            " Average Recall     (AR) @[ IoU=0.50:0.95 | area=   all | maxDets=100 ] = 0.238\n",
            " Average Recall     (AR) @[ IoU=0.50:0.95 | area= small | maxDets=100 ] = 0.225\n",
            " Average Recall     (AR) @[ IoU=0.50:0.95 | area=medium | maxDets=100 ] = 0.287\n",
            " Average Recall     (AR) @[ IoU=0.50:0.95 | area= large | maxDets=100 ] = 0.000\n",
            "Cycle:[1] Epoch: [2]  [  0/239]  eta: 0:05:17  task_lr: 0.000299  task_loss: 0.1256 (0.1256)  time: 1.3303  data: 0.4020  max mem: 5003\n",
            "Cycle:[1] Epoch: [2]  [100/239]  eta: 0:02:08  task_lr: 0.000299  task_loss: 0.1323 (0.1605)  time: 0.9221  data: 0.0161  max mem: 5003\n",
            "Cycle:[1] Epoch: [2]  [200/239]  eta: 0:00:36  task_lr: 0.000299  task_loss: 0.1450 (0.1582)  time: 0.9211  data: 0.0154  max mem: 5003\n",
            "Cycle:[1] Epoch: [2]  [238/239]  eta: 0:00:00  task_lr: 0.000299  task_loss: 0.1462 (0.1555)  time: 0.9200  data: 0.0148  max mem: 5003\n",
            "Cycle:[1] Epoch: [2] Total time: 0:03:40 (0.9237 s / it)\n",
            "creating index...\n",
            "index created!\n",
            "Test:  [  0/239]  eta: 0:01:17  model_time: 0.0940 (0.0940)  evaluator_time: 0.0055 (0.0055)  time: 0.3241  data: 0.2225  max mem: 5003\n",
            "Test:  [100/239]  eta: 0:00:13  model_time: 0.0831 (0.0836)  evaluator_time: 0.0022 (0.0024)  time: 0.0918  data: 0.0045  max mem: 5003\n",
            "Test:  [200/239]  eta: 0:00:03  model_time: 0.0829 (0.0833)  evaluator_time: 0.0023 (0.0024)  time: 0.0921  data: 0.0041  max mem: 5003\n",
            "Test:  [238/239]  eta: 0:00:00  model_time: 0.0828 (0.0833)  evaluator_time: 0.0021 (0.0024)  time: 0.0923  data: 0.0044  max mem: 5003\n",
            "Test: Total time: 0:00:22 (0.0934 s / it)\n",
            "Averaged stats: model_time: 0.0828 (0.0833)  evaluator_time: 0.0021 (0.0024)\n",
            "Accumulating evaluation results...\n",
            "DONE (t=0.07s).\n",
            "IoU metric: bbox\n",
            " Average Precision  (AP) @[ IoU=0.50:0.95 | area=   all | maxDets=100 ] = 0.227\n",
            " Average Precision  (AP) @[ IoU=0.50      | area=   all | maxDets=100 ] = 0.415\n",
            " Average Precision  (AP) @[ IoU=0.75      | area=   all | maxDets=100 ] = 0.218\n",
            " Average Precision  (AP) @[ IoU=0.50:0.95 | area= small | maxDets=100 ] = 0.243\n",
            " Average Precision  (AP) @[ IoU=0.50:0.95 | area=medium | maxDets=100 ] = 0.209\n",
            " Average Precision  (AP) @[ IoU=0.50:0.95 | area= large | maxDets=100 ] = 0.000\n",
            " Average Recall     (AR) @[ IoU=0.50:0.95 | area=   all | maxDets=  1 ] = 0.306\n",
            " Average Recall     (AR) @[ IoU=0.50:0.95 | area=   all | maxDets= 10 ] = 0.432\n",
            " Average Recall     (AR) @[ IoU=0.50:0.95 | area=   all | maxDets=100 ] = 0.458\n",
            " Average Recall     (AR) @[ IoU=0.50:0.95 | area= small | maxDets=100 ] = 0.474\n",
            " Average Recall     (AR) @[ IoU=0.50:0.95 | area=medium | maxDets=100 ] = 0.436\n",
            " Average Recall     (AR) @[ IoU=0.50:0.95 | area= large | maxDets=100 ] = 0.000\n"
          ],
          "name": "stdout"
        },
        {
          "output_type": "stream",
          "text": [
            "[2021-08-06 21:05:15,994][<ipython-input-49-0825c7523d1d>][line:153][INFO] [0.22673107 0.41517486 0.21782632 0.2433083  0.20914738 0.\n",
            " 0.30578512 0.43181818 0.45826446 0.47359551 0.43606557 0.        ]\n",
            "[2021-08-06 21:05:15,999][<ipython-input-49-0825c7523d1d>][line:159][INFO] Saving best checkpoints for mAP 0.226731\n"
          ],
          "name": "stderr"
        },
        {
          "output_type": "stream",
          "text": [
            "Cycle:[1] Epoch: [3]  [  0/239]  eta: 0:05:03  task_lr: 0.000298  task_loss: 0.0870 (0.0870)  time: 1.2718  data: 0.3506  max mem: 5003\n",
            "Cycle:[1] Epoch: [3]  [100/239]  eta: 0:02:08  task_lr: 0.000298  task_loss: 0.1206 (0.1562)  time: 0.9198  data: 0.0152  max mem: 5003\n",
            "Cycle:[1] Epoch: [3]  [200/239]  eta: 0:00:35  task_lr: 0.000298  task_loss: 0.1452 (0.1533)  time: 0.9216  data: 0.0166  max mem: 5003\n",
            "Cycle:[1] Epoch: [3]  [238/239]  eta: 0:00:00  task_lr: 0.000298  task_loss: 0.1356 (0.1526)  time: 0.9169  data: 0.0141  max mem: 5003\n",
            "Cycle:[1] Epoch: [3] Total time: 0:03:40 (0.9218 s / it)\n",
            "creating index...\n",
            "index created!\n",
            "Test:  [  0/239]  eta: 0:01:15  model_time: 0.0963 (0.0963)  evaluator_time: 0.0054 (0.0054)  time: 0.3147  data: 0.2109  max mem: 5003\n",
            "Test:  [100/239]  eta: 0:00:13  model_time: 0.0830 (0.0836)  evaluator_time: 0.0021 (0.0022)  time: 0.0932  data: 0.0043  max mem: 5003\n",
            "Test:  [200/239]  eta: 0:00:03  model_time: 0.0832 (0.0834)  evaluator_time: 0.0023 (0.0022)  time: 0.0921  data: 0.0042  max mem: 5003\n",
            "Test:  [238/239]  eta: 0:00:00  model_time: 0.0831 (0.0834)  evaluator_time: 0.0020 (0.0022)  time: 0.0916  data: 0.0042  max mem: 5003\n",
            "Test: Total time: 0:00:22 (0.0935 s / it)\n",
            "Averaged stats: model_time: 0.0831 (0.0834)  evaluator_time: 0.0020 (0.0022)\n",
            "Accumulating evaluation results...\n",
            "DONE (t=0.06s).\n",
            "IoU metric: bbox\n",
            " Average Precision  (AP) @[ IoU=0.50:0.95 | area=   all | maxDets=100 ] = 0.211\n",
            " Average Precision  (AP) @[ IoU=0.50      | area=   all | maxDets=100 ] = 0.390\n",
            " Average Precision  (AP) @[ IoU=0.75      | area=   all | maxDets=100 ] = 0.196\n",
            " Average Precision  (AP) @[ IoU=0.50:0.95 | area= small | maxDets=100 ] = 0.216\n",
            " Average Precision  (AP) @[ IoU=0.50:0.95 | area=medium | maxDets=100 ] = 0.231\n",
            " Average Precision  (AP) @[ IoU=0.50:0.95 | area= large | maxDets=100 ] = 0.000\n",
            " Average Recall     (AR) @[ IoU=0.50:0.95 | area=   all | maxDets=  1 ] = 0.280\n",
            " Average Recall     (AR) @[ IoU=0.50:0.95 | area=   all | maxDets= 10 ] = 0.403\n",
            " Average Recall     (AR) @[ IoU=0.50:0.95 | area=   all | maxDets=100 ] = 0.410\n",
            " Average Recall     (AR) @[ IoU=0.50:0.95 | area= small | maxDets=100 ] = 0.421\n",
            " Average Recall     (AR) @[ IoU=0.50:0.95 | area=medium | maxDets=100 ] = 0.398\n",
            " Average Recall     (AR) @[ IoU=0.50:0.95 | area= large | maxDets=100 ] = 0.000\n"
          ],
          "name": "stdout"
        },
        {
          "output_type": "stream",
          "text": [
            "[2021-08-06 21:09:56,490][<ipython-input-49-0825c7523d1d>][line:153][INFO] [0.21060588 0.39004261 0.19642749 0.21565936 0.23075854 0.\n",
            " 0.28016529 0.40330579 0.40991736 0.42078652 0.39836066 0.        ]\n",
            "[2021-08-06 21:09:56,497][<ipython-input-49-0825c7523d1d>][line:163][INFO] No improvement. \n"
          ],
          "name": "stderr"
        },
        {
          "output_type": "stream",
          "text": [
            "Cycle:[1] Epoch: [4]  [  0/239]  eta: 0:05:14  task_lr: 0.000297  task_loss: 0.1329 (0.1329)  time: 1.3144  data: 0.3923  max mem: 5003\n",
            "Cycle:[1] Epoch: [4]  [100/239]  eta: 0:02:08  task_lr: 0.000297  task_loss: 0.1488 (0.1482)  time: 0.9181  data: 0.0140  max mem: 5003\n",
            "Cycle:[1] Epoch: [4]  [200/239]  eta: 0:00:35  task_lr: 0.000297  task_loss: 0.1301 (0.1490)  time: 0.9211  data: 0.0153  max mem: 5003\n",
            "Cycle:[1] Epoch: [4]  [238/239]  eta: 0:00:00  task_lr: 0.000297  task_loss: 0.1494 (0.1483)  time: 0.9182  data: 0.0147  max mem: 5003\n",
            "Cycle:[1] Epoch: [4] Total time: 0:03:40 (0.9216 s / it)\n",
            "creating index...\n",
            "index created!\n",
            "Test:  [  0/239]  eta: 0:01:18  model_time: 0.0998 (0.0998)  evaluator_time: 0.0078 (0.0078)  time: 0.3273  data: 0.2175  max mem: 5003\n",
            "Test:  [100/239]  eta: 0:00:13  model_time: 0.0832 (0.0836)  evaluator_time: 0.0022 (0.0024)  time: 0.0914  data: 0.0040  max mem: 5003\n",
            "Test:  [200/239]  eta: 0:00:03  model_time: 0.0827 (0.0833)  evaluator_time: 0.0022 (0.0023)  time: 0.0902  data: 0.0036  max mem: 5003\n",
            "Test:  [238/239]  eta: 0:00:00  model_time: 0.0826 (0.0832)  evaluator_time: 0.0020 (0.0023)  time: 0.0900  data: 0.0037  max mem: 5003\n",
            "Test: Total time: 0:00:22 (0.0923 s / it)\n",
            "Averaged stats: model_time: 0.0826 (0.0832)  evaluator_time: 0.0020 (0.0023)\n",
            "Accumulating evaluation results...\n",
            "DONE (t=0.06s).\n",
            "IoU metric: bbox\n",
            " Average Precision  (AP) @[ IoU=0.50:0.95 | area=   all | maxDets=100 ] = 0.170\n",
            " Average Precision  (AP) @[ IoU=0.50      | area=   all | maxDets=100 ] = 0.394\n",
            " Average Precision  (AP) @[ IoU=0.75      | area=   all | maxDets=100 ] = 0.104\n",
            " Average Precision  (AP) @[ IoU=0.50:0.95 | area= small | maxDets=100 ] = 0.183\n",
            " Average Precision  (AP) @[ IoU=0.50:0.95 | area=medium | maxDets=100 ] = 0.156\n",
            " Average Precision  (AP) @[ IoU=0.50:0.95 | area= large | maxDets=100 ] = 0.000\n",
            " Average Recall     (AR) @[ IoU=0.50:0.95 | area=   all | maxDets=  1 ] = 0.242\n",
            " Average Recall     (AR) @[ IoU=0.50:0.95 | area=   all | maxDets= 10 ] = 0.339\n",
            " Average Recall     (AR) @[ IoU=0.50:0.95 | area=   all | maxDets=100 ] = 0.359\n",
            " Average Recall     (AR) @[ IoU=0.50:0.95 | area= small | maxDets=100 ] = 0.350\n",
            " Average Recall     (AR) @[ IoU=0.50:0.95 | area=medium | maxDets=100 ] = 0.402\n",
            " Average Recall     (AR) @[ IoU=0.50:0.95 | area= large | maxDets=100 ] = 0.000\n"
          ],
          "name": "stdout"
        },
        {
          "output_type": "stream",
          "text": [
            "[2021-08-06 21:14:34,995][<ipython-input-49-0825c7523d1d>][line:153][INFO] [0.16985866 0.39365402 0.10380916 0.18344115 0.15640923 0.\n",
            " 0.24214876 0.3392562  0.35867769 0.35       0.40163934 0.        ]\n",
            "[2021-08-06 21:14:35,001][<ipython-input-49-0825c7523d1d>][line:163][INFO] No improvement. \n"
          ],
          "name": "stderr"
        },
        {
          "output_type": "stream",
          "text": [
            "Cycle:[1] Epoch: [5]  [  0/239]  eta: 0:05:14  task_lr: 0.000295  task_loss: 0.2767 (0.2767)  time: 1.3157  data: 0.3982  max mem: 5003\n",
            "Cycle:[1] Epoch: [5]  [100/239]  eta: 0:02:08  task_lr: 0.000295  task_loss: 0.1379 (0.1572)  time: 0.9201  data: 0.0148  max mem: 5003\n",
            "Cycle:[1] Epoch: [5]  [200/239]  eta: 0:00:35  task_lr: 0.000295  task_loss: 0.1461 (0.1550)  time: 0.9190  data: 0.0140  max mem: 5003\n",
            "Cycle:[1] Epoch: [5]  [238/239]  eta: 0:00:00  task_lr: 0.000295  task_loss: 0.1602 (0.1559)  time: 0.9196  data: 0.0140  max mem: 5003\n",
            "Cycle:[1] Epoch: [5] Total time: 0:03:40 (0.9218 s / it)\n",
            "creating index...\n",
            "index created!\n",
            "Test:  [  0/239]  eta: 0:01:15  model_time: 0.0966 (0.0966)  evaluator_time: 0.0061 (0.0061)  time: 0.3169  data: 0.2119  max mem: 5003\n",
            "Test:  [100/239]  eta: 0:00:12  model_time: 0.0830 (0.0833)  evaluator_time: 0.0028 (0.0027)  time: 0.0916  data: 0.0038  max mem: 5003\n",
            "Test:  [200/239]  eta: 0:00:03  model_time: 0.0832 (0.0832)  evaluator_time: 0.0028 (0.0028)  time: 0.0917  data: 0.0040  max mem: 5003\n",
            "Test:  [238/239]  eta: 0:00:00  model_time: 0.0829 (0.0833)  evaluator_time: 0.0026 (0.0028)  time: 0.0912  data: 0.0039  max mem: 5003\n",
            "Test: Total time: 0:00:22 (0.0928 s / it)\n",
            "Averaged stats: model_time: 0.0829 (0.0833)  evaluator_time: 0.0026 (0.0028)\n",
            "Accumulating evaluation results...\n"
          ],
          "name": "stdout"
        },
        {
          "output_type": "stream",
          "text": [
            "[2021-08-06 21:19:13,371][<ipython-input-49-0825c7523d1d>][line:153][INFO] [0.21335708 0.3845934  0.24117264 0.23027639 0.20643511 0.\n",
            " 0.27892562 0.42438017 0.45371901 0.46797753 0.43442623 0.        ]\n",
            "[2021-08-06 21:19:13,373][<ipython-input-49-0825c7523d1d>][line:163][INFO] No improvement. \n"
          ],
          "name": "stderr"
        },
        {
          "output_type": "stream",
          "text": [
            "DONE (t=0.08s).\n",
            "IoU metric: bbox\n",
            " Average Precision  (AP) @[ IoU=0.50:0.95 | area=   all | maxDets=100 ] = 0.213\n",
            " Average Precision  (AP) @[ IoU=0.50      | area=   all | maxDets=100 ] = 0.385\n",
            " Average Precision  (AP) @[ IoU=0.75      | area=   all | maxDets=100 ] = 0.241\n",
            " Average Precision  (AP) @[ IoU=0.50:0.95 | area= small | maxDets=100 ] = 0.230\n",
            " Average Precision  (AP) @[ IoU=0.50:0.95 | area=medium | maxDets=100 ] = 0.206\n",
            " Average Precision  (AP) @[ IoU=0.50:0.95 | area= large | maxDets=100 ] = 0.000\n",
            " Average Recall     (AR) @[ IoU=0.50:0.95 | area=   all | maxDets=  1 ] = 0.279\n",
            " Average Recall     (AR) @[ IoU=0.50:0.95 | area=   all | maxDets= 10 ] = 0.424\n",
            " Average Recall     (AR) @[ IoU=0.50:0.95 | area=   all | maxDets=100 ] = 0.454\n",
            " Average Recall     (AR) @[ IoU=0.50:0.95 | area= small | maxDets=100 ] = 0.468\n",
            " Average Recall     (AR) @[ IoU=0.50:0.95 | area=medium | maxDets=100 ] = 0.434\n",
            " Average Recall     (AR) @[ IoU=0.50:0.95 | area= large | maxDets=100 ] = 0.000\n",
            "Cycle:[1] Epoch: [6]  [  0/239]  eta: 0:05:19  task_lr: 0.000293  task_loss: 0.1810 (0.1810)  time: 1.3372  data: 0.4107  max mem: 5003\n",
            "Cycle:[1] Epoch: [6]  [100/239]  eta: 0:02:08  task_lr: 0.000293  task_loss: 0.1455 (0.1537)  time: 0.9213  data: 0.0162  max mem: 5003\n",
            "Cycle:[1] Epoch: [6]  [200/239]  eta: 0:00:35  task_lr: 0.000293  task_loss: 0.1342 (0.1542)  time: 0.9190  data: 0.0152  max mem: 5003\n",
            "Cycle:[1] Epoch: [6]  [238/239]  eta: 0:00:00  task_lr: 0.000293  task_loss: 0.1220 (0.1511)  time: 0.9185  data: 0.0146  max mem: 5003\n",
            "Cycle:[1] Epoch: [6] Total time: 0:03:40 (0.9222 s / it)\n",
            "creating index...\n",
            "index created!\n",
            "Test:  [  0/239]  eta: 0:01:13  model_time: 0.0978 (0.0978)  evaluator_time: 0.0053 (0.0053)  time: 0.3059  data: 0.2007  max mem: 5003\n",
            "Test:  [100/239]  eta: 0:00:12  model_time: 0.0826 (0.0830)  evaluator_time: 0.0017 (0.0017)  time: 0.0897  data: 0.0039  max mem: 5003\n",
            "Test:  [200/239]  eta: 0:00:03  model_time: 0.0826 (0.0828)  evaluator_time: 0.0016 (0.0017)  time: 0.0895  data: 0.0037  max mem: 5003\n"
          ],
          "name": "stdout"
        },
        {
          "output_type": "stream",
          "text": [
            "[2021-08-06 21:23:52,112][<ipython-input-49-0825c7523d1d>][line:153][INFO] [0.23193717 0.40698083 0.25017504 0.23555125 0.28560775 0.\n",
            " 0.32561983 0.42396694 0.42396694 0.43651685 0.40819672 0.        ]\n",
            "[2021-08-06 21:23:52,114][<ipython-input-49-0825c7523d1d>][line:159][INFO] Saving best checkpoints for mAP 0.231937\n"
          ],
          "name": "stderr"
        },
        {
          "output_type": "stream",
          "text": [
            "Test:  [238/239]  eta: 0:00:00  model_time: 0.0825 (0.0828)  evaluator_time: 0.0016 (0.0017)  time: 0.0891  data: 0.0035  max mem: 5003\n",
            "Test: Total time: 0:00:21 (0.0910 s / it)\n",
            "Averaged stats: model_time: 0.0825 (0.0828)  evaluator_time: 0.0016 (0.0017)\n",
            "Accumulating evaluation results...\n",
            "DONE (t=0.04s).\n",
            "IoU metric: bbox\n",
            " Average Precision  (AP) @[ IoU=0.50:0.95 | area=   all | maxDets=100 ] = 0.232\n",
            " Average Precision  (AP) @[ IoU=0.50      | area=   all | maxDets=100 ] = 0.407\n",
            " Average Precision  (AP) @[ IoU=0.75      | area=   all | maxDets=100 ] = 0.250\n",
            " Average Precision  (AP) @[ IoU=0.50:0.95 | area= small | maxDets=100 ] = 0.236\n",
            " Average Precision  (AP) @[ IoU=0.50:0.95 | area=medium | maxDets=100 ] = 0.286\n",
            " Average Precision  (AP) @[ IoU=0.50:0.95 | area= large | maxDets=100 ] = 0.000\n",
            " Average Recall     (AR) @[ IoU=0.50:0.95 | area=   all | maxDets=  1 ] = 0.326\n",
            " Average Recall     (AR) @[ IoU=0.50:0.95 | area=   all | maxDets= 10 ] = 0.424\n",
            " Average Recall     (AR) @[ IoU=0.50:0.95 | area=   all | maxDets=100 ] = 0.424\n",
            " Average Recall     (AR) @[ IoU=0.50:0.95 | area= small | maxDets=100 ] = 0.437\n",
            " Average Recall     (AR) @[ IoU=0.50:0.95 | area=medium | maxDets=100 ] = 0.408\n",
            " Average Recall     (AR) @[ IoU=0.50:0.95 | area= large | maxDets=100 ] = 0.000\n",
            "Cycle:[1] Epoch: [7]  [  0/239]  eta: 0:05:06  task_lr: 0.000290  task_loss: 0.1882 (0.1882)  time: 1.2811  data: 0.3693  max mem: 5003\n",
            "Cycle:[1] Epoch: [7]  [100/239]  eta: 0:02:08  task_lr: 0.000290  task_loss: 0.1340 (0.1483)  time: 0.9202  data: 0.0152  max mem: 5003\n",
            "Cycle:[1] Epoch: [7]  [200/239]  eta: 0:00:35  task_lr: 0.000290  task_loss: 0.1598 (0.1484)  time: 0.9218  data: 0.0156  max mem: 5003\n",
            "Cycle:[1] Epoch: [7]  [238/239]  eta: 0:00:00  task_lr: 0.000290  task_loss: 0.1449 (0.1507)  time: 0.9182  data: 0.0145  max mem: 5003\n",
            "Cycle:[1] Epoch: [7] Total time: 0:03:40 (0.9223 s / it)\n",
            "creating index...\n",
            "index created!\n",
            "Test:  [  0/239]  eta: 0:01:15  model_time: 0.0949 (0.0949)  evaluator_time: 0.0053 (0.0053)  time: 0.3158  data: 0.2135  max mem: 5003\n",
            "Test:  [100/239]  eta: 0:00:12  model_time: 0.0830 (0.0831)  evaluator_time: 0.0017 (0.0018)  time: 0.0900  data: 0.0037  max mem: 5003\n",
            "Test:  [200/239]  eta: 0:00:03  model_time: 0.0826 (0.0829)  evaluator_time: 0.0017 (0.0018)  time: 0.0898  data: 0.0036  max mem: 5003\n"
          ],
          "name": "stdout"
        },
        {
          "output_type": "stream",
          "text": [
            "[2021-08-06 21:28:31,813][<ipython-input-49-0825c7523d1d>][line:153][INFO] [0.22621365 0.41678946 0.22360067 0.22762482 0.25127276 0.\n",
            " 0.29090909 0.40785124 0.40785124 0.40842697 0.42622951 0.        ]\n",
            "[2021-08-06 21:28:31,814][<ipython-input-49-0825c7523d1d>][line:163][INFO] No improvement. \n"
          ],
          "name": "stderr"
        },
        {
          "output_type": "stream",
          "text": [
            "Test:  [238/239]  eta: 0:00:00  model_time: 0.0826 (0.0829)  evaluator_time: 0.0016 (0.0018)  time: 0.0890  data: 0.0035  max mem: 5003\n",
            "Test: Total time: 0:00:21 (0.0914 s / it)\n",
            "Averaged stats: model_time: 0.0826 (0.0829)  evaluator_time: 0.0016 (0.0018)\n",
            "Accumulating evaluation results...\n",
            "DONE (t=0.05s).\n",
            "IoU metric: bbox\n",
            " Average Precision  (AP) @[ IoU=0.50:0.95 | area=   all | maxDets=100 ] = 0.226\n",
            " Average Precision  (AP) @[ IoU=0.50      | area=   all | maxDets=100 ] = 0.417\n",
            " Average Precision  (AP) @[ IoU=0.75      | area=   all | maxDets=100 ] = 0.224\n",
            " Average Precision  (AP) @[ IoU=0.50:0.95 | area= small | maxDets=100 ] = 0.228\n",
            " Average Precision  (AP) @[ IoU=0.50:0.95 | area=medium | maxDets=100 ] = 0.251\n",
            " Average Precision  (AP) @[ IoU=0.50:0.95 | area= large | maxDets=100 ] = 0.000\n",
            " Average Recall     (AR) @[ IoU=0.50:0.95 | area=   all | maxDets=  1 ] = 0.291\n",
            " Average Recall     (AR) @[ IoU=0.50:0.95 | area=   all | maxDets= 10 ] = 0.408\n",
            " Average Recall     (AR) @[ IoU=0.50:0.95 | area=   all | maxDets=100 ] = 0.408\n",
            " Average Recall     (AR) @[ IoU=0.50:0.95 | area= small | maxDets=100 ] = 0.408\n",
            " Average Recall     (AR) @[ IoU=0.50:0.95 | area=medium | maxDets=100 ] = 0.426\n",
            " Average Recall     (AR) @[ IoU=0.50:0.95 | area= large | maxDets=100 ] = 0.000\n",
            "Cycle:[1] Epoch: [8]  [  0/239]  eta: 0:05:07  task_lr: 0.000287  task_loss: 0.1007 (0.1007)  time: 1.2881  data: 0.3624  max mem: 5003\n",
            "Cycle:[1] Epoch: [8]  [100/239]  eta: 0:02:08  task_lr: 0.000287  task_loss: 0.1428 (0.1539)  time: 0.9191  data: 0.0146  max mem: 5003\n",
            "Cycle:[1] Epoch: [8]  [200/239]  eta: 0:00:35  task_lr: 0.000287  task_loss: 0.1348 (0.1546)  time: 0.9193  data: 0.0144  max mem: 5003\n",
            "Cycle:[1] Epoch: [8]  [238/239]  eta: 0:00:00  task_lr: 0.000287  task_loss: 0.1661 (0.1547)  time: 0.9194  data: 0.0143  max mem: 5003\n",
            "Cycle:[1] Epoch: [8] Total time: 0:03:40 (0.9218 s / it)\n",
            "creating index...\n",
            "index created!\n",
            "Test:  [  0/239]  eta: 0:01:19  model_time: 0.0946 (0.0946)  evaluator_time: 0.0059 (0.0059)  time: 0.3316  data: 0.2284  max mem: 5003\n",
            "Test:  [100/239]  eta: 0:00:13  model_time: 0.0830 (0.0836)  evaluator_time: 0.0022 (0.0022)  time: 0.0937  data: 0.0043  max mem: 5003\n",
            "Test:  [200/239]  eta: 0:00:03  model_time: 0.0830 (0.0842)  evaluator_time: 0.0022 (0.0023)  time: 0.1002  data: 0.0044  max mem: 5003\n",
            "Test:  [238/239]  eta: 0:00:00  model_time: 0.0826 (0.0840)  evaluator_time: 0.0019 (0.0022)  time: 0.0904  data: 0.0037  max mem: 5003\n",
            "Test: Total time: 0:00:22 (0.0944 s / it)\n",
            "Averaged stats: model_time: 0.0826 (0.0840)  evaluator_time: 0.0019 (0.0022)\n",
            "Accumulating evaluation results...\n"
          ],
          "name": "stdout"
        },
        {
          "output_type": "stream",
          "text": [
            "[2021-08-06 21:33:10,202][<ipython-input-49-0825c7523d1d>][line:153][INFO] [0.25199593 0.41959353 0.28515943 0.26574372 0.26903962 0.\n",
            " 0.34421488 0.45495868 0.46694215 0.48483146 0.43770492 0.        ]\n",
            "[2021-08-06 21:33:10,203][<ipython-input-49-0825c7523d1d>][line:159][INFO] Saving best checkpoints for mAP 0.251996\n"
          ],
          "name": "stderr"
        },
        {
          "output_type": "stream",
          "text": [
            "DONE (t=0.06s).\n",
            "IoU metric: bbox\n",
            " Average Precision  (AP) @[ IoU=0.50:0.95 | area=   all | maxDets=100 ] = 0.252\n",
            " Average Precision  (AP) @[ IoU=0.50      | area=   all | maxDets=100 ] = 0.420\n",
            " Average Precision  (AP) @[ IoU=0.75      | area=   all | maxDets=100 ] = 0.285\n",
            " Average Precision  (AP) @[ IoU=0.50:0.95 | area= small | maxDets=100 ] = 0.266\n",
            " Average Precision  (AP) @[ IoU=0.50:0.95 | area=medium | maxDets=100 ] = 0.269\n",
            " Average Precision  (AP) @[ IoU=0.50:0.95 | area= large | maxDets=100 ] = 0.000\n",
            " Average Recall     (AR) @[ IoU=0.50:0.95 | area=   all | maxDets=  1 ] = 0.344\n",
            " Average Recall     (AR) @[ IoU=0.50:0.95 | area=   all | maxDets= 10 ] = 0.455\n",
            " Average Recall     (AR) @[ IoU=0.50:0.95 | area=   all | maxDets=100 ] = 0.467\n",
            " Average Recall     (AR) @[ IoU=0.50:0.95 | area= small | maxDets=100 ] = 0.485\n",
            " Average Recall     (AR) @[ IoU=0.50:0.95 | area=medium | maxDets=100 ] = 0.438\n",
            " Average Recall     (AR) @[ IoU=0.50:0.95 | area= large | maxDets=100 ] = 0.000\n",
            "Cycle:[1] Epoch: [9]  [  0/239]  eta: 0:05:11  task_lr: 0.000284  task_loss: 0.1119 (0.1119)  time: 1.3047  data: 0.3858  max mem: 5003\n",
            "Cycle:[1] Epoch: [9]  [100/239]  eta: 0:02:08  task_lr: 0.000284  task_loss: 0.1354 (0.1523)  time: 0.9190  data: 0.0144  max mem: 5003\n",
            "Cycle:[1] Epoch: [9]  [200/239]  eta: 0:00:35  task_lr: 0.000284  task_loss: 0.1432 (0.1488)  time: 0.9223  data: 0.0154  max mem: 5003\n",
            "Cycle:[1] Epoch: [9]  [238/239]  eta: 0:00:00  task_lr: 0.000284  task_loss: 0.1277 (0.1478)  time: 0.9180  data: 0.0140  max mem: 5003\n",
            "Cycle:[1] Epoch: [9] Total time: 0:03:40 (0.9220 s / it)\n",
            "creating index...\n",
            "index created!\n",
            "Test:  [  0/239]  eta: 0:01:20  model_time: 0.0953 (0.0953)  evaluator_time: 0.0067 (0.0067)  time: 0.3363  data: 0.2313  max mem: 5003\n",
            "Test:  [100/239]  eta: 0:00:13  model_time: 0.0829 (0.0834)  evaluator_time: 0.0029 (0.0028)  time: 0.0914  data: 0.0039  max mem: 5003\n",
            "Test:  [200/239]  eta: 0:00:03  model_time: 0.0832 (0.0834)  evaluator_time: 0.0030 (0.0028)  time: 0.0917  data: 0.0040  max mem: 5003\n",
            "Test:  [238/239]  eta: 0:00:00  model_time: 0.0832 (0.0834)  evaluator_time: 0.0027 (0.0028)  time: 0.0916  data: 0.0040  max mem: 5003\n",
            "Test: Total time: 0:00:22 (0.0933 s / it)\n",
            "Averaged stats: model_time: 0.0832 (0.0834)  evaluator_time: 0.0027 (0.0028)\n",
            "Accumulating evaluation results...\n"
          ],
          "name": "stdout"
        },
        {
          "output_type": "stream",
          "text": [
            "[2021-08-06 21:37:50,608][<ipython-input-49-0825c7523d1d>][line:153][INFO] [0.16849391 0.42031094 0.08160757 0.1671828  0.1994822  0.\n",
            " 0.24008264 0.35041322 0.37975207 0.36235955 0.44918033 0.        ]\n",
            "[2021-08-06 21:37:50,609][<ipython-input-49-0825c7523d1d>][line:163][INFO] No improvement. \n"
          ],
          "name": "stderr"
        },
        {
          "output_type": "stream",
          "text": [
            "DONE (t=0.08s).\n",
            "IoU metric: bbox\n",
            " Average Precision  (AP) @[ IoU=0.50:0.95 | area=   all | maxDets=100 ] = 0.168\n",
            " Average Precision  (AP) @[ IoU=0.50      | area=   all | maxDets=100 ] = 0.420\n",
            " Average Precision  (AP) @[ IoU=0.75      | area=   all | maxDets=100 ] = 0.082\n",
            " Average Precision  (AP) @[ IoU=0.50:0.95 | area= small | maxDets=100 ] = 0.167\n",
            " Average Precision  (AP) @[ IoU=0.50:0.95 | area=medium | maxDets=100 ] = 0.199\n",
            " Average Precision  (AP) @[ IoU=0.50:0.95 | area= large | maxDets=100 ] = 0.000\n",
            " Average Recall     (AR) @[ IoU=0.50:0.95 | area=   all | maxDets=  1 ] = 0.240\n",
            " Average Recall     (AR) @[ IoU=0.50:0.95 | area=   all | maxDets= 10 ] = 0.350\n",
            " Average Recall     (AR) @[ IoU=0.50:0.95 | area=   all | maxDets=100 ] = 0.380\n",
            " Average Recall     (AR) @[ IoU=0.50:0.95 | area= small | maxDets=100 ] = 0.362\n",
            " Average Recall     (AR) @[ IoU=0.50:0.95 | area=medium | maxDets=100 ] = 0.449\n",
            " Average Recall     (AR) @[ IoU=0.50:0.95 | area= large | maxDets=100 ] = 0.000\n",
            "Cycle:[1] Epoch: [10]  [  0/239]  eta: 0:05:16  task_lr: 0.000280  task_loss: 0.1022 (0.1022)  time: 1.3233  data: 0.3918  max mem: 5003\n",
            "Cycle:[1] Epoch: [10]  [100/239]  eta: 0:02:08  task_lr: 0.000280  task_loss: 0.1431 (0.1449)  time: 0.9184  data: 0.0142  max mem: 5003\n",
            "Cycle:[1] Epoch: [10]  [200/239]  eta: 0:00:35  task_lr: 0.000280  task_loss: 0.1321 (0.1462)  time: 0.9183  data: 0.0145  max mem: 5003\n",
            "Cycle:[1] Epoch: [10]  [238/239]  eta: 0:00:00  task_lr: 0.000280  task_loss: 0.1272 (0.1454)  time: 0.9186  data: 0.0139  max mem: 5003\n",
            "Cycle:[1] Epoch: [10] Total time: 0:03:40 (0.9219 s / it)\n",
            "creating index...\n",
            "index created!\n",
            "Test:  [  0/239]  eta: 0:01:16  model_time: 0.0957 (0.0957)  evaluator_time: 0.0057 (0.0057)  time: 0.3211  data: 0.2174  max mem: 5003\n",
            "Test:  [100/239]  eta: 0:00:13  model_time: 0.0833 (0.0838)  evaluator_time: 0.0025 (0.0025)  time: 0.0924  data: 0.0044  max mem: 5003\n",
            "Test:  [200/239]  eta: 0:00:03  model_time: 0.0834 (0.0836)  evaluator_time: 0.0024 (0.0025)  time: 0.0914  data: 0.0040  max mem: 5003\n",
            "Test:  [238/239]  eta: 0:00:00  model_time: 0.0831 (0.0836)  evaluator_time: 0.0023 (0.0025)  time: 0.0907  data: 0.0039  max mem: 5003\n",
            "Test: Total time: 0:00:22 (0.0931 s / it)\n",
            "Averaged stats: model_time: 0.0831 (0.0836)  evaluator_time: 0.0023 (0.0025)\n",
            "Accumulating evaluation results...\n"
          ],
          "name": "stdout"
        },
        {
          "output_type": "stream",
          "text": [
            "[2021-08-06 21:42:28,928][<ipython-input-49-0825c7523d1d>][line:153][INFO] [0.23001632 0.42784067 0.19691576 0.23867021 0.25040863 0.\n",
            " 0.3177686  0.43305785 0.45330579 0.45955056 0.45737705 0.        ]\n",
            "[2021-08-06 21:42:28,930][<ipython-input-49-0825c7523d1d>][line:163][INFO] No improvement. \n"
          ],
          "name": "stderr"
        },
        {
          "output_type": "stream",
          "text": [
            "DONE (t=0.07s).\n",
            "IoU metric: bbox\n",
            " Average Precision  (AP) @[ IoU=0.50:0.95 | area=   all | maxDets=100 ] = 0.230\n",
            " Average Precision  (AP) @[ IoU=0.50      | area=   all | maxDets=100 ] = 0.428\n",
            " Average Precision  (AP) @[ IoU=0.75      | area=   all | maxDets=100 ] = 0.197\n",
            " Average Precision  (AP) @[ IoU=0.50:0.95 | area= small | maxDets=100 ] = 0.239\n",
            " Average Precision  (AP) @[ IoU=0.50:0.95 | area=medium | maxDets=100 ] = 0.250\n",
            " Average Precision  (AP) @[ IoU=0.50:0.95 | area= large | maxDets=100 ] = 0.000\n",
            " Average Recall     (AR) @[ IoU=0.50:0.95 | area=   all | maxDets=  1 ] = 0.318\n",
            " Average Recall     (AR) @[ IoU=0.50:0.95 | area=   all | maxDets= 10 ] = 0.433\n",
            " Average Recall     (AR) @[ IoU=0.50:0.95 | area=   all | maxDets=100 ] = 0.453\n",
            " Average Recall     (AR) @[ IoU=0.50:0.95 | area= small | maxDets=100 ] = 0.460\n",
            " Average Recall     (AR) @[ IoU=0.50:0.95 | area=medium | maxDets=100 ] = 0.457\n",
            " Average Recall     (AR) @[ IoU=0.50:0.95 | area= large | maxDets=100 ] = 0.000\n",
            "Cycle:[1] Epoch: [11]  [  0/239]  eta: 0:05:12  task_lr: 0.000276  task_loss: 0.1052 (0.1052)  time: 1.3075  data: 0.3867  max mem: 5003\n",
            "Cycle:[1] Epoch: [11]  [100/239]  eta: 0:02:08  task_lr: 0.000276  task_loss: 0.1396 (0.1400)  time: 0.9225  data: 0.0159  max mem: 5003\n",
            "Cycle:[1] Epoch: [11]  [200/239]  eta: 0:00:35  task_lr: 0.000276  task_loss: 0.1404 (0.1394)  time: 0.9189  data: 0.0146  max mem: 5003\n",
            "Cycle:[1] Epoch: [11]  [238/239]  eta: 0:00:00  task_lr: 0.000276  task_loss: 0.1363 (0.1394)  time: 0.9198  data: 0.0149  max mem: 5003\n",
            "Cycle:[1] Epoch: [11] Total time: 0:03:40 (0.9225 s / it)\n",
            "creating index...\n",
            "index created!\n",
            "Test:  [  0/239]  eta: 0:01:13  model_time: 0.0978 (0.0978)  evaluator_time: 0.0068 (0.0068)  time: 0.3094  data: 0.2025  max mem: 5003\n",
            "Test:  [100/239]  eta: 0:00:12  model_time: 0.0827 (0.0830)  evaluator_time: 0.0018 (0.0021)  time: 0.0903  data: 0.0039  max mem: 5003\n",
            "Test:  [200/239]  eta: 0:00:03  model_time: 0.0832 (0.0830)  evaluator_time: 0.0022 (0.0021)  time: 0.0910  data: 0.0040  max mem: 5003\n",
            "Test:  [238/239]  eta: 0:00:00  model_time: 0.0831 (0.0830)  evaluator_time: 0.0021 (0.0021)  time: 0.0907  data: 0.0039  max mem: 5003\n",
            "Test: Total time: 0:00:21 (0.0920 s / it)\n",
            "Averaged stats: model_time: 0.0831 (0.0830)  evaluator_time: 0.0021 (0.0021)\n",
            "Accumulating evaluation results...\n",
            "DONE (t=0.06s).\n",
            "IoU metric: bbox\n",
            " Average Precision  (AP) @[ IoU=0.50:0.95 | area=   all | maxDets=100 ] = 0.212\n",
            " Average Precision  (AP) @[ IoU=0.50      | area=   all | maxDets=100 ] = 0.455\n",
            " Average Precision  (AP) @[ IoU=0.75      | area=   all | maxDets=100 ] = 0.148\n",
            " Average Precision  (AP) @[ IoU=0.50:0.95 | area= small | maxDets=100 ] = 0.216\n",
            " Average Precision  (AP) @[ IoU=0.50:0.95 | area=medium | maxDets=100 ] = 0.229\n"
          ],
          "name": "stdout"
        },
        {
          "output_type": "stream",
          "text": [
            "[2021-08-06 21:47:07,976][<ipython-input-49-0825c7523d1d>][line:153][INFO] [0.21170777 0.45501859 0.14795205 0.21576308 0.22875829 0.\n",
            " 0.29338843 0.39504132 0.40082645 0.39775281 0.4295082  0.        ]\n",
            "[2021-08-06 21:47:07,977][<ipython-input-49-0825c7523d1d>][line:163][INFO] No improvement. \n"
          ],
          "name": "stderr"
        },
        {
          "output_type": "stream",
          "text": [
            " Average Precision  (AP) @[ IoU=0.50:0.95 | area= large | maxDets=100 ] = 0.000\n",
            " Average Recall     (AR) @[ IoU=0.50:0.95 | area=   all | maxDets=  1 ] = 0.293\n",
            " Average Recall     (AR) @[ IoU=0.50:0.95 | area=   all | maxDets= 10 ] = 0.395\n",
            " Average Recall     (AR) @[ IoU=0.50:0.95 | area=   all | maxDets=100 ] = 0.401\n",
            " Average Recall     (AR) @[ IoU=0.50:0.95 | area= small | maxDets=100 ] = 0.398\n",
            " Average Recall     (AR) @[ IoU=0.50:0.95 | area=medium | maxDets=100 ] = 0.430\n",
            " Average Recall     (AR) @[ IoU=0.50:0.95 | area= large | maxDets=100 ] = 0.000\n",
            "Cycle:[1] Epoch: [12]  [  0/239]  eta: 0:05:11  task_lr: 0.000271  task_loss: 0.1060 (0.1060)  time: 1.3025  data: 0.3907  max mem: 5003\n",
            "Cycle:[1] Epoch: [12]  [100/239]  eta: 0:02:08  task_lr: 0.000271  task_loss: 0.1265 (0.1428)  time: 0.9213  data: 0.0159  max mem: 5003\n",
            "Cycle:[1] Epoch: [12]  [200/239]  eta: 0:00:35  task_lr: 0.000271  task_loss: 0.1280 (0.1390)  time: 0.9218  data: 0.0164  max mem: 5003\n",
            "Cycle:[1] Epoch: [12]  [238/239]  eta: 0:00:00  task_lr: 0.000271  task_loss: 0.1415 (0.1410)  time: 0.9181  data: 0.0137  max mem: 5003\n",
            "Cycle:[1] Epoch: [12] Total time: 0:03:40 (0.9225 s / it)\n",
            "creating index...\n",
            "index created!\n",
            "Test:  [  0/239]  eta: 0:01:14  model_time: 0.0937 (0.0937)  evaluator_time: 0.0073 (0.0073)  time: 0.3119  data: 0.2076  max mem: 5003\n",
            "Test:  [100/239]  eta: 0:00:12  model_time: 0.0827 (0.0833)  evaluator_time: 0.0023 (0.0023)  time: 0.0905  data: 0.0036  max mem: 5003\n",
            "Test:  [200/239]  eta: 0:00:03  model_time: 0.0829 (0.0831)  evaluator_time: 0.0021 (0.0022)  time: 0.0905  data: 0.0037  max mem: 5003\n",
            "Test:  [238/239]  eta: 0:00:00  model_time: 0.0825 (0.0830)  evaluator_time: 0.0019 (0.0022)  time: 0.0894  data: 0.0035  max mem: 5003\n",
            "Test: Total time: 0:00:21 (0.0920 s / it)\n",
            "Averaged stats: model_time: 0.0825 (0.0830)  evaluator_time: 0.0019 (0.0022)\n",
            "Accumulating evaluation results...\n",
            "DONE (t=0.06s).\n",
            "IoU metric: bbox\n",
            " Average Precision  (AP) @[ IoU=0.50:0.95 | area=   all | maxDets=100 ] = 0.236\n",
            " Average Precision  (AP) @[ IoU=0.50      | area=   all | maxDets=100 ] = 0.450\n",
            " Average Precision  (AP) @[ IoU=0.75      | area=   all | maxDets=100 ] = 0.200\n",
            " Average Precision  (AP) @[ IoU=0.50:0.95 | area= small | maxDets=100 ] = 0.230\n",
            " Average Precision  (AP) @[ IoU=0.50:0.95 | area=medium | maxDets=100 ] = 0.284\n",
            " Average Precision  (AP) @[ IoU=0.50:0.95 | area= large | maxDets=100 ] = 0.000\n",
            " Average Recall     (AR) @[ IoU=0.50:0.95 | area=   all | maxDets=  1 ] = 0.310\n",
            " Average Recall     (AR) @[ IoU=0.50:0.95 | area=   all | maxDets= 10 ] = 0.424\n",
            " Average Recall     (AR) @[ IoU=0.50:0.95 | area=   all | maxDets=100 ] = 0.441\n",
            " Average Recall     (AR) @[ IoU=0.50:0.95 | area= small | maxDets=100 ] = 0.429\n",
            " Average Recall     (AR) @[ IoU=0.50:0.95 | area=medium | maxDets=100 ] = 0.497\n",
            " Average Recall     (AR) @[ IoU=0.50:0.95 | area= large | maxDets=100 ] = 0.000\n"
          ],
          "name": "stdout"
        },
        {
          "output_type": "stream",
          "text": [
            "[2021-08-06 21:51:47,657][<ipython-input-49-0825c7523d1d>][line:153][INFO] [0.23556661 0.45035422 0.19984901 0.22953232 0.28374967 0.\n",
            " 0.30991736 0.42355372 0.44090909 0.42921348 0.49672131 0.        ]\n",
            "[2021-08-06 21:51:47,663][<ipython-input-49-0825c7523d1d>][line:163][INFO] No improvement. \n"
          ],
          "name": "stderr"
        },
        {
          "output_type": "stream",
          "text": [
            "Cycle:[1] Epoch: [13]  [  0/239]  eta: 0:05:07  task_lr: 0.000267  task_loss: 0.0943 (0.0943)  time: 1.2887  data: 0.3646  max mem: 5003\n",
            "Cycle:[1] Epoch: [13]  [100/239]  eta: 0:02:08  task_lr: 0.000267  task_loss: 0.1159 (0.1389)  time: 0.9217  data: 0.0159  max mem: 5003\n",
            "Cycle:[1] Epoch: [13]  [200/239]  eta: 0:00:35  task_lr: 0.000267  task_loss: 0.1426 (0.1369)  time: 0.9214  data: 0.0155  max mem: 5003\n",
            "Cycle:[1] Epoch: [13]  [238/239]  eta: 0:00:00  task_lr: 0.000267  task_loss: 0.1259 (0.1366)  time: 0.9183  data: 0.0140  max mem: 5003\n",
            "Cycle:[1] Epoch: [13] Total time: 0:03:40 (0.9224 s / it)\n",
            "creating index...\n",
            "index created!\n",
            "Test:  [  0/239]  eta: 0:01:17  model_time: 0.1002 (0.1002)  evaluator_time: 0.0063 (0.0063)  time: 0.3250  data: 0.2162  max mem: 5003\n",
            "Test:  [100/239]  eta: 0:00:13  model_time: 0.0832 (0.0836)  evaluator_time: 0.0023 (0.0023)  time: 0.0921  data: 0.0043  max mem: 5003\n",
            "Test:  [200/239]  eta: 0:00:03  model_time: 0.0828 (0.0833)  evaluator_time: 0.0021 (0.0022)  time: 0.0905  data: 0.0039  max mem: 5003\n"
          ],
          "name": "stdout"
        },
        {
          "output_type": "stream",
          "text": [
            "[2021-08-06 21:56:26,745][<ipython-input-49-0825c7523d1d>][line:153][INFO] [0.2074109  0.45723774 0.16355717 0.21236997 0.21813423 0.00160302\n",
            " 0.28719008 0.38140496 0.38595041 0.38764045 0.39836066 0.03333333]\n",
            "[2021-08-06 21:56:26,747][<ipython-input-49-0825c7523d1d>][line:163][INFO] No improvement. \n"
          ],
          "name": "stderr"
        },
        {
          "output_type": "stream",
          "text": [
            "Test:  [238/239]  eta: 0:00:00  model_time: 0.0829 (0.0833)  evaluator_time: 0.0020 (0.0022)  time: 0.0903  data: 0.0038  max mem: 5003\n",
            "Test: Total time: 0:00:22 (0.0925 s / it)\n",
            "Averaged stats: model_time: 0.0829 (0.0833)  evaluator_time: 0.0020 (0.0022)\n",
            "Accumulating evaluation results...\n",
            "DONE (t=0.05s).\n",
            "IoU metric: bbox\n",
            " Average Precision  (AP) @[ IoU=0.50:0.95 | area=   all | maxDets=100 ] = 0.207\n",
            " Average Precision  (AP) @[ IoU=0.50      | area=   all | maxDets=100 ] = 0.457\n",
            " Average Precision  (AP) @[ IoU=0.75      | area=   all | maxDets=100 ] = 0.164\n",
            " Average Precision  (AP) @[ IoU=0.50:0.95 | area= small | maxDets=100 ] = 0.212\n",
            " Average Precision  (AP) @[ IoU=0.50:0.95 | area=medium | maxDets=100 ] = 0.218\n",
            " Average Precision  (AP) @[ IoU=0.50:0.95 | area= large | maxDets=100 ] = 0.002\n",
            " Average Recall     (AR) @[ IoU=0.50:0.95 | area=   all | maxDets=  1 ] = 0.287\n",
            " Average Recall     (AR) @[ IoU=0.50:0.95 | area=   all | maxDets= 10 ] = 0.381\n",
            " Average Recall     (AR) @[ IoU=0.50:0.95 | area=   all | maxDets=100 ] = 0.386\n",
            " Average Recall     (AR) @[ IoU=0.50:0.95 | area= small | maxDets=100 ] = 0.388\n",
            " Average Recall     (AR) @[ IoU=0.50:0.95 | area=medium | maxDets=100 ] = 0.398\n",
            " Average Recall     (AR) @[ IoU=0.50:0.95 | area= large | maxDets=100 ] = 0.033\n",
            "Cycle:[1] Epoch: [14]  [  0/239]  eta: 0:05:05  task_lr: 0.000261  task_loss: 0.1341 (0.1341)  time: 1.2794  data: 0.3669  max mem: 5003\n",
            "Cycle:[1] Epoch: [14]  [100/239]  eta: 0:02:08  task_lr: 0.000261  task_loss: 0.1384 (0.1320)  time: 0.9200  data: 0.0154  max mem: 5003\n",
            "Cycle:[1] Epoch: [14]  [200/239]  eta: 0:00:35  task_lr: 0.000261  task_loss: 0.1297 (0.1357)  time: 0.9198  data: 0.0154  max mem: 5003\n",
            "Cycle:[1] Epoch: [14]  [238/239]  eta: 0:00:00  task_lr: 0.000261  task_loss: 0.1486 (0.1372)  time: 0.9196  data: 0.0142  max mem: 5003\n",
            "Cycle:[1] Epoch: [14] Total time: 0:03:40 (0.9225 s / it)\n",
            "creating index...\n",
            "index created!\n",
            "Test:  [  0/239]  eta: 0:01:18  model_time: 0.1007 (0.1007)  evaluator_time: 0.0054 (0.0054)  time: 0.3288  data: 0.2205  max mem: 5003\n",
            "Test:  [100/239]  eta: 0:00:13  model_time: 0.0831 (0.0835)  evaluator_time: 0.0027 (0.0025)  time: 0.0917  data: 0.0040  max mem: 5003\n",
            "Test:  [200/239]  eta: 0:00:03  model_time: 0.0831 (0.0835)  evaluator_time: 0.0026 (0.0025)  time: 0.0929  data: 0.0044  max mem: 5003\n",
            "Test:  [238/239]  eta: 0:00:00  model_time: 0.0833 (0.0835)  evaluator_time: 0.0023 (0.0025)  time: 0.0921  data: 0.0041  max mem: 5003\n",
            "Test: Total time: 0:00:22 (0.0933 s / it)\n",
            "Averaged stats: model_time: 0.0833 (0.0835)  evaluator_time: 0.0023 (0.0025)\n",
            "Accumulating evaluation results...\n"
          ],
          "name": "stdout"
        },
        {
          "output_type": "stream",
          "text": [
            "[2021-08-06 22:01:05,486][<ipython-input-49-0825c7523d1d>][line:153][INFO] [0.18249307 0.43590665 0.11218037 0.18687792 0.1908581  0.\n",
            " 0.25867769 0.34710744 0.35330579 0.33033708 0.43770492 0.        ]\n",
            "[2021-08-06 22:01:05,489][<ipython-input-49-0825c7523d1d>][line:163][INFO] No improvement. \n"
          ],
          "name": "stderr"
        },
        {
          "output_type": "stream",
          "text": [
            "DONE (t=0.08s).\n",
            "IoU metric: bbox\n",
            " Average Precision  (AP) @[ IoU=0.50:0.95 | area=   all | maxDets=100 ] = 0.182\n",
            " Average Precision  (AP) @[ IoU=0.50      | area=   all | maxDets=100 ] = 0.436\n",
            " Average Precision  (AP) @[ IoU=0.75      | area=   all | maxDets=100 ] = 0.112\n",
            " Average Precision  (AP) @[ IoU=0.50:0.95 | area= small | maxDets=100 ] = 0.187\n",
            " Average Precision  (AP) @[ IoU=0.50:0.95 | area=medium | maxDets=100 ] = 0.191\n",
            " Average Precision  (AP) @[ IoU=0.50:0.95 | area= large | maxDets=100 ] = 0.000\n",
            " Average Recall     (AR) @[ IoU=0.50:0.95 | area=   all | maxDets=  1 ] = 0.259\n",
            " Average Recall     (AR) @[ IoU=0.50:0.95 | area=   all | maxDets= 10 ] = 0.347\n",
            " Average Recall     (AR) @[ IoU=0.50:0.95 | area=   all | maxDets=100 ] = 0.353\n",
            " Average Recall     (AR) @[ IoU=0.50:0.95 | area= small | maxDets=100 ] = 0.330\n",
            " Average Recall     (AR) @[ IoU=0.50:0.95 | area=medium | maxDets=100 ] = 0.438\n",
            " Average Recall     (AR) @[ IoU=0.50:0.95 | area= large | maxDets=100 ] = 0.000\n",
            "Cycle:[1] Epoch: [15]  [  0/239]  eta: 0:05:21  task_lr: 0.000256  task_loss: 0.1433 (0.1433)  time: 1.3433  data: 0.4274  max mem: 5003\n",
            "Cycle:[1] Epoch: [15]  [100/239]  eta: 0:02:08  task_lr: 0.000256  task_loss: 0.1370 (0.1383)  time: 0.9189  data: 0.0150  max mem: 5003\n",
            "Cycle:[1] Epoch: [15]  [200/239]  eta: 0:00:35  task_lr: 0.000256  task_loss: 0.1325 (0.1385)  time: 0.9194  data: 0.0149  max mem: 5003\n",
            "Cycle:[1] Epoch: [15]  [238/239]  eta: 0:00:00  task_lr: 0.000256  task_loss: 0.1383 (0.1411)  time: 0.9213  data: 0.0154  max mem: 5003\n",
            "Cycle:[1] Epoch: [15] Total time: 0:03:40 (0.9227 s / it)\n",
            "creating index...\n",
            "index created!\n",
            "Test:  [  0/239]  eta: 0:01:12  model_time: 0.0936 (0.0936)  evaluator_time: 0.0052 (0.0052)  time: 0.3037  data: 0.2028  max mem: 5003\n",
            "Test:  [100/239]  eta: 0:00:12  model_time: 0.0829 (0.0831)  evaluator_time: 0.0019 (0.0020)  time: 0.0925  data: 0.0043  max mem: 5003\n",
            "Test:  [200/239]  eta: 0:00:03  model_time: 0.0827 (0.0830)  evaluator_time: 0.0020 (0.0021)  time: 0.0905  data: 0.0039  max mem: 5003\n",
            "Test:  [238/239]  eta: 0:00:00  model_time: 0.0830 (0.0830)  evaluator_time: 0.0019 (0.0020)  time: 0.0902  data: 0.0038  max mem: 5003\n",
            "Test: Total time: 0:00:22 (0.0927 s / it)\n",
            "Averaged stats: model_time: 0.0830 (0.0830)  evaluator_time: 0.0019 (0.0020)\n",
            "Accumulating evaluation results...\n",
            "DONE (t=0.06s).\n",
            "IoU metric: bbox\n",
            " Average Precision  (AP) @[ IoU=0.50:0.95 | area=   all | maxDets=100 ] = 0.243\n",
            " Average Precision  (AP) @[ IoU=0.50      | area=   all | maxDets=100 ] = 0.440\n",
            " Average Precision  (AP) @[ IoU=0.75      | area=   all | maxDets=100 ] = 0.269\n",
            " Average Precision  (AP) @[ IoU=0.50:0.95 | area= small | maxDets=100 ] = 0.251\n",
            " Average Precision  (AP) @[ IoU=0.50:0.95 | area=medium | maxDets=100 ] = 0.283\n",
            " Average Precision  (AP) @[ IoU=0.50:0.95 | area= large | maxDets=100 ] = 0.000\n",
            " Average Recall     (AR) @[ IoU=0.50:0.95 | area=   all | maxDets=  1 ] = 0.312\n",
            " Average Recall     (AR) @[ IoU=0.50:0.95 | area=   all | maxDets= 10 ] = 0.440\n",
            " Average Recall     (AR) @[ IoU=0.50:0.95 | area=   all | maxDets=100 ] = 0.452\n",
            " Average Recall     (AR) @[ IoU=0.50:0.95 | area= small | maxDets=100 ] = 0.460\n",
            " Average Recall     (AR) @[ IoU=0.50:0.95 | area=medium | maxDets=100 ] = 0.452\n",
            " Average Recall     (AR) @[ IoU=0.50:0.95 | area= large | maxDets=100 ] = 0.000\n"
          ],
          "name": "stdout"
        },
        {
          "output_type": "stream",
          "text": [
            "[2021-08-06 22:05:44,560][<ipython-input-49-0825c7523d1d>][line:153][INFO] [0.24327017 0.4404643  0.26910211 0.25050062 0.28318505 0.\n",
            " 0.31157025 0.44008264 0.45247934 0.46011236 0.45245902 0.        ]\n",
            "[2021-08-06 22:05:44,567][<ipython-input-49-0825c7523d1d>][line:163][INFO] No improvement. \n"
          ],
          "name": "stderr"
        },
        {
          "output_type": "stream",
          "text": [
            "Cycle:[1] Epoch: [16]  [  0/239]  eta: 0:05:19  task_lr: 0.000250  task_loss: 0.1069 (0.1069)  time: 1.3381  data: 0.4085  max mem: 5003\n",
            "Cycle:[1] Epoch: [16]  [100/239]  eta: 0:02:08  task_lr: 0.000250  task_loss: 0.1387 (0.1380)  time: 0.9214  data: 0.0156  max mem: 5003\n",
            "Cycle:[1] Epoch: [16]  [200/239]  eta: 0:00:35  task_lr: 0.000250  task_loss: 0.1357 (0.1432)  time: 0.9191  data: 0.0147  max mem: 5003\n",
            "Cycle:[1] Epoch: [16]  [238/239]  eta: 0:00:00  task_lr: 0.000250  task_loss: 0.1256 (0.1422)  time: 0.9189  data: 0.0142  max mem: 5003\n",
            "Cycle:[1] Epoch: [16] Total time: 0:03:40 (0.9221 s / it)\n",
            "creating index...\n",
            "index created!\n",
            "Test:  [  0/239]  eta: 0:01:16  model_time: 0.0999 (0.0999)  evaluator_time: 0.0048 (0.0048)  time: 0.3198  data: 0.2130  max mem: 5003\n",
            "Test:  [100/239]  eta: 0:00:12  model_time: 0.0828 (0.0831)  evaluator_time: 0.0019 (0.0019)  time: 0.0900  data: 0.0038  max mem: 5003\n",
            "Test:  [200/239]  eta: 0:00:03  model_time: 0.0828 (0.0837)  evaluator_time: 0.0017 (0.0019)  time: 0.0900  data: 0.0040  max mem: 5003\n"
          ],
          "name": "stdout"
        },
        {
          "output_type": "stream",
          "text": [
            "[2021-08-06 22:10:24,004][<ipython-input-49-0825c7523d1d>][line:153][INFO] [0.23756309 0.44344571 0.23555926 0.24321147 0.2657668  0.\n",
            " 0.33264463 0.4322314  0.43429752 0.43258427 0.46065574 0.        ]\n",
            "[2021-08-06 22:10:24,006][<ipython-input-49-0825c7523d1d>][line:163][INFO] No improvement. \n"
          ],
          "name": "stderr"
        },
        {
          "output_type": "stream",
          "text": [
            "Test:  [238/239]  eta: 0:00:00  model_time: 0.0825 (0.0835)  evaluator_time: 0.0017 (0.0018)  time: 0.0893  data: 0.0036  max mem: 5003\n",
            "Test: Total time: 0:00:22 (0.0922 s / it)\n",
            "Averaged stats: model_time: 0.0825 (0.0835)  evaluator_time: 0.0017 (0.0018)\n",
            "Accumulating evaluation results...\n",
            "DONE (t=0.05s).\n",
            "IoU metric: bbox\n",
            " Average Precision  (AP) @[ IoU=0.50:0.95 | area=   all | maxDets=100 ] = 0.238\n",
            " Average Precision  (AP) @[ IoU=0.50      | area=   all | maxDets=100 ] = 0.443\n",
            " Average Precision  (AP) @[ IoU=0.75      | area=   all | maxDets=100 ] = 0.236\n",
            " Average Precision  (AP) @[ IoU=0.50:0.95 | area= small | maxDets=100 ] = 0.243\n",
            " Average Precision  (AP) @[ IoU=0.50:0.95 | area=medium | maxDets=100 ] = 0.266\n",
            " Average Precision  (AP) @[ IoU=0.50:0.95 | area= large | maxDets=100 ] = 0.000\n",
            " Average Recall     (AR) @[ IoU=0.50:0.95 | area=   all | maxDets=  1 ] = 0.333\n",
            " Average Recall     (AR) @[ IoU=0.50:0.95 | area=   all | maxDets= 10 ] = 0.432\n",
            " Average Recall     (AR) @[ IoU=0.50:0.95 | area=   all | maxDets=100 ] = 0.434\n",
            " Average Recall     (AR) @[ IoU=0.50:0.95 | area= small | maxDets=100 ] = 0.433\n",
            " Average Recall     (AR) @[ IoU=0.50:0.95 | area=medium | maxDets=100 ] = 0.461\n",
            " Average Recall     (AR) @[ IoU=0.50:0.95 | area= large | maxDets=100 ] = 0.000\n",
            "Cycle:[1] Epoch: [17]  [  0/239]  eta: 0:05:10  task_lr: 0.000244  task_loss: 0.1047 (0.1047)  time: 1.3000  data: 0.3864  max mem: 5003\n",
            "Cycle:[1] Epoch: [17]  [100/239]  eta: 0:02:08  task_lr: 0.000244  task_loss: 0.1328 (0.1321)  time: 0.9204  data: 0.0147  max mem: 5003\n",
            "Cycle:[1] Epoch: [17]  [200/239]  eta: 0:00:35  task_lr: 0.000244  task_loss: 0.1380 (0.1334)  time: 0.9192  data: 0.0148  max mem: 5003\n",
            "Cycle:[1] Epoch: [17]  [238/239]  eta: 0:00:00  task_lr: 0.000244  task_loss: 0.1357 (0.1339)  time: 0.9187  data: 0.0146  max mem: 5003\n",
            "Cycle:[1] Epoch: [17] Total time: 0:03:40 (0.9215 s / it)\n",
            "creating index...\n",
            "index created!\n",
            "Test:  [  0/239]  eta: 0:01:16  model_time: 0.1030 (0.1030)  evaluator_time: 0.0051 (0.0051)  time: 0.3181  data: 0.2079  max mem: 5003\n",
            "Test:  [100/239]  eta: 0:00:12  model_time: 0.0828 (0.0831)  evaluator_time: 0.0021 (0.0021)  time: 0.0901  data: 0.0037  max mem: 5003\n",
            "Test:  [200/239]  eta: 0:00:03  model_time: 0.0827 (0.0830)  evaluator_time: 0.0020 (0.0021)  time: 0.0899  data: 0.0037  max mem: 5003\n"
          ],
          "name": "stdout"
        },
        {
          "output_type": "stream",
          "text": [
            "[2021-08-06 22:15:02,943][<ipython-input-49-0825c7523d1d>][line:153][INFO] [0.2312834  0.46356833 0.20353607 0.23397929 0.25431283 0.\n",
            " 0.32479339 0.42727273 0.42933884 0.41741573 0.4852459  0.        ]\n",
            "[2021-08-06 22:15:02,944][<ipython-input-49-0825c7523d1d>][line:163][INFO] No improvement. \n"
          ],
          "name": "stderr"
        },
        {
          "output_type": "stream",
          "text": [
            "Test:  [238/239]  eta: 0:00:00  model_time: 0.0826 (0.0829)  evaluator_time: 0.0019 (0.0021)  time: 0.0895  data: 0.0036  max mem: 5003\n",
            "Test: Total time: 0:00:21 (0.0916 s / it)\n",
            "Averaged stats: model_time: 0.0826 (0.0829)  evaluator_time: 0.0019 (0.0021)\n",
            "Accumulating evaluation results...\n",
            "DONE (t=0.06s).\n",
            "IoU metric: bbox\n",
            " Average Precision  (AP) @[ IoU=0.50:0.95 | area=   all | maxDets=100 ] = 0.231\n",
            " Average Precision  (AP) @[ IoU=0.50      | area=   all | maxDets=100 ] = 0.464\n",
            " Average Precision  (AP) @[ IoU=0.75      | area=   all | maxDets=100 ] = 0.204\n",
            " Average Precision  (AP) @[ IoU=0.50:0.95 | area= small | maxDets=100 ] = 0.234\n",
            " Average Precision  (AP) @[ IoU=0.50:0.95 | area=medium | maxDets=100 ] = 0.254\n",
            " Average Precision  (AP) @[ IoU=0.50:0.95 | area= large | maxDets=100 ] = 0.000\n",
            " Average Recall     (AR) @[ IoU=0.50:0.95 | area=   all | maxDets=  1 ] = 0.325\n",
            " Average Recall     (AR) @[ IoU=0.50:0.95 | area=   all | maxDets= 10 ] = 0.427\n",
            " Average Recall     (AR) @[ IoU=0.50:0.95 | area=   all | maxDets=100 ] = 0.429\n",
            " Average Recall     (AR) @[ IoU=0.50:0.95 | area= small | maxDets=100 ] = 0.417\n",
            " Average Recall     (AR) @[ IoU=0.50:0.95 | area=medium | maxDets=100 ] = 0.485\n",
            " Average Recall     (AR) @[ IoU=0.50:0.95 | area= large | maxDets=100 ] = 0.000\n",
            "Cycle:[1] Epoch: [18]  [  0/239]  eta: 0:05:02  task_lr: 0.000238  task_loss: 0.1122 (0.1122)  time: 1.2675  data: 0.3421  max mem: 5003\n",
            "Cycle:[1] Epoch: [18]  [100/239]  eta: 0:02:08  task_lr: 0.000238  task_loss: 0.1230 (0.1266)  time: 0.9200  data: 0.0154  max mem: 5003\n",
            "Cycle:[1] Epoch: [18]  [200/239]  eta: 0:00:35  task_lr: 0.000238  task_loss: 0.1243 (0.1297)  time: 0.9207  data: 0.0153  max mem: 5003\n",
            "Cycle:[1] Epoch: [18]  [238/239]  eta: 0:00:00  task_lr: 0.000238  task_loss: 0.1203 (0.1304)  time: 0.9182  data: 0.0145  max mem: 5003\n",
            "Cycle:[1] Epoch: [18] Total time: 0:03:40 (0.9224 s / it)\n",
            "creating index...\n",
            "index created!\n",
            "Test:  [  0/239]  eta: 0:01:16  model_time: 0.0947 (0.0947)  evaluator_time: 0.0061 (0.0061)  time: 0.3183  data: 0.2152  max mem: 5003\n",
            "Test:  [100/239]  eta: 0:00:12  model_time: 0.0829 (0.0833)  evaluator_time: 0.0022 (0.0023)  time: 0.0903  data: 0.0037  max mem: 5003\n",
            "Test:  [200/239]  eta: 0:00:03  model_time: 0.0828 (0.0831)  evaluator_time: 0.0022 (0.0023)  time: 0.0904  data: 0.0037  max mem: 5003\n",
            "Test:  [238/239]  eta: 0:00:00  model_time: 0.0827 (0.0830)  evaluator_time: 0.0020 (0.0023)  time: 0.0897  data: 0.0036  max mem: 5003\n",
            "Test: Total time: 0:00:21 (0.0920 s / it)\n",
            "Averaged stats: model_time: 0.0827 (0.0830)  evaluator_time: 0.0020 (0.0023)\n",
            "Accumulating evaluation results...\n",
            "DONE (t=0.07s).\n",
            "IoU metric: bbox\n",
            " Average Precision  (AP) @[ IoU=0.50:0.95 | area=   all | maxDets=100 ] = 0.247\n",
            " Average Precision  (AP) @[ IoU=0.50      | area=   all | maxDets=100 ] = 0.456\n",
            " Average Precision  (AP) @[ IoU=0.75      | area=   all | maxDets=100 ] = 0.242\n",
            " Average Precision  (AP) @[ IoU=0.50:0.95 | area= small | maxDets=100 ] = 0.246\n",
            " Average Precision  (AP) @[ IoU=0.50:0.95 | area=medium | maxDets=100 ] = 0.310\n",
            " Average Precision  (AP) @[ IoU=0.50:0.95 | area= large | maxDets=100 ] = 0.000\n",
            " Average Recall     (AR) @[ IoU=0.50:0.95 | area=   all | maxDets=  1 ] = 0.322\n",
            " Average Recall     (AR) @[ IoU=0.50:0.95 | area=   all | maxDets= 10 ] = 0.435\n",
            " Average Recall     (AR) @[ IoU=0.50:0.95 | area=   all | maxDets=100 ] = 0.446\n",
            " Average Recall     (AR) @[ IoU=0.50:0.95 | area= small | maxDets=100 ] = 0.437\n",
            " Average Recall     (AR) @[ IoU=0.50:0.95 | area=medium | maxDets=100 ] = 0.493\n",
            " Average Recall     (AR) @[ IoU=0.50:0.95 | area= large | maxDets=100 ] = 0.000\n"
          ],
          "name": "stdout"
        },
        {
          "output_type": "stream",
          "text": [
            "[2021-08-06 22:19:42,873][<ipython-input-49-0825c7523d1d>][line:153][INFO] [0.24704477 0.45616179 0.24178132 0.24596654 0.31030678 0.\n",
            " 0.32190083 0.43512397 0.44586777 0.43707865 0.49344262 0.        ]\n",
            "[2021-08-06 22:19:42,879][<ipython-input-49-0825c7523d1d>][line:163][INFO] No improvement. \n"
          ],
          "name": "stderr"
        },
        {
          "output_type": "stream",
          "text": [
            "Cycle:[1] Epoch: [19]  [  0/239]  eta: 0:05:07  task_lr: 0.000232  task_loss: 0.1057 (0.1057)  time: 1.2857  data: 0.3747  max mem: 5003\n",
            "Cycle:[1] Epoch: [19]  [100/239]  eta: 0:02:08  task_lr: 0.000232  task_loss: 0.1414 (0.1386)  time: 0.9193  data: 0.0151  max mem: 5003\n",
            "Cycle:[1] Epoch: [19]  [200/239]  eta: 0:00:35  task_lr: 0.000232  task_loss: 0.1200 (0.1364)  time: 0.9175  data: 0.0137  max mem: 5003\n",
            "Cycle:[1] Epoch: [19]  [238/239]  eta: 0:00:00  task_lr: 0.000232  task_loss: 0.1294 (0.1358)  time: 0.9213  data: 0.0166  max mem: 5003\n",
            "Cycle:[1] Epoch: [19] Total time: 0:03:40 (0.9222 s / it)\n",
            "creating index...\n",
            "index created!\n",
            "Test:  [  0/239]  eta: 0:01:12  model_time: 0.0960 (0.0960)  evaluator_time: 0.0048 (0.0048)  time: 0.3044  data: 0.2014  max mem: 5003\n",
            "Test:  [100/239]  eta: 0:00:12  model_time: 0.0833 (0.0835)  evaluator_time: 0.0020 (0.0020)  time: 0.0912  data: 0.0042  max mem: 5003\n",
            "Test:  [200/239]  eta: 0:00:03  model_time: 0.0832 (0.0834)  evaluator_time: 0.0018 (0.0020)  time: 0.0905  data: 0.0038  max mem: 5003\n"
          ],
          "name": "stdout"
        },
        {
          "output_type": "stream",
          "text": [
            "[2021-08-06 22:24:21,222][<ipython-input-49-0825c7523d1d>][line:153][INFO] [0.2650972  0.46749847 0.28140472 0.27094179 0.28694316 0.\n",
            " 0.34380165 0.4392562  0.44008264 0.44662921 0.44262295 0.        ]\n",
            "[2021-08-06 22:24:21,225][<ipython-input-49-0825c7523d1d>][line:159][INFO] Saving best checkpoints for mAP 0.265097\n"
          ],
          "name": "stderr"
        },
        {
          "output_type": "stream",
          "text": [
            "Test:  [238/239]  eta: 0:00:00  model_time: 0.0828 (0.0834)  evaluator_time: 0.0017 (0.0020)  time: 0.0902  data: 0.0038  max mem: 5003\n",
            "Test: Total time: 0:00:22 (0.0923 s / it)\n",
            "Averaged stats: model_time: 0.0828 (0.0834)  evaluator_time: 0.0017 (0.0020)\n",
            "Accumulating evaluation results...\n",
            "DONE (t=0.04s).\n",
            "IoU metric: bbox\n",
            " Average Precision  (AP) @[ IoU=0.50:0.95 | area=   all | maxDets=100 ] = 0.265\n",
            " Average Precision  (AP) @[ IoU=0.50      | area=   all | maxDets=100 ] = 0.467\n",
            " Average Precision  (AP) @[ IoU=0.75      | area=   all | maxDets=100 ] = 0.281\n",
            " Average Precision  (AP) @[ IoU=0.50:0.95 | area= small | maxDets=100 ] = 0.271\n",
            " Average Precision  (AP) @[ IoU=0.50:0.95 | area=medium | maxDets=100 ] = 0.287\n",
            " Average Precision  (AP) @[ IoU=0.50:0.95 | area= large | maxDets=100 ] = 0.000\n",
            " Average Recall     (AR) @[ IoU=0.50:0.95 | area=   all | maxDets=  1 ] = 0.344\n",
            " Average Recall     (AR) @[ IoU=0.50:0.95 | area=   all | maxDets= 10 ] = 0.439\n",
            " Average Recall     (AR) @[ IoU=0.50:0.95 | area=   all | maxDets=100 ] = 0.440\n",
            " Average Recall     (AR) @[ IoU=0.50:0.95 | area= small | maxDets=100 ] = 0.447\n",
            " Average Recall     (AR) @[ IoU=0.50:0.95 | area=medium | maxDets=100 ] = 0.443\n",
            " Average Recall     (AR) @[ IoU=0.50:0.95 | area= large | maxDets=100 ] = 0.000\n",
            "Cycle:[1] Epoch: [20]  [  0/239]  eta: 0:05:14  task_lr: 0.000225  task_loss: 0.1158 (0.1158)  time: 1.3143  data: 0.3943  max mem: 5003\n",
            "Cycle:[1] Epoch: [20]  [100/239]  eta: 0:02:08  task_lr: 0.000225  task_loss: 0.1305 (0.1307)  time: 0.9186  data: 0.0145  max mem: 5003\n",
            "Cycle:[1] Epoch: [20]  [200/239]  eta: 0:00:35  task_lr: 0.000225  task_loss: 0.1225 (0.1316)  time: 0.9168  data: 0.0136  max mem: 5003\n",
            "Cycle:[1] Epoch: [20]  [238/239]  eta: 0:00:00  task_lr: 0.000225  task_loss: 0.1203 (0.1319)  time: 0.9200  data: 0.0145  max mem: 5003\n",
            "Cycle:[1] Epoch: [20] Total time: 0:03:40 (0.9207 s / it)\n",
            "creating index...\n",
            "index created!\n",
            "Test:  [  0/239]  eta: 0:01:09  model_time: 0.0937 (0.0937)  evaluator_time: 0.0049 (0.0049)  time: 0.2894  data: 0.1885  max mem: 5003\n",
            "Test:  [100/239]  eta: 0:00:12  model_time: 0.0828 (0.0831)  evaluator_time: 0.0020 (0.0020)  time: 0.0904  data: 0.0039  max mem: 5003\n",
            "Test:  [200/239]  eta: 0:00:03  model_time: 0.0832 (0.0831)  evaluator_time: 0.0021 (0.0021)  time: 0.0914  data: 0.0045  max mem: 5003\n",
            "Test:  [238/239]  eta: 0:00:00  model_time: 0.0830 (0.0831)  evaluator_time: 0.0020 (0.0021)  time: 0.0904  data: 0.0039  max mem: 5003\n",
            "Test: Total time: 0:00:21 (0.0918 s / it)\n",
            "Averaged stats: model_time: 0.0830 (0.0831)  evaluator_time: 0.0020 (0.0021)\n",
            "Accumulating evaluation results...\n",
            "DONE (t=0.06s).\n",
            "IoU metric: bbox\n",
            " Average Precision  (AP) @[ IoU=0.50:0.95 | area=   all | maxDets=100 ] = 0.232\n",
            " Average Precision  (AP) @[ IoU=0.50      | area=   all | maxDets=100 ] = 0.454\n",
            " Average Precision  (AP) @[ IoU=0.75      | area=   all | maxDets=100 ] = 0.200\n",
            " Average Precision  (AP) @[ IoU=0.50:0.95 | area= small | maxDets=100 ] = 0.234\n",
            " Average Precision  (AP) @[ IoU=0.50:0.95 | area=medium | maxDets=100 ] = 0.271\n",
            " Average Precision  (AP) @[ IoU=0.50:0.95 | area= large | maxDets=100 ] = 0.000\n",
            " Average Recall     (AR) @[ IoU=0.50:0.95 | area=   all | maxDets=  1 ] = 0.330\n",
            " Average Recall     (AR) @[ IoU=0.50:0.95 | area=   all | maxDets= 10 ] = 0.428\n",
            " Average Recall     (AR) @[ IoU=0.50:0.95 | area=   all | maxDets=100 ] = 0.439\n",
            " Average Recall     (AR) @[ IoU=0.50:0.95 | area= small | maxDets=100 ] = 0.439\n",
            " Average Recall     (AR) @[ IoU=0.50:0.95 | area=medium | maxDets=100 ] = 0.461\n",
            " Average Recall     (AR) @[ IoU=0.50:0.95 | area= large | maxDets=100 ] = 0.000\n"
          ],
          "name": "stdout"
        },
        {
          "output_type": "stream",
          "text": [
            "[2021-08-06 22:29:00,017][<ipython-input-49-0825c7523d1d>][line:153][INFO] [0.23173764 0.45420661 0.20027491 0.23392633 0.27073325 0.\n",
            " 0.32975207 0.42809917 0.43884298 0.43876404 0.46065574 0.        ]\n",
            "[2021-08-06 22:29:00,025][<ipython-input-49-0825c7523d1d>][line:163][INFO] No improvement. \n"
          ],
          "name": "stderr"
        },
        {
          "output_type": "stream",
          "text": [
            "Cycle:[1] Epoch: [21]  [  0/239]  eta: 0:05:09  task_lr: 0.000218  task_loss: 0.0971 (0.0971)  time: 1.2953  data: 0.3755  max mem: 5003\n",
            "Cycle:[1] Epoch: [21]  [100/239]  eta: 0:02:08  task_lr: 0.000218  task_loss: 0.1219 (0.1329)  time: 0.9189  data: 0.0143  max mem: 5003\n",
            "Cycle:[1] Epoch: [21]  [200/239]  eta: 0:00:35  task_lr: 0.000218  task_loss: 0.1232 (0.1350)  time: 0.9210  data: 0.0157  max mem: 5003\n",
            "Cycle:[1] Epoch: [21]  [238/239]  eta: 0:00:00  task_lr: 0.000218  task_loss: 0.1281 (0.1348)  time: 0.9183  data: 0.0145  max mem: 5003\n",
            "Cycle:[1] Epoch: [21] Total time: 0:03:40 (0.9213 s / it)\n",
            "creating index...\n",
            "index created!\n",
            "Test:  [  0/239]  eta: 0:01:11  model_time: 0.0952 (0.0952)  evaluator_time: 0.0052 (0.0052)  time: 0.2973  data: 0.1950  max mem: 5003\n",
            "Test:  [100/239]  eta: 0:00:12  model_time: 0.0827 (0.0832)  evaluator_time: 0.0020 (0.0022)  time: 0.0900  data: 0.0036  max mem: 5003\n",
            "Test:  [200/239]  eta: 0:00:03  model_time: 0.0826 (0.0830)  evaluator_time: 0.0019 (0.0021)  time: 0.0901  data: 0.0039  max mem: 5003\n"
          ],
          "name": "stdout"
        },
        {
          "output_type": "stream",
          "text": [
            "[2021-08-06 22:33:40,113][<ipython-input-49-0825c7523d1d>][line:153][INFO] [0.2638432  0.47761688 0.28086202 0.27037849 0.27815005 0.00109772\n",
            " 0.35826446 0.4731405  0.48595041 0.49494382 0.47868852 0.1       ]\n",
            "[2021-08-06 22:33:40,115][<ipython-input-49-0825c7523d1d>][line:163][INFO] No improvement. \n"
          ],
          "name": "stderr"
        },
        {
          "output_type": "stream",
          "text": [
            "Test:  [238/239]  eta: 0:00:00  model_time: 0.0826 (0.0830)  evaluator_time: 0.0019 (0.0021)  time: 0.0898  data: 0.0038  max mem: 5003\n",
            "Test: Total time: 0:00:21 (0.0916 s / it)\n",
            "Averaged stats: model_time: 0.0826 (0.0830)  evaluator_time: 0.0019 (0.0021)\n",
            "Accumulating evaluation results...\n",
            "DONE (t=0.06s).\n",
            "IoU metric: bbox\n",
            " Average Precision  (AP) @[ IoU=0.50:0.95 | area=   all | maxDets=100 ] = 0.264\n",
            " Average Precision  (AP) @[ IoU=0.50      | area=   all | maxDets=100 ] = 0.478\n",
            " Average Precision  (AP) @[ IoU=0.75      | area=   all | maxDets=100 ] = 0.281\n",
            " Average Precision  (AP) @[ IoU=0.50:0.95 | area= small | maxDets=100 ] = 0.270\n",
            " Average Precision  (AP) @[ IoU=0.50:0.95 | area=medium | maxDets=100 ] = 0.278\n",
            " Average Precision  (AP) @[ IoU=0.50:0.95 | area= large | maxDets=100 ] = 0.001\n",
            " Average Recall     (AR) @[ IoU=0.50:0.95 | area=   all | maxDets=  1 ] = 0.358\n",
            " Average Recall     (AR) @[ IoU=0.50:0.95 | area=   all | maxDets= 10 ] = 0.473\n",
            " Average Recall     (AR) @[ IoU=0.50:0.95 | area=   all | maxDets=100 ] = 0.486\n",
            " Average Recall     (AR) @[ IoU=0.50:0.95 | area= small | maxDets=100 ] = 0.495\n",
            " Average Recall     (AR) @[ IoU=0.50:0.95 | area=medium | maxDets=100 ] = 0.479\n",
            " Average Recall     (AR) @[ IoU=0.50:0.95 | area= large | maxDets=100 ] = 0.100\n",
            "Cycle:[1] Epoch: [22]  [  0/239]  eta: 0:05:00  task_lr: 0.000211  task_loss: 0.1205 (0.1205)  time: 1.2559  data: 0.3433  max mem: 5003\n",
            "Cycle:[1] Epoch: [22]  [100/239]  eta: 0:02:08  task_lr: 0.000211  task_loss: 0.1098 (0.1366)  time: 0.9226  data: 0.0167  max mem: 5003\n",
            "Cycle:[1] Epoch: [22]  [200/239]  eta: 0:00:35  task_lr: 0.000211  task_loss: 0.1338 (0.1329)  time: 0.9185  data: 0.0143  max mem: 5003\n",
            "Cycle:[1] Epoch: [22]  [238/239]  eta: 0:00:00  task_lr: 0.000211  task_loss: 0.1241 (0.1324)  time: 0.9213  data: 0.0151  max mem: 5003\n",
            "Cycle:[1] Epoch: [22] Total time: 0:03:40 (0.9219 s / it)\n",
            "creating index...\n",
            "index created!\n",
            "Test:  [  0/239]  eta: 0:01:17  model_time: 0.0964 (0.0964)  evaluator_time: 0.0048 (0.0048)  time: 0.3230  data: 0.2196  max mem: 5003\n",
            "Test:  [100/239]  eta: 0:00:13  model_time: 0.0830 (0.0838)  evaluator_time: 0.0020 (0.0022)  time: 0.0906  data: 0.0039  max mem: 5003\n",
            "Test:  [200/239]  eta: 0:00:03  model_time: 0.0829 (0.0834)  evaluator_time: 0.0018 (0.0021)  time: 0.0914  data: 0.0041  max mem: 5003\n"
          ],
          "name": "stdout"
        },
        {
          "output_type": "stream",
          "text": [
            "[2021-08-06 22:38:21,246][<ipython-input-49-0825c7523d1d>][line:153][INFO] [0.23971173 0.49804183 0.1835518  0.23834075 0.27855168 0.\n",
            " 0.32603306 0.41033058 0.4107438  0.39775281 0.46885246 0.        ]\n",
            "[2021-08-06 22:38:21,248][<ipython-input-49-0825c7523d1d>][line:163][INFO] No improvement. \n"
          ],
          "name": "stderr"
        },
        {
          "output_type": "stream",
          "text": [
            "Test:  [238/239]  eta: 0:00:00  model_time: 0.0827 (0.0833)  evaluator_time: 0.0018 (0.0020)  time: 0.0904  data: 0.0039  max mem: 5003\n",
            "Test: Total time: 0:00:22 (0.0925 s / it)\n",
            "Averaged stats: model_time: 0.0827 (0.0833)  evaluator_time: 0.0018 (0.0020)\n",
            "Accumulating evaluation results...\n",
            "DONE (t=0.05s).\n",
            "IoU metric: bbox\n",
            " Average Precision  (AP) @[ IoU=0.50:0.95 | area=   all | maxDets=100 ] = 0.240\n",
            " Average Precision  (AP) @[ IoU=0.50      | area=   all | maxDets=100 ] = 0.498\n",
            " Average Precision  (AP) @[ IoU=0.75      | area=   all | maxDets=100 ] = 0.184\n",
            " Average Precision  (AP) @[ IoU=0.50:0.95 | area= small | maxDets=100 ] = 0.238\n",
            " Average Precision  (AP) @[ IoU=0.50:0.95 | area=medium | maxDets=100 ] = 0.279\n",
            " Average Precision  (AP) @[ IoU=0.50:0.95 | area= large | maxDets=100 ] = 0.000\n",
            " Average Recall     (AR) @[ IoU=0.50:0.95 | area=   all | maxDets=  1 ] = 0.326\n",
            " Average Recall     (AR) @[ IoU=0.50:0.95 | area=   all | maxDets= 10 ] = 0.410\n",
            " Average Recall     (AR) @[ IoU=0.50:0.95 | area=   all | maxDets=100 ] = 0.411\n",
            " Average Recall     (AR) @[ IoU=0.50:0.95 | area= small | maxDets=100 ] = 0.398\n",
            " Average Recall     (AR) @[ IoU=0.50:0.95 | area=medium | maxDets=100 ] = 0.469\n",
            " Average Recall     (AR) @[ IoU=0.50:0.95 | area= large | maxDets=100 ] = 0.000\n",
            "Cycle:[1] Epoch: [23]  [  0/239]  eta: 0:04:56  task_lr: 0.000204  task_loss: 0.1506 (0.1506)  time: 1.2412  data: 0.3304  max mem: 5003\n",
            "Cycle:[1] Epoch: [23]  [100/239]  eta: 0:02:08  task_lr: 0.000204  task_loss: 0.1199 (0.1300)  time: 0.9187  data: 0.0143  max mem: 5003\n",
            "Cycle:[1] Epoch: [23]  [200/239]  eta: 0:00:35  task_lr: 0.000204  task_loss: 0.1169 (0.1285)  time: 0.9210  data: 0.0155  max mem: 5003\n",
            "Cycle:[1] Epoch: [23]  [238/239]  eta: 0:00:00  task_lr: 0.000204  task_loss: 0.1180 (0.1271)  time: 0.9185  data: 0.0142  max mem: 5003\n",
            "Cycle:[1] Epoch: [23] Total time: 0:03:40 (0.9221 s / it)\n",
            "creating index...\n",
            "index created!\n",
            "Test:  [  0/239]  eta: 0:01:19  model_time: 0.0936 (0.0936)  evaluator_time: 0.0050 (0.0050)  time: 0.3315  data: 0.2294  max mem: 5003\n",
            "Test:  [100/239]  eta: 0:00:13  model_time: 0.0830 (0.0834)  evaluator_time: 0.0021 (0.0022)  time: 0.0930  data: 0.0045  max mem: 5003\n",
            "Test:  [200/239]  eta: 0:00:03  model_time: 0.0834 (0.0835)  evaluator_time: 0.0022 (0.0023)  time: 0.0948  data: 0.0049  max mem: 5003\n",
            "Test:  [238/239]  eta: 0:00:00  model_time: 0.0836 (0.0836)  evaluator_time: 0.0023 (0.0023)  time: 0.0926  data: 0.0044  max mem: 5003\n",
            "Test: Total time: 0:00:22 (0.0946 s / it)\n",
            "Averaged stats: model_time: 0.0836 (0.0836)  evaluator_time: 0.0023 (0.0023)\n",
            "Accumulating evaluation results...\n",
            "DONE (t=0.06s).\n",
            "IoU metric: bbox\n",
            " Average Precision  (AP) @[ IoU=0.50:0.95 | area=   all | maxDets=100 ] = 0.248\n",
            " Average Precision  (AP) @[ IoU=0.50      | area=   all | maxDets=100 ] = 0.478\n",
            " Average Precision  (AP) @[ IoU=0.75      | area=   all | maxDets=100 ] = 0.232\n",
            " Average Precision  (AP) @[ IoU=0.50:0.95 | area= small | maxDets=100 ] = 0.247\n"
          ],
          "name": "stdout"
        },
        {
          "output_type": "stream",
          "text": [
            "[2021-08-06 22:43:01,223][<ipython-input-49-0825c7523d1d>][line:153][INFO] [0.2475713  0.47840878 0.2323903  0.24704755 0.28180041 0.\n",
            " 0.34752066 0.44380165 0.45785124 0.46123596 0.4704918  0.        ]\n",
            "[2021-08-06 22:43:01,224][<ipython-input-49-0825c7523d1d>][line:163][INFO] No improvement. \n"
          ],
          "name": "stderr"
        },
        {
          "output_type": "stream",
          "text": [
            " Average Precision  (AP) @[ IoU=0.50:0.95 | area=medium | maxDets=100 ] = 0.282\n",
            " Average Precision  (AP) @[ IoU=0.50:0.95 | area= large | maxDets=100 ] = 0.000\n",
            " Average Recall     (AR) @[ IoU=0.50:0.95 | area=   all | maxDets=  1 ] = 0.348\n",
            " Average Recall     (AR) @[ IoU=0.50:0.95 | area=   all | maxDets= 10 ] = 0.444\n",
            " Average Recall     (AR) @[ IoU=0.50:0.95 | area=   all | maxDets=100 ] = 0.458\n",
            " Average Recall     (AR) @[ IoU=0.50:0.95 | area= small | maxDets=100 ] = 0.461\n",
            " Average Recall     (AR) @[ IoU=0.50:0.95 | area=medium | maxDets=100 ] = 0.470\n",
            " Average Recall     (AR) @[ IoU=0.50:0.95 | area= large | maxDets=100 ] = 0.000\n",
            "Cycle:[1] Epoch: [24]  [  0/239]  eta: 0:05:18  task_lr: 0.000196  task_loss: 0.0821 (0.0821)  time: 1.3313  data: 0.3990  max mem: 5003\n",
            "Cycle:[1] Epoch: [24]  [100/239]  eta: 0:02:08  task_lr: 0.000196  task_loss: 0.1221 (0.1299)  time: 0.9208  data: 0.0158  max mem: 5003\n",
            "Cycle:[1] Epoch: [24]  [200/239]  eta: 0:00:35  task_lr: 0.000196  task_loss: 0.1284 (0.1301)  time: 0.9198  data: 0.0146  max mem: 5003\n",
            "Cycle:[1] Epoch: [24]  [238/239]  eta: 0:00:00  task_lr: 0.000196  task_loss: 0.1294 (0.1304)  time: 0.9182  data: 0.0139  max mem: 5003\n",
            "Cycle:[1] Epoch: [24] Total time: 0:03:40 (0.9226 s / it)\n",
            "creating index...\n",
            "index created!\n",
            "Test:  [  0/239]  eta: 0:01:14  model_time: 0.0950 (0.0950)  evaluator_time: 0.0053 (0.0053)  time: 0.3131  data: 0.2107  max mem: 5003\n",
            "Test:  [100/239]  eta: 0:00:13  model_time: 0.0830 (0.0838)  evaluator_time: 0.0019 (0.0021)  time: 0.0908  data: 0.0039  max mem: 5003\n",
            "Test:  [200/239]  eta: 0:00:03  model_time: 0.0833 (0.0836)  evaluator_time: 0.0020 (0.0021)  time: 0.0923  data: 0.0048  max mem: 5003\n"
          ],
          "name": "stdout"
        },
        {
          "output_type": "stream",
          "text": [
            "[2021-08-06 22:47:42,915][<ipython-input-49-0825c7523d1d>][line:153][INFO] [0.24914151 0.45700179 0.24631039 0.25164741 0.27605253 0.\n",
            " 0.33966942 0.44710744 0.45165289 0.45280899 0.4704918  0.        ]\n"
          ],
          "name": "stderr"
        },
        {
          "output_type": "stream",
          "text": [
            "Test:  [238/239]  eta: 0:00:00  model_time: 0.0836 (0.0843)  evaluator_time: 0.0020 (0.0021)  time: 0.1002  data: 0.0044  max mem: 5003\n",
            "Test: Total time: 0:00:22 (0.0936 s / it)\n",
            "Averaged stats: model_time: 0.0836 (0.0843)  evaluator_time: 0.0020 (0.0021)\n",
            "Accumulating evaluation results...\n",
            "DONE (t=0.05s).\n",
            "IoU metric: bbox\n",
            " Average Precision  (AP) @[ IoU=0.50:0.95 | area=   all | maxDets=100 ] = 0.249\n",
            " Average Precision  (AP) @[ IoU=0.50      | area=   all | maxDets=100 ] = 0.457\n",
            " Average Precision  (AP) @[ IoU=0.75      | area=   all | maxDets=100 ] = 0.246\n",
            " Average Precision  (AP) @[ IoU=0.50:0.95 | area= small | maxDets=100 ] = 0.252\n",
            " Average Precision  (AP) @[ IoU=0.50:0.95 | area=medium | maxDets=100 ] = 0.276\n",
            " Average Precision  (AP) @[ IoU=0.50:0.95 | area= large | maxDets=100 ] = 0.000\n",
            " Average Recall     (AR) @[ IoU=0.50:0.95 | area=   all | maxDets=  1 ] = 0.340\n",
            " Average Recall     (AR) @[ IoU=0.50:0.95 | area=   all | maxDets= 10 ] = 0.447\n",
            " Average Recall     (AR) @[ IoU=0.50:0.95 | area=   all | maxDets=100 ] = 0.452\n",
            " Average Recall     (AR) @[ IoU=0.50:0.95 | area= small | maxDets=100 ] = 0.453\n",
            " Average Recall     (AR) @[ IoU=0.50:0.95 | area=medium | maxDets=100 ] = 0.470\n",
            " Average Recall     (AR) @[ IoU=0.50:0.95 | area= large | maxDets=100 ] = 0.000\n"
          ],
          "name": "stdout"
        },
        {
          "output_type": "stream",
          "text": [
            "[2021-08-06 22:47:42,922][<ipython-input-49-0825c7523d1d>][line:163][INFO] No improvement. \n"
          ],
          "name": "stderr"
        },
        {
          "output_type": "stream",
          "text": [
            "Cycle:[1] Epoch: [25]  [  0/239]  eta: 0:05:00  task_lr: 0.000189  task_loss: 0.0769 (0.0769)  time: 1.2578  data: 0.3320  max mem: 5003\n",
            "Cycle:[1] Epoch: [25]  [100/239]  eta: 0:02:08  task_lr: 0.000189  task_loss: 0.1200 (0.1207)  time: 0.9212  data: 0.0146  max mem: 5003\n",
            "Cycle:[1] Epoch: [25]  [200/239]  eta: 0:00:35  task_lr: 0.000189  task_loss: 0.1158 (0.1282)  time: 0.9198  data: 0.0146  max mem: 5003\n",
            "Cycle:[1] Epoch: [25]  [238/239]  eta: 0:00:00  task_lr: 0.000189  task_loss: 0.1099 (0.1260)  time: 0.9202  data: 0.0149  max mem: 5003\n",
            "Cycle:[1] Epoch: [25] Total time: 0:03:40 (0.9229 s / it)\n",
            "creating index...\n",
            "index created!\n",
            "Test:  [  0/239]  eta: 0:01:16  model_time: 0.0946 (0.0946)  evaluator_time: 0.0052 (0.0052)  time: 0.3220  data: 0.2200  max mem: 5003\n",
            "Test:  [100/239]  eta: 0:00:13  model_time: 0.0836 (0.0840)  evaluator_time: 0.0024 (0.0024)  time: 0.0924  data: 0.0044  max mem: 5003\n",
            "Test:  [200/239]  eta: 0:00:03  model_time: 0.0840 (0.0840)  evaluator_time: 0.0023 (0.0024)  time: 0.0929  data: 0.0044  max mem: 5003\n",
            "Test:  [238/239]  eta: 0:00:00  model_time: 0.0837 (0.0839)  evaluator_time: 0.0022 (0.0024)  time: 0.0938  data: 0.0046  max mem: 5003\n",
            "Test: Total time: 0:00:22 (0.0940 s / it)\n",
            "Averaged stats: model_time: 0.0837 (0.0839)  evaluator_time: 0.0022 (0.0024)\n",
            "Accumulating evaluation results...\n",
            "DONE (t=0.06s).\n",
            "IoU metric: bbox\n",
            " Average Precision  (AP) @[ IoU=0.50:0.95 | area=   all | maxDets=100 ] = 0.247\n",
            " Average Precision  (AP) @[ IoU=0.50      | area=   all | maxDets=100 ] = 0.471\n",
            " Average Precision  (AP) @[ IoU=0.75      | area=   all | maxDets=100 ] = 0.225\n",
            " Average Precision  (AP) @[ IoU=0.50:0.95 | area= small | maxDets=100 ] = 0.251\n",
            " Average Precision  (AP) @[ IoU=0.50:0.95 | area=medium | maxDets=100 ] = 0.258\n",
            " Average Precision  (AP) @[ IoU=0.50:0.95 | area= large | maxDets=100 ] = 0.001\n",
            " Average Recall     (AR) @[ IoU=0.50:0.95 | area=   all | maxDets=  1 ] = 0.321\n",
            " Average Recall     (AR) @[ IoU=0.50:0.95 | area=   all | maxDets= 10 ] = 0.441\n",
            " Average Recall     (AR) @[ IoU=0.50:0.95 | area=   all | maxDets=100 ] = 0.443\n",
            " Average Recall     (AR) @[ IoU=0.50:0.95 | area= small | maxDets=100 ] = 0.442\n",
            " Average Recall     (AR) @[ IoU=0.50:0.95 | area=medium | maxDets=100 ] = 0.464\n",
            " Average Recall     (AR) @[ IoU=0.50:0.95 | area= large | maxDets=100 ] = 0.067\n"
          ],
          "name": "stdout"
        },
        {
          "output_type": "stream",
          "text": [
            "[2021-08-06 22:52:23,334][<ipython-input-49-0825c7523d1d>][line:153][INFO] [0.24669367 0.47118889 0.22532936 0.25138256 0.25844688 0.00092228\n",
            " 0.32066116 0.44090909 0.44256198 0.44157303 0.46393443 0.06666667]\n",
            "[2021-08-06 22:52:23,344][<ipython-input-49-0825c7523d1d>][line:163][INFO] No improvement. \n"
          ],
          "name": "stderr"
        },
        {
          "output_type": "stream",
          "text": [
            "Cycle:[1] Epoch: [26]  [  0/239]  eta: 0:05:17  task_lr: 0.000181  task_loss: 0.0738 (0.0738)  time: 1.3295  data: 0.4136  max mem: 5003\n",
            "Cycle:[1] Epoch: [26]  [100/239]  eta: 0:02:08  task_lr: 0.000181  task_loss: 0.1236 (0.1194)  time: 0.9231  data: 0.0163  max mem: 5003\n",
            "Cycle:[1] Epoch: [26]  [200/239]  eta: 0:00:35  task_lr: 0.000181  task_loss: 0.1196 (0.1233)  time: 0.9194  data: 0.0147  max mem: 5003\n",
            "Cycle:[1] Epoch: [26]  [238/239]  eta: 0:00:00  task_lr: 0.000181  task_loss: 0.1151 (0.1243)  time: 0.9214  data: 0.0150  max mem: 5003\n",
            "Cycle:[1] Epoch: [26] Total time: 0:03:40 (0.9231 s / it)\n",
            "creating index...\n",
            "index created!\n",
            "Test:  [  0/239]  eta: 0:01:16  model_time: 0.0956 (0.0956)  evaluator_time: 0.0050 (0.0050)  time: 0.3217  data: 0.2176  max mem: 5003\n",
            "Test:  [100/239]  eta: 0:00:13  model_time: 0.0831 (0.0836)  evaluator_time: 0.0022 (0.0022)  time: 0.0919  data: 0.0042  max mem: 5003\n",
            "Test:  [200/239]  eta: 0:00:03  model_time: 0.0838 (0.0836)  evaluator_time: 0.0023 (0.0023)  time: 0.0918  data: 0.0041  max mem: 5003\n",
            "Test:  [238/239]  eta: 0:00:00  model_time: 0.0838 (0.0836)  evaluator_time: 0.0021 (0.0023)  time: 0.0916  data: 0.0040  max mem: 5003\n",
            "Test: Total time: 0:00:22 (0.0934 s / it)\n",
            "Averaged stats: model_time: 0.0838 (0.0836)  evaluator_time: 0.0021 (0.0023)\n",
            "Accumulating evaluation results...\n",
            "DONE (t=0.06s).\n",
            "IoU metric: bbox\n",
            " Average Precision  (AP) @[ IoU=0.50:0.95 | area=   all | maxDets=100 ] = 0.244\n",
            " Average Precision  (AP) @[ IoU=0.50      | area=   all | maxDets=100 ] = 0.470\n",
            " Average Precision  (AP) @[ IoU=0.75      | area=   all | maxDets=100 ] = 0.217\n",
            " Average Precision  (AP) @[ IoU=0.50:0.95 | area= small | maxDets=100 ] = 0.249\n",
            " Average Precision  (AP) @[ IoU=0.50:0.95 | area=medium | maxDets=100 ] = 0.268\n",
            " Average Precision  (AP) @[ IoU=0.50:0.95 | area= large | maxDets=100 ] = 0.000\n",
            " Average Recall     (AR) @[ IoU=0.50:0.95 | area=   all | maxDets=  1 ] = 0.331\n",
            " Average Recall     (AR) @[ IoU=0.50:0.95 | area=   all | maxDets= 10 ] = 0.440\n",
            " Average Recall     (AR) @[ IoU=0.50:0.95 | area=   all | maxDets=100 ] = 0.445\n",
            " Average Recall     (AR) @[ IoU=0.50:0.95 | area= small | maxDets=100 ] = 0.444\n",
            " Average Recall     (AR) @[ IoU=0.50:0.95 | area=medium | maxDets=100 ] = 0.470\n",
            " Average Recall     (AR) @[ IoU=0.50:0.95 | area= large | maxDets=100 ] = 0.000\n"
          ],
          "name": "stdout"
        },
        {
          "output_type": "stream",
          "text": [
            "[2021-08-06 22:57:04,328][<ipython-input-49-0825c7523d1d>][line:153][INFO] [0.24401736 0.46950377 0.21694836 0.24859894 0.26785733 0.\n",
            " 0.33140496 0.44008264 0.44504132 0.44382022 0.4704918  0.        ]\n",
            "[2021-08-06 22:57:04,336][<ipython-input-49-0825c7523d1d>][line:163][INFO] No improvement. \n"
          ],
          "name": "stderr"
        },
        {
          "output_type": "stream",
          "text": [
            "Cycle:[1] Epoch: [27]  [  0/239]  eta: 0:05:21  task_lr: 0.000173  task_loss: 0.0842 (0.0842)  time: 1.3462  data: 0.4273  max mem: 5003\n",
            "Cycle:[1] Epoch: [27]  [100/239]  eta: 0:02:08  task_lr: 0.000173  task_loss: 0.1227 (0.1290)  time: 0.9208  data: 0.0150  max mem: 5003\n",
            "Cycle:[1] Epoch: [27]  [200/239]  eta: 0:00:35  task_lr: 0.000173  task_loss: 0.1250 (0.1255)  time: 0.9217  data: 0.0160  max mem: 5003\n",
            "Cycle:[1] Epoch: [27]  [238/239]  eta: 0:00:00  task_lr: 0.000173  task_loss: 0.1218 (0.1257)  time: 0.9172  data: 0.0138  max mem: 5003\n",
            "Cycle:[1] Epoch: [27] Total time: 0:03:40 (0.9223 s / it)\n",
            "creating index...\n",
            "index created!\n",
            "Test:  [  0/239]  eta: 0:01:14  model_time: 0.0944 (0.0944)  evaluator_time: 0.0047 (0.0047)  time: 0.3117  data: 0.2105  max mem: 5003\n",
            "Test:  [100/239]  eta: 0:00:12  model_time: 0.0828 (0.0832)  evaluator_time: 0.0022 (0.0021)  time: 0.0905  data: 0.0037  max mem: 5003\n",
            "Test:  [200/239]  eta: 0:00:03  model_time: 0.0828 (0.0831)  evaluator_time: 0.0020 (0.0021)  time: 0.0900  data: 0.0037  max mem: 5003\n"
          ],
          "name": "stdout"
        },
        {
          "output_type": "stream",
          "text": [
            "[2021-08-06 23:01:43,822][<ipython-input-49-0825c7523d1d>][line:153][INFO] [0.17413889 0.45100087 0.10128692 0.17718033 0.20167691 0.\n",
            " 0.26942149 0.37107438 0.3731405  0.36067416 0.42786885 0.        ]\n",
            "[2021-08-06 23:01:43,824][<ipython-input-49-0825c7523d1d>][line:163][INFO] No improvement. \n"
          ],
          "name": "stderr"
        },
        {
          "output_type": "stream",
          "text": [
            "Test:  [238/239]  eta: 0:00:00  model_time: 0.0828 (0.0830)  evaluator_time: 0.0019 (0.0021)  time: 0.0913  data: 0.0041  max mem: 5003\n",
            "Test: Total time: 0:00:22 (0.0921 s / it)\n",
            "Averaged stats: model_time: 0.0828 (0.0830)  evaluator_time: 0.0019 (0.0021)\n",
            "Accumulating evaluation results...\n",
            "DONE (t=0.05s).\n",
            "IoU metric: bbox\n",
            " Average Precision  (AP) @[ IoU=0.50:0.95 | area=   all | maxDets=100 ] = 0.174\n",
            " Average Precision  (AP) @[ IoU=0.50      | area=   all | maxDets=100 ] = 0.451\n",
            " Average Precision  (AP) @[ IoU=0.75      | area=   all | maxDets=100 ] = 0.101\n",
            " Average Precision  (AP) @[ IoU=0.50:0.95 | area= small | maxDets=100 ] = 0.177\n",
            " Average Precision  (AP) @[ IoU=0.50:0.95 | area=medium | maxDets=100 ] = 0.202\n",
            " Average Precision  (AP) @[ IoU=0.50:0.95 | area= large | maxDets=100 ] = 0.000\n",
            " Average Recall     (AR) @[ IoU=0.50:0.95 | area=   all | maxDets=  1 ] = 0.269\n",
            " Average Recall     (AR) @[ IoU=0.50:0.95 | area=   all | maxDets= 10 ] = 0.371\n",
            " Average Recall     (AR) @[ IoU=0.50:0.95 | area=   all | maxDets=100 ] = 0.373\n",
            " Average Recall     (AR) @[ IoU=0.50:0.95 | area= small | maxDets=100 ] = 0.361\n",
            " Average Recall     (AR) @[ IoU=0.50:0.95 | area=medium | maxDets=100 ] = 0.428\n",
            " Average Recall     (AR) @[ IoU=0.50:0.95 | area= large | maxDets=100 ] = 0.000\n",
            "Cycle:[1] Epoch: [28]  [  0/239]  eta: 0:05:00  task_lr: 0.000166  task_loss: 0.0924 (0.0924)  time: 1.2565  data: 0.3469  max mem: 5003\n",
            "Cycle:[1] Epoch: [28]  [100/239]  eta: 0:02:08  task_lr: 0.000166  task_loss: 0.1275 (0.1236)  time: 0.9199  data: 0.0149  max mem: 5003\n",
            "Cycle:[1] Epoch: [28]  [200/239]  eta: 0:00:35  task_lr: 0.000166  task_loss: 0.1162 (0.1257)  time: 0.9190  data: 0.0145  max mem: 5003\n",
            "Cycle:[1] Epoch: [28]  [238/239]  eta: 0:00:00  task_lr: 0.000166  task_loss: 0.1212 (0.1254)  time: 0.9175  data: 0.0138  max mem: 5003\n",
            "Cycle:[1] Epoch: [28] Total time: 0:03:40 (0.9215 s / it)\n",
            "creating index...\n",
            "index created!\n",
            "Test:  [  0/239]  eta: 0:01:12  model_time: 0.1011 (0.1011)  evaluator_time: 0.0056 (0.0056)  time: 0.3048  data: 0.1954  max mem: 5003\n",
            "Test:  [100/239]  eta: 0:00:12  model_time: 0.0829 (0.0834)  evaluator_time: 0.0018 (0.0019)  time: 0.0902  data: 0.0038  max mem: 5003\n",
            "Test:  [200/239]  eta: 0:00:03  model_time: 0.0825 (0.0837)  evaluator_time: 0.0017 (0.0019)  time: 0.0894  data: 0.0036  max mem: 5003\n"
          ],
          "name": "stdout"
        },
        {
          "output_type": "stream",
          "text": [
            "[2021-08-06 23:06:21,633][<ipython-input-49-0825c7523d1d>][line:153][INFO] [0.26594287 0.50907693 0.25390259 0.26895925 0.28428202 0.\n",
            " 0.37231405 0.45619835 0.45950413 0.46404494 0.46885246 0.        ]\n",
            "[2021-08-06 23:06:21,634][<ipython-input-49-0825c7523d1d>][line:159][INFO] Saving best checkpoints for mAP 0.265943\n"
          ],
          "name": "stderr"
        },
        {
          "output_type": "stream",
          "text": [
            "Test:  [238/239]  eta: 0:00:00  model_time: 0.0825 (0.0836)  evaluator_time: 0.0017 (0.0019)  time: 0.0892  data: 0.0036  max mem: 5003\n",
            "Test: Total time: 0:00:22 (0.0922 s / it)\n",
            "Averaged stats: model_time: 0.0825 (0.0836)  evaluator_time: 0.0017 (0.0019)\n",
            "Accumulating evaluation results...\n",
            "DONE (t=0.04s).\n",
            "IoU metric: bbox\n",
            " Average Precision  (AP) @[ IoU=0.50:0.95 | area=   all | maxDets=100 ] = 0.266\n",
            " Average Precision  (AP) @[ IoU=0.50      | area=   all | maxDets=100 ] = 0.509\n",
            " Average Precision  (AP) @[ IoU=0.75      | area=   all | maxDets=100 ] = 0.254\n",
            " Average Precision  (AP) @[ IoU=0.50:0.95 | area= small | maxDets=100 ] = 0.269\n",
            " Average Precision  (AP) @[ IoU=0.50:0.95 | area=medium | maxDets=100 ] = 0.284\n",
            " Average Precision  (AP) @[ IoU=0.50:0.95 | area= large | maxDets=100 ] = 0.000\n",
            " Average Recall     (AR) @[ IoU=0.50:0.95 | area=   all | maxDets=  1 ] = 0.372\n",
            " Average Recall     (AR) @[ IoU=0.50:0.95 | area=   all | maxDets= 10 ] = 0.456\n",
            " Average Recall     (AR) @[ IoU=0.50:0.95 | area=   all | maxDets=100 ] = 0.460\n",
            " Average Recall     (AR) @[ IoU=0.50:0.95 | area= small | maxDets=100 ] = 0.464\n",
            " Average Recall     (AR) @[ IoU=0.50:0.95 | area=medium | maxDets=100 ] = 0.469\n",
            " Average Recall     (AR) @[ IoU=0.50:0.95 | area= large | maxDets=100 ] = 0.000\n",
            "Cycle:[1] Epoch: [29]  [  0/239]  eta: 0:05:02  task_lr: 0.000158  task_loss: 0.0819 (0.0819)  time: 1.2675  data: 0.3587  max mem: 5003\n",
            "Cycle:[1] Epoch: [29]  [100/239]  eta: 0:02:08  task_lr: 0.000158  task_loss: 0.1189 (0.1250)  time: 0.9198  data: 0.0155  max mem: 5003\n",
            "Cycle:[1] Epoch: [29]  [200/239]  eta: 0:00:35  task_lr: 0.000158  task_loss: 0.0987 (0.1225)  time: 0.9225  data: 0.0164  max mem: 5003\n",
            "Cycle:[1] Epoch: [29]  [238/239]  eta: 0:00:00  task_lr: 0.000158  task_loss: 0.1165 (0.1243)  time: 0.9225  data: 0.0166  max mem: 5003\n",
            "Cycle:[1] Epoch: [29] Total time: 0:03:40 (0.9223 s / it)\n",
            "creating index...\n",
            "index created!\n",
            "Test:  [  0/239]  eta: 0:01:14  model_time: 0.0944 (0.0944)  evaluator_time: 0.0058 (0.0058)  time: 0.3127  data: 0.2106  max mem: 5003\n",
            "Test:  [100/239]  eta: 0:00:12  model_time: 0.0830 (0.0831)  evaluator_time: 0.0020 (0.0020)  time: 0.0906  data: 0.0039  max mem: 5003\n",
            "Test:  [200/239]  eta: 0:00:03  model_time: 0.0829 (0.0831)  evaluator_time: 0.0021 (0.0020)  time: 0.0907  data: 0.0041  max mem: 5003\n"
          ],
          "name": "stdout"
        },
        {
          "output_type": "stream",
          "text": [
            "[2021-08-06 23:10:59,962][<ipython-input-49-0825c7523d1d>][line:153][INFO] [0.25923251 0.48055807 0.25875828 0.26404851 0.26895845 0.\n",
            " 0.33057851 0.43140496 0.43429752 0.43764045 0.44590164 0.        ]\n",
            "[2021-08-06 23:10:59,964][<ipython-input-49-0825c7523d1d>][line:163][INFO] No improvement. \n"
          ],
          "name": "stderr"
        },
        {
          "output_type": "stream",
          "text": [
            "Test:  [238/239]  eta: 0:00:00  model_time: 0.0829 (0.0831)  evaluator_time: 0.0019 (0.0020)  time: 0.0905  data: 0.0040  max mem: 5003\n",
            "Test: Total time: 0:00:21 (0.0920 s / it)\n",
            "Averaged stats: model_time: 0.0829 (0.0831)  evaluator_time: 0.0019 (0.0020)\n",
            "Accumulating evaluation results...\n",
            "DONE (t=0.05s).\n",
            "IoU metric: bbox\n",
            " Average Precision  (AP) @[ IoU=0.50:0.95 | area=   all | maxDets=100 ] = 0.259\n",
            " Average Precision  (AP) @[ IoU=0.50      | area=   all | maxDets=100 ] = 0.481\n",
            " Average Precision  (AP) @[ IoU=0.75      | area=   all | maxDets=100 ] = 0.259\n",
            " Average Precision  (AP) @[ IoU=0.50:0.95 | area= small | maxDets=100 ] = 0.264\n",
            " Average Precision  (AP) @[ IoU=0.50:0.95 | area=medium | maxDets=100 ] = 0.269\n",
            " Average Precision  (AP) @[ IoU=0.50:0.95 | area= large | maxDets=100 ] = 0.000\n",
            " Average Recall     (AR) @[ IoU=0.50:0.95 | area=   all | maxDets=  1 ] = 0.331\n",
            " Average Recall     (AR) @[ IoU=0.50:0.95 | area=   all | maxDets= 10 ] = 0.431\n",
            " Average Recall     (AR) @[ IoU=0.50:0.95 | area=   all | maxDets=100 ] = 0.434\n",
            " Average Recall     (AR) @[ IoU=0.50:0.95 | area= small | maxDets=100 ] = 0.438\n",
            " Average Recall     (AR) @[ IoU=0.50:0.95 | area=medium | maxDets=100 ] = 0.446\n",
            " Average Recall     (AR) @[ IoU=0.50:0.95 | area= large | maxDets=100 ] = 0.000\n",
            "Cycle:[1] Epoch: [30]  [  0/239]  eta: 0:05:18  task_lr: 0.000150  task_loss: 0.2788 (0.2788)  time: 1.3334  data: 0.4061  max mem: 5003\n",
            "Cycle:[1] Epoch: [30]  [100/239]  eta: 0:02:08  task_lr: 0.000150  task_loss: 0.1179 (0.1224)  time: 0.9186  data: 0.0145  max mem: 5003\n",
            "Cycle:[1] Epoch: [30]  [200/239]  eta: 0:00:35  task_lr: 0.000150  task_loss: 0.1184 (0.1225)  time: 0.9200  data: 0.0152  max mem: 5003\n",
            "Cycle:[1] Epoch: [30]  [238/239]  eta: 0:00:00  task_lr: 0.000150  task_loss: 0.1127 (0.1229)  time: 0.9181  data: 0.0140  max mem: 5003\n",
            "Cycle:[1] Epoch: [30] Total time: 0:03:40 (0.9215 s / it)\n",
            "creating index...\n",
            "index created!\n",
            "Test:  [  0/239]  eta: 0:01:11  model_time: 0.0957 (0.0957)  evaluator_time: 0.0050 (0.0050)  time: 0.3008  data: 0.1976  max mem: 5003\n",
            "Test:  [100/239]  eta: 0:00:12  model_time: 0.0831 (0.0835)  evaluator_time: 0.0021 (0.0022)  time: 0.0909  data: 0.0040  max mem: 5003\n",
            "Test:  [200/239]  eta: 0:00:03  model_time: 0.0826 (0.0833)  evaluator_time: 0.0018 (0.0022)  time: 0.0898  data: 0.0036  max mem: 5003\n"
          ],
          "name": "stdout"
        },
        {
          "output_type": "stream",
          "text": [
            "[2021-08-06 23:15:38,291][<ipython-input-49-0825c7523d1d>][line:153][INFO] [0.26707802 0.47158323 0.28029243 0.28263799 0.26268331 0.0010201\n",
            " 0.34876033 0.46983471 0.47727273 0.49325843 0.45245902 0.03333333]\n",
            "[2021-08-06 23:15:38,292][<ipython-input-49-0825c7523d1d>][line:159][INFO] Saving best checkpoints for mAP 0.267078\n"
          ],
          "name": "stderr"
        },
        {
          "output_type": "stream",
          "text": [
            "Test:  [238/239]  eta: 0:00:00  model_time: 0.0825 (0.0832)  evaluator_time: 0.0018 (0.0021)  time: 0.0893  data: 0.0035  max mem: 5003\n",
            "Test: Total time: 0:00:22 (0.0922 s / it)\n",
            "Averaged stats: model_time: 0.0825 (0.0832)  evaluator_time: 0.0018 (0.0021)\n",
            "Accumulating evaluation results...\n",
            "DONE (t=0.05s).\n",
            "IoU metric: bbox\n",
            " Average Precision  (AP) @[ IoU=0.50:0.95 | area=   all | maxDets=100 ] = 0.267\n",
            " Average Precision  (AP) @[ IoU=0.50      | area=   all | maxDets=100 ] = 0.472\n",
            " Average Precision  (AP) @[ IoU=0.75      | area=   all | maxDets=100 ] = 0.280\n",
            " Average Precision  (AP) @[ IoU=0.50:0.95 | area= small | maxDets=100 ] = 0.283\n",
            " Average Precision  (AP) @[ IoU=0.50:0.95 | area=medium | maxDets=100 ] = 0.263\n",
            " Average Precision  (AP) @[ IoU=0.50:0.95 | area= large | maxDets=100 ] = 0.001\n",
            " Average Recall     (AR) @[ IoU=0.50:0.95 | area=   all | maxDets=  1 ] = 0.349\n",
            " Average Recall     (AR) @[ IoU=0.50:0.95 | area=   all | maxDets= 10 ] = 0.470\n",
            " Average Recall     (AR) @[ IoU=0.50:0.95 | area=   all | maxDets=100 ] = 0.477\n",
            " Average Recall     (AR) @[ IoU=0.50:0.95 | area= small | maxDets=100 ] = 0.493\n",
            " Average Recall     (AR) @[ IoU=0.50:0.95 | area=medium | maxDets=100 ] = 0.452\n",
            " Average Recall     (AR) @[ IoU=0.50:0.95 | area= large | maxDets=100 ] = 0.033\n",
            "Cycle:[1] Epoch: [31]  [  0/239]  eta: 0:05:02  task_lr: 0.000142  task_loss: 0.0982 (0.0982)  time: 1.2649  data: 0.3536  max mem: 5003\n",
            "Cycle:[1] Epoch: [31]  [100/239]  eta: 0:02:08  task_lr: 0.000142  task_loss: 0.1036 (0.1229)  time: 0.9200  data: 0.0150  max mem: 5003\n",
            "Cycle:[1] Epoch: [31]  [200/239]  eta: 0:00:35  task_lr: 0.000142  task_loss: 0.1110 (0.1194)  time: 0.9167  data: 0.0135  max mem: 5003\n",
            "Cycle:[1] Epoch: [31]  [238/239]  eta: 0:00:00  task_lr: 0.000142  task_loss: 0.1072 (0.1179)  time: 0.9201  data: 0.0149  max mem: 5003\n",
            "Cycle:[1] Epoch: [31] Total time: 0:03:40 (0.9213 s / it)\n",
            "creating index...\n",
            "index created!\n",
            "Test:  [  0/239]  eta: 0:01:14  model_time: 0.0959 (0.0959)  evaluator_time: 0.0048 (0.0048)  time: 0.3105  data: 0.2076  max mem: 5003\n",
            "Test:  [100/239]  eta: 0:00:12  model_time: 0.0827 (0.0831)  evaluator_time: 0.0018 (0.0019)  time: 0.0901  data: 0.0038  max mem: 5003\n",
            "Test:  [200/239]  eta: 0:00:03  model_time: 0.0833 (0.0832)  evaluator_time: 0.0020 (0.0020)  time: 0.0908  data: 0.0039  max mem: 5003\n"
          ],
          "name": "stdout"
        },
        {
          "output_type": "stream",
          "text": [
            "[2021-08-06 23:20:17,020][<ipython-input-49-0825c7523d1d>][line:153][INFO] [0.26350423 0.49269515 0.27340798 0.26714262 0.28335884 0.\n",
            " 0.3553719  0.44669421 0.44710744 0.45449438 0.44754098 0.        ]\n",
            "[2021-08-06 23:20:17,021][<ipython-input-49-0825c7523d1d>][line:163][INFO] No improvement. \n"
          ],
          "name": "stderr"
        },
        {
          "output_type": "stream",
          "text": [
            "Test:  [238/239]  eta: 0:00:00  model_time: 0.0832 (0.0832)  evaluator_time: 0.0018 (0.0020)  time: 0.0905  data: 0.0038  max mem: 5003\n",
            "Test: Total time: 0:00:21 (0.0920 s / it)\n",
            "Averaged stats: model_time: 0.0832 (0.0832)  evaluator_time: 0.0018 (0.0020)\n",
            "Accumulating evaluation results...\n",
            "DONE (t=0.05s).\n",
            "IoU metric: bbox\n",
            " Average Precision  (AP) @[ IoU=0.50:0.95 | area=   all | maxDets=100 ] = 0.264\n",
            " Average Precision  (AP) @[ IoU=0.50      | area=   all | maxDets=100 ] = 0.493\n",
            " Average Precision  (AP) @[ IoU=0.75      | area=   all | maxDets=100 ] = 0.273\n",
            " Average Precision  (AP) @[ IoU=0.50:0.95 | area= small | maxDets=100 ] = 0.267\n",
            " Average Precision  (AP) @[ IoU=0.50:0.95 | area=medium | maxDets=100 ] = 0.283\n",
            " Average Precision  (AP) @[ IoU=0.50:0.95 | area= large | maxDets=100 ] = 0.000\n",
            " Average Recall     (AR) @[ IoU=0.50:0.95 | area=   all | maxDets=  1 ] = 0.355\n",
            " Average Recall     (AR) @[ IoU=0.50:0.95 | area=   all | maxDets= 10 ] = 0.447\n",
            " Average Recall     (AR) @[ IoU=0.50:0.95 | area=   all | maxDets=100 ] = 0.447\n",
            " Average Recall     (AR) @[ IoU=0.50:0.95 | area= small | maxDets=100 ] = 0.454\n",
            " Average Recall     (AR) @[ IoU=0.50:0.95 | area=medium | maxDets=100 ] = 0.448\n",
            " Average Recall     (AR) @[ IoU=0.50:0.95 | area= large | maxDets=100 ] = 0.000\n",
            "Cycle:[1] Epoch: [32]  [  0/239]  eta: 0:05:14  task_lr: 0.000134  task_loss: 0.1682 (0.1682)  time: 1.3142  data: 0.3929  max mem: 5003\n",
            "Cycle:[1] Epoch: [32]  [100/239]  eta: 0:02:08  task_lr: 0.000134  task_loss: 0.0987 (0.1205)  time: 0.9190  data: 0.0146  max mem: 5003\n",
            "Cycle:[1] Epoch: [32]  [200/239]  eta: 0:00:35  task_lr: 0.000134  task_loss: 0.1125 (0.1195)  time: 0.9199  data: 0.0152  max mem: 5003\n",
            "Cycle:[1] Epoch: [32]  [238/239]  eta: 0:00:00  task_lr: 0.000134  task_loss: 0.1145 (0.1199)  time: 0.9177  data: 0.0145  max mem: 5003\n",
            "Cycle:[1] Epoch: [32] Total time: 0:03:40 (0.9210 s / it)\n",
            "creating index...\n",
            "index created!\n",
            "Test:  [  0/239]  eta: 0:01:17  model_time: 0.0960 (0.0960)  evaluator_time: 0.0054 (0.0054)  time: 0.3231  data: 0.2192  max mem: 5003\n",
            "Test:  [100/239]  eta: 0:00:12  model_time: 0.0827 (0.0831)  evaluator_time: 0.0018 (0.0020)  time: 0.0898  data: 0.0037  max mem: 5003\n",
            "Test:  [200/239]  eta: 0:00:03  model_time: 0.0827 (0.0830)  evaluator_time: 0.0018 (0.0020)  time: 0.0921  data: 0.0042  max mem: 5003\n"
          ],
          "name": "stdout"
        },
        {
          "output_type": "stream",
          "text": [
            "[2021-08-06 23:24:56,131][<ipython-input-49-0825c7523d1d>][line:153][INFO] [0.2303181  0.5017559  0.1672773  0.22718676 0.28279798 0.00120226\n",
            " 0.32190083 0.40123967 0.40330579 0.38370787 0.47704918 0.06666667]\n",
            "[2021-08-06 23:24:56,132][<ipython-input-49-0825c7523d1d>][line:163][INFO] No improvement. \n"
          ],
          "name": "stderr"
        },
        {
          "output_type": "stream",
          "text": [
            "Test:  [238/239]  eta: 0:00:00  model_time: 0.0828 (0.0829)  evaluator_time: 0.0018 (0.0020)  time: 0.0915  data: 0.0041  max mem: 5003\n",
            "Test: Total time: 0:00:22 (0.0924 s / it)\n",
            "Averaged stats: model_time: 0.0828 (0.0829)  evaluator_time: 0.0018 (0.0020)\n",
            "Accumulating evaluation results...\n",
            "DONE (t=0.05s).\n",
            "IoU metric: bbox\n",
            " Average Precision  (AP) @[ IoU=0.50:0.95 | area=   all | maxDets=100 ] = 0.230\n",
            " Average Precision  (AP) @[ IoU=0.50      | area=   all | maxDets=100 ] = 0.502\n",
            " Average Precision  (AP) @[ IoU=0.75      | area=   all | maxDets=100 ] = 0.167\n",
            " Average Precision  (AP) @[ IoU=0.50:0.95 | area= small | maxDets=100 ] = 0.227\n",
            " Average Precision  (AP) @[ IoU=0.50:0.95 | area=medium | maxDets=100 ] = 0.283\n",
            " Average Precision  (AP) @[ IoU=0.50:0.95 | area= large | maxDets=100 ] = 0.001\n",
            " Average Recall     (AR) @[ IoU=0.50:0.95 | area=   all | maxDets=  1 ] = 0.322\n",
            " Average Recall     (AR) @[ IoU=0.50:0.95 | area=   all | maxDets= 10 ] = 0.401\n",
            " Average Recall     (AR) @[ IoU=0.50:0.95 | area=   all | maxDets=100 ] = 0.403\n",
            " Average Recall     (AR) @[ IoU=0.50:0.95 | area= small | maxDets=100 ] = 0.384\n",
            " Average Recall     (AR) @[ IoU=0.50:0.95 | area=medium | maxDets=100 ] = 0.477\n",
            " Average Recall     (AR) @[ IoU=0.50:0.95 | area= large | maxDets=100 ] = 0.067\n",
            "Cycle:[1] Epoch: [33]  [  0/239]  eta: 0:05:03  task_lr: 0.000127  task_loss: 0.0718 (0.0718)  time: 1.2696  data: 0.3502  max mem: 5003\n",
            "Cycle:[1] Epoch: [33]  [100/239]  eta: 0:02:08  task_lr: 0.000127  task_loss: 0.1286 (0.1219)  time: 0.9180  data: 0.0143  max mem: 5003\n",
            "Cycle:[1] Epoch: [33]  [200/239]  eta: 0:00:35  task_lr: 0.000127  task_loss: 0.0908 (0.1172)  time: 0.9209  data: 0.0150  max mem: 5003\n",
            "Cycle:[1] Epoch: [33]  [238/239]  eta: 0:00:00  task_lr: 0.000127  task_loss: 0.0995 (0.1159)  time: 0.9179  data: 0.0135  max mem: 5003\n",
            "Cycle:[1] Epoch: [33] Total time: 0:03:40 (0.9217 s / it)\n",
            "creating index...\n",
            "index created!\n",
            "Test:  [  0/239]  eta: 0:01:16  model_time: 0.1011 (0.1011)  evaluator_time: 0.0050 (0.0050)  time: 0.3184  data: 0.2103  max mem: 5003\n",
            "Test:  [100/239]  eta: 0:00:12  model_time: 0.0827 (0.0833)  evaluator_time: 0.0018 (0.0019)  time: 0.0901  data: 0.0037  max mem: 5003\n",
            "Test:  [200/239]  eta: 0:00:03  model_time: 0.0829 (0.0831)  evaluator_time: 0.0018 (0.0019)  time: 0.0899  data: 0.0037  max mem: 5003\n"
          ],
          "name": "stdout"
        },
        {
          "output_type": "stream",
          "text": [
            "[2021-08-06 23:29:34,954][<ipython-input-49-0825c7523d1d>][line:153][INFO] [0.26151797 0.47982603 0.25757304 0.26512086 0.27762322 0.\n",
            " 0.34793388 0.47355372 0.47355372 0.47977528 0.47868852 0.        ]\n",
            "[2021-08-06 23:29:34,956][<ipython-input-49-0825c7523d1d>][line:163][INFO] No improvement. \n"
          ],
          "name": "stderr"
        },
        {
          "output_type": "stream",
          "text": [
            "Test:  [238/239]  eta: 0:00:00  model_time: 0.0828 (0.0831)  evaluator_time: 0.0016 (0.0019)  time: 0.0905  data: 0.0040  max mem: 5003\n",
            "Test: Total time: 0:00:21 (0.0919 s / it)\n",
            "Averaged stats: model_time: 0.0828 (0.0831)  evaluator_time: 0.0016 (0.0019)\n",
            "Accumulating evaluation results...\n",
            "DONE (t=0.04s).\n",
            "IoU metric: bbox\n",
            " Average Precision  (AP) @[ IoU=0.50:0.95 | area=   all | maxDets=100 ] = 0.262\n",
            " Average Precision  (AP) @[ IoU=0.50      | area=   all | maxDets=100 ] = 0.480\n",
            " Average Precision  (AP) @[ IoU=0.75      | area=   all | maxDets=100 ] = 0.258\n",
            " Average Precision  (AP) @[ IoU=0.50:0.95 | area= small | maxDets=100 ] = 0.265\n",
            " Average Precision  (AP) @[ IoU=0.50:0.95 | area=medium | maxDets=100 ] = 0.278\n",
            " Average Precision  (AP) @[ IoU=0.50:0.95 | area= large | maxDets=100 ] = 0.000\n",
            " Average Recall     (AR) @[ IoU=0.50:0.95 | area=   all | maxDets=  1 ] = 0.348\n",
            " Average Recall     (AR) @[ IoU=0.50:0.95 | area=   all | maxDets= 10 ] = 0.474\n",
            " Average Recall     (AR) @[ IoU=0.50:0.95 | area=   all | maxDets=100 ] = 0.474\n",
            " Average Recall     (AR) @[ IoU=0.50:0.95 | area= small | maxDets=100 ] = 0.480\n",
            " Average Recall     (AR) @[ IoU=0.50:0.95 | area=medium | maxDets=100 ] = 0.479\n",
            " Average Recall     (AR) @[ IoU=0.50:0.95 | area= large | maxDets=100 ] = 0.000\n",
            "Cycle:[1] Epoch: [34]  [  0/239]  eta: 0:05:11  task_lr: 0.000119  task_loss: 0.1205 (0.1205)  time: 1.3023  data: 0.3880  max mem: 5003\n",
            "Cycle:[1] Epoch: [34]  [100/239]  eta: 0:02:08  task_lr: 0.000119  task_loss: 0.1082 (0.1167)  time: 0.9181  data: 0.0137  max mem: 5003\n",
            "Cycle:[1] Epoch: [34]  [200/239]  eta: 0:00:35  task_lr: 0.000119  task_loss: 0.1009 (0.1164)  time: 0.9184  data: 0.0146  max mem: 5003\n",
            "Cycle:[1] Epoch: [34]  [238/239]  eta: 0:00:00  task_lr: 0.000119  task_loss: 0.1126 (0.1168)  time: 0.9209  data: 0.0155  max mem: 5003\n",
            "Cycle:[1] Epoch: [34] Total time: 0:03:40 (0.9222 s / it)\n",
            "creating index...\n",
            "index created!\n",
            "Test:  [  0/239]  eta: 0:01:17  model_time: 0.1034 (0.1034)  evaluator_time: 0.0058 (0.0058)  time: 0.3225  data: 0.2113  max mem: 5003\n",
            "Test:  [100/239]  eta: 0:00:13  model_time: 0.0833 (0.0838)  evaluator_time: 0.0023 (0.0023)  time: 0.0915  data: 0.0041  max mem: 5003\n",
            "Test:  [200/239]  eta: 0:00:03  model_time: 0.0829 (0.0836)  evaluator_time: 0.0020 (0.0022)  time: 0.0903  data: 0.0038  max mem: 5003\n",
            "Test:  [238/239]  eta: 0:00:00  model_time: 0.0835 (0.0836)  evaluator_time: 0.0020 (0.0022)  time: 0.0915  data: 0.0043  max mem: 5003\n",
            "Test: Total time: 0:00:22 (0.0929 s / it)\n",
            "Averaged stats: model_time: 0.0835 (0.0836)  evaluator_time: 0.0020 (0.0022)\n",
            "Accumulating evaluation results...\n",
            "DONE (t=0.06s).\n",
            "IoU metric: bbox\n",
            " Average Precision  (AP) @[ IoU=0.50:0.95 | area=   all | maxDets=100 ] = 0.276\n",
            " Average Precision  (AP) @[ IoU=0.50      | area=   all | maxDets=100 ] = 0.497\n",
            " Average Precision  (AP) @[ IoU=0.75      | area=   all | maxDets=100 ] = 0.279\n",
            " Average Precision  (AP) @[ IoU=0.50:0.95 | area= small | maxDets=100 ] = 0.277\n",
            " Average Precision  (AP) @[ IoU=0.50:0.95 | area=medium | maxDets=100 ] = 0.309\n",
            " Average Precision  (AP) @[ IoU=0.50:0.95 | area= large | maxDets=100 ] = 0.000\n",
            " Average Recall     (AR) @[ IoU=0.50:0.95 | area=   all | maxDets=  1 ] = 0.370\n",
            " Average Recall     (AR) @[ IoU=0.50:0.95 | area=   all | maxDets= 10 ] = 0.500\n",
            " Average Recall     (AR) @[ IoU=0.50:0.95 | area=   all | maxDets=100 ] = 0.506\n",
            " Average Recall     (AR) @[ IoU=0.50:0.95 | area= small | maxDets=100 ] = 0.521\n",
            " Average Recall     (AR) @[ IoU=0.50:0.95 | area=medium | maxDets=100 ] = 0.487\n",
            " Average Recall     (AR) @[ IoU=0.50:0.95 | area= large | maxDets=100 ] = 0.000\n"
          ],
          "name": "stdout"
        },
        {
          "output_type": "stream",
          "text": [
            "[2021-08-06 23:34:12,999][<ipython-input-49-0825c7523d1d>][line:153][INFO] [0.27624459 0.4972496  0.279451   0.27705975 0.30911242 0.\n",
            " 0.37024793 0.5        0.50578512 0.52078652 0.48688525 0.        ]\n",
            "[2021-08-06 23:34:13,006][<ipython-input-49-0825c7523d1d>][line:159][INFO] Saving best checkpoints for mAP 0.276245\n"
          ],
          "name": "stderr"
        },
        {
          "output_type": "stream",
          "text": [
            "Cycle:[1] Epoch: [35]  [  0/239]  eta: 0:05:19  task_lr: 0.000111  task_loss: 0.0946 (0.0946)  time: 1.3366  data: 0.4149  max mem: 5003\n",
            "Cycle:[1] Epoch: [35]  [100/239]  eta: 0:02:08  task_lr: 0.000111  task_loss: 0.1041 (0.1169)  time: 0.9180  data: 0.0144  max mem: 5003\n",
            "Cycle:[1] Epoch: [35]  [200/239]  eta: 0:00:35  task_lr: 0.000111  task_loss: 0.1129 (0.1160)  time: 0.9193  data: 0.0143  max mem: 5003\n",
            "Cycle:[1] Epoch: [35]  [238/239]  eta: 0:00:00  task_lr: 0.000111  task_loss: 0.0848 (0.1155)  time: 0.9189  data: 0.0146  max mem: 5003\n",
            "Cycle:[1] Epoch: [35] Total time: 0:03:40 (0.9216 s / it)\n",
            "creating index...\n",
            "index created!\n",
            "Test:  [  0/239]  eta: 0:01:12  model_time: 0.0935 (0.0935)  evaluator_time: 0.0050 (0.0050)  time: 0.3016  data: 0.2010  max mem: 5003\n",
            "Test:  [100/239]  eta: 0:00:12  model_time: 0.0827 (0.0831)  evaluator_time: 0.0022 (0.0022)  time: 0.0902  data: 0.0037  max mem: 5003\n",
            "Test:  [200/239]  eta: 0:00:03  model_time: 0.0830 (0.0830)  evaluator_time: 0.0023 (0.0023)  time: 0.0913  data: 0.0040  max mem: 5003\n",
            "Test:  [238/239]  eta: 0:00:00  model_time: 0.0829 (0.0830)  evaluator_time: 0.0021 (0.0023)  time: 0.0906  data: 0.0038  max mem: 5003\n",
            "Test: Total time: 0:00:22 (0.0921 s / it)\n",
            "Averaged stats: model_time: 0.0829 (0.0830)  evaluator_time: 0.0021 (0.0023)\n",
            "Accumulating evaluation results...\n",
            "DONE (t=0.06s).\n",
            "IoU metric: bbox\n",
            " Average Precision  (AP) @[ IoU=0.50:0.95 | area=   all | maxDets=100 ] = 0.263\n",
            " Average Precision  (AP) @[ IoU=0.50      | area=   all | maxDets=100 ] = 0.518\n",
            " Average Precision  (AP) @[ IoU=0.75      | area=   all | maxDets=100 ] = 0.219\n",
            " Average Precision  (AP) @[ IoU=0.50:0.95 | area= small | maxDets=100 ] = 0.267\n",
            " Average Precision  (AP) @[ IoU=0.50:0.95 | area=medium | maxDets=100 ] = 0.283\n",
            " Average Precision  (AP) @[ IoU=0.50:0.95 | area= large | maxDets=100 ] = 0.000\n",
            " Average Recall     (AR) @[ IoU=0.50:0.95 | area=   all | maxDets=  1 ] = 0.358\n",
            " Average Recall     (AR) @[ IoU=0.50:0.95 | area=   all | maxDets= 10 ] = 0.463\n",
            " Average Recall     (AR) @[ IoU=0.50:0.95 | area=   all | maxDets=100 ] = 0.482\n",
            " Average Recall     (AR) @[ IoU=0.50:0.95 | area= small | maxDets=100 ] = 0.485\n",
            " Average Recall     (AR) @[ IoU=0.50:0.95 | area=medium | maxDets=100 ] = 0.495\n",
            " Average Recall     (AR) @[ IoU=0.50:0.95 | area= large | maxDets=100 ] = 0.000\n"
          ],
          "name": "stdout"
        },
        {
          "output_type": "stream",
          "text": [
            "[2021-08-06 23:38:52,098][<ipython-input-49-0825c7523d1d>][line:153][INFO] [0.26269623 0.5181262  0.2186714  0.26697111 0.28264974 0.\n",
            " 0.35826446 0.46322314 0.48181818 0.48539326 0.49508197 0.        ]\n",
            "[2021-08-06 23:38:52,106][<ipython-input-49-0825c7523d1d>][line:163][INFO] No improvement. \n"
          ],
          "name": "stderr"
        },
        {
          "output_type": "stream",
          "text": [
            "Cycle:[1] Epoch: [36]  [  0/239]  eta: 0:05:20  task_lr: 0.000104  task_loss: 0.1996 (0.1996)  time: 1.3414  data: 0.4144  max mem: 5003\n",
            "Cycle:[1] Epoch: [36]  [100/239]  eta: 0:02:08  task_lr: 0.000104  task_loss: 0.1033 (0.1103)  time: 0.9204  data: 0.0149  max mem: 5003\n",
            "Cycle:[1] Epoch: [36]  [200/239]  eta: 0:00:35  task_lr: 0.000104  task_loss: 0.0990 (0.1106)  time: 0.9198  data: 0.0149  max mem: 5003\n",
            "Cycle:[1] Epoch: [36]  [238/239]  eta: 0:00:00  task_lr: 0.000104  task_loss: 0.1292 (0.1126)  time: 0.9207  data: 0.0154  max mem: 5003\n",
            "Cycle:[1] Epoch: [36] Total time: 0:03:40 (0.9222 s / it)\n",
            "creating index...\n",
            "index created!\n",
            "Test:  [  0/239]  eta: 0:01:17  model_time: 0.0939 (0.0939)  evaluator_time: 0.0047 (0.0047)  time: 0.3248  data: 0.2237  max mem: 5003\n",
            "Test:  [100/239]  eta: 0:00:12  model_time: 0.0833 (0.0833)  evaluator_time: 0.0019 (0.0019)  time: 0.0911  data: 0.0041  max mem: 5003\n",
            "Test:  [200/239]  eta: 0:00:03  model_time: 0.0827 (0.0831)  evaluator_time: 0.0018 (0.0019)  time: 0.0899  data: 0.0038  max mem: 5003\n"
          ],
          "name": "stdout"
        },
        {
          "output_type": "stream",
          "text": [
            "[2021-08-06 23:43:30,917][<ipython-input-49-0825c7523d1d>][line:153][INFO] [0.27461004 0.49873859 0.26312347 0.26812683 0.31438666 0.\n",
            " 0.35123967 0.45206612 0.45454545 0.45168539 0.4852459  0.        ]\n",
            "[2021-08-06 23:43:30,921][<ipython-input-49-0825c7523d1d>][line:163][INFO] No improvement. \n"
          ],
          "name": "stderr"
        },
        {
          "output_type": "stream",
          "text": [
            "Test:  [238/239]  eta: 0:00:00  model_time: 0.0827 (0.0830)  evaluator_time: 0.0017 (0.0019)  time: 0.0896  data: 0.0036  max mem: 5003\n",
            "Test: Total time: 0:00:21 (0.0917 s / it)\n",
            "Averaged stats: model_time: 0.0827 (0.0830)  evaluator_time: 0.0017 (0.0019)\n",
            "Accumulating evaluation results...\n",
            "DONE (t=0.04s).\n",
            "IoU metric: bbox\n",
            " Average Precision  (AP) @[ IoU=0.50:0.95 | area=   all | maxDets=100 ] = 0.275\n",
            " Average Precision  (AP) @[ IoU=0.50      | area=   all | maxDets=100 ] = 0.499\n",
            " Average Precision  (AP) @[ IoU=0.75      | area=   all | maxDets=100 ] = 0.263\n",
            " Average Precision  (AP) @[ IoU=0.50:0.95 | area= small | maxDets=100 ] = 0.268\n",
            " Average Precision  (AP) @[ IoU=0.50:0.95 | area=medium | maxDets=100 ] = 0.314\n",
            " Average Precision  (AP) @[ IoU=0.50:0.95 | area= large | maxDets=100 ] = 0.000\n",
            " Average Recall     (AR) @[ IoU=0.50:0.95 | area=   all | maxDets=  1 ] = 0.351\n",
            " Average Recall     (AR) @[ IoU=0.50:0.95 | area=   all | maxDets= 10 ] = 0.452\n",
            " Average Recall     (AR) @[ IoU=0.50:0.95 | area=   all | maxDets=100 ] = 0.455\n",
            " Average Recall     (AR) @[ IoU=0.50:0.95 | area= small | maxDets=100 ] = 0.452\n",
            " Average Recall     (AR) @[ IoU=0.50:0.95 | area=medium | maxDets=100 ] = 0.485\n",
            " Average Recall     (AR) @[ IoU=0.50:0.95 | area= large | maxDets=100 ] = 0.000\n",
            "Cycle:[1] Epoch: [37]  [  0/239]  eta: 0:05:07  task_lr: 0.000096  task_loss: 0.1663 (0.1663)  time: 1.2848  data: 0.3665  max mem: 5003\n",
            "Cycle:[1] Epoch: [37]  [100/239]  eta: 0:02:08  task_lr: 0.000096  task_loss: 0.0955 (0.1109)  time: 0.9211  data: 0.0151  max mem: 5003\n",
            "Cycle:[1] Epoch: [37]  [200/239]  eta: 0:00:35  task_lr: 0.000096  task_loss: 0.1058 (0.1132)  time: 0.9194  data: 0.0148  max mem: 5003\n",
            "Cycle:[1] Epoch: [37]  [238/239]  eta: 0:00:00  task_lr: 0.000096  task_loss: 0.1067 (0.1123)  time: 0.9191  data: 0.0146  max mem: 5003\n",
            "Cycle:[1] Epoch: [37] Total time: 0:03:40 (0.9217 s / it)\n",
            "creating index...\n",
            "index created!\n",
            "Test:  [  0/239]  eta: 0:01:19  model_time: 0.0967 (0.0967)  evaluator_time: 0.0048 (0.0048)  time: 0.3347  data: 0.2310  max mem: 5003\n",
            "Test:  [100/239]  eta: 0:00:13  model_time: 0.0831 (0.0836)  evaluator_time: 0.0020 (0.0020)  time: 0.0913  data: 0.0041  max mem: 5003\n",
            "Test:  [200/239]  eta: 0:00:03  model_time: 0.0827 (0.0834)  evaluator_time: 0.0018 (0.0020)  time: 0.0897  data: 0.0037  max mem: 5003\n"
          ],
          "name": "stdout"
        },
        {
          "output_type": "stream",
          "text": [
            "[2021-08-06 23:48:09,843][<ipython-input-49-0825c7523d1d>][line:153][INFO] [0.2730784  0.49713799 0.25695157 0.28282906 0.27391597 0.\n",
            " 0.36322314 0.47024793 0.47933884 0.49662921 0.45245902 0.        ]\n",
            "[2021-08-06 23:48:09,844][<ipython-input-49-0825c7523d1d>][line:163][INFO] No improvement. \n"
          ],
          "name": "stderr"
        },
        {
          "output_type": "stream",
          "text": [
            "Test:  [238/239]  eta: 0:00:00  model_time: 0.0828 (0.0833)  evaluator_time: 0.0017 (0.0019)  time: 0.0896  data: 0.0036  max mem: 5003\n",
            "Test: Total time: 0:00:22 (0.0922 s / it)\n",
            "Averaged stats: model_time: 0.0828 (0.0833)  evaluator_time: 0.0017 (0.0019)\n",
            "Accumulating evaluation results...\n",
            "DONE (t=0.05s).\n",
            "IoU metric: bbox\n",
            " Average Precision  (AP) @[ IoU=0.50:0.95 | area=   all | maxDets=100 ] = 0.273\n",
            " Average Precision  (AP) @[ IoU=0.50      | area=   all | maxDets=100 ] = 0.497\n",
            " Average Precision  (AP) @[ IoU=0.75      | area=   all | maxDets=100 ] = 0.257\n",
            " Average Precision  (AP) @[ IoU=0.50:0.95 | area= small | maxDets=100 ] = 0.283\n",
            " Average Precision  (AP) @[ IoU=0.50:0.95 | area=medium | maxDets=100 ] = 0.274\n",
            " Average Precision  (AP) @[ IoU=0.50:0.95 | area= large | maxDets=100 ] = 0.000\n",
            " Average Recall     (AR) @[ IoU=0.50:0.95 | area=   all | maxDets=  1 ] = 0.363\n",
            " Average Recall     (AR) @[ IoU=0.50:0.95 | area=   all | maxDets= 10 ] = 0.470\n",
            " Average Recall     (AR) @[ IoU=0.50:0.95 | area=   all | maxDets=100 ] = 0.479\n",
            " Average Recall     (AR) @[ IoU=0.50:0.95 | area= small | maxDets=100 ] = 0.497\n",
            " Average Recall     (AR) @[ IoU=0.50:0.95 | area=medium | maxDets=100 ] = 0.452\n",
            " Average Recall     (AR) @[ IoU=0.50:0.95 | area= large | maxDets=100 ] = 0.000\n",
            "Cycle:[1] Epoch: [38]  [  0/239]  eta: 0:05:06  task_lr: 0.000089  task_loss: 0.0770 (0.0770)  time: 1.2843  data: 0.3676  max mem: 5003\n",
            "Cycle:[1] Epoch: [38]  [100/239]  eta: 0:02:08  task_lr: 0.000089  task_loss: 0.1117 (0.1092)  time: 0.9178  data: 0.0136  max mem: 5003\n",
            "Cycle:[1] Epoch: [38]  [200/239]  eta: 0:00:35  task_lr: 0.000089  task_loss: 0.1061 (0.1091)  time: 0.9219  data: 0.0158  max mem: 5003\n",
            "Cycle:[1] Epoch: [38]  [238/239]  eta: 0:00:00  task_lr: 0.000089  task_loss: 0.0823 (0.1077)  time: 0.9184  data: 0.0142  max mem: 5003\n",
            "Cycle:[1] Epoch: [38] Total time: 0:03:40 (0.9218 s / it)\n",
            "creating index...\n",
            "index created!\n",
            "Test:  [  0/239]  eta: 0:01:15  model_time: 0.0948 (0.0948)  evaluator_time: 0.0047 (0.0047)  time: 0.3142  data: 0.2126  max mem: 5003\n",
            "Test:  [100/239]  eta: 0:00:12  model_time: 0.0829 (0.0831)  evaluator_time: 0.0019 (0.0019)  time: 0.0905  data: 0.0042  max mem: 5003\n",
            "Test:  [200/239]  eta: 0:00:03  model_time: 0.0827 (0.0830)  evaluator_time: 0.0017 (0.0019)  time: 0.0898  data: 0.0037  max mem: 5003\n"
          ],
          "name": "stdout"
        },
        {
          "output_type": "stream",
          "text": [
            "[2021-08-06 23:52:48,525][<ipython-input-49-0825c7523d1d>][line:153][INFO] [0.25931089 0.50093641 0.2398294  0.27111771 0.2581863  0.\n",
            " 0.34793388 0.45454545 0.45578512 0.46685393 0.44590164 0.        ]\n",
            "[2021-08-06 23:52:48,527][<ipython-input-49-0825c7523d1d>][line:163][INFO] No improvement. \n"
          ],
          "name": "stderr"
        },
        {
          "output_type": "stream",
          "text": [
            "Test:  [238/239]  eta: 0:00:00  model_time: 0.0827 (0.0830)  evaluator_time: 0.0017 (0.0019)  time: 0.0895  data: 0.0036  max mem: 5003\n",
            "Test: Total time: 0:00:21 (0.0916 s / it)\n",
            "Averaged stats: model_time: 0.0827 (0.0830)  evaluator_time: 0.0017 (0.0019)\n",
            "Accumulating evaluation results...\n",
            "DONE (t=0.04s).\n",
            "IoU metric: bbox\n",
            " Average Precision  (AP) @[ IoU=0.50:0.95 | area=   all | maxDets=100 ] = 0.259\n",
            " Average Precision  (AP) @[ IoU=0.50      | area=   all | maxDets=100 ] = 0.501\n",
            " Average Precision  (AP) @[ IoU=0.75      | area=   all | maxDets=100 ] = 0.240\n",
            " Average Precision  (AP) @[ IoU=0.50:0.95 | area= small | maxDets=100 ] = 0.271\n",
            " Average Precision  (AP) @[ IoU=0.50:0.95 | area=medium | maxDets=100 ] = 0.258\n",
            " Average Precision  (AP) @[ IoU=0.50:0.95 | area= large | maxDets=100 ] = 0.000\n",
            " Average Recall     (AR) @[ IoU=0.50:0.95 | area=   all | maxDets=  1 ] = 0.348\n",
            " Average Recall     (AR) @[ IoU=0.50:0.95 | area=   all | maxDets= 10 ] = 0.455\n",
            " Average Recall     (AR) @[ IoU=0.50:0.95 | area=   all | maxDets=100 ] = 0.456\n",
            " Average Recall     (AR) @[ IoU=0.50:0.95 | area= small | maxDets=100 ] = 0.467\n",
            " Average Recall     (AR) @[ IoU=0.50:0.95 | area=medium | maxDets=100 ] = 0.446\n",
            " Average Recall     (AR) @[ IoU=0.50:0.95 | area= large | maxDets=100 ] = 0.000\n",
            "Cycle:[1] Epoch: [39]  [  0/239]  eta: 0:05:02  task_lr: 0.000082  task_loss: 0.0977 (0.0977)  time: 1.2662  data: 0.3465  max mem: 5003\n",
            "Cycle:[1] Epoch: [39]  [100/239]  eta: 0:02:08  task_lr: 0.000082  task_loss: 0.1077 (0.1110)  time: 0.9191  data: 0.0149  max mem: 5003\n",
            "Cycle:[1] Epoch: [39]  [200/239]  eta: 0:00:35  task_lr: 0.000082  task_loss: 0.1139 (0.1128)  time: 0.9176  data: 0.0137  max mem: 5003\n",
            "Cycle:[1] Epoch: [39]  [238/239]  eta: 0:00:00  task_lr: 0.000082  task_loss: 0.0979 (0.1128)  time: 0.9213  data: 0.0159  max mem: 5003\n",
            "Cycle:[1] Epoch: [39] Total time: 0:03:40 (0.9223 s / it)\n",
            "creating index...\n",
            "index created!\n",
            "Test:  [  0/239]  eta: 0:01:10  model_time: 0.0945 (0.0945)  evaluator_time: 0.0050 (0.0050)  time: 0.2952  data: 0.1932  max mem: 5003\n",
            "Test:  [100/239]  eta: 0:00:12  model_time: 0.0831 (0.0834)  evaluator_time: 0.0019 (0.0019)  time: 0.0907  data: 0.0040  max mem: 5003\n",
            "Test:  [200/239]  eta: 0:00:03  model_time: 0.0833 (0.0834)  evaluator_time: 0.0018 (0.0019)  time: 0.0906  data: 0.0040  max mem: 5003\n"
          ],
          "name": "stdout"
        },
        {
          "output_type": "stream",
          "text": [
            "[2021-08-06 23:57:27,058][<ipython-input-49-0825c7523d1d>][line:153][INFO] [0.27699576 0.5216653  0.2737974  0.28027873 0.29424776 0.\n",
            " 0.35909091 0.45909091 0.46033058 0.46460674 0.4704918  0.        ]\n",
            "[2021-08-06 23:57:27,060][<ipython-input-49-0825c7523d1d>][line:159][INFO] Saving best checkpoints for mAP 0.276996\n"
          ],
          "name": "stderr"
        },
        {
          "output_type": "stream",
          "text": [
            "Test:  [238/239]  eta: 0:00:00  model_time: 0.0827 (0.0833)  evaluator_time: 0.0017 (0.0019)  time: 0.0896  data: 0.0037  max mem: 5003\n",
            "Test: Total time: 0:00:21 (0.0920 s / it)\n",
            "Averaged stats: model_time: 0.0827 (0.0833)  evaluator_time: 0.0017 (0.0019)\n",
            "Accumulating evaluation results...\n",
            "DONE (t=0.04s).\n",
            "IoU metric: bbox\n",
            " Average Precision  (AP) @[ IoU=0.50:0.95 | area=   all | maxDets=100 ] = 0.277\n",
            " Average Precision  (AP) @[ IoU=0.50      | area=   all | maxDets=100 ] = 0.522\n",
            " Average Precision  (AP) @[ IoU=0.75      | area=   all | maxDets=100 ] = 0.274\n",
            " Average Precision  (AP) @[ IoU=0.50:0.95 | area= small | maxDets=100 ] = 0.280\n",
            " Average Precision  (AP) @[ IoU=0.50:0.95 | area=medium | maxDets=100 ] = 0.294\n",
            " Average Precision  (AP) @[ IoU=0.50:0.95 | area= large | maxDets=100 ] = 0.000\n",
            " Average Recall     (AR) @[ IoU=0.50:0.95 | area=   all | maxDets=  1 ] = 0.359\n",
            " Average Recall     (AR) @[ IoU=0.50:0.95 | area=   all | maxDets= 10 ] = 0.459\n",
            " Average Recall     (AR) @[ IoU=0.50:0.95 | area=   all | maxDets=100 ] = 0.460\n",
            " Average Recall     (AR) @[ IoU=0.50:0.95 | area= small | maxDets=100 ] = 0.465\n",
            " Average Recall     (AR) @[ IoU=0.50:0.95 | area=medium | maxDets=100 ] = 0.470\n",
            " Average Recall     (AR) @[ IoU=0.50:0.95 | area= large | maxDets=100 ] = 0.000\n",
            "Cycle:[1] Epoch: [40]  [  0/239]  eta: 0:05:05  task_lr: 0.000075  task_loss: 0.0940 (0.0940)  time: 1.2797  data: 0.3709  max mem: 5003\n",
            "Cycle:[1] Epoch: [40]  [100/239]  eta: 0:02:08  task_lr: 0.000075  task_loss: 0.1020 (0.1056)  time: 0.9218  data: 0.0157  max mem: 5003\n",
            "Cycle:[1] Epoch: [40]  [200/239]  eta: 0:00:35  task_lr: 0.000075  task_loss: 0.1118 (0.1088)  time: 0.9186  data: 0.0147  max mem: 5003\n",
            "Cycle:[1] Epoch: [40]  [238/239]  eta: 0:00:00  task_lr: 0.000075  task_loss: 0.1075 (0.1095)  time: 0.9191  data: 0.0143  max mem: 5003\n",
            "Cycle:[1] Epoch: [40] Total time: 0:03:40 (0.9219 s / it)\n",
            "creating index...\n",
            "index created!\n",
            "Test:  [  0/239]  eta: 0:01:13  model_time: 0.0935 (0.0935)  evaluator_time: 0.0050 (0.0050)  time: 0.3068  data: 0.2062  max mem: 5003\n",
            "Test:  [100/239]  eta: 0:00:12  model_time: 0.0833 (0.0832)  evaluator_time: 0.0019 (0.0019)  time: 0.0909  data: 0.0040  max mem: 5003\n",
            "Test:  [200/239]  eta: 0:00:03  model_time: 0.0831 (0.0833)  evaluator_time: 0.0019 (0.0019)  time: 0.0905  data: 0.0039  max mem: 5003\n"
          ],
          "name": "stdout"
        },
        {
          "output_type": "stream",
          "text": [
            "[2021-08-07 00:02:06,398][<ipython-input-49-0825c7523d1d>][line:153][INFO] [0.22528444 0.49151781 0.1343368  0.22407789 0.25521514 0.0019802\n",
            " 0.30867769 0.39917355 0.40247934 0.39213483 0.44754098 0.1       ]\n",
            "[2021-08-07 00:02:06,400][<ipython-input-49-0825c7523d1d>][line:163][INFO] No improvement. \n"
          ],
          "name": "stderr"
        },
        {
          "output_type": "stream",
          "text": [
            "Test:  [238/239]  eta: 0:00:00  model_time: 0.0832 (0.0833)  evaluator_time: 0.0019 (0.0019)  time: 0.0906  data: 0.0039  max mem: 5003\n",
            "Test: Total time: 0:00:21 (0.0920 s / it)\n",
            "Averaged stats: model_time: 0.0832 (0.0833)  evaluator_time: 0.0019 (0.0019)\n",
            "Accumulating evaluation results...\n",
            "DONE (t=0.05s).\n",
            "IoU metric: bbox\n",
            " Average Precision  (AP) @[ IoU=0.50:0.95 | area=   all | maxDets=100 ] = 0.225\n",
            " Average Precision  (AP) @[ IoU=0.50      | area=   all | maxDets=100 ] = 0.492\n",
            " Average Precision  (AP) @[ IoU=0.75      | area=   all | maxDets=100 ] = 0.134\n",
            " Average Precision  (AP) @[ IoU=0.50:0.95 | area= small | maxDets=100 ] = 0.224\n",
            " Average Precision  (AP) @[ IoU=0.50:0.95 | area=medium | maxDets=100 ] = 0.255\n",
            " Average Precision  (AP) @[ IoU=0.50:0.95 | area= large | maxDets=100 ] = 0.002\n",
            " Average Recall     (AR) @[ IoU=0.50:0.95 | area=   all | maxDets=  1 ] = 0.309\n",
            " Average Recall     (AR) @[ IoU=0.50:0.95 | area=   all | maxDets= 10 ] = 0.399\n",
            " Average Recall     (AR) @[ IoU=0.50:0.95 | area=   all | maxDets=100 ] = 0.402\n",
            " Average Recall     (AR) @[ IoU=0.50:0.95 | area= small | maxDets=100 ] = 0.392\n",
            " Average Recall     (AR) @[ IoU=0.50:0.95 | area=medium | maxDets=100 ] = 0.448\n",
            " Average Recall     (AR) @[ IoU=0.50:0.95 | area= large | maxDets=100 ] = 0.100\n",
            "Cycle:[1] Epoch: [41]  [  0/239]  eta: 0:05:16  task_lr: 0.000068  task_loss: 0.0672 (0.0672)  time: 1.3260  data: 0.4066  max mem: 5003\n",
            "Cycle:[1] Epoch: [41]  [100/239]  eta: 0:02:08  task_lr: 0.000068  task_loss: 0.1121 (0.1113)  time: 0.9197  data: 0.0147  max mem: 5003\n",
            "Cycle:[1] Epoch: [41]  [200/239]  eta: 0:00:35  task_lr: 0.000068  task_loss: 0.0994 (0.1102)  time: 0.9219  data: 0.0166  max mem: 5003\n",
            "Cycle:[1] Epoch: [41]  [238/239]  eta: 0:00:00  task_lr: 0.000068  task_loss: 0.1166 (0.1118)  time: 0.9191  data: 0.0152  max mem: 5003\n",
            "Cycle:[1] Epoch: [41] Total time: 0:03:40 (0.9224 s / it)\n",
            "creating index...\n",
            "index created!\n",
            "Test:  [  0/239]  eta: 0:01:15  model_time: 0.0951 (0.0951)  evaluator_time: 0.0044 (0.0044)  time: 0.3148  data: 0.2132  max mem: 5003\n",
            "Test:  [100/239]  eta: 0:00:12  model_time: 0.0832 (0.0832)  evaluator_time: 0.0019 (0.0018)  time: 0.0911  data: 0.0041  max mem: 5003\n",
            "Test:  [200/239]  eta: 0:00:03  model_time: 0.0831 (0.0832)  evaluator_time: 0.0018 (0.0019)  time: 0.0905  data: 0.0040  max mem: 5003\n"
          ],
          "name": "stdout"
        },
        {
          "output_type": "stream",
          "text": [
            "[2021-08-07 00:06:45,314][<ipython-input-49-0825c7523d1d>][line:153][INFO] [0.24061889 0.51367716 0.1513917  0.23606148 0.27500603 0.\n",
            " 0.31818182 0.40123967 0.40247934 0.38932584 0.46065574 0.        ]\n",
            "[2021-08-07 00:06:45,315][<ipython-input-49-0825c7523d1d>][line:163][INFO] No improvement. \n"
          ],
          "name": "stderr"
        },
        {
          "output_type": "stream",
          "text": [
            "Test:  [238/239]  eta: 0:00:00  model_time: 0.0831 (0.0832)  evaluator_time: 0.0017 (0.0019)  time: 0.0904  data: 0.0041  max mem: 5003\n",
            "Test: Total time: 0:00:21 (0.0919 s / it)\n",
            "Averaged stats: model_time: 0.0831 (0.0832)  evaluator_time: 0.0017 (0.0019)\n",
            "Accumulating evaluation results...\n",
            "DONE (t=0.04s).\n",
            "IoU metric: bbox\n",
            " Average Precision  (AP) @[ IoU=0.50:0.95 | area=   all | maxDets=100 ] = 0.241\n",
            " Average Precision  (AP) @[ IoU=0.50      | area=   all | maxDets=100 ] = 0.514\n",
            " Average Precision  (AP) @[ IoU=0.75      | area=   all | maxDets=100 ] = 0.151\n",
            " Average Precision  (AP) @[ IoU=0.50:0.95 | area= small | maxDets=100 ] = 0.236\n",
            " Average Precision  (AP) @[ IoU=0.50:0.95 | area=medium | maxDets=100 ] = 0.275\n",
            " Average Precision  (AP) @[ IoU=0.50:0.95 | area= large | maxDets=100 ] = 0.000\n",
            " Average Recall     (AR) @[ IoU=0.50:0.95 | area=   all | maxDets=  1 ] = 0.318\n",
            " Average Recall     (AR) @[ IoU=0.50:0.95 | area=   all | maxDets= 10 ] = 0.401\n",
            " Average Recall     (AR) @[ IoU=0.50:0.95 | area=   all | maxDets=100 ] = 0.402\n",
            " Average Recall     (AR) @[ IoU=0.50:0.95 | area= small | maxDets=100 ] = 0.389\n",
            " Average Recall     (AR) @[ IoU=0.50:0.95 | area=medium | maxDets=100 ] = 0.461\n",
            " Average Recall     (AR) @[ IoU=0.50:0.95 | area= large | maxDets=100 ] = 0.000\n",
            "Cycle:[1] Epoch: [42]  [  0/239]  eta: 0:05:11  task_lr: 0.000062  task_loss: 0.1765 (0.1765)  time: 1.3014  data: 0.3900  max mem: 5003\n",
            "Cycle:[1] Epoch: [42]  [100/239]  eta: 0:02:08  task_lr: 0.000062  task_loss: 0.1149 (0.1124)  time: 0.9221  data: 0.0161  max mem: 5003\n",
            "Cycle:[1] Epoch: [42]  [200/239]  eta: 0:00:35  task_lr: 0.000062  task_loss: 0.0976 (0.1076)  time: 0.9205  data: 0.0152  max mem: 5003\n",
            "Cycle:[1] Epoch: [42]  [238/239]  eta: 0:00:00  task_lr: 0.000062  task_loss: 0.1010 (0.1067)  time: 0.9187  data: 0.0140  max mem: 5003\n",
            "Cycle:[1] Epoch: [42] Total time: 0:03:40 (0.9222 s / it)\n",
            "creating index...\n",
            "index created!\n",
            "Test:  [  0/239]  eta: 0:01:15  model_time: 0.0950 (0.0950)  evaluator_time: 0.0050 (0.0050)  time: 0.3170  data: 0.2138  max mem: 5003\n",
            "Test:  [100/239]  eta: 0:00:13  model_time: 0.0835 (0.0844)  evaluator_time: 0.0019 (0.0020)  time: 0.0918  data: 0.0039  max mem: 5003\n",
            "Test:  [200/239]  eta: 0:00:03  model_time: 0.0832 (0.0837)  evaluator_time: 0.0019 (0.0019)  time: 0.0905  data: 0.0038  max mem: 5003\n"
          ],
          "name": "stdout"
        },
        {
          "output_type": "stream",
          "text": [
            "[2021-08-07 00:11:23,466][<ipython-input-49-0825c7523d1d>][line:153][INFO] [0.26761649 0.51912623 0.23905295 0.2787206  0.26496127 0.00106868\n",
            " 0.34297521 0.44297521 0.44628099 0.45449438 0.44098361 0.06666667]\n",
            "[2021-08-07 00:11:23,468][<ipython-input-49-0825c7523d1d>][line:163][INFO] No improvement. \n"
          ],
          "name": "stderr"
        },
        {
          "output_type": "stream",
          "text": [
            "Test:  [238/239]  eta: 0:00:00  model_time: 0.0834 (0.0836)  evaluator_time: 0.0019 (0.0019)  time: 0.0908  data: 0.0040  max mem: 5003\n",
            "Test: Total time: 0:00:22 (0.0925 s / it)\n",
            "Averaged stats: model_time: 0.0834 (0.0836)  evaluator_time: 0.0019 (0.0019)\n",
            "Accumulating evaluation results...\n",
            "DONE (t=0.05s).\n",
            "IoU metric: bbox\n",
            " Average Precision  (AP) @[ IoU=0.50:0.95 | area=   all | maxDets=100 ] = 0.268\n",
            " Average Precision  (AP) @[ IoU=0.50      | area=   all | maxDets=100 ] = 0.519\n",
            " Average Precision  (AP) @[ IoU=0.75      | area=   all | maxDets=100 ] = 0.239\n",
            " Average Precision  (AP) @[ IoU=0.50:0.95 | area= small | maxDets=100 ] = 0.279\n",
            " Average Precision  (AP) @[ IoU=0.50:0.95 | area=medium | maxDets=100 ] = 0.265\n",
            " Average Precision  (AP) @[ IoU=0.50:0.95 | area= large | maxDets=100 ] = 0.001\n",
            " Average Recall     (AR) @[ IoU=0.50:0.95 | area=   all | maxDets=  1 ] = 0.343\n",
            " Average Recall     (AR) @[ IoU=0.50:0.95 | area=   all | maxDets= 10 ] = 0.443\n",
            " Average Recall     (AR) @[ IoU=0.50:0.95 | area=   all | maxDets=100 ] = 0.446\n",
            " Average Recall     (AR) @[ IoU=0.50:0.95 | area= small | maxDets=100 ] = 0.454\n",
            " Average Recall     (AR) @[ IoU=0.50:0.95 | area=medium | maxDets=100 ] = 0.441\n",
            " Average Recall     (AR) @[ IoU=0.50:0.95 | area= large | maxDets=100 ] = 0.067\n",
            "Cycle:[1] Epoch: [43]  [  0/239]  eta: 0:05:04  task_lr: 0.000056  task_loss: 0.1527 (0.1527)  time: 1.2752  data: 0.3599  max mem: 5003\n",
            "Cycle:[1] Epoch: [43]  [100/239]  eta: 0:02:08  task_lr: 0.000056  task_loss: 0.0938 (0.1064)  time: 0.9199  data: 0.0154  max mem: 5003\n",
            "Cycle:[1] Epoch: [43]  [200/239]  eta: 0:00:35  task_lr: 0.000056  task_loss: 0.1043 (0.1074)  time: 0.9224  data: 0.0155  max mem: 5003\n",
            "Cycle:[1] Epoch: [43]  [238/239]  eta: 0:00:00  task_lr: 0.000056  task_loss: 0.1056 (0.1072)  time: 0.9189  data: 0.0150  max mem: 5003\n",
            "Cycle:[1] Epoch: [43] Total time: 0:03:40 (0.9221 s / it)\n",
            "creating index...\n",
            "index created!\n",
            "Test:  [  0/239]  eta: 0:01:13  model_time: 0.0937 (0.0937)  evaluator_time: 0.0049 (0.0049)  time: 0.3080  data: 0.2073  max mem: 5003\n",
            "Test:  [100/239]  eta: 0:00:12  model_time: 0.0830 (0.0834)  evaluator_time: 0.0020 (0.0021)  time: 0.0904  data: 0.0038  max mem: 5003\n",
            "Test:  [200/239]  eta: 0:00:03  model_time: 0.0829 (0.0833)  evaluator_time: 0.0020 (0.0021)  time: 0.0903  data: 0.0038  max mem: 5003\n"
          ],
          "name": "stdout"
        },
        {
          "output_type": "stream",
          "text": [
            "[2021-08-07 00:16:02,211][<ipython-input-49-0825c7523d1d>][line:153][INFO] [0.26035499 0.50551314 0.22593688 0.25973762 0.29029915 0.00531527\n",
            " 0.34421488 0.45330579 0.46363636 0.46910112 0.46065574 0.2       ]\n",
            "[2021-08-07 00:16:02,214][<ipython-input-49-0825c7523d1d>][line:163][INFO] No improvement. \n"
          ],
          "name": "stderr"
        },
        {
          "output_type": "stream",
          "text": [
            "Test:  [238/239]  eta: 0:00:00  model_time: 0.0829 (0.0832)  evaluator_time: 0.0018 (0.0020)  time: 0.0900  data: 0.0037  max mem: 5003\n",
            "Test: Total time: 0:00:22 (0.0921 s / it)\n",
            "Averaged stats: model_time: 0.0829 (0.0832)  evaluator_time: 0.0018 (0.0020)\n",
            "Accumulating evaluation results...\n",
            "DONE (t=0.05s).\n",
            "IoU metric: bbox\n",
            " Average Precision  (AP) @[ IoU=0.50:0.95 | area=   all | maxDets=100 ] = 0.260\n",
            " Average Precision  (AP) @[ IoU=0.50      | area=   all | maxDets=100 ] = 0.506\n",
            " Average Precision  (AP) @[ IoU=0.75      | area=   all | maxDets=100 ] = 0.226\n",
            " Average Precision  (AP) @[ IoU=0.50:0.95 | area= small | maxDets=100 ] = 0.260\n",
            " Average Precision  (AP) @[ IoU=0.50:0.95 | area=medium | maxDets=100 ] = 0.290\n",
            " Average Precision  (AP) @[ IoU=0.50:0.95 | area= large | maxDets=100 ] = 0.005\n",
            " Average Recall     (AR) @[ IoU=0.50:0.95 | area=   all | maxDets=  1 ] = 0.344\n",
            " Average Recall     (AR) @[ IoU=0.50:0.95 | area=   all | maxDets= 10 ] = 0.453\n",
            " Average Recall     (AR) @[ IoU=0.50:0.95 | area=   all | maxDets=100 ] = 0.464\n",
            " Average Recall     (AR) @[ IoU=0.50:0.95 | area= small | maxDets=100 ] = 0.469\n",
            " Average Recall     (AR) @[ IoU=0.50:0.95 | area=medium | maxDets=100 ] = 0.461\n",
            " Average Recall     (AR) @[ IoU=0.50:0.95 | area= large | maxDets=100 ] = 0.200\n",
            "Cycle:[1] Epoch: [44]  [  0/239]  eta: 0:05:10  task_lr: 0.000050  task_loss: 0.1166 (0.1166)  time: 1.3004  data: 0.3835  max mem: 5003\n",
            "Cycle:[1] Epoch: [44]  [100/239]  eta: 0:02:08  task_lr: 0.000050  task_loss: 0.1110 (0.1068)  time: 0.9183  data: 0.0143  max mem: 5003\n",
            "Cycle:[1] Epoch: [44]  [200/239]  eta: 0:00:35  task_lr: 0.000050  task_loss: 0.0983 (0.1077)  time: 0.9214  data: 0.0161  max mem: 5003\n",
            "Cycle:[1] Epoch: [44]  [238/239]  eta: 0:00:00  task_lr: 0.000050  task_loss: 0.0993 (0.1094)  time: 0.9178  data: 0.0139  max mem: 5003\n",
            "Cycle:[1] Epoch: [44] Total time: 0:03:40 (0.9216 s / it)\n",
            "creating index...\n",
            "index created!\n",
            "Test:  [  0/239]  eta: 0:01:16  model_time: 0.0948 (0.0948)  evaluator_time: 0.0048 (0.0048)  time: 0.3196  data: 0.2179  max mem: 5003\n",
            "Test:  [100/239]  eta: 0:00:13  model_time: 0.0831 (0.0837)  evaluator_time: 0.0020 (0.0020)  time: 0.0919  data: 0.0043  max mem: 5003\n",
            "Test:  [200/239]  eta: 0:00:03  model_time: 0.0825 (0.0833)  evaluator_time: 0.0017 (0.0019)  time: 0.0894  data: 0.0036  max mem: 5003\n"
          ],
          "name": "stdout"
        },
        {
          "output_type": "stream",
          "text": [
            "[2021-08-07 00:20:40,505][<ipython-input-49-0825c7523d1d>][line:153][INFO] [0.26012914 0.51239799 0.2295077  0.26072605 0.28811393 0.00254154\n",
            " 0.33099174 0.44504132 0.44834711 0.44325843 0.48196721 0.06666667]\n",
            "[2021-08-07 00:20:40,507][<ipython-input-49-0825c7523d1d>][line:163][INFO] No improvement. \n"
          ],
          "name": "stderr"
        },
        {
          "output_type": "stream",
          "text": [
            "Test:  [238/239]  eta: 0:00:00  model_time: 0.0828 (0.0832)  evaluator_time: 0.0017 (0.0019)  time: 0.0898  data: 0.0037  max mem: 5003\n",
            "Test: Total time: 0:00:22 (0.0924 s / it)\n",
            "Averaged stats: model_time: 0.0828 (0.0832)  evaluator_time: 0.0017 (0.0019)\n",
            "Accumulating evaluation results...\n",
            "DONE (t=0.05s).\n",
            "IoU metric: bbox\n",
            " Average Precision  (AP) @[ IoU=0.50:0.95 | area=   all | maxDets=100 ] = 0.260\n",
            " Average Precision  (AP) @[ IoU=0.50      | area=   all | maxDets=100 ] = 0.512\n",
            " Average Precision  (AP) @[ IoU=0.75      | area=   all | maxDets=100 ] = 0.230\n",
            " Average Precision  (AP) @[ IoU=0.50:0.95 | area= small | maxDets=100 ] = 0.261\n",
            " Average Precision  (AP) @[ IoU=0.50:0.95 | area=medium | maxDets=100 ] = 0.288\n",
            " Average Precision  (AP) @[ IoU=0.50:0.95 | area= large | maxDets=100 ] = 0.003\n",
            " Average Recall     (AR) @[ IoU=0.50:0.95 | area=   all | maxDets=  1 ] = 0.331\n",
            " Average Recall     (AR) @[ IoU=0.50:0.95 | area=   all | maxDets= 10 ] = 0.445\n",
            " Average Recall     (AR) @[ IoU=0.50:0.95 | area=   all | maxDets=100 ] = 0.448\n",
            " Average Recall     (AR) @[ IoU=0.50:0.95 | area= small | maxDets=100 ] = 0.443\n",
            " Average Recall     (AR) @[ IoU=0.50:0.95 | area=medium | maxDets=100 ] = 0.482\n",
            " Average Recall     (AR) @[ IoU=0.50:0.95 | area= large | maxDets=100 ] = 0.067\n",
            "Cycle:[1] Epoch: [45]  [  0/239]  eta: 0:05:04  task_lr: 0.000044  task_loss: 0.0555 (0.0555)  time: 1.2740  data: 0.3506  max mem: 5003\n",
            "Cycle:[1] Epoch: [45]  [100/239]  eta: 0:02:08  task_lr: 0.000044  task_loss: 0.0974 (0.1041)  time: 0.9199  data: 0.0149  max mem: 5003\n",
            "Cycle:[1] Epoch: [45]  [200/239]  eta: 0:00:35  task_lr: 0.000044  task_loss: 0.0926 (0.1046)  time: 0.9196  data: 0.0151  max mem: 5003\n",
            "Cycle:[1] Epoch: [45]  [238/239]  eta: 0:00:00  task_lr: 0.000044  task_loss: 0.1049 (0.1053)  time: 0.9212  data: 0.0157  max mem: 5003\n",
            "Cycle:[1] Epoch: [45] Total time: 0:03:40 (0.9217 s / it)\n",
            "creating index...\n",
            "index created!\n",
            "Test:  [  0/239]  eta: 0:01:11  model_time: 0.0935 (0.0935)  evaluator_time: 0.0044 (0.0044)  time: 0.3003  data: 0.2001  max mem: 5003\n",
            "Test:  [100/239]  eta: 0:00:12  model_time: 0.0832 (0.0833)  evaluator_time: 0.0019 (0.0019)  time: 0.0905  data: 0.0039  max mem: 5003\n",
            "Test:  [200/239]  eta: 0:00:03  model_time: 0.0831 (0.0833)  evaluator_time: 0.0019 (0.0020)  time: 0.0905  data: 0.0038  max mem: 5003\n"
          ],
          "name": "stdout"
        },
        {
          "output_type": "stream",
          "text": [
            "[2021-08-07 00:25:17,901][<ipython-input-49-0825c7523d1d>][line:153][INFO] [0.26963199 0.52105895 0.24827718 0.27781689 0.26967134 0.00210396\n",
            " 0.34090909 0.45743802 0.46198347 0.46853933 0.46229508 0.06666667]\n",
            "[2021-08-07 00:25:17,904][<ipython-input-49-0825c7523d1d>][line:163][INFO] No improvement. \n"
          ],
          "name": "stderr"
        },
        {
          "output_type": "stream",
          "text": [
            "Test:  [238/239]  eta: 0:00:00  model_time: 0.0829 (0.0833)  evaluator_time: 0.0018 (0.0020)  time: 0.0901  data: 0.0038  max mem: 5003\n",
            "Test: Total time: 0:00:21 (0.0920 s / it)\n",
            "Averaged stats: model_time: 0.0829 (0.0833)  evaluator_time: 0.0018 (0.0020)\n",
            "Accumulating evaluation results...\n",
            "DONE (t=0.05s).\n",
            "IoU metric: bbox\n",
            " Average Precision  (AP) @[ IoU=0.50:0.95 | area=   all | maxDets=100 ] = 0.270\n",
            " Average Precision  (AP) @[ IoU=0.50      | area=   all | maxDets=100 ] = 0.521\n",
            " Average Precision  (AP) @[ IoU=0.75      | area=   all | maxDets=100 ] = 0.248\n",
            " Average Precision  (AP) @[ IoU=0.50:0.95 | area= small | maxDets=100 ] = 0.278\n",
            " Average Precision  (AP) @[ IoU=0.50:0.95 | area=medium | maxDets=100 ] = 0.270\n",
            " Average Precision  (AP) @[ IoU=0.50:0.95 | area= large | maxDets=100 ] = 0.002\n",
            " Average Recall     (AR) @[ IoU=0.50:0.95 | area=   all | maxDets=  1 ] = 0.341\n",
            " Average Recall     (AR) @[ IoU=0.50:0.95 | area=   all | maxDets= 10 ] = 0.457\n",
            " Average Recall     (AR) @[ IoU=0.50:0.95 | area=   all | maxDets=100 ] = 0.462\n",
            " Average Recall     (AR) @[ IoU=0.50:0.95 | area= small | maxDets=100 ] = 0.469\n",
            " Average Recall     (AR) @[ IoU=0.50:0.95 | area=medium | maxDets=100 ] = 0.462\n",
            " Average Recall     (AR) @[ IoU=0.50:0.95 | area= large | maxDets=100 ] = 0.067\n",
            "Cycle:[1] Epoch: [46]  [  0/239]  eta: 0:05:04  task_lr: 0.000039  task_loss: 0.0736 (0.0736)  time: 1.2734  data: 0.3616  max mem: 5003\n",
            "Cycle:[1] Epoch: [46]  [100/239]  eta: 0:02:08  task_lr: 0.000039  task_loss: 0.0974 (0.1018)  time: 0.9196  data: 0.0146  max mem: 5003\n",
            "Cycle:[1] Epoch: [46]  [200/239]  eta: 0:00:35  task_lr: 0.000039  task_loss: 0.0988 (0.1038)  time: 0.9200  data: 0.0149  max mem: 5003\n",
            "Cycle:[1] Epoch: [46]  [238/239]  eta: 0:00:00  task_lr: 0.000039  task_loss: 0.0945 (0.1038)  time: 0.9190  data: 0.0145  max mem: 5003\n",
            "Cycle:[1] Epoch: [46] Total time: 0:03:40 (0.9218 s / it)\n",
            "creating index...\n",
            "index created!\n",
            "Test:  [  0/239]  eta: 0:01:13  model_time: 0.0946 (0.0946)  evaluator_time: 0.0043 (0.0043)  time: 0.3087  data: 0.2076  max mem: 5003\n",
            "Test:  [100/239]  eta: 0:00:12  model_time: 0.0829 (0.0832)  evaluator_time: 0.0018 (0.0018)  time: 0.0900  data: 0.0036  max mem: 5003\n",
            "Test:  [200/239]  eta: 0:00:03  model_time: 0.0828 (0.0830)  evaluator_time: 0.0017 (0.0018)  time: 0.0896  data: 0.0036  max mem: 5003\n"
          ],
          "name": "stdout"
        },
        {
          "output_type": "stream",
          "text": [
            "[2021-08-07 00:29:56,636][<ipython-input-49-0825c7523d1d>][line:153][INFO] [0.25520339 0.52164792 0.18190602 0.2579514  0.27585493 0.\n",
            " 0.33884298 0.44793388 0.45247934 0.45168539 0.47704918 0.        ]\n",
            "[2021-08-07 00:29:56,637][<ipython-input-49-0825c7523d1d>][line:163][INFO] No improvement. \n"
          ],
          "name": "stderr"
        },
        {
          "output_type": "stream",
          "text": [
            "Test:  [238/239]  eta: 0:00:00  model_time: 0.0829 (0.0830)  evaluator_time: 0.0017 (0.0018)  time: 0.0908  data: 0.0039  max mem: 5003\n",
            "Test: Total time: 0:00:21 (0.0915 s / it)\n",
            "Averaged stats: model_time: 0.0829 (0.0830)  evaluator_time: 0.0017 (0.0018)\n",
            "Accumulating evaluation results...\n",
            "DONE (t=0.04s).\n",
            "IoU metric: bbox\n",
            " Average Precision  (AP) @[ IoU=0.50:0.95 | area=   all | maxDets=100 ] = 0.255\n",
            " Average Precision  (AP) @[ IoU=0.50      | area=   all | maxDets=100 ] = 0.522\n",
            " Average Precision  (AP) @[ IoU=0.75      | area=   all | maxDets=100 ] = 0.182\n",
            " Average Precision  (AP) @[ IoU=0.50:0.95 | area= small | maxDets=100 ] = 0.258\n",
            " Average Precision  (AP) @[ IoU=0.50:0.95 | area=medium | maxDets=100 ] = 0.276\n",
            " Average Precision  (AP) @[ IoU=0.50:0.95 | area= large | maxDets=100 ] = 0.000\n",
            " Average Recall     (AR) @[ IoU=0.50:0.95 | area=   all | maxDets=  1 ] = 0.339\n",
            " Average Recall     (AR) @[ IoU=0.50:0.95 | area=   all | maxDets= 10 ] = 0.448\n",
            " Average Recall     (AR) @[ IoU=0.50:0.95 | area=   all | maxDets=100 ] = 0.452\n",
            " Average Recall     (AR) @[ IoU=0.50:0.95 | area= small | maxDets=100 ] = 0.452\n",
            " Average Recall     (AR) @[ IoU=0.50:0.95 | area=medium | maxDets=100 ] = 0.477\n",
            " Average Recall     (AR) @[ IoU=0.50:0.95 | area= large | maxDets=100 ] = 0.000\n",
            "Cycle:[1] Epoch: [47]  [  0/239]  eta: 0:04:57  task_lr: 0.000033  task_loss: 0.0788 (0.0788)  time: 1.2463  data: 0.3371  max mem: 5003\n",
            "Cycle:[1] Epoch: [47]  [100/239]  eta: 0:02:08  task_lr: 0.000033  task_loss: 0.1083 (0.1017)  time: 0.9209  data: 0.0155  max mem: 5003\n",
            "Cycle:[1] Epoch: [47]  [200/239]  eta: 0:00:35  task_lr: 0.000033  task_loss: 0.0924 (0.1010)  time: 0.9215  data: 0.0154  max mem: 5003\n",
            "Cycle:[1] Epoch: [47]  [238/239]  eta: 0:00:00  task_lr: 0.000033  task_loss: 0.1004 (0.1031)  time: 0.9180  data: 0.0142  max mem: 5003\n",
            "Cycle:[1] Epoch: [47] Total time: 0:03:40 (0.9220 s / it)\n",
            "creating index...\n",
            "index created!\n",
            "Test:  [  0/239]  eta: 0:01:16  model_time: 0.0994 (0.0994)  evaluator_time: 0.0046 (0.0046)  time: 0.3197  data: 0.2135  max mem: 5003\n",
            "Test:  [100/239]  eta: 0:00:12  model_time: 0.0829 (0.0833)  evaluator_time: 0.0017 (0.0019)  time: 0.0901  data: 0.0037  max mem: 5003\n",
            "Test:  [200/239]  eta: 0:00:03  model_time: 0.0830 (0.0831)  evaluator_time: 0.0018 (0.0018)  time: 0.0906  data: 0.0040  max mem: 5003\n"
          ],
          "name": "stdout"
        },
        {
          "output_type": "stream",
          "text": [
            "[2021-08-07 00:34:35,682][<ipython-input-49-0825c7523d1d>][line:153][INFO] [0.23920481 0.51012047 0.1821628  0.24305342 0.26262204 0.01501469\n",
            " 0.31528926 0.41033058 0.41694215 0.40842697 0.44590164 0.33333333]\n",
            "[2021-08-07 00:34:35,683][<ipython-input-49-0825c7523d1d>][line:163][INFO] No improvement. \n"
          ],
          "name": "stderr"
        },
        {
          "output_type": "stream",
          "text": [
            "Test:  [238/239]  eta: 0:00:00  model_time: 0.0826 (0.0831)  evaluator_time: 0.0016 (0.0018)  time: 0.0894  data: 0.0036  max mem: 5003\n",
            "Test: Total time: 0:00:21 (0.0917 s / it)\n",
            "Averaged stats: model_time: 0.0826 (0.0831)  evaluator_time: 0.0016 (0.0018)\n",
            "Accumulating evaluation results...\n",
            "DONE (t=0.04s).\n",
            "IoU metric: bbox\n",
            " Average Precision  (AP) @[ IoU=0.50:0.95 | area=   all | maxDets=100 ] = 0.239\n",
            " Average Precision  (AP) @[ IoU=0.50      | area=   all | maxDets=100 ] = 0.510\n",
            " Average Precision  (AP) @[ IoU=0.75      | area=   all | maxDets=100 ] = 0.182\n",
            " Average Precision  (AP) @[ IoU=0.50:0.95 | area= small | maxDets=100 ] = 0.243\n",
            " Average Precision  (AP) @[ IoU=0.50:0.95 | area=medium | maxDets=100 ] = 0.263\n",
            " Average Precision  (AP) @[ IoU=0.50:0.95 | area= large | maxDets=100 ] = 0.015\n",
            " Average Recall     (AR) @[ IoU=0.50:0.95 | area=   all | maxDets=  1 ] = 0.315\n",
            " Average Recall     (AR) @[ IoU=0.50:0.95 | area=   all | maxDets= 10 ] = 0.410\n",
            " Average Recall     (AR) @[ IoU=0.50:0.95 | area=   all | maxDets=100 ] = 0.417\n",
            " Average Recall     (AR) @[ IoU=0.50:0.95 | area= small | maxDets=100 ] = 0.408\n",
            " Average Recall     (AR) @[ IoU=0.50:0.95 | area=medium | maxDets=100 ] = 0.446\n",
            " Average Recall     (AR) @[ IoU=0.50:0.95 | area= large | maxDets=100 ] = 0.333\n",
            "Cycle:[1] Epoch: [48]  [  0/239]  eta: 0:05:07  task_lr: 0.000029  task_loss: 0.0734 (0.0734)  time: 1.2852  data: 0.3643  max mem: 5003\n",
            "Cycle:[1] Epoch: [48]  [100/239]  eta: 0:02:08  task_lr: 0.000029  task_loss: 0.1145 (0.1079)  time: 0.9190  data: 0.0147  max mem: 5003\n",
            "Cycle:[1] Epoch: [48]  [200/239]  eta: 0:00:35  task_lr: 0.000029  task_loss: 0.0996 (0.1033)  time: 0.9194  data: 0.0155  max mem: 5003\n",
            "Cycle:[1] Epoch: [48]  [238/239]  eta: 0:00:00  task_lr: 0.000029  task_loss: 0.1099 (0.1040)  time: 0.9199  data: 0.0150  max mem: 5003\n",
            "Cycle:[1] Epoch: [48] Total time: 0:03:40 (0.9220 s / it)\n",
            "creating index...\n",
            "index created!\n",
            "Test:  [  0/239]  eta: 0:01:14  model_time: 0.1031 (0.1031)  evaluator_time: 0.0045 (0.0045)  time: 0.3126  data: 0.2029  max mem: 5003\n",
            "Test:  [100/239]  eta: 0:00:12  model_time: 0.0832 (0.0836)  evaluator_time: 0.0018 (0.0020)  time: 0.0906  data: 0.0038  max mem: 5003\n",
            "Test:  [200/239]  eta: 0:00:03  model_time: 0.0832 (0.0834)  evaluator_time: 0.0017 (0.0019)  time: 0.0902  data: 0.0038  max mem: 5003\n"
          ],
          "name": "stdout"
        },
        {
          "output_type": "stream",
          "text": [
            "[2021-08-07 00:39:13,636][<ipython-input-49-0825c7523d1d>][line:153][INFO] [0.26349236 0.50349936 0.22455924 0.26875223 0.27628447 0.\n",
            " 0.33553719 0.45454545 0.45702479 0.45898876 0.47377049 0.        ]\n",
            "[2021-08-07 00:39:13,638][<ipython-input-49-0825c7523d1d>][line:163][INFO] No improvement. \n"
          ],
          "name": "stderr"
        },
        {
          "output_type": "stream",
          "text": [
            "Test:  [238/239]  eta: 0:00:00  model_time: 0.0831 (0.0834)  evaluator_time: 0.0017 (0.0019)  time: 0.0903  data: 0.0039  max mem: 5003\n",
            "Test: Total time: 0:00:22 (0.0922 s / it)\n",
            "Averaged stats: model_time: 0.0831 (0.0834)  evaluator_time: 0.0017 (0.0019)\n",
            "Accumulating evaluation results...\n",
            "DONE (t=0.05s).\n",
            "IoU metric: bbox\n",
            " Average Precision  (AP) @[ IoU=0.50:0.95 | area=   all | maxDets=100 ] = 0.263\n",
            " Average Precision  (AP) @[ IoU=0.50      | area=   all | maxDets=100 ] = 0.503\n",
            " Average Precision  (AP) @[ IoU=0.75      | area=   all | maxDets=100 ] = 0.225\n",
            " Average Precision  (AP) @[ IoU=0.50:0.95 | area= small | maxDets=100 ] = 0.269\n",
            " Average Precision  (AP) @[ IoU=0.50:0.95 | area=medium | maxDets=100 ] = 0.276\n",
            " Average Precision  (AP) @[ IoU=0.50:0.95 | area= large | maxDets=100 ] = 0.000\n",
            " Average Recall     (AR) @[ IoU=0.50:0.95 | area=   all | maxDets=  1 ] = 0.336\n",
            " Average Recall     (AR) @[ IoU=0.50:0.95 | area=   all | maxDets= 10 ] = 0.455\n",
            " Average Recall     (AR) @[ IoU=0.50:0.95 | area=   all | maxDets=100 ] = 0.457\n",
            " Average Recall     (AR) @[ IoU=0.50:0.95 | area= small | maxDets=100 ] = 0.459\n",
            " Average Recall     (AR) @[ IoU=0.50:0.95 | area=medium | maxDets=100 ] = 0.474\n",
            " Average Recall     (AR) @[ IoU=0.50:0.95 | area= large | maxDets=100 ] = 0.000\n",
            "Cycle:[1] Epoch: [49]  [  0/239]  eta: 0:05:01  task_lr: 0.000024  task_loss: 0.1258 (0.1258)  time: 1.2609  data: 0.3457  max mem: 5003\n",
            "Cycle:[1] Epoch: [49]  [100/239]  eta: 0:02:08  task_lr: 0.000024  task_loss: 0.0969 (0.1028)  time: 0.9169  data: 0.0133  max mem: 5003\n",
            "Cycle:[1] Epoch: [49]  [200/239]  eta: 0:00:35  task_lr: 0.000024  task_loss: 0.1040 (0.1037)  time: 0.9196  data: 0.0147  max mem: 5003\n",
            "Cycle:[1] Epoch: [49]  [238/239]  eta: 0:00:00  task_lr: 0.000024  task_loss: 0.0943 (0.1037)  time: 0.9202  data: 0.0150  max mem: 5003\n",
            "Cycle:[1] Epoch: [49] Total time: 0:03:40 (0.9218 s / it)\n",
            "creating index...\n",
            "index created!\n",
            "Test:  [  0/239]  eta: 0:01:13  model_time: 0.0940 (0.0940)  evaluator_time: 0.0047 (0.0047)  time: 0.3061  data: 0.2050  max mem: 5003\n",
            "Test:  [100/239]  eta: 0:00:12  model_time: 0.0829 (0.0831)  evaluator_time: 0.0018 (0.0018)  time: 0.0898  data: 0.0037  max mem: 5003\n",
            "Test:  [200/239]  eta: 0:00:03  model_time: 0.0830 (0.0830)  evaluator_time: 0.0018 (0.0019)  time: 0.0908  data: 0.0040  max mem: 5003\n"
          ],
          "name": "stdout"
        },
        {
          "output_type": "stream",
          "text": [
            "[2021-08-07 00:43:51,673][<ipython-input-49-0825c7523d1d>][line:153][INFO] [0.26545356 0.52082542 0.23812134 0.27340222 0.2759541  0.00156574\n",
            " 0.34256198 0.44586777 0.45041322 0.45280899 0.46229508 0.06666667]\n",
            "[2021-08-07 00:43:51,674][<ipython-input-49-0825c7523d1d>][line:163][INFO] No improvement. \n"
          ],
          "name": "stderr"
        },
        {
          "output_type": "stream",
          "text": [
            "Test:  [238/239]  eta: 0:00:00  model_time: 0.0831 (0.0831)  evaluator_time: 0.0018 (0.0019)  time: 0.0904  data: 0.0038  max mem: 5003\n",
            "Test: Total time: 0:00:21 (0.0917 s / it)\n",
            "Averaged stats: model_time: 0.0831 (0.0831)  evaluator_time: 0.0018 (0.0019)\n",
            "Accumulating evaluation results...\n",
            "DONE (t=0.04s).\n",
            "IoU metric: bbox\n",
            " Average Precision  (AP) @[ IoU=0.50:0.95 | area=   all | maxDets=100 ] = 0.265\n",
            " Average Precision  (AP) @[ IoU=0.50      | area=   all | maxDets=100 ] = 0.521\n",
            " Average Precision  (AP) @[ IoU=0.75      | area=   all | maxDets=100 ] = 0.238\n",
            " Average Precision  (AP) @[ IoU=0.50:0.95 | area= small | maxDets=100 ] = 0.273\n",
            " Average Precision  (AP) @[ IoU=0.50:0.95 | area=medium | maxDets=100 ] = 0.276\n",
            " Average Precision  (AP) @[ IoU=0.50:0.95 | area= large | maxDets=100 ] = 0.002\n",
            " Average Recall     (AR) @[ IoU=0.50:0.95 | area=   all | maxDets=  1 ] = 0.343\n",
            " Average Recall     (AR) @[ IoU=0.50:0.95 | area=   all | maxDets= 10 ] = 0.446\n",
            " Average Recall     (AR) @[ IoU=0.50:0.95 | area=   all | maxDets=100 ] = 0.450\n",
            " Average Recall     (AR) @[ IoU=0.50:0.95 | area= small | maxDets=100 ] = 0.453\n",
            " Average Recall     (AR) @[ IoU=0.50:0.95 | area=medium | maxDets=100 ] = 0.462\n",
            " Average Recall     (AR) @[ IoU=0.50:0.95 | area= large | maxDets=100 ] = 0.067\n",
            "Cycle:[1] Epoch: [50]  [  0/239]  eta: 0:05:15  task_lr: 0.000020  task_loss: 0.1105 (0.1105)  time: 1.3208  data: 0.3966  max mem: 5003\n",
            "Cycle:[1] Epoch: [50]  [100/239]  eta: 0:02:08  task_lr: 0.000020  task_loss: 0.1056 (0.1065)  time: 0.9209  data: 0.0156  max mem: 5003\n",
            "Cycle:[1] Epoch: [50]  [200/239]  eta: 0:00:35  task_lr: 0.000020  task_loss: 0.0952 (0.1014)  time: 0.9185  data: 0.0143  max mem: 5003\n",
            "Cycle:[1] Epoch: [50]  [238/239]  eta: 0:00:00  task_lr: 0.000020  task_loss: 0.1049 (0.1013)  time: 0.9205  data: 0.0148  max mem: 5003\n",
            "Cycle:[1] Epoch: [50] Total time: 0:03:40 (0.9220 s / it)\n",
            "creating index...\n",
            "index created!\n",
            "Test:  [  0/239]  eta: 0:01:12  model_time: 0.1011 (0.1011)  evaluator_time: 0.0057 (0.0057)  time: 0.3017  data: 0.1928  max mem: 5003\n",
            "Test:  [100/239]  eta: 0:00:12  model_time: 0.0830 (0.0832)  evaluator_time: 0.0018 (0.0019)  time: 0.0902  data: 0.0038  max mem: 5003\n",
            "Test:  [200/239]  eta: 0:00:03  model_time: 0.0831 (0.0831)  evaluator_time: 0.0018 (0.0019)  time: 0.0903  data: 0.0039  max mem: 5003\n"
          ],
          "name": "stdout"
        },
        {
          "output_type": "stream",
          "text": [
            "[2021-08-07 00:48:30,461][<ipython-input-49-0825c7523d1d>][line:153][INFO] [0.26044129 0.51562576 0.22267346 0.27222103 0.25746427 0.002768\n",
            " 0.34504132 0.45247934 0.45867769 0.46516854 0.45737705 0.1       ]\n",
            "[2021-08-07 00:48:30,463][<ipython-input-49-0825c7523d1d>][line:163][INFO] No improvement. \n"
          ],
          "name": "stderr"
        },
        {
          "output_type": "stream",
          "text": [
            "Test:  [238/239]  eta: 0:00:00  model_time: 0.0827 (0.0830)  evaluator_time: 0.0017 (0.0018)  time: 0.0894  data: 0.0036  max mem: 5003\n",
            "Test: Total time: 0:00:21 (0.0914 s / it)\n",
            "Averaged stats: model_time: 0.0827 (0.0830)  evaluator_time: 0.0017 (0.0018)\n",
            "Accumulating evaluation results...\n",
            "DONE (t=0.05s).\n",
            "IoU metric: bbox\n",
            " Average Precision  (AP) @[ IoU=0.50:0.95 | area=   all | maxDets=100 ] = 0.260\n",
            " Average Precision  (AP) @[ IoU=0.50      | area=   all | maxDets=100 ] = 0.516\n",
            " Average Precision  (AP) @[ IoU=0.75      | area=   all | maxDets=100 ] = 0.223\n",
            " Average Precision  (AP) @[ IoU=0.50:0.95 | area= small | maxDets=100 ] = 0.272\n",
            " Average Precision  (AP) @[ IoU=0.50:0.95 | area=medium | maxDets=100 ] = 0.257\n",
            " Average Precision  (AP) @[ IoU=0.50:0.95 | area= large | maxDets=100 ] = 0.003\n",
            " Average Recall     (AR) @[ IoU=0.50:0.95 | area=   all | maxDets=  1 ] = 0.345\n",
            " Average Recall     (AR) @[ IoU=0.50:0.95 | area=   all | maxDets= 10 ] = 0.452\n",
            " Average Recall     (AR) @[ IoU=0.50:0.95 | area=   all | maxDets=100 ] = 0.459\n",
            " Average Recall     (AR) @[ IoU=0.50:0.95 | area= small | maxDets=100 ] = 0.465\n",
            " Average Recall     (AR) @[ IoU=0.50:0.95 | area=medium | maxDets=100 ] = 0.457\n",
            " Average Recall     (AR) @[ IoU=0.50:0.95 | area= large | maxDets=100 ] = 0.100\n",
            "Cycle:[1] Epoch: [51]  [  0/239]  eta: 0:05:12  task_lr: 0.000016  task_loss: 0.1109 (0.1109)  time: 1.3059  data: 0.3835  max mem: 5003\n",
            "Cycle:[1] Epoch: [51]  [100/239]  eta: 0:02:08  task_lr: 0.000016  task_loss: 0.1047 (0.1007)  time: 0.9204  data: 0.0149  max mem: 5003\n",
            "Cycle:[1] Epoch: [51]  [200/239]  eta: 0:00:35  task_lr: 0.000016  task_loss: 0.1005 (0.1008)  time: 0.9193  data: 0.0148  max mem: 5003\n",
            "Cycle:[1] Epoch: [51]  [238/239]  eta: 0:00:00  task_lr: 0.000016  task_loss: 0.1021 (0.1015)  time: 0.9201  data: 0.0147  max mem: 5003\n",
            "Cycle:[1] Epoch: [51] Total time: 0:03:40 (0.9222 s / it)\n",
            "creating index...\n",
            "index created!\n",
            "Test:  [  0/239]  eta: 0:01:13  model_time: 0.0948 (0.0948)  evaluator_time: 0.0044 (0.0044)  time: 0.3092  data: 0.2081  max mem: 5003\n",
            "Test:  [100/239]  eta: 0:00:12  model_time: 0.0831 (0.0832)  evaluator_time: 0.0019 (0.0019)  time: 0.0906  data: 0.0039  max mem: 5003\n",
            "Test:  [200/239]  eta: 0:00:03  model_time: 0.0827 (0.0830)  evaluator_time: 0.0018 (0.0019)  time: 0.0897  data: 0.0037  max mem: 5003\n"
          ],
          "name": "stdout"
        },
        {
          "output_type": "stream",
          "text": [
            "[2021-08-07 00:53:08,991][<ipython-input-49-0825c7523d1d>][line:153][INFO] [0.27328814 0.52278509 0.26138169 0.27833682 0.28099183 0.00807921\n",
            " 0.34256198 0.46942149 0.4785124  0.48483146 0.47377049 0.2       ]\n",
            "[2021-08-07 00:53:08,995][<ipython-input-49-0825c7523d1d>][line:163][INFO] No improvement. \n"
          ],
          "name": "stderr"
        },
        {
          "output_type": "stream",
          "text": [
            "Test:  [238/239]  eta: 0:00:00  model_time: 0.0832 (0.0830)  evaluator_time: 0.0018 (0.0019)  time: 0.0907  data: 0.0039  max mem: 5003\n",
            "Test: Total time: 0:00:21 (0.0917 s / it)\n",
            "Averaged stats: model_time: 0.0832 (0.0830)  evaluator_time: 0.0018 (0.0019)\n",
            "Accumulating evaluation results...\n",
            "DONE (t=0.05s).\n",
            "IoU metric: bbox\n",
            " Average Precision  (AP) @[ IoU=0.50:0.95 | area=   all | maxDets=100 ] = 0.273\n",
            " Average Precision  (AP) @[ IoU=0.50      | area=   all | maxDets=100 ] = 0.523\n",
            " Average Precision  (AP) @[ IoU=0.75      | area=   all | maxDets=100 ] = 0.261\n",
            " Average Precision  (AP) @[ IoU=0.50:0.95 | area= small | maxDets=100 ] = 0.278\n",
            " Average Precision  (AP) @[ IoU=0.50:0.95 | area=medium | maxDets=100 ] = 0.281\n",
            " Average Precision  (AP) @[ IoU=0.50:0.95 | area= large | maxDets=100 ] = 0.008\n",
            " Average Recall     (AR) @[ IoU=0.50:0.95 | area=   all | maxDets=  1 ] = 0.343\n",
            " Average Recall     (AR) @[ IoU=0.50:0.95 | area=   all | maxDets= 10 ] = 0.469\n",
            " Average Recall     (AR) @[ IoU=0.50:0.95 | area=   all | maxDets=100 ] = 0.479\n",
            " Average Recall     (AR) @[ IoU=0.50:0.95 | area= small | maxDets=100 ] = 0.485\n",
            " Average Recall     (AR) @[ IoU=0.50:0.95 | area=medium | maxDets=100 ] = 0.474\n",
            " Average Recall     (AR) @[ IoU=0.50:0.95 | area= large | maxDets=100 ] = 0.200\n",
            "Cycle:[1] Epoch: [52]  [  0/239]  eta: 0:05:10  task_lr: 0.000013  task_loss: 0.1086 (0.1086)  time: 1.3011  data: 0.3800  max mem: 5003\n",
            "Cycle:[1] Epoch: [52]  [100/239]  eta: 0:02:08  task_lr: 0.000013  task_loss: 0.1048 (0.1019)  time: 0.9180  data: 0.0138  max mem: 5003\n",
            "Cycle:[1] Epoch: [52]  [200/239]  eta: 0:00:35  task_lr: 0.000013  task_loss: 0.0981 (0.0998)  time: 0.9208  data: 0.0150  max mem: 5003\n",
            "Cycle:[1] Epoch: [52]  [238/239]  eta: 0:00:00  task_lr: 0.000013  task_loss: 0.1018 (0.1012)  time: 0.9184  data: 0.0141  max mem: 5003\n",
            "Cycle:[1] Epoch: [52] Total time: 0:03:40 (0.9219 s / it)\n",
            "creating index...\n",
            "index created!\n",
            "Test:  [  0/239]  eta: 0:01:08  model_time: 0.0959 (0.0959)  evaluator_time: 0.0052 (0.0052)  time: 0.2874  data: 0.1841  max mem: 5003\n",
            "Test:  [100/239]  eta: 0:00:12  model_time: 0.0828 (0.0833)  evaluator_time: 0.0018 (0.0019)  time: 0.0900  data: 0.0037  max mem: 5003\n",
            "Test:  [200/239]  eta: 0:00:03  model_time: 0.0828 (0.0831)  evaluator_time: 0.0018 (0.0019)  time: 0.0900  data: 0.0037  max mem: 5003\n"
          ],
          "name": "stdout"
        },
        {
          "output_type": "stream",
          "text": [
            "[2021-08-07 00:57:48,014][<ipython-input-49-0825c7523d1d>][line:153][INFO] [0.26223652 0.52261543 0.21410632 0.27175744 0.26547048 0.00134653\n",
            " 0.34132231 0.44793388 0.45330579 0.45617978 0.46557377 0.03333333]\n",
            "[2021-08-07 00:57:48,016][<ipython-input-49-0825c7523d1d>][line:163][INFO] No improvement. \n"
          ],
          "name": "stderr"
        },
        {
          "output_type": "stream",
          "text": [
            "Test:  [238/239]  eta: 0:00:00  model_time: 0.0826 (0.0831)  evaluator_time: 0.0016 (0.0018)  time: 0.0892  data: 0.0035  max mem: 5003\n",
            "Test: Total time: 0:00:21 (0.0914 s / it)\n",
            "Averaged stats: model_time: 0.0826 (0.0831)  evaluator_time: 0.0016 (0.0018)\n",
            "Accumulating evaluation results...\n",
            "DONE (t=0.04s).\n",
            "IoU metric: bbox\n",
            " Average Precision  (AP) @[ IoU=0.50:0.95 | area=   all | maxDets=100 ] = 0.262\n",
            " Average Precision  (AP) @[ IoU=0.50      | area=   all | maxDets=100 ] = 0.523\n",
            " Average Precision  (AP) @[ IoU=0.75      | area=   all | maxDets=100 ] = 0.214\n",
            " Average Precision  (AP) @[ IoU=0.50:0.95 | area= small | maxDets=100 ] = 0.272\n",
            " Average Precision  (AP) @[ IoU=0.50:0.95 | area=medium | maxDets=100 ] = 0.265\n",
            " Average Precision  (AP) @[ IoU=0.50:0.95 | area= large | maxDets=100 ] = 0.001\n",
            " Average Recall     (AR) @[ IoU=0.50:0.95 | area=   all | maxDets=  1 ] = 0.341\n",
            " Average Recall     (AR) @[ IoU=0.50:0.95 | area=   all | maxDets= 10 ] = 0.448\n",
            " Average Recall     (AR) @[ IoU=0.50:0.95 | area=   all | maxDets=100 ] = 0.453\n",
            " Average Recall     (AR) @[ IoU=0.50:0.95 | area= small | maxDets=100 ] = 0.456\n",
            " Average Recall     (AR) @[ IoU=0.50:0.95 | area=medium | maxDets=100 ] = 0.466\n",
            " Average Recall     (AR) @[ IoU=0.50:0.95 | area= large | maxDets=100 ] = 0.033\n",
            "Cycle:[1] Epoch: [53]  [  0/239]  eta: 0:05:12  task_lr: 0.000010  task_loss: 0.1322 (0.1322)  time: 1.3087  data: 0.3923  max mem: 5003\n",
            "Cycle:[1] Epoch: [53]  [100/239]  eta: 0:02:08  task_lr: 0.000010  task_loss: 0.0846 (0.1048)  time: 0.9186  data: 0.0144  max mem: 5003\n",
            "Cycle:[1] Epoch: [53]  [200/239]  eta: 0:00:35  task_lr: 0.000010  task_loss: 0.0941 (0.1018)  time: 0.9189  data: 0.0147  max mem: 5003\n",
            "Cycle:[1] Epoch: [53]  [238/239]  eta: 0:00:00  task_lr: 0.000010  task_loss: 0.0908 (0.1017)  time: 0.9197  data: 0.0151  max mem: 5003\n",
            "Cycle:[1] Epoch: [53] Total time: 0:03:40 (0.9217 s / it)\n",
            "creating index...\n",
            "index created!\n",
            "Test:  [  0/239]  eta: 0:01:13  model_time: 0.0952 (0.0952)  evaluator_time: 0.0046 (0.0046)  time: 0.3068  data: 0.2050  max mem: 5003\n",
            "Test:  [100/239]  eta: 0:00:12  model_time: 0.0830 (0.0835)  evaluator_time: 0.0019 (0.0020)  time: 0.0909  data: 0.0040  max mem: 5003\n",
            "Test:  [200/239]  eta: 0:00:03  model_time: 0.0825 (0.0833)  evaluator_time: 0.0018 (0.0019)  time: 0.0899  data: 0.0038  max mem: 5003\n"
          ],
          "name": "stdout"
        },
        {
          "output_type": "stream",
          "text": [
            "[2021-08-07 01:02:26,294][<ipython-input-49-0825c7523d1d>][line:153][INFO] [0.27702575 0.5370645  0.26314942 0.27987673 0.28874662 0.00411026\n",
            " 0.35123967 0.46487603 0.46942149 0.47921348 0.45737705 0.13333333]\n",
            "[2021-08-07 01:02:26,296][<ipython-input-49-0825c7523d1d>][line:159][INFO] Saving best checkpoints for mAP 0.277026\n"
          ],
          "name": "stderr"
        },
        {
          "output_type": "stream",
          "text": [
            "Test:  [238/239]  eta: 0:00:00  model_time: 0.0827 (0.0833)  evaluator_time: 0.0016 (0.0019)  time: 0.0897  data: 0.0038  max mem: 5003\n",
            "Test: Total time: 0:00:22 (0.0921 s / it)\n",
            "Averaged stats: model_time: 0.0827 (0.0833)  evaluator_time: 0.0016 (0.0019)\n",
            "Accumulating evaluation results...\n",
            "DONE (t=0.04s).\n",
            "IoU metric: bbox\n",
            " Average Precision  (AP) @[ IoU=0.50:0.95 | area=   all | maxDets=100 ] = 0.277\n",
            " Average Precision  (AP) @[ IoU=0.50      | area=   all | maxDets=100 ] = 0.537\n",
            " Average Precision  (AP) @[ IoU=0.75      | area=   all | maxDets=100 ] = 0.263\n",
            " Average Precision  (AP) @[ IoU=0.50:0.95 | area= small | maxDets=100 ] = 0.280\n",
            " Average Precision  (AP) @[ IoU=0.50:0.95 | area=medium | maxDets=100 ] = 0.289\n",
            " Average Precision  (AP) @[ IoU=0.50:0.95 | area= large | maxDets=100 ] = 0.004\n",
            " Average Recall     (AR) @[ IoU=0.50:0.95 | area=   all | maxDets=  1 ] = 0.351\n",
            " Average Recall     (AR) @[ IoU=0.50:0.95 | area=   all | maxDets= 10 ] = 0.465\n",
            " Average Recall     (AR) @[ IoU=0.50:0.95 | area=   all | maxDets=100 ] = 0.469\n",
            " Average Recall     (AR) @[ IoU=0.50:0.95 | area= small | maxDets=100 ] = 0.479\n",
            " Average Recall     (AR) @[ IoU=0.50:0.95 | area=medium | maxDets=100 ] = 0.457\n",
            " Average Recall     (AR) @[ IoU=0.50:0.95 | area= large | maxDets=100 ] = 0.133\n",
            "Cycle:[1] Epoch: [54]  [  0/239]  eta: 0:05:19  task_lr: 0.000007  task_loss: 0.1111 (0.1111)  time: 1.3364  data: 0.4158  max mem: 5003\n",
            "Cycle:[1] Epoch: [54]  [100/239]  eta: 0:02:08  task_lr: 0.000007  task_loss: 0.1170 (0.1027)  time: 0.9187  data: 0.0144  max mem: 5003\n",
            "Cycle:[1] Epoch: [54]  [200/239]  eta: 0:00:35  task_lr: 0.000007  task_loss: 0.0887 (0.0990)  time: 0.9190  data: 0.0148  max mem: 5003\n",
            "Cycle:[1] Epoch: [54]  [238/239]  eta: 0:00:00  task_lr: 0.000007  task_loss: 0.0870 (0.0992)  time: 0.9202  data: 0.0147  max mem: 5003\n",
            "Cycle:[1] Epoch: [54] Total time: 0:03:40 (0.9225 s / it)\n",
            "creating index...\n",
            "index created!\n",
            "Test:  [  0/239]  eta: 0:01:12  model_time: 0.0957 (0.0957)  evaluator_time: 0.0049 (0.0049)  time: 0.3013  data: 0.1985  max mem: 5003\n",
            "Test:  [100/239]  eta: 0:00:12  model_time: 0.0828 (0.0832)  evaluator_time: 0.0018 (0.0019)  time: 0.0899  data: 0.0037  max mem: 5003\n",
            "Test:  [200/239]  eta: 0:00:03  model_time: 0.0831 (0.0832)  evaluator_time: 0.0018 (0.0019)  time: 0.0904  data: 0.0038  max mem: 5003\n"
          ],
          "name": "stdout"
        },
        {
          "output_type": "stream",
          "text": [
            "[2021-08-07 01:07:04,739][<ipython-input-49-0825c7523d1d>][line:153][INFO] [0.26303038 0.53194669 0.22203388 0.2729648  0.26149744 0.00153015\n",
            " 0.34380165 0.45289256 0.45702479 0.46292135 0.46065574 0.03333333]\n",
            "[2021-08-07 01:07:04,741][<ipython-input-49-0825c7523d1d>][line:163][INFO] No improvement. \n"
          ],
          "name": "stderr"
        },
        {
          "output_type": "stream",
          "text": [
            "Test:  [238/239]  eta: 0:00:00  model_time: 0.0832 (0.0832)  evaluator_time: 0.0018 (0.0019)  time: 0.0901  data: 0.0038  max mem: 5003\n",
            "Test: Total time: 0:00:21 (0.0919 s / it)\n",
            "Averaged stats: model_time: 0.0832 (0.0832)  evaluator_time: 0.0018 (0.0019)\n",
            "Accumulating evaluation results...\n",
            "DONE (t=0.04s).\n",
            "IoU metric: bbox\n",
            " Average Precision  (AP) @[ IoU=0.50:0.95 | area=   all | maxDets=100 ] = 0.263\n",
            " Average Precision  (AP) @[ IoU=0.50      | area=   all | maxDets=100 ] = 0.532\n",
            " Average Precision  (AP) @[ IoU=0.75      | area=   all | maxDets=100 ] = 0.222\n",
            " Average Precision  (AP) @[ IoU=0.50:0.95 | area= small | maxDets=100 ] = 0.273\n",
            " Average Precision  (AP) @[ IoU=0.50:0.95 | area=medium | maxDets=100 ] = 0.261\n",
            " Average Precision  (AP) @[ IoU=0.50:0.95 | area= large | maxDets=100 ] = 0.002\n",
            " Average Recall     (AR) @[ IoU=0.50:0.95 | area=   all | maxDets=  1 ] = 0.344\n",
            " Average Recall     (AR) @[ IoU=0.50:0.95 | area=   all | maxDets= 10 ] = 0.453\n",
            " Average Recall     (AR) @[ IoU=0.50:0.95 | area=   all | maxDets=100 ] = 0.457\n",
            " Average Recall     (AR) @[ IoU=0.50:0.95 | area= small | maxDets=100 ] = 0.463\n",
            " Average Recall     (AR) @[ IoU=0.50:0.95 | area=medium | maxDets=100 ] = 0.461\n",
            " Average Recall     (AR) @[ IoU=0.50:0.95 | area= large | maxDets=100 ] = 0.033\n",
            "Cycle:[1] Epoch: [55]  [  0/239]  eta: 0:05:11  task_lr: 0.000005  task_loss: 0.0731 (0.0731)  time: 1.3040  data: 0.3665  max mem: 5003\n",
            "Cycle:[1] Epoch: [55]  [100/239]  eta: 0:02:08  task_lr: 0.000005  task_loss: 0.0956 (0.0987)  time: 0.9196  data: 0.0149  max mem: 5003\n",
            "Cycle:[1] Epoch: [55]  [200/239]  eta: 0:00:35  task_lr: 0.000005  task_loss: 0.1030 (0.0996)  time: 0.9210  data: 0.0156  max mem: 5003\n",
            "Cycle:[1] Epoch: [55]  [238/239]  eta: 0:00:00  task_lr: 0.000005  task_loss: 0.0936 (0.0988)  time: 0.9187  data: 0.0145  max mem: 5003\n",
            "Cycle:[1] Epoch: [55] Total time: 0:03:40 (0.9223 s / it)\n",
            "creating index...\n",
            "index created!\n",
            "Test:  [  0/239]  eta: 0:01:07  model_time: 0.0990 (0.0990)  evaluator_time: 0.0045 (0.0045)  time: 0.2838  data: 0.1781  max mem: 5003\n",
            "Test:  [100/239]  eta: 0:00:12  model_time: 0.0832 (0.0835)  evaluator_time: 0.0019 (0.0020)  time: 0.0910  data: 0.0038  max mem: 5003\n",
            "Test:  [200/239]  eta: 0:00:03  model_time: 0.0827 (0.0840)  evaluator_time: 0.0018 (0.0020)  time: 0.0910  data: 0.0040  max mem: 5003\n"
          ],
          "name": "stdout"
        },
        {
          "output_type": "stream",
          "text": [
            "[2021-08-07 01:11:43,618][<ipython-input-49-0825c7523d1d>][line:153][INFO] [0.2682001  0.52126837 0.24109048 0.27227883 0.28224238 0.00124679\n",
            " 0.34793388 0.45247934 0.45743802 0.45955056 0.47213115 0.03333333]\n",
            "[2021-08-07 01:11:43,621][<ipython-input-49-0825c7523d1d>][line:163][INFO] No improvement. \n"
          ],
          "name": "stderr"
        },
        {
          "output_type": "stream",
          "text": [
            "Test:  [238/239]  eta: 0:00:00  model_time: 0.0827 (0.0839)  evaluator_time: 0.0018 (0.0019)  time: 0.0907  data: 0.0039  max mem: 5003\n",
            "Test: Total time: 0:00:22 (0.0929 s / it)\n",
            "Averaged stats: model_time: 0.0827 (0.0839)  evaluator_time: 0.0018 (0.0019)\n",
            "Accumulating evaluation results...\n",
            "DONE (t=0.04s).\n",
            "IoU metric: bbox\n",
            " Average Precision  (AP) @[ IoU=0.50:0.95 | area=   all | maxDets=100 ] = 0.268\n",
            " Average Precision  (AP) @[ IoU=0.50      | area=   all | maxDets=100 ] = 0.521\n",
            " Average Precision  (AP) @[ IoU=0.75      | area=   all | maxDets=100 ] = 0.241\n",
            " Average Precision  (AP) @[ IoU=0.50:0.95 | area= small | maxDets=100 ] = 0.272\n",
            " Average Precision  (AP) @[ IoU=0.50:0.95 | area=medium | maxDets=100 ] = 0.282\n",
            " Average Precision  (AP) @[ IoU=0.50:0.95 | area= large | maxDets=100 ] = 0.001\n",
            " Average Recall     (AR) @[ IoU=0.50:0.95 | area=   all | maxDets=  1 ] = 0.348\n",
            " Average Recall     (AR) @[ IoU=0.50:0.95 | area=   all | maxDets= 10 ] = 0.452\n",
            " Average Recall     (AR) @[ IoU=0.50:0.95 | area=   all | maxDets=100 ] = 0.457\n",
            " Average Recall     (AR) @[ IoU=0.50:0.95 | area= small | maxDets=100 ] = 0.460\n",
            " Average Recall     (AR) @[ IoU=0.50:0.95 | area=medium | maxDets=100 ] = 0.472\n",
            " Average Recall     (AR) @[ IoU=0.50:0.95 | area= large | maxDets=100 ] = 0.033\n",
            "Cycle:[1] Epoch: [56]  [  0/239]  eta: 0:05:10  task_lr: 0.000003  task_loss: 0.0792 (0.0792)  time: 1.2983  data: 0.3787  max mem: 5003\n",
            "Cycle:[1] Epoch: [56]  [100/239]  eta: 0:02:08  task_lr: 0.000003  task_loss: 0.0999 (0.0999)  time: 0.9219  data: 0.0156  max mem: 5003\n",
            "Cycle:[1] Epoch: [56]  [200/239]  eta: 0:00:35  task_lr: 0.000003  task_loss: 0.0907 (0.1009)  time: 0.9216  data: 0.0156  max mem: 5003\n",
            "Cycle:[1] Epoch: [56]  [238/239]  eta: 0:00:00  task_lr: 0.000003  task_loss: 0.0845 (0.0993)  time: 0.9184  data: 0.0145  max mem: 5003\n",
            "Cycle:[1] Epoch: [56] Total time: 0:03:40 (0.9227 s / it)\n",
            "creating index...\n",
            "index created!\n",
            "Test:  [  0/239]  eta: 0:01:14  model_time: 0.1015 (0.1015)  evaluator_time: 0.0048 (0.0048)  time: 0.3122  data: 0.2038  max mem: 5003\n",
            "Test:  [100/239]  eta: 0:00:12  model_time: 0.0829 (0.0834)  evaluator_time: 0.0018 (0.0019)  time: 0.0905  data: 0.0039  max mem: 5003\n",
            "Test:  [200/239]  eta: 0:00:03  model_time: 0.0830 (0.0831)  evaluator_time: 0.0018 (0.0019)  time: 0.0901  data: 0.0037  max mem: 5003\n"
          ],
          "name": "stdout"
        },
        {
          "output_type": "stream",
          "text": [
            "[2021-08-07 01:16:21,270][<ipython-input-49-0825c7523d1d>][line:153][INFO] [0.2724709  0.52894894 0.23287688 0.27943816 0.27945867 0.00134653\n",
            " 0.34834711 0.46404959 0.46859504 0.4752809  0.4704918  0.03333333]\n",
            "[2021-08-07 01:16:21,276][<ipython-input-49-0825c7523d1d>][line:163][INFO] No improvement. \n"
          ],
          "name": "stderr"
        },
        {
          "output_type": "stream",
          "text": [
            "Test:  [238/239]  eta: 0:00:00  model_time: 0.0830 (0.0831)  evaluator_time: 0.0019 (0.0019)  time: 0.0906  data: 0.0039  max mem: 5003\n",
            "Test: Total time: 0:00:21 (0.0918 s / it)\n",
            "Averaged stats: model_time: 0.0830 (0.0831)  evaluator_time: 0.0019 (0.0019)\n",
            "Accumulating evaluation results...\n",
            "DONE (t=0.04s).\n",
            "IoU metric: bbox\n",
            " Average Precision  (AP) @[ IoU=0.50:0.95 | area=   all | maxDets=100 ] = 0.272\n",
            " Average Precision  (AP) @[ IoU=0.50      | area=   all | maxDets=100 ] = 0.529\n",
            " Average Precision  (AP) @[ IoU=0.75      | area=   all | maxDets=100 ] = 0.233\n",
            " Average Precision  (AP) @[ IoU=0.50:0.95 | area= small | maxDets=100 ] = 0.279\n",
            " Average Precision  (AP) @[ IoU=0.50:0.95 | area=medium | maxDets=100 ] = 0.279\n",
            " Average Precision  (AP) @[ IoU=0.50:0.95 | area= large | maxDets=100 ] = 0.001\n",
            " Average Recall     (AR) @[ IoU=0.50:0.95 | area=   all | maxDets=  1 ] = 0.348\n",
            " Average Recall     (AR) @[ IoU=0.50:0.95 | area=   all | maxDets= 10 ] = 0.464\n",
            " Average Recall     (AR) @[ IoU=0.50:0.95 | area=   all | maxDets=100 ] = 0.469\n",
            " Average Recall     (AR) @[ IoU=0.50:0.95 | area= small | maxDets=100 ] = 0.475\n",
            " Average Recall     (AR) @[ IoU=0.50:0.95 | area=medium | maxDets=100 ] = 0.470\n",
            " Average Recall     (AR) @[ IoU=0.50:0.95 | area= large | maxDets=100 ] = 0.033\n",
            "Cycle:[1] Epoch: [57]  [  0/239]  eta: 0:05:05  task_lr: 0.000002  task_loss: 0.0995 (0.0995)  time: 1.2787  data: 0.3592  max mem: 5003\n",
            "Cycle:[1] Epoch: [57]  [100/239]  eta: 0:02:08  task_lr: 0.000002  task_loss: 0.0915 (0.1000)  time: 0.9188  data: 0.0147  max mem: 5003\n",
            "Cycle:[1] Epoch: [57]  [200/239]  eta: 0:00:35  task_lr: 0.000002  task_loss: 0.1010 (0.1020)  time: 0.9212  data: 0.0155  max mem: 5003\n",
            "Cycle:[1] Epoch: [57]  [238/239]  eta: 0:00:00  task_lr: 0.000002  task_loss: 0.1080 (0.1026)  time: 0.9190  data: 0.0146  max mem: 5003\n",
            "Cycle:[1] Epoch: [57] Total time: 0:03:40 (0.9218 s / it)\n",
            "creating index...\n",
            "index created!\n",
            "Test:  [  0/239]  eta: 0:01:11  model_time: 0.0945 (0.0945)  evaluator_time: 0.0057 (0.0057)  time: 0.3007  data: 0.1981  max mem: 5003\n",
            "Test:  [100/239]  eta: 0:00:12  model_time: 0.0830 (0.0833)  evaluator_time: 0.0018 (0.0019)  time: 0.0905  data: 0.0041  max mem: 5003\n",
            "Test:  [200/239]  eta: 0:00:03  model_time: 0.0828 (0.0832)  evaluator_time: 0.0016 (0.0019)  time: 0.0913  data: 0.0040  max mem: 5003\n"
          ],
          "name": "stdout"
        },
        {
          "output_type": "stream",
          "text": [
            "[2021-08-07 01:20:59,588][<ipython-input-49-0825c7523d1d>][line:153][INFO] [0.26734759 0.52835178 0.23380351 0.27434966 0.27497167 0.00153015\n",
            " 0.34421488 0.45619835 0.46115702 0.46966292 0.45737705 0.03333333]\n",
            "[2021-08-07 01:20:59,591][<ipython-input-49-0825c7523d1d>][line:163][INFO] No improvement. \n"
          ],
          "name": "stderr"
        },
        {
          "output_type": "stream",
          "text": [
            "Test:  [238/239]  eta: 0:00:00  model_time: 0.0828 (0.0832)  evaluator_time: 0.0017 (0.0018)  time: 0.0906  data: 0.0040  max mem: 5003\n",
            "Test: Total time: 0:00:22 (0.0923 s / it)\n",
            "Averaged stats: model_time: 0.0828 (0.0832)  evaluator_time: 0.0017 (0.0018)\n",
            "Accumulating evaluation results...\n",
            "DONE (t=0.05s).\n",
            "IoU metric: bbox\n",
            " Average Precision  (AP) @[ IoU=0.50:0.95 | area=   all | maxDets=100 ] = 0.267\n",
            " Average Precision  (AP) @[ IoU=0.50      | area=   all | maxDets=100 ] = 0.528\n",
            " Average Precision  (AP) @[ IoU=0.75      | area=   all | maxDets=100 ] = 0.234\n",
            " Average Precision  (AP) @[ IoU=0.50:0.95 | area= small | maxDets=100 ] = 0.274\n",
            " Average Precision  (AP) @[ IoU=0.50:0.95 | area=medium | maxDets=100 ] = 0.275\n",
            " Average Precision  (AP) @[ IoU=0.50:0.95 | area= large | maxDets=100 ] = 0.002\n",
            " Average Recall     (AR) @[ IoU=0.50:0.95 | area=   all | maxDets=  1 ] = 0.344\n",
            " Average Recall     (AR) @[ IoU=0.50:0.95 | area=   all | maxDets= 10 ] = 0.456\n",
            " Average Recall     (AR) @[ IoU=0.50:0.95 | area=   all | maxDets=100 ] = 0.461\n",
            " Average Recall     (AR) @[ IoU=0.50:0.95 | area= small | maxDets=100 ] = 0.470\n",
            " Average Recall     (AR) @[ IoU=0.50:0.95 | area=medium | maxDets=100 ] = 0.457\n",
            " Average Recall     (AR) @[ IoU=0.50:0.95 | area= large | maxDets=100 ] = 0.033\n",
            "Cycle:[1] Epoch: [58]  [  0/239]  eta: 0:05:11  task_lr: 0.000001  task_loss: 0.0629 (0.0629)  time: 1.3018  data: 0.3780  max mem: 5003\n",
            "Cycle:[1] Epoch: [58]  [100/239]  eta: 0:02:08  task_lr: 0.000001  task_loss: 0.1015 (0.0980)  time: 0.9190  data: 0.0146  max mem: 5003\n",
            "Cycle:[1] Epoch: [58]  [200/239]  eta: 0:00:35  task_lr: 0.000001  task_loss: 0.0894 (0.0994)  time: 0.9191  data: 0.0145  max mem: 5003\n",
            "Cycle:[1] Epoch: [58]  [238/239]  eta: 0:00:00  task_lr: 0.000001  task_loss: 0.0999 (0.0995)  time: 0.9182  data: 0.0141  max mem: 5003\n",
            "Cycle:[1] Epoch: [58] Total time: 0:03:40 (0.9218 s / it)\n",
            "creating index...\n",
            "index created!\n",
            "Test:  [  0/239]  eta: 0:01:14  model_time: 0.1008 (0.1008)  evaluator_time: 0.0049 (0.0049)  time: 0.3124  data: 0.2044  max mem: 5003\n",
            "Test:  [100/239]  eta: 0:00:12  model_time: 0.0830 (0.0833)  evaluator_time: 0.0017 (0.0019)  time: 0.0917  data: 0.0043  max mem: 5003\n",
            "Test:  [200/239]  eta: 0:00:03  model_time: 0.0826 (0.0832)  evaluator_time: 0.0016 (0.0018)  time: 0.0919  data: 0.0040  max mem: 5003\n"
          ],
          "name": "stdout"
        },
        {
          "output_type": "stream",
          "text": [
            "[2021-08-07 01:25:37,414][<ipython-input-49-0825c7523d1d>][line:153][INFO] [0.26848884 0.53130397 0.23649277 0.27707057 0.27317655 0.00153015\n",
            " 0.34586777 0.45991736 0.46404959 0.47247191 0.46065574 0.03333333]\n",
            "[2021-08-07 01:25:37,416][<ipython-input-49-0825c7523d1d>][line:163][INFO] No improvement. \n"
          ],
          "name": "stderr"
        },
        {
          "output_type": "stream",
          "text": [
            "Test:  [238/239]  eta: 0:00:00  model_time: 0.0826 (0.0831)  evaluator_time: 0.0017 (0.0018)  time: 0.0914  data: 0.0041  max mem: 5003\n",
            "Test: Total time: 0:00:22 (0.0930 s / it)\n",
            "Averaged stats: model_time: 0.0826 (0.0831)  evaluator_time: 0.0017 (0.0018)\n",
            "Accumulating evaluation results...\n",
            "DONE (t=0.04s).\n",
            "IoU metric: bbox\n",
            " Average Precision  (AP) @[ IoU=0.50:0.95 | area=   all | maxDets=100 ] = 0.268\n",
            " Average Precision  (AP) @[ IoU=0.50      | area=   all | maxDets=100 ] = 0.531\n",
            " Average Precision  (AP) @[ IoU=0.75      | area=   all | maxDets=100 ] = 0.236\n",
            " Average Precision  (AP) @[ IoU=0.50:0.95 | area= small | maxDets=100 ] = 0.277\n",
            " Average Precision  (AP) @[ IoU=0.50:0.95 | area=medium | maxDets=100 ] = 0.273\n",
            " Average Precision  (AP) @[ IoU=0.50:0.95 | area= large | maxDets=100 ] = 0.002\n",
            " Average Recall     (AR) @[ IoU=0.50:0.95 | area=   all | maxDets=  1 ] = 0.346\n",
            " Average Recall     (AR) @[ IoU=0.50:0.95 | area=   all | maxDets= 10 ] = 0.460\n",
            " Average Recall     (AR) @[ IoU=0.50:0.95 | area=   all | maxDets=100 ] = 0.464\n",
            " Average Recall     (AR) @[ IoU=0.50:0.95 | area= small | maxDets=100 ] = 0.472\n",
            " Average Recall     (AR) @[ IoU=0.50:0.95 | area=medium | maxDets=100 ] = 0.461\n",
            " Average Recall     (AR) @[ IoU=0.50:0.95 | area= large | maxDets=100 ] = 0.033\n",
            "Cycle:[1] Epoch: [59]  [  0/239]  eta: 0:05:06  task_lr: 0.000000  task_loss: 0.0907 (0.0907)  time: 1.2829  data: 0.3677  max mem: 5003\n",
            "Cycle:[1] Epoch: [59]  [100/239]  eta: 0:02:08  task_lr: 0.000000  task_loss: 0.0907 (0.1003)  time: 0.9221  data: 0.0159  max mem: 5003\n",
            "Cycle:[1] Epoch: [59]  [200/239]  eta: 0:00:35  task_lr: 0.000000  task_loss: 0.1029 (0.0989)  time: 0.9193  data: 0.0145  max mem: 5003\n",
            "Cycle:[1] Epoch: [59]  [238/239]  eta: 0:00:00  task_lr: 0.000000  task_loss: 0.0930 (0.0993)  time: 0.9217  data: 0.0155  max mem: 5003\n",
            "Cycle:[1] Epoch: [59] Total time: 0:03:40 (0.9226 s / it)\n",
            "creating index...\n",
            "index created!\n",
            "Test:  [  0/239]  eta: 0:01:15  model_time: 0.0984 (0.0984)  evaluator_time: 0.0045 (0.0045)  time: 0.3140  data: 0.2088  max mem: 5003\n",
            "Test:  [100/239]  eta: 0:00:13  model_time: 0.0828 (0.0849)  evaluator_time: 0.0018 (0.0019)  time: 0.0903  data: 0.0039  max mem: 5003\n",
            "Test:  [200/239]  eta: 0:00:03  model_time: 0.0833 (0.0841)  evaluator_time: 0.0019 (0.0020)  time: 0.0922  data: 0.0048  max mem: 5003\n"
          ],
          "name": "stdout"
        },
        {
          "output_type": "stream",
          "text": [
            "[2021-08-07 01:30:15,710][<ipython-input-49-0825c7523d1d>][line:153][INFO] [0.26952072 0.53332293 0.23628031 0.2758507  0.27531022 0.00153015\n",
            " 0.34710744 0.46280992 0.46694215 0.4747191  0.46557377 0.03333333]\n",
            "[2021-08-07 01:30:15,713][<ipython-input-49-0825c7523d1d>][line:163][INFO] No improvement. \n"
          ],
          "name": "stderr"
        },
        {
          "output_type": "stream",
          "text": [
            "Test:  [238/239]  eta: 0:00:00  model_time: 0.0830 (0.0840)  evaluator_time: 0.0018 (0.0020)  time: 0.0918  data: 0.0045  max mem: 5003\n",
            "Test: Total time: 0:00:22 (0.0933 s / it)\n",
            "Averaged stats: model_time: 0.0830 (0.0840)  evaluator_time: 0.0018 (0.0020)\n",
            "Accumulating evaluation results...\n",
            "DONE (t=0.04s).\n",
            "IoU metric: bbox\n",
            " Average Precision  (AP) @[ IoU=0.50:0.95 | area=   all | maxDets=100 ] = 0.270\n",
            " Average Precision  (AP) @[ IoU=0.50      | area=   all | maxDets=100 ] = 0.533\n",
            " Average Precision  (AP) @[ IoU=0.75      | area=   all | maxDets=100 ] = 0.236\n",
            " Average Precision  (AP) @[ IoU=0.50:0.95 | area= small | maxDets=100 ] = 0.276\n",
            " Average Precision  (AP) @[ IoU=0.50:0.95 | area=medium | maxDets=100 ] = 0.275\n",
            " Average Precision  (AP) @[ IoU=0.50:0.95 | area= large | maxDets=100 ] = 0.002\n",
            " Average Recall     (AR) @[ IoU=0.50:0.95 | area=   all | maxDets=  1 ] = 0.347\n",
            " Average Recall     (AR) @[ IoU=0.50:0.95 | area=   all | maxDets= 10 ] = 0.463\n",
            " Average Recall     (AR) @[ IoU=0.50:0.95 | area=   all | maxDets=100 ] = 0.467\n",
            " Average Recall     (AR) @[ IoU=0.50:0.95 | area= small | maxDets=100 ] = 0.475\n",
            " Average Recall     (AR) @[ IoU=0.50:0.95 | area=medium | maxDets=100 ] = 0.466\n",
            " Average Recall     (AR) @[ IoU=0.50:0.95 | area= large | maxDets=100 ] = 0.033\n"
          ],
          "name": "stdout"
        },
        {
          "output_type": "stream",
          "text": [
            "[2021-08-07 01:30:15,721][<ipython-input-49-0825c7523d1d>][line:169][INFO] COCO Performance on the test set\n"
          ],
          "name": "stderr"
        },
        {
          "output_type": "stream",
          "text": [
            "creating index...\n",
            "index created!\n",
            "Test:  [  0/240]  eta: 0:01:15  model_time: 0.0941 (0.0941)  evaluator_time: 0.0057 (0.0057)  time: 0.3138  data: 0.2110  max mem: 5003\n",
            "Test:  [100/240]  eta: 0:00:12  model_time: 0.0828 (0.0831)  evaluator_time: 0.0017 (0.0019)  time: 0.0897  data: 0.0037  max mem: 5003\n",
            "Test:  [200/240]  eta: 0:00:03  model_time: 0.0831 (0.0830)  evaluator_time: 0.0018 (0.0018)  time: 0.0905  data: 0.0039  max mem: 5003\n"
          ],
          "name": "stdout"
        },
        {
          "output_type": "stream",
          "text": [
            "[2021-08-07 01:31:13,593][<ipython-input-49-0825c7523d1d>][line:172][INFO] [0.24258061 0.44491179 0.25978597 0.26037894 0.22228635 0.00325775\n",
            " 0.31821862 0.46194332 0.46396761 0.49371429 0.40434783 0.1       ]\n",
            "[2021-08-07 01:31:13,595][<ipython-input-49-0825c7523d1d>][line:178][INFO] Training time 4:39:58\n"
          ],
          "name": "stderr"
        },
        {
          "output_type": "stream",
          "text": [
            "Test:  [239/240]  eta: 0:00:00  model_time: 0.0832 (0.0831)  evaluator_time: 0.0018 (0.0019)  time: 0.0905  data: 0.0039  max mem: 5003\n",
            "Test: Total time: 0:00:21 (0.0917 s / it)\n",
            "Averaged stats: model_time: 0.0832 (0.0831)  evaluator_time: 0.0018 (0.0019)\n",
            "Accumulating evaluation results...\n",
            "DONE (t=0.04s).\n",
            "IoU metric: bbox\n",
            " Average Precision  (AP) @[ IoU=0.50:0.95 | area=   all | maxDets=100 ] = 0.243\n",
            " Average Precision  (AP) @[ IoU=0.50      | area=   all | maxDets=100 ] = 0.445\n",
            " Average Precision  (AP) @[ IoU=0.75      | area=   all | maxDets=100 ] = 0.260\n",
            " Average Precision  (AP) @[ IoU=0.50:0.95 | area= small | maxDets=100 ] = 0.260\n",
            " Average Precision  (AP) @[ IoU=0.50:0.95 | area=medium | maxDets=100 ] = 0.222\n",
            " Average Precision  (AP) @[ IoU=0.50:0.95 | area= large | maxDets=100 ] = 0.003\n",
            " Average Recall     (AR) @[ IoU=0.50:0.95 | area=   all | maxDets=  1 ] = 0.318\n",
            " Average Recall     (AR) @[ IoU=0.50:0.95 | area=   all | maxDets= 10 ] = 0.462\n",
            " Average Recall     (AR) @[ IoU=0.50:0.95 | area=   all | maxDets=100 ] = 0.464\n",
            " Average Recall     (AR) @[ IoU=0.50:0.95 | area= small | maxDets=100 ] = 0.494\n",
            " Average Recall     (AR) @[ IoU=0.50:0.95 | area=medium | maxDets=100 ] = 0.404\n",
            " Average Recall     (AR) @[ IoU=0.50:0.95 | area= large | maxDets=100 ] = 0.100\n"
          ],
          "name": "stdout"
        }
      ]
    },
    {
      "cell_type": "markdown",
      "metadata": {
        "id": "wwtamsOBs27R"
      },
      "source": [
        "## Evaluation"
      ]
    },
    {
      "cell_type": "code",
      "metadata": {
        "id": "DLWSQdo61_wC"
      },
      "source": [
        "def calcu_iou(A, B):\n",
        "    \"\"\" \n",
        "    calculate iou(s) between a reference box A and a predicted bounding box B\n",
        "    \"\"\"\n",
        "    width = min(A[2], B[2]) - max(A[0], B[0]) + 1\n",
        "    height = min(A[3], B[3]) - max(A[1], B[1]) + 1\n",
        "    if width <= 0 or height <= 0:\n",
        "        return 0\n",
        "        \n",
        "    Aarea = (A[2] - A[0] + 1) * (A[3] - A[1] + 1)\n",
        "    Barea = (B[2] - B[0] + 1) * (B[3] - B[1] + 1)\n",
        "    iner_area = width * height\n",
        "    \n",
        "    iou = iner_area / (Aarea + Barea - iner_area)\n",
        "\n",
        "    return iou\n",
        "    \n",
        "@torch.no_grad()\n",
        "def keep_Highscore(output):\n",
        "    processed_dict = []\n",
        "    for i in range(len(output)):\n",
        "        out = output[i]['boxes'].cpu().numpy().squeeze()\n",
        "        if len(out.shape) > 1:\n",
        "            if len(out) == 0:\n",
        "                processed_dict.append({'boxes': []})\n",
        "            else:\n",
        "                scores = output[i]['scores'].cpu().numpy().squeeze()\n",
        "                processed_dict.append({'boxes': out[np.argmax(scores)]})\n",
        "        else:\n",
        "            processed_dict.append({'boxes': out})\n",
        "    return processed_dict\n",
        "\n",
        "def evaluate_avg_iou(cycle, task_model, device, data_loader_test):\n",
        "    n_threads = torch.get_num_threads()\n",
        "    torch.set_num_threads(1)\n",
        "    cpu_device = torch.device(\"cpu\")\n",
        "    with torch.no_grad():\n",
        "        task_model.eval()\n",
        "        ious = []\n",
        "        for image, targets in data_loader_test:\n",
        "            image = list(img.to(device) for img in image)\n",
        "            targets = [{k: v.to(cpu_device) for k, v in t.items()} for t in targets]\n",
        "            if len(targets[0]['boxes']) == 0:\n",
        "                continue\n",
        "\n",
        "            torch.cuda.synchronize()\n",
        "            model_time = time.time()\n",
        "            _, outputs = task_model(image)\n",
        "\n",
        "            outputs = [{k: v.to(cpu_device) for k, v in t.items()} for t in outputs]\n",
        "            if len(outputs[0]['boxes']) == 0:\n",
        "                ious.append(0.0)\n",
        "                continue\n",
        "\n",
        "            output_numpy = keep_Highscore(outputs)\n",
        "\n",
        "            u = 0.0\n",
        "            for ground_truth_box in targets[0]['boxes']:\n",
        "                u = max(u, calcu_iou(output_numpy[0]['boxes'], ground_truth_box.numpy()))\n",
        "            ious.append(u)\n",
        "\n",
        "    print('Average IoU for cycle %d: %f' %(cycle, sum(ious)/len(ious)))\n",
        "\n",
        "    torch.set_num_threads(n_threads)\n",
        "\n",
        "    return ious"
      ],
      "execution_count": null,
      "outputs": []
    },
    {
      "cell_type": "code",
      "metadata": {
        "id": "aWAAwAaR4HYm"
      },
      "source": [
        "def evaluate_sensitivity(task_model, device, data_loader_test, fp_per_image=4):\n",
        "    n_threads = torch.get_num_threads()\n",
        "    torch.set_num_threads(1)\n",
        "    cpu_device = torch.device(\"cpu\")\n",
        "\n",
        "    with torch.no_grad():\n",
        "        task_model.eval()\n",
        "        sens = []\n",
        "        for image, targets in data_loader_test:\n",
        "            image = list(img.to(device) for img in image)\n",
        "            targets = [{k: v.to(cpu_device) for k, v in t.items()} for t in targets]\n",
        "            # if there exists no annotated lesion in the image, pass\n",
        "            total_POS = len(targets[0]['boxes'])\n",
        "            if total_POS == 0:\n",
        "                continue\n",
        "\n",
        "            # inference\n",
        "            torch.cuda.synchronize()\n",
        "            model_time = time.time()\n",
        "            _, outputs = task_model(image)\n",
        "\n",
        "            outputs = [{k: v.to(cpu_device) for k, v in t.items()} for t in outputs]\n",
        "            # if no object detected, sensitivity = 0\n",
        "            if len(outputs[0]['boxes']) == 0:\n",
        "                sens.append(0.0)\n",
        "                continue\n",
        "            \n",
        "            TP = 0\n",
        "            FP = 0\n",
        "            matches = [False] * total_POS\n",
        "            for pred_box in outputs[0]['boxes']:\n",
        "                # For each prediction, check whether it can match any of the ground truth box\n",
        "                for idx, ground_truth_box in enumerate(targets[0]['boxes']):\n",
        "                    iou = calcu_iou(pred_box.numpy(), ground_truth_box.numpy())\n",
        "                    # if iou exceeds the threshold 0.5, consider it as a POS\n",
        "                    if iou > 0.5:\n",
        "                        TP += 1\n",
        "                        matches[idx] = True\n",
        "                        continue\n",
        "                    else:\n",
        "                        FP += 1\n",
        "\n",
        "                # Check num of false positives\n",
        "                if FP == fp_per_image:\n",
        "                    break\n",
        "            \n",
        "            # Compute sensitivity\n",
        "            FN = matches.count(False)\n",
        "            s = TP/(TP+FN)\n",
        "            sens.append(s)\n",
        "\n",
        "    print('Average sensitivity at %d FPs per image: %f' %(fp_per_image, sum(sens)/len(sens)))\n",
        "\n",
        "    torch.set_num_threads(n_threads)\n",
        "\n",
        "    return sens"
      ],
      "execution_count": null,
      "outputs": []
    },
    {
      "cell_type": "code",
      "metadata": {
        "id": "kAt4JmldGgjp"
      },
      "source": [
        "def load_and_test(task_model, checkpoint_path, device, data_loader_test):\n",
        "    task_model.load_state_dict(torch.load(checkpoint_path)['model'])\n",
        "    sens = evaluate_sensitivity(task_model, device, data_loader_test, fp_per_image=5) \n",
        "    evaluator = evaluate(task_model, data_loader_test, device=device)\n",
        "    coco_stats = evaluator.coco_eval['bbox'].stats\n",
        "\n",
        "    result_dict = {'sensitivity': sum(sens)/len(sens),\n",
        "                   'mAP (IoU=0.5:0.95)': coco_stats[0],\n",
        "                   'mAP (IoU=0.5)': coco_stats[1]}\n",
        "    return result_dict"
      ],
      "execution_count": null,
      "outputs": []
    },
    {
      "cell_type": "code",
      "metadata": {
        "id": "giDR0JKUD--g"
      },
      "source": [
        "baseline_ckp = 'drive/MyDrive/exp_results/faster-rcnn-DeepLesion-alssl-pretrained/frcnn_baseline_50%202108_best.pth'\n",
        "initial_ckp = 'drive/MyDrive/exp_results/faster-rcnn-DeepLesion-alssl-pretrained/frcnn_initial_20%_lr1e-4_CA_202108_best.pth'\n",
        "exp_root = 'drive/MyDrive/exp_results/faster-rcnn-DeepLesion-alssl/frcnn_multistepAL_20to50_SSL_thres0.8_lr3e-4_CA_202108'\n",
        "exp_ckps = sorted([os.path.join(exp_root, file) for file in os.listdir(exp_root) if file.split('.')[-1] == 'pth'])\n",
        "onestep_alssl_path = 'drive/MyDrive/exp_results/faster-rcnn-DeepLesion-alssl/frcnn_onestepAL_20to50_SSL_thres0.8_lr5e-4_CA_202108'\n",
        "onestep_alssl_ckp = sorted([os.path.join(onestep_alssl_path, file) for file in os.listdir(onestep_alssl_path) if file.split('.')[-1] == 'pth'])\n",
        "onestep_al_path = 'drive/MyDrive/exp_results/faster-rcnn-DeepLesion-alssl/frcnn_onestepAL_20to50_lr3e-4_CA_202108'\n",
        "onestep_al_ckp = sorted([os.path.join(onestep_al_path, file) for file in os.listdir(onestep_al_path) if file.split('.')[-1] == 'pth'])"
      ],
      "execution_count": null,
      "outputs": []
    },
    {
      "cell_type": "code",
      "metadata": {
        "id": "2D6Mrsfro0ce"
      },
      "source": [
        "all_ckps = [baseline_ckp, initial_ckp] + onestep_alssl_ckp + exp_ckps + onestep_al_ckp"
      ],
      "execution_count": null,
      "outputs": []
    },
    {
      "cell_type": "code",
      "metadata": {
        "colab": {
          "base_uri": "https://localhost:8080/"
        },
        "id": "PkPkkYwyo1aT",
        "outputId": "d3c8108e-d03b-4cc6-fe8e-820c3ce9ab4f"
      },
      "source": [
        "#results = {}\n",
        "#for ckp in all_ckps[]:\n",
        "result = load_and_test(task_model, all_ckps[-1], device, data_loader_test)\n",
        "results[all_ckps[-1].split('/')[-1]] = result"
      ],
      "execution_count": null,
      "outputs": [
        {
          "output_type": "stream",
          "text": [
            "Average sensitivity at 5 FPs per image: 0.700694\n",
            "creating index...\n",
            "index created!\n",
            "Test:  [  0/240]  eta: 0:01:15  model_time: 0.0951 (0.0951)  evaluator_time: 0.0042 (0.0042)  time: 0.3167  data: 0.2145  max mem: 5003\n",
            "Test:  [100/240]  eta: 0:00:13  model_time: 0.0831 (0.0835)  evaluator_time: 0.0018 (0.0020)  time: 0.0905  data: 0.0041  max mem: 5003\n",
            "Test:  [200/240]  eta: 0:00:03  model_time: 0.0831 (0.0833)  evaluator_time: 0.0018 (0.0019)  time: 0.0912  data: 0.0042  max mem: 5003\n",
            "Test:  [239/240]  eta: 0:00:00  model_time: 0.0830 (0.0834)  evaluator_time: 0.0018 (0.0019)  time: 0.0913  data: 0.0041  max mem: 5003\n",
            "Test: Total time: 0:00:22 (0.0927 s / it)\n",
            "Averaged stats: model_time: 0.0830 (0.0834)  evaluator_time: 0.0018 (0.0019)\n",
            "Accumulating evaluation results...\n",
            "DONE (t=0.05s).\n",
            "IoU metric: bbox\n",
            " Average Precision  (AP) @[ IoU=0.50:0.95 | area=   all | maxDets=100 ] = 0.199\n",
            " Average Precision  (AP) @[ IoU=0.50      | area=   all | maxDets=100 ] = 0.360\n",
            " Average Precision  (AP) @[ IoU=0.75      | area=   all | maxDets=100 ] = 0.208\n",
            " Average Precision  (AP) @[ IoU=0.50:0.95 | area= small | maxDets=100 ] = 0.218\n",
            " Average Precision  (AP) @[ IoU=0.50:0.95 | area=medium | maxDets=100 ] = 0.184\n",
            " Average Precision  (AP) @[ IoU=0.50:0.95 | area= large | maxDets=100 ] = 0.000\n",
            " Average Recall     (AR) @[ IoU=0.50:0.95 | area=   all | maxDets=  1 ] = 0.253\n",
            " Average Recall     (AR) @[ IoU=0.50:0.95 | area=   all | maxDets= 10 ] = 0.439\n",
            " Average Recall     (AR) @[ IoU=0.50:0.95 | area=   all | maxDets=100 ] = 0.445\n",
            " Average Recall     (AR) @[ IoU=0.50:0.95 | area= small | maxDets=100 ] = 0.479\n",
            " Average Recall     (AR) @[ IoU=0.50:0.95 | area=medium | maxDets=100 ] = 0.378\n",
            " Average Recall     (AR) @[ IoU=0.50:0.95 | area= large | maxDets=100 ] = 0.000\n"
          ],
          "name": "stdout"
        }
      ]
    },
    {
      "cell_type": "code",
      "metadata": {
        "id": "Y7V4_rUmo4ca"
      },
      "source": [
        "# Save results\n",
        "with open('drive/MyDrive/exp_results/analysis/50%_202108.pickle', 'wb') as fp:\n",
        "    pickle.dump(results, fp)"
      ],
      "execution_count": null,
      "outputs": []
    },
    {
      "cell_type": "code",
      "metadata": {
        "colab": {
          "base_uri": "https://localhost:8080/"
        },
        "id": "bnmv4Yr3rUfK",
        "outputId": "82bc9591-91bf-4596-9ef0-4de08daf0800"
      },
      "source": [
        "# Save results\n",
        "with open('drive/MyDrive/exp_results/analysis/50%_202108.pickle', 'rb') as fp:\n",
        "    data = pickle.load(fp)\n",
        "print(data)"
      ],
      "execution_count": null,
      "outputs": [
        {
          "output_type": "stream",
          "text": [
            "{'frcnn_baseline_50%202108_best.pth': {'sensitivity': 0.7708333333333334, 'mAP (IoU=0.5:0.95)': 0.24133535750500215, 'mAP (IoU=0.5)': 0.44423164397465664}, 'frcnn_initial_20%_lr1e-4_CA_202108_best.pth': {'sensitivity': 0.5319444444444444, 'mAP (IoU=0.5:0.95)': 0.12750757581810893, 'mAP (IoU=0.5)': 0.24759513373907882}, 'frcnn_onestepAL_20to50_SSL_thres0.8_lr5e-4_CA_202108_cycle1_best.pth': {'sensitivity': 0.7125, 'mAP (IoU=0.5:0.95)': 0.21363842931219887, 'mAP (IoU=0.5)': 0.37810175548270536}, 'frcnn_multistepAL_20to50_SSL_thres0.8_lr3e-4_CA_202108_cycle1_best.pth': {'sensitivity': 0.7041666666666667, 'mAP (IoU=0.5:0.95)': 0.20528621273327127, 'mAP (IoU=0.5)': 0.3786141727017004}, 'frcnn_multistepAL_20to50_SSL_thres0.8_lr3e-4_CA_202108_cycle2_best.pth': {'sensitivity': 0.7298611111111111, 'mAP (IoU=0.5:0.95)': 0.21953781885813295, 'mAP (IoU=0.5)': 0.3920910611798076}, 'frcnn_multistepAL_20to50_SSL_thres0.8_lr3e-4_CA_202108_cycle3_best.pth': {'sensitivity': 0.7541666666666667, 'mAP (IoU=0.5:0.95)': 0.23503314758761995, 'mAP (IoU=0.5)': 0.4259493012196082}, 'frcnn_onestepAL_20to50_lr5e-4_CA_202108_cycle1_best.pth': {'sensitivity': 0.7173611111111112, 'mAP (IoU=0.5:0.95)': 0.23151480345659142, 'mAP (IoU=0.5)': 0.40575357937909545}}\n"
          ],
          "name": "stdout"
        }
      ]
    },
    {
      "cell_type": "code",
      "metadata": {
        "id": "kRMIKq22o7lh"
      },
      "source": [
        "def reorganize_dict(results):\n",
        "    new = {}\n",
        "    for exp, result in results.items():\n",
        "        for metric, value in result.items():\n",
        "            if metric not in new.keys():\n",
        "                new[metric] = []\n",
        "            new[metric].append(value)\n",
        "\n",
        "    return new"
      ],
      "execution_count": null,
      "outputs": []
    },
    {
      "cell_type": "code",
      "metadata": {
        "id": "nxyUxoCgYeju"
      },
      "source": [
        "results_for_plotting = reorganize_dict(results)"
      ],
      "execution_count": null,
      "outputs": []
    },
    {
      "cell_type": "code",
      "metadata": {
        "colab": {
          "base_uri": "https://localhost:8080/",
          "height": 369
        },
        "id": "TNUKTA28JDAw",
        "outputId": "c5436046-cd96-4c32-e6bc-b9534888ac80"
      },
      "source": [
        "fig, ax = plt.subplots(1, 3, figsize=(20,5))\n",
        "ax = ax.flatten()\n",
        "colors = ['#1b9e77', '#d95f02', '#7570b3', '#e7298a', '#66a61e', '#e6ab02', '#a6761d', '#3288bd', '#d53e4f', '#6a3d9a']\n",
        "exp_names = ['baseline50%', 'init20%', '1stepALSSL', 'c1', 'c2', 'c3', '1stepAL']\n",
        "\n",
        "for a, key in zip(ax, list(results_for_plotting.keys())):\n",
        "    result = results_for_plotting[key]\n",
        "    a.bar(range(0, len(result)), result, tick_label=exp_names, color=colors, width=0.6)\n",
        "    a.set_title(str(key))\n",
        "        \n",
        "plt.tight_layout()"
      ],
      "execution_count": null,
      "outputs": [
        {
          "output_type": "display_data",
          "data": {
            "image/png": "[encoded data removed]",
            "text/plain": [
              "<Figure size 1440x360 with 3 Axes>"
            ]
          },
          "metadata": {
            "tags": [],
            "needs_background": "light"
          }
        }
      ]
    }
  ]
}